{
 "cells": [
  {
   "cell_type": "markdown",
   "id": "detected-violence",
   "metadata": {},
   "source": [
    "## Extract Features from CNN to OPM Data\n",
    "\n",
    "Extracts features to OPM data. \n",
    "* __Inputs:__ (1) DTL data around OPM survey points (previous script pre-processes as numpy arrays) and (2) CNN model \n",
    "* __Output:__ Dataframe with OPM survey ID and CNN features"
   ]
  },
  {
   "cell_type": "markdown",
   "id": "bridal-plumbing",
   "metadata": {},
   "source": [
    "## Setup"
   ]
  },
  {
   "cell_type": "code",
   "execution_count": 1,
   "id": "center-dragon",
   "metadata": {},
   "outputs": [
    {
     "name": "stderr",
     "output_type": "stream",
     "text": [
      "Using TensorFlow backend.\n"
     ]
    }
   ],
   "source": [
    "import os, math, pickle, datetime, json\n",
    "import numpy as np\n",
    "import pandas as pd\n",
    "#import geopandas as gpd\n",
    "import json\n",
    "#from rasterio.plot import show\n",
    "import pickle\n",
    "\n",
    "#from geopandas import GeoDataFrame\n",
    "#from shapely.geometry import Point\n",
    "\n",
    "from sklearn.decomposition import PCA\n",
    "from sklearn.model_selection import train_test_split\n",
    "from sklearn.preprocessing import StandardScaler\n",
    "from sklearn.svm import LinearSVC\n",
    "from sklearn.tree import DecisionTreeClassifier\n",
    "from sklearn.ensemble import (BaggingClassifier, AdaBoostClassifier, \n",
    "                              GradientBoostingClassifier, RandomForestClassifier)\n",
    "from sklearn.neighbors import KNeighborsClassifier\n",
    "from sklearn.naive_bayes import GaussianNB\n",
    "from sklearn.metrics import (accuracy_score, precision_score, \n",
    "                             recall_score, classification_report)\n",
    "\n",
    "from keras.models import load_model\n",
    "from keras.models import Sequential, Model\n",
    "\n",
    "from tensorflow.keras.applications.vgg16 import preprocess_input\n",
    "\n",
    "import warnings\n",
    "import random\n",
    "import tensorflow as tf\n",
    "warnings.filterwarnings('ignore')\n",
    "\n",
    "## User Defined\n",
    "import config as cf\n",
    "import feature_extraction as fe\n",
    "\n",
    "import boto3\n",
    "from sagemaker import get_execution_role\n",
    "from s3fs.core import S3FileSystem \n",
    "s3 = S3FileSystem()\n",
    "role = get_execution_role()\n",
    "\n",
    "\n",
    "bucket = 'worldbank-pakistan-data'\n",
    "LOCAL_DIR = '/home/ec2-user/SageMaker/'"
   ]
  },
  {
   "cell_type": "markdown",
   "id": "musical-instrument",
   "metadata": {},
   "source": [
    "## Functions"
   ]
  },
  {
   "cell_type": "code",
   "execution_count": 2,
   "id": "bright-easter",
   "metadata": {},
   "outputs": [],
   "source": [
    "def save_to_file(obj, path):\n",
    "    '''\n",
    "    Saves passed obj as a pickle to given filepath.\n",
    "    '''\n",
    "    with open(path, 'wb') as f:\n",
    "        pickle.dump(obj=obj,\n",
    "                    file=f,\n",
    "                    protocol=pickle.HIGHEST_PROTOCOL)\n",
    "    return None\n",
    "\n",
    "\n",
    "def perform_pca(df, n):\n",
    "    '''\n",
    "    Performs PCA with n compponents on all columns in df.\n",
    "    '''\n",
    "    pca = PCA(n_components=n)\n",
    "    pca.fit(df)\n",
    "    features_pca = pca.transform(df)\n",
    "    column_names = ['pc_%01d' %i for i in range(0,n)]\n",
    "    df_features_pca = pd.DataFrame(data=features_pca, columns=column_names)\n",
    "    return df_features_pca\n",
    "\n",
    "\n",
    "def normalize(x_train, x_test):\n",
    "    '''\n",
    "    Normalize data.\n",
    "    '''\n",
    "    x_scaler = StandardScaler().fit(x_train)\n",
    "    for df in (x_train, x_test):\n",
    "        x_scaler.transform(df)\n",
    "\n",
    "def extract_features_to_pd(param_name, bands_type, cnn_filename, year, suffix, bucket):\n",
    "\n",
    "    # 1. Load Data\n",
    "    if bands_type == \"RGB\":\n",
    "        DTL = np.load(s3.open('{}/{}'.format(bucket, os.path.join('OPM', 'FinalData', 'Individual Datasets', 'bisp_dtl_bands' + 'RGB' + \"_\" + str(year) + '.npy'))))\n",
    "        bisp_df = pd.read_pickle(s3.open('{}/{}'.format(bucket, os.path.join('OPM', 'FinalData', 'Individual Datasets', 'bisp_dtl_uids_bands' + 'RGB' + \"_\" + str(year) + '.pkl'))))\n",
    "        \n",
    "    # 2. Extract features\n",
    "    layer_name = 'fc1'\n",
    "\n",
    "    model = load_model(s3.open('{}/{}'.format(bucket, os.path.join('CNN', param_name, cnn_filename))))\n",
    "\n",
    "    DTL_p = preprocess_input(DTL) # Preprocess image data\n",
    "\n",
    "    #DTL_p = DTL_p[1:5,:,:,:] # for testing\n",
    "\n",
    "    # Generate feature extractor using trained CNN\n",
    "    feature_extractor = Model(inputs=model.inputs,\n",
    "                              outputs=model.get_layer(name=layer_name).output,)\n",
    "\n",
    "    features = feature_extractor.predict(DTL_p)\n",
    "\n",
    "    # 3. Create and format pandas DataFrame\n",
    "    df = pd.DataFrame(features).add_prefix('cnn_feat_')\n",
    "    df['uid'] = bisp_df.uid\n",
    "               \n",
    "    # 4. Export / send to s3      \n",
    "    #df.to_pickle(os.path.join(LOCAL_DIR, 'bisp_cnn_features_all_' + param_name + \"_\" + str(year) + suffix + '.pkl'))\n",
    "    df.to_csv(os.path.join(LOCAL_DIR, 'bisp_cnn_features_all_' + param_name + \"_\" + str(year) + suffix + '.csv'))\n",
    "\n",
    "    #boto3.Session().resource('s3').Bucket(bucket).Object(os.path.join('OPM', 'FinalData', 'Individual Datasets', 'bisp_cnn_features_all_' + param_name + \"_\" + str(year) + suffix + '.pkl')).upload_file(os.path.join(LOCAL_DIR, 'bisp_cnn_features_all_' + param_name + \"_\" + str(year) + suffix + '.pkl'))\n",
    "    boto3.Session().resource('s3').Bucket(bucket).Object(os.path.join('OPM', 'FinalData', 'Individual Datasets', 'bisp_cnn_features_all_' + param_name + \"_\" + str(year) + suffix + '.csv')).upload_file(os.path.join(LOCAL_DIR, 'bisp_cnn_features_all_' + param_name + \"_\" + str(year) + suffix + '.csv'))\n",
    "\n",
    "    return df"
   ]
  },
  {
   "cell_type": "code",
   "execution_count": 3,
   "id": "stretch-support",
   "metadata": {},
   "outputs": [
    {
     "name": "stdout",
     "output_type": "stream",
     "text": [
      "WARNING:tensorflow:From /home/ec2-user/anaconda3/envs/amazonei_tensorflow_p36/lib/python3.6/site-packages/tensorflow_core/python/ops/resource_variable_ops.py:1630: calling BaseResourceVariable.__init__ (from tensorflow.python.ops.resource_variable_ops) with constraint is deprecated and will be removed in a future version.\n",
      "Instructions for updating:\n",
      "If using Keras pass *_constraint arguments to layers.\n",
      "WARNING:tensorflow:From /home/ec2-user/anaconda3/envs/amazonei_tensorflow_p36/lib/python3.6/site-packages/keras/backend/tensorflow_backend.py:4070: The name tf.nn.max_pool is deprecated. Please use tf.nn.max_pool2d instead.\n",
      "\n",
      "WARNING:tensorflow:From /home/ec2-user/anaconda3/envs/amazonei_tensorflow_p36/lib/python3.6/site-packages/keras/backend/tensorflow_backend.py:422: The name tf.global_variables is deprecated. Please use tf.compat.v1.global_variables instead.\n",
      "\n"
     ]
    }
   ],
   "source": [
    "tmp = extract_features_to_pd(\"Nbands3_nNtlBins3_minNTLbinCount100\", \"RGB\", 'script_CNN_2014.h5', 2014, '', bucket)\n"
   ]
  },
  {
   "cell_type": "code",
   "execution_count": null,
   "id": "current-earthquake",
   "metadata": {},
   "outputs": [],
   "source": []
  },
  {
   "cell_type": "code",
   "execution_count": null,
   "id": "positive-white",
   "metadata": {},
   "outputs": [],
   "source": []
  },
  {
   "cell_type": "code",
   "execution_count": null,
   "id": "fallen-information",
   "metadata": {},
   "outputs": [],
   "source": []
  }
 ],
 "metadata": {
  "kernelspec": {
   "display_name": "conda_amazonei_tensorflow_p36",
   "language": "python",
   "name": "conda_amazonei_tensorflow_p36"
  },
  "language_info": {
   "codemirror_mode": {
    "name": "ipython",
    "version": 3
   },
   "file_extension": ".py",
   "mimetype": "text/x-python",
   "name": "python",
   "nbconvert_exporter": "python",
   "pygments_lexer": "ipython3",
   "version": "3.6.10"
  }
 },
 "nbformat": 4,
 "nbformat_minor": 5
}
