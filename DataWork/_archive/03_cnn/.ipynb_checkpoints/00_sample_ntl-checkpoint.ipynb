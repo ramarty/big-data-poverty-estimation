{
 "cells": [
  {
   "cell_type": "markdown",
   "metadata": {},
   "source": [
    "## Sample VIIRS Data"
   ]
  },
  {
   "cell_type": "markdown",
   "metadata": {},
   "source": [
    "## Setup"
   ]
  },
  {
   "cell_type": "code",
   "execution_count": 1,
   "metadata": {},
   "outputs": [],
   "source": [
    "### Libraries ###\n",
    "import os, datetime\n",
    "import numpy as np\n",
    "import pandas as pd\n",
    "import geopandas as gpd\n",
    "import json\n",
    "import rasterio\n",
    "from rasterio.plot import show\n",
    "\n",
    "from sklearn.preprocessing import KBinsDiscretizer\n",
    "from sklearn.model_selection import train_test_split, KFold\n",
    "from sklearn.metrics import classification_report, confusion_matrix\n",
    "\n",
    "import logging, os \n",
    "\n",
    "### User Defined Libraries ###\n",
    "import config as cf\n",
    "import feature_extraction as fe\n",
    "\n",
    "### Set Seeds ###\n",
    "seed_value = 42\n",
    "# 1. Set the `PYTHONHASHSEED` environment variable at a fixed value\n",
    "os.environ['PYTHONHASHSEED'] = str(seed_value)\n",
    "# 2. Set the `python` built-in pseudo-random generator at a fixed value\n",
    "import random\n",
    "random.seed(seed_value)\n",
    "# 3. Set the `numpy` pseudo-random generator at a fixed value\n",
    "np.random.seed(seed_value)\n",
    "\n",
    "### Parameters / Paths ###\n",
    "FINAL_TARGET_NAME = 'ntl_bins'\n",
    "VIIRS_GDF_FILEPATH = cf.VIIRS_GDF_FILEPATH\n",
    "DTL_DIRECTORY = cf.DTL_DIRECTORY"
   ]
  },
  {
   "cell_type": "markdown",
   "metadata": {},
   "source": [
    "## Functions"
   ]
  },
  {
   "cell_type": "code",
   "execution_count": 2,
   "metadata": {},
   "outputs": [],
   "source": [
    "def transform_target(values, n_bins):\n",
    "    '''\n",
    "    Creates log NTL variable and bins into n_bins classes using k-means clutering.\n",
    "    '''\n",
    "    \n",
    "    # Perform log(x+1) for defined domain\n",
    "    values_log = np.log(values + 1)\n",
    "    \n",
    "    # Bin target\n",
    "    target = values_log.to_numpy().reshape(-1,1)\n",
    "    discretizer = KBinsDiscretizer(n_bins=n_bins, encode='ordinal', strategy='kmeans')\n",
    "    return discretizer.fit_transform(target)\n",
    "\n",
    "def sample_by_target(input_gdf, target_col_name, n):\n",
    "    '''\n",
    "    Create a sample dataframe containing n observations from each target bin.\n",
    "    '''\n",
    "\n",
    "    gdf = gpd.GeoDataFrame()\n",
    "    for x in input_gdf[target_col_name].unique():\n",
    "        bin_gdf = input_gdf[input_gdf[target_col_name] == x]\n",
    "        \n",
    "        n_use = min(bin_gdf.shape[0], n)\n",
    "        \n",
    "        sample_gdf = bin_gdf.sample(n=n_use, random_state=1)\n",
    "        gdf = gdf.append(sample_gdf)\n",
    "    return gdf"
   ]
  },
  {
   "cell_type": "markdown",
   "metadata": {},
   "source": [
    "## Sample"
   ]
  },
  {
   "cell_type": "code",
   "execution_count": 4,
   "metadata": {},
   "outputs": [],
   "source": [
    "viirs = pd.read_pickle(VIIRS_GDF_FILEPATH)\n",
    "viirs_gdf = gpd.GeoDataFrame(viirs, geometry='geometry')\n",
    "viirs_gdf = viirs_gdf[ ~ np.isnan(viirs_gdf['tile_id'])]"
   ]
  },
  {
   "cell_type": "code",
   "execution_count": 7,
   "metadata": {},
   "outputs": [],
   "source": [
    "viirs_gdf['median_rad_2014_3bin'] = transform_target(viirs_gdf['median_rad_2014'], 3)\n",
    "viirs_gdf['median_rad_2014_5bin'] = transform_target(viirs_gdf['median_rad_2014'], 5)"
   ]
  },
  {
   "cell_type": "code",
   "execution_count": 8,
   "metadata": {},
   "outputs": [],
   "source": [
    "min_bin_count = min(viirs_gdf['median_rad_2014_3bin'].value_counts())\n",
    "gdf = sample_by_target(viirs_gdf, 'median_rad_2014_3bin', min_bin_count)"
   ]
  },
  {
   "cell_type": "code",
   "execution_count": 9,
   "metadata": {},
   "outputs": [
    {
     "data": {
      "text/plain": [
       "3.0    9468\n",
       "2.0    9468\n",
       "1.0    9468\n",
       "0.0    9468\n",
       "Name: median_rad_2014_3bin, dtype: int64"
      ]
     },
     "execution_count": 9,
     "metadata": {},
     "output_type": "execute_result"
    }
   ],
   "source": [
    "gdf.median_rad_2014_3bin.value_counts()"
   ]
  },
  {
   "cell_type": "markdown",
   "metadata": {},
   "source": [
    "## Export"
   ]
  },
  {
   "cell_type": "code",
   "execution_count": 12,
   "metadata": {},
   "outputs": [],
   "source": [
    "gdf.to_pickle(os.path.join(cf.DROPBOX_DIRECTORY, 'Data', 'VIIRS', 'FinalData', 'random_samples', 'viirs_random_sample.pkl'))"
   ]
  },
  {
   "cell_type": "code",
   "execution_count": null,
   "metadata": {},
   "outputs": [],
   "source": []
  }
 ],
 "metadata": {
  "kernelspec": {
   "display_name": "Python 3",
   "language": "python",
   "name": "python3"
  },
  "language_info": {
   "codemirror_mode": {
    "name": "ipython",
    "version": 3
   },
   "file_extension": ".py",
   "mimetype": "text/x-python",
   "name": "python",
   "nbconvert_exporter": "python",
   "pygments_lexer": "ipython3",
   "version": "3.7.2"
  }
 },
 "nbformat": 4,
 "nbformat_minor": 2
}
