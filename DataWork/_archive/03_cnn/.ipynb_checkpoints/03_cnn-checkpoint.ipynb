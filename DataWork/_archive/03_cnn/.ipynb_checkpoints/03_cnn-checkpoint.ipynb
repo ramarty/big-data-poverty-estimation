{
 "cells": [
  {
   "cell_type": "markdown",
   "metadata": {
    "colab_type": "text",
    "id": "view-in-github"
   },
   "source": [
    "<a href=\"https://colab.research.google.com/github/worldbank/Pakistan-Poverty-from-Sky/blob/master/DataWork/03_predict_ntl_with_dtl/03_cnn.ipynb\" target=\"_parent\"><img src=\"https://colab.research.google.com/assets/colab-badge.svg\" alt=\"Open In Colab\"/></a>"
   ]
  },
  {
   "cell_type": "markdown",
   "metadata": {
    "id": "z34KtcX5Pp7o"
   },
   "source": [
    "# __Predicting NTL using DTL__\n",
    "\n",
    "__Code in Github:__ _/DataWork/03_predict_ntl_with_dtl/02_cnn.ipynb"
   ]
  },
  {
   "cell_type": "markdown",
   "metadata": {
    "id": "Vds1yHMwLJp2"
   },
   "source": [
    "## **Filepaths and Libraries**"
   ]
  },
  {
   "cell_type": "code",
   "execution_count": 2,
   "metadata": {
    "id": "UOdgNXFG8EmH"
   },
   "outputs": [],
   "source": [
    "PARAM_NAME = \"Nbands3_nNtlBins3_minNTLbinCount16861\""
   ]
  },
  {
   "cell_type": "code",
   "execution_count": 3,
   "metadata": {
    "id": "206o8Vv6OjtI"
   },
   "outputs": [],
   "source": [
    "# Set seeds. Note that using a GPU can still introduce randomness.\n",
    "# (also not taking into account tensorflow randomness)\n",
    "from numpy.random import seed\n",
    "seed(42)"
   ]
  },
  {
   "cell_type": "code",
   "execution_count": 5,
   "metadata": {
    "colab": {
     "base_uri": "https://localhost:8080/"
    },
    "id": "urMUqpA_1_fM",
    "outputId": "b0de120d-cee3-4ab4-fb4c-28a588b37dce"
   },
   "outputs": [
    {
     "name": "stdout",
     "output_type": "stream",
     "text": [
      "Drive already mounted at /content/drive; to attempt to forcibly remount, call drive.mount(\"/content/drive\", force_remount=True).\n"
     ]
    }
   ],
   "source": [
    "# Mount Drive\n",
    "from google.colab import drive\n",
    "drive.mount('/content/drive')"
   ]
  },
  {
   "cell_type": "code",
   "execution_count": 6,
   "metadata": {
    "id": "KjmhWLqU95-J"
   },
   "outputs": [],
   "source": [
    "#drive.flush_and_unmount()"
   ]
  },
  {
   "cell_type": "code",
   "execution_count": 7,
   "metadata": {
    "id": "hbrNDZWq2UdD"
   },
   "outputs": [],
   "source": [
    "# Filepaths\n",
    "import os, datetime\n",
    "\n",
    "CNN_DIR = os.path.join('/content/drive', 'My Drive', 'World Bank', 'Pakistan Poverty Estimation', 'Data', 'CNN', PARAM_NAME)\n",
    "\n",
    "CNN_FILENAME = os.path.join(CNN_DIR, 'script_CNN.h5')\n",
    "CNN_PARAMS_FILENAME = os.path.join(CNN_DIR, 'CNN_parameters.json')\n",
    "NTL_FILENAME = os.path.join(CNN_DIR, 'ntl.npy')\n",
    "NTL_CONT_FILENAME = os.path.join(CNN_DIR, 'ntl_continuous.npy')\n",
    "DTL_FILENAME = os.path.join(CNN_DIR, 'dtl.npy')\n",
    "PREDICTION_FILENAME = os.path.join(CNN_DIR, 'cnn_predictions_truth_values.csv')\n",
    "PREDICTION_FILENAME_CONT = os.path.join(CNN_DIR, 'cnn_predictions_continuous_truth_values.csv')"
   ]
  },
  {
   "cell_type": "code",
   "execution_count": 8,
   "metadata": {
    "id": "tWeveSe00gul"
   },
   "outputs": [],
   "source": [
    "import os, datetime\n",
    "import numpy as np\n",
    "import pandas as pd\n",
    "import json\n",
    "\n",
    "from sklearn.preprocessing import KBinsDiscretizer\n",
    "from sklearn.model_selection import train_test_split, KFold\n",
    "from sklearn.metrics import classification_report, confusion_matrix\n",
    "\n",
    "from keras.utils import to_categorical\n",
    "from keras.models import Sequential, Model\n",
    "from keras.layers import Conv2D, MaxPooling2D, Flatten, Dense, GlobalAveragePooling2D, Dropout\n",
    "from keras.callbacks import EarlyStopping, ModelCheckpoint\n",
    "from keras.models import load_model\n",
    "from keras.applications.vgg16 import VGG16\n",
    "from keras.applications.inception_v3 import preprocess_input\n",
    "\n",
    "import logging, os \n",
    "import random\n",
    "import tensorflow as tf"
   ]
  },
  {
   "cell_type": "markdown",
   "metadata": {
    "id": "I5k-bEJvLVvj"
   },
   "source": [
    "## **Functions**"
   ]
  },
  {
   "cell_type": "code",
   "execution_count": 9,
   "metadata": {
    "id": "fkAYWJCg0gut"
   },
   "outputs": [],
   "source": [
    "def transform_target(gdf, orig_target_name, n_bins):\n",
    "    '''\n",
    "    Creates log NTL variable and bins into 5 classes using k-means clutering.\n",
    "    '''\n",
    "    # Perform log(x+1) for defined domain\n",
    "    transformed_target_name = f'log_{orig_target_name}'\n",
    "    gdf[transformed_target_name] = np.log(gdf[orig_target_name] + 1)\n",
    "    # Bin target\n",
    "    target = gdf[transformed_target_name].to_numpy().reshape(-1,1)\n",
    "    discretizer = KBinsDiscretizer(n_bins=n_bins, encode='ordinal', strategy='kmeans')\n",
    "    gdf[FINAL_TARGET_NAME] = discretizer.fit_transform(target)\n",
    "\n",
    "def normalize(X):\n",
    "    '''\n",
    "    Normalizes features.\n",
    "    '''\n",
    "    return X.astype('float32') / 255.0\n",
    "\n",
    "def define_model_imagenet(height, width, channels, num_classes):\n",
    "    '''\n",
    "    Defines and compiles CNN model.\n",
    "    \n",
    "    Inputs:\n",
    "        height, width, channels, num_classes (int)\n",
    "    Returns:\n",
    "        model (keras.Model object)\n",
    "    '''\n",
    "\n",
    "    # https://medium.com/abraia/first-steps-with-transfer-learning-for-custom-image-classification-with-keras-b941601fcad5\n",
    "    # https://towardsdatascience.com/cnn-transfer-learning-fine-tuning-9f3e7c5806b2\n",
    "\n",
    "    #### Base model\n",
    "    input_shape = (height, width, channels)\n",
    "    base_model = VGG16(weights='imagenet', include_top=False, input_shape=input_shape)\n",
    "\n",
    "    for layer in base_model.layers:\n",
    "        layer.trainable = False\n",
    "\n",
    "    #### Model Customization\n",
    "    # We take the last layer of our the model and add it to our classifier\n",
    "    last = base_model.layers[-1].output\n",
    "    x = Flatten()(last)\n",
    "    x = Dense(100, activation='relu', name='fc1')(x)\n",
    "    x = Dropout(0.3)(x)\n",
    "    x = Dense(num_classes, activation='softmax', name='predictions')(x)\n",
    "    model = Model(base_model.input, x)\n",
    "    # We compile the model\n",
    "    model.compile(optimizer='rmsprop',\n",
    "              loss='categorical_crossentropy',\n",
    "              metrics=['accuracy'])\n",
    "\n",
    "    return model\n",
    "\n",
    "def define_model_imagenet_cont(height, width, channels, num_classes):\n",
    "    '''\n",
    "    Defines and compiles CNN model [continuous].\n",
    "    \n",
    "    Inputs:\n",
    "        height, width, channels, num_classes (int)\n",
    "    Returns:\n",
    "        model (keras.Model object)\n",
    "    '''\n",
    "\n",
    "    # https://medium.com/abraia/first-steps-with-transfer-learning-for-custom-image-classification-with-keras-b941601fcad5\n",
    "    # https://towardsdatascience.com/cnn-transfer-learning-fine-tuning-9f3e7c5806b2\n",
    "\n",
    "    #### Base model\n",
    "    input_shape = (height, width, channels)\n",
    "    base_model = VGG16(weights='imagenet', include_top=False, input_shape=input_shape)\n",
    "\n",
    "    for layer in base_model.layers:\n",
    "        layer.trainable = False\n",
    "\n",
    "    #### Model Customization\n",
    "    # We take the last layer of our the model and add it to our classifier\n",
    "    last = base_model.layers[-1].output\n",
    "    x = Flatten()(last)\n",
    "    x = Dense(100, activation='relu', name='fc1')(x)\n",
    "    x = Dropout(0.3)(x)\n",
    "    #x = Dense(num_classes, activation='softmax', name='predictions')(x)\n",
    "    x = Dense(1, kernel_initializer='normal')(x)\n",
    "\n",
    "    model = Model(base_model.input, x)\n",
    "    # We compile the model\n",
    "    model.compile(optimizer='adam',\n",
    "              loss='mean_squared_error',\n",
    "              metrics=['accuracy'])\n",
    "\n",
    "    return model\n",
    "\n",
    "\n",
    "def evaluate_model(model, trainX, trainY, testX, testY):\n",
    "    '''\n",
    "    Fits model, evaluates model, saves best model over epochs and cross-validations.\n",
    "    \n",
    "    Inputs:\n",
    "        model (CNN model) keras.Model object\n",
    "        trainX, trainY (numpy.ndarray) 4D array of DTL features and 2D array of targets for training\n",
    "        testX, testY (numpy.ndarray) 4D array of DTL features and 2D array of targets for testing\n",
    "        current_kfold (int) iteration in kfold cross-val, default=None for no cross-val\n",
    "        display_metrics (bool) Default=False\n",
    "    Returns:\n",
    "        None\n",
    "    # https://towardsdatascience.com/step-by-step-guide-to-using-pretrained-models-in-keras-c9097b647b29\n",
    "    '''\n",
    "\n",
    "    # Use early stopping to help with overfitting\n",
    "    es = EarlyStopping(monitor='val_loss', mode='min', patience=10, verbose=False)\n",
    "\n",
    "    # Save best model based on accuracy\n",
    "    mc = ModelCheckpoint(CNN_FILENAME, monitor='val_loss', mode='min', \n",
    "                         verbose=True, save_best_only=True)\n",
    "\n",
    "    # Fit model\n",
    "    model.fit(trainX, trainY, \n",
    "            epochs=100, \n",
    "            batch_size=500, \n",
    "            validation_data=(testX, testY), \n",
    "            callbacks=[es, mc], \n",
    "            verbose=False)\n",
    "\n",
    "    # Show accuracy\n",
    "    loss, accuracy = model.evaluate(testX, testY, verbose=False)\n",
    "    print(f'                              Accuracy: {accuracy}')\n",
    "\n",
    "    #return model\n",
    "        \n",
    "\n",
    "def evaluate_with_crossval(model, dataX, dataY, k=2):\n",
    "    '''\n",
    "    Performs evaulation with K-fold cross validation.\n",
    "    \n",
    "    Inputs:\n",
    "        model (keras.Model object)\n",
    "        dataX, dataY (numpy.ndarray) 4D array of DTL features and 2D array of targets \n",
    "                                     for training\n",
    "        k (int)\n",
    "    Returns:\n",
    "        None\n",
    "    '''\n",
    "    # Define k-fold cross-val\n",
    "    kfold = KFold(k, shuffle=True, random_state=1)\n",
    "    # Loop through folds\n",
    "    count = 1\n",
    "    for train_idx, test_idx in kfold.split(dataX):\n",
    "        print(f'{datetime.datetime.now()}    --- Current K-fold: {count} ---')\n",
    "        # Select subsets for training and testing\n",
    "        trainX, trainY, testX, testY = dataX[train_idx], dataY[train_idx], \\\n",
    "                                       dataX[test_idx], dataY[test_idx]\n",
    "        # Pass to evaluate_model function\n",
    "        evaluate_model(model, trainX, trainY, testX, testY)\n",
    "        count += 1\n",
    "\n",
    "def display_eval_metrics(model, testX, testY, n_ntl_bins):\n",
    "    '''\n",
    "    Displays evaluation metrics for a given trained model.\n",
    "    '''\n",
    "    # Get predictions\n",
    "    predY = model.predict(testX)\n",
    "    predY = np.argmax(predY, axis = 1)\n",
    "    testY_bins = np.argmax(testY, axis = 1)\n",
    "    # Generate classification report\n",
    "    classes = ['Radiance Level %01d' %i for i in range(1,n_ntl_bins+1)]\n",
    "    print(classification_report(testY_bins, predY, target_names=classes))"
   ]
  },
  {
   "cell_type": "markdown",
   "metadata": {
    "id": "C4lWj5moLdQW"
   },
   "source": [
    "## **Load Parameters**"
   ]
  },
  {
   "cell_type": "code",
   "execution_count": 10,
   "metadata": {
    "id": "S7mQb5uJ6BEq"
   },
   "outputs": [],
   "source": [
    "with open(CNN_PARAMS_FILENAME, 'r') as fp:\n",
    "    cnn_param_dict = json.load(fp)\n",
    "\n",
    "N_bands = cnn_param_dict['N_bands']\n",
    "n_ntl_bins = cnn_param_dict['n_ntl_bins']\n",
    "image_height = cnn_param_dict['image_height']\n",
    "image_width = cnn_param_dict['image_width']\n",
    "bands = cnn_param_dict['bands']\n",
    "min_ntl_bin_count = cnn_param_dict['bands']"
   ]
  },
  {
   "cell_type": "markdown",
   "metadata": {
    "id": "LZ0rFqCiLhM0"
   },
   "source": [
    "## **Load and Prep Data**"
   ]
  },
  {
   "cell_type": "code",
   "execution_count": 11,
   "metadata": {
    "id": "vuCKwuARKt_E"
   },
   "outputs": [],
   "source": [
    "# Load Data\n",
    "NTL = np.load(NTL_FILENAME)\n",
    "DTL = np.load(DTL_FILENAME)\n",
    "\n",
    "# SPLIT DATA INTO TRAINING AND TESTING\n",
    "trainX, testX, raw_trainY, raw_testY = train_test_split(DTL, NTL, \n",
    "                                                        test_size=0.2)\n",
    "\n",
    "\n",
    "# PREP TRAINING AND TESTING DATA\n",
    "trainY = to_categorical(raw_trainY)\n",
    "testY = to_categorical(raw_testY)\n",
    "\n",
    "\n",
    "#print(np.unique(NTL, return_counts=True))\n",
    "\n",
    "#print(np.unique(raw_trainY, return_counts=True))\n",
    "#print(np.unique(raw_testY, return_counts=True))\n",
    "\n",
    "#print(np.unique(trainY, return_counts=True))\n",
    "#print(np.unique(testY, return_counts=True))\n",
    "\n",
    "# PREP PIXELS IN FEATURES\n",
    "trainX, testX = normalize(trainX), normalize(testX)"
   ]
  },
  {
   "cell_type": "code",
   "execution_count": 12,
   "metadata": {
    "id": "xh8-K6jYtyvG"
   },
   "outputs": [],
   "source": [
    "# Prep Continuous X and Ys\n",
    "NTL = np.load(NTL_CONT_FILENAME)\n",
    "\n",
    "NTL_LOG = np.log(NTL + 1)\n",
    "\n",
    "trainX_cont, testX_cont, raw_trainY_cont, raw_testY_cont = train_test_split(DTL, NTL_LOG, \n",
    "                                                                            test_size=0.2)\n",
    "\n",
    "trainX_cont, testX_cont = normalize(trainX_cont), normalize(testX_cont)"
   ]
  },
  {
   "cell_type": "code",
   "execution_count": 13,
   "metadata": {
    "colab": {
     "base_uri": "https://localhost:8080/"
    },
    "id": "Hr7NIkb6vWJu",
    "outputId": "21d0b23d-4b19-464a-e9ea-3629e56043ba"
   },
   "outputs": [
    {
     "name": "stdout",
     "output_type": "stream",
     "text": [
      "Downloading data from https://storage.googleapis.com/tensorflow/keras-applications/vgg16/vgg16_weights_tf_dim_ordering_tf_kernels_notop.h5\n",
      "58892288/58889256 [==============================] - 1s 0us/step\n"
     ]
    }
   ],
   "source": [
    "model_cont = define_model_imagenet_cont(image_height, image_width, N_bands, n_ntl_bins)"
   ]
  },
  {
   "cell_type": "code",
   "execution_count": 14,
   "metadata": {
    "colab": {
     "base_uri": "https://localhost:8080/"
    },
    "id": "nfwxDuUEvmgm",
    "outputId": "529dc3f0-8bc1-49c7-c349-1f3ab020683a"
   },
   "outputs": [
    {
     "name": "stdout",
     "output_type": "stream",
     "text": [
      "\n",
      "Epoch 00001: val_loss improved from inf to 0.66457, saving model to /content/drive/My Drive/World Bank/Pakistan Poverty Estimation/Data/CNN/Nbands3_nNtlBins3_minNTLbinCount16861/script_CNN.h5\n",
      "\n",
      "Epoch 00002: val_loss improved from 0.66457 to 0.61604, saving model to /content/drive/My Drive/World Bank/Pakistan Poverty Estimation/Data/CNN/Nbands3_nNtlBins3_minNTLbinCount16861/script_CNN.h5\n",
      "\n",
      "Epoch 00003: val_loss improved from 0.61604 to 0.59966, saving model to /content/drive/My Drive/World Bank/Pakistan Poverty Estimation/Data/CNN/Nbands3_nNtlBins3_minNTLbinCount16861/script_CNN.h5\n",
      "\n",
      "Epoch 00004: val_loss improved from 0.59966 to 0.59099, saving model to /content/drive/My Drive/World Bank/Pakistan Poverty Estimation/Data/CNN/Nbands3_nNtlBins3_minNTLbinCount16861/script_CNN.h5\n",
      "\n",
      "Epoch 00005: val_loss improved from 0.59099 to 0.57950, saving model to /content/drive/My Drive/World Bank/Pakistan Poverty Estimation/Data/CNN/Nbands3_nNtlBins3_minNTLbinCount16861/script_CNN.h5\n",
      "\n",
      "Epoch 00006: val_loss improved from 0.57950 to 0.57843, saving model to /content/drive/My Drive/World Bank/Pakistan Poverty Estimation/Data/CNN/Nbands3_nNtlBins3_minNTLbinCount16861/script_CNN.h5\n",
      "\n",
      "Epoch 00007: val_loss improved from 0.57843 to 0.57657, saving model to /content/drive/My Drive/World Bank/Pakistan Poverty Estimation/Data/CNN/Nbands3_nNtlBins3_minNTLbinCount16861/script_CNN.h5\n",
      "\n",
      "Epoch 00008: val_loss did not improve from 0.57657\n",
      "\n",
      "Epoch 00009: val_loss improved from 0.57657 to 0.56832, saving model to /content/drive/My Drive/World Bank/Pakistan Poverty Estimation/Data/CNN/Nbands3_nNtlBins3_minNTLbinCount16861/script_CNN.h5\n",
      "\n",
      "Epoch 00010: val_loss improved from 0.56832 to 0.56055, saving model to /content/drive/My Drive/World Bank/Pakistan Poverty Estimation/Data/CNN/Nbands3_nNtlBins3_minNTLbinCount16861/script_CNN.h5\n",
      "\n",
      "Epoch 00011: val_loss did not improve from 0.56055\n",
      "\n",
      "Epoch 00012: val_loss improved from 0.56055 to 0.55606, saving model to /content/drive/My Drive/World Bank/Pakistan Poverty Estimation/Data/CNN/Nbands3_nNtlBins3_minNTLbinCount16861/script_CNN.h5\n",
      "\n",
      "Epoch 00013: val_loss did not improve from 0.55606\n",
      "\n",
      "Epoch 00014: val_loss did not improve from 0.55606\n",
      "\n",
      "Epoch 00015: val_loss did not improve from 0.55606\n",
      "\n",
      "Epoch 00016: val_loss improved from 0.55606 to 0.55262, saving model to /content/drive/My Drive/World Bank/Pakistan Poverty Estimation/Data/CNN/Nbands3_nNtlBins3_minNTLbinCount16861/script_CNN.h5\n",
      "\n",
      "Epoch 00017: val_loss improved from 0.55262 to 0.55018, saving model to /content/drive/My Drive/World Bank/Pakistan Poverty Estimation/Data/CNN/Nbands3_nNtlBins3_minNTLbinCount16861/script_CNN.h5\n",
      "\n",
      "Epoch 00018: val_loss improved from 0.55018 to 0.54992, saving model to /content/drive/My Drive/World Bank/Pakistan Poverty Estimation/Data/CNN/Nbands3_nNtlBins3_minNTLbinCount16861/script_CNN.h5\n",
      "\n",
      "Epoch 00019: val_loss did not improve from 0.54992\n",
      "\n",
      "Epoch 00020: val_loss improved from 0.54992 to 0.54906, saving model to /content/drive/My Drive/World Bank/Pakistan Poverty Estimation/Data/CNN/Nbands3_nNtlBins3_minNTLbinCount16861/script_CNN.h5\n",
      "\n",
      "Epoch 00021: val_loss improved from 0.54906 to 0.54882, saving model to /content/drive/My Drive/World Bank/Pakistan Poverty Estimation/Data/CNN/Nbands3_nNtlBins3_minNTLbinCount16861/script_CNN.h5\n",
      "\n",
      "Epoch 00022: val_loss improved from 0.54882 to 0.54312, saving model to /content/drive/My Drive/World Bank/Pakistan Poverty Estimation/Data/CNN/Nbands3_nNtlBins3_minNTLbinCount16861/script_CNN.h5\n",
      "\n",
      "Epoch 00023: val_loss improved from 0.54312 to 0.54267, saving model to /content/drive/My Drive/World Bank/Pakistan Poverty Estimation/Data/CNN/Nbands3_nNtlBins3_minNTLbinCount16861/script_CNN.h5\n",
      "\n",
      "Epoch 00024: val_loss did not improve from 0.54267\n",
      "\n",
      "Epoch 00025: val_loss improved from 0.54267 to 0.54247, saving model to /content/drive/My Drive/World Bank/Pakistan Poverty Estimation/Data/CNN/Nbands3_nNtlBins3_minNTLbinCount16861/script_CNN.h5\n",
      "\n",
      "Epoch 00026: val_loss improved from 0.54247 to 0.53914, saving model to /content/drive/My Drive/World Bank/Pakistan Poverty Estimation/Data/CNN/Nbands3_nNtlBins3_minNTLbinCount16861/script_CNN.h5\n",
      "\n",
      "Epoch 00027: val_loss did not improve from 0.53914\n",
      "\n",
      "Epoch 00028: val_loss did not improve from 0.53914\n",
      "\n",
      "Epoch 00029: val_loss did not improve from 0.53914\n",
      "\n",
      "Epoch 00030: val_loss did not improve from 0.53914\n",
      "\n",
      "Epoch 00031: val_loss did not improve from 0.53914\n",
      "\n",
      "Epoch 00032: val_loss did not improve from 0.53914\n",
      "\n",
      "Epoch 00033: val_loss did not improve from 0.53914\n",
      "\n",
      "Epoch 00034: val_loss did not improve from 0.53914\n",
      "\n",
      "Epoch 00035: val_loss did not improve from 0.53914\n",
      "\n",
      "Epoch 00036: val_loss did not improve from 0.53914\n",
      "                              Accuracy: 9.884352766675875e-05\n"
     ]
    }
   ],
   "source": [
    "evaluate_model(model_cont, trainX_cont, raw_trainY_cont, testX_cont, raw_testY_cont)"
   ]
  },
  {
   "cell_type": "code",
   "execution_count": 15,
   "metadata": {
    "id": "Hg_Pgo6zwPB-"
   },
   "outputs": [],
   "source": [
    "best_model = load_model(CNN_FILENAME)\n",
    "\n",
    "### Save Dataframe of Predicted Values\n",
    "\n",
    "# Predict Values\n",
    "predY = best_model.predict(testX_cont)\n",
    "#predY = np.argmax(predY, axis = 1)\n",
    "#testY_bins = np.argmax(testY, axis = 1)\n",
    "\n",
    "# Make Dataframe\n",
    "results_df = pd.DataFrame({'predY': predY[:,0], 'testY': raw_testY_cont})\n",
    "\n",
    "# Save Dataframe\n",
    "results_df.to_csv(PREDICTION_FILENAME_CONT, index=False)  "
   ]
  },
  {
   "cell_type": "code",
   "execution_count": null,
   "metadata": {
    "colab": {
     "base_uri": "https://localhost:8080/",
     "height": 204
    },
    "id": "G6kJKGSDxTHf",
    "outputId": "e085d561-7958-4315-e5b4-e35643c6e262"
   },
   "outputs": [
    {
     "data": {
      "text/html": [
       "<div>\n",
       "<style scoped>\n",
       "    .dataframe tbody tr th:only-of-type {\n",
       "        vertical-align: middle;\n",
       "    }\n",
       "\n",
       "    .dataframe tbody tr th {\n",
       "        vertical-align: top;\n",
       "    }\n",
       "\n",
       "    .dataframe thead th {\n",
       "        text-align: right;\n",
       "    }\n",
       "</style>\n",
       "<table border=\"1\" class=\"dataframe\">\n",
       "  <thead>\n",
       "    <tr style=\"text-align: right;\">\n",
       "      <th></th>\n",
       "      <th>predY</th>\n",
       "      <th>testY</th>\n",
       "    </tr>\n",
       "  </thead>\n",
       "  <tbody>\n",
       "    <tr>\n",
       "      <th>0</th>\n",
       "      <td>2.517897</td>\n",
       "      <td>2.367192</td>\n",
       "    </tr>\n",
       "    <tr>\n",
       "      <th>1</th>\n",
       "      <td>7.907559</td>\n",
       "      <td>8.239053</td>\n",
       "    </tr>\n",
       "    <tr>\n",
       "      <th>2</th>\n",
       "      <td>3.862707</td>\n",
       "      <td>0.117567</td>\n",
       "    </tr>\n",
       "    <tr>\n",
       "      <th>3</th>\n",
       "      <td>-2.416992</td>\n",
       "      <td>0.217285</td>\n",
       "    </tr>\n",
       "    <tr>\n",
       "      <th>4</th>\n",
       "      <td>1.380270</td>\n",
       "      <td>0.675854</td>\n",
       "    </tr>\n",
       "  </tbody>\n",
       "</table>\n",
       "</div>"
      ],
      "text/plain": [
       "      predY     testY\n",
       "0  2.517897  2.367192\n",
       "1  7.907559  8.239053\n",
       "2  3.862707  0.117567\n",
       "3 -2.416992  0.217285\n",
       "4  1.380270  0.675854"
      ]
     },
     "execution_count": 48,
     "metadata": {
      "tags": []
     },
     "output_type": "execute_result"
    }
   ],
   "source": [
    "#results_df.head()\n",
    "#raw_testY_cont\n",
    "#predY\n",
    "results_df.head()"
   ]
  },
  {
   "cell_type": "markdown",
   "metadata": {
    "id": "bKlWDX3gLkde"
   },
   "source": [
    "## **Run Model**"
   ]
  },
  {
   "cell_type": "code",
   "execution_count": null,
   "metadata": {
    "colab": {
     "base_uri": "https://localhost:8080/"
    },
    "id": "icaSC1870guy",
    "outputId": "fb8f30b7-a978-4334-8a34-d020070fbcbe"
   },
   "outputs": [
    {
     "name": "stdout",
     "output_type": "stream",
     "text": [
      "Downloading data from https://storage.googleapis.com/tensorflow/keras-applications/vgg16/vgg16_weights_tf_dim_ordering_tf_kernels_notop.h5\n",
      "58892288/58889256 [==============================] - 0s 0us/step\n"
     ]
    }
   ],
   "source": [
    "model = define_model_imagenet(image_height, image_width, N_bands, n_ntl_bins)"
   ]
  },
  {
   "cell_type": "code",
   "execution_count": null,
   "metadata": {
    "colab": {
     "base_uri": "https://localhost:8080/"
    },
    "id": "DTt_30BEMrss",
    "outputId": "77c230f5-1e08-49e1-f4cc-805914ed0821"
   },
   "outputs": [
    {
     "name": "stdout",
     "output_type": "stream",
     "text": [
      "\n",
      "Epoch 00001: val_loss improved from inf to 0.79896, saving model to /content/drive/My Drive/World Bank/Pakistan Poverty Estimation/Data/CNN/Nbands3_nNtlBins3_minNTLbinCount16861/script_CNN.h5\n",
      "\n",
      "Epoch 00002: val_loss improved from 0.79896 to 0.77657, saving model to /content/drive/My Drive/World Bank/Pakistan Poverty Estimation/Data/CNN/Nbands3_nNtlBins3_minNTLbinCount16861/script_CNN.h5\n",
      "\n",
      "Epoch 00003: val_loss improved from 0.77657 to 0.75853, saving model to /content/drive/My Drive/World Bank/Pakistan Poverty Estimation/Data/CNN/Nbands3_nNtlBins3_minNTLbinCount16861/script_CNN.h5\n",
      "\n",
      "Epoch 00004: val_loss improved from 0.75853 to 0.75729, saving model to /content/drive/My Drive/World Bank/Pakistan Poverty Estimation/Data/CNN/Nbands3_nNtlBins3_minNTLbinCount16861/script_CNN.h5\n",
      "\n",
      "Epoch 00005: val_loss improved from 0.75729 to 0.74811, saving model to /content/drive/My Drive/World Bank/Pakistan Poverty Estimation/Data/CNN/Nbands3_nNtlBins3_minNTLbinCount16861/script_CNN.h5\n",
      "\n",
      "Epoch 00006: val_loss improved from 0.74811 to 0.74748, saving model to /content/drive/My Drive/World Bank/Pakistan Poverty Estimation/Data/CNN/Nbands3_nNtlBins3_minNTLbinCount16861/script_CNN.h5\n",
      "\n",
      "Epoch 00007: val_loss improved from 0.74748 to 0.74441, saving model to /content/drive/My Drive/World Bank/Pakistan Poverty Estimation/Data/CNN/Nbands3_nNtlBins3_minNTLbinCount16861/script_CNN.h5\n",
      "\n",
      "Epoch 00008: val_loss did not improve from 0.74441\n",
      "\n",
      "Epoch 00009: val_loss did not improve from 0.74441\n",
      "\n",
      "Epoch 00010: val_loss improved from 0.74441 to 0.74282, saving model to /content/drive/My Drive/World Bank/Pakistan Poverty Estimation/Data/CNN/Nbands3_nNtlBins3_minNTLbinCount16861/script_CNN.h5\n",
      "\n",
      "Epoch 00011: val_loss did not improve from 0.74282\n",
      "\n",
      "Epoch 00012: val_loss improved from 0.74282 to 0.74231, saving model to /content/drive/My Drive/World Bank/Pakistan Poverty Estimation/Data/CNN/Nbands3_nNtlBins3_minNTLbinCount16861/script_CNN.h5\n",
      "\n",
      "Epoch 00013: val_loss did not improve from 0.74231\n",
      "\n",
      "Epoch 00014: val_loss improved from 0.74231 to 0.73789, saving model to /content/drive/My Drive/World Bank/Pakistan Poverty Estimation/Data/CNN/Nbands3_nNtlBins3_minNTLbinCount16861/script_CNN.h5\n",
      "\n",
      "Epoch 00015: val_loss did not improve from 0.73789\n",
      "\n",
      "Epoch 00016: val_loss did not improve from 0.73789\n",
      "\n",
      "Epoch 00017: val_loss did not improve from 0.73789\n",
      "\n",
      "Epoch 00018: val_loss did not improve from 0.73789\n",
      "\n",
      "Epoch 00019: val_loss did not improve from 0.73789\n",
      "\n",
      "Epoch 00020: val_loss did not improve from 0.73789\n",
      "\n",
      "Epoch 00021: val_loss did not improve from 0.73789\n",
      "\n",
      "Epoch 00022: val_loss did not improve from 0.73789\n",
      "\n",
      "Epoch 00023: val_loss did not improve from 0.73789\n",
      "\n",
      "Epoch 00024: val_loss did not improve from 0.73789\n",
      "                              Accuracy: 0.6896313428878784\n"
     ]
    }
   ],
   "source": [
    "evaluate_model(model, trainX, trainY, testX, testY)"
   ]
  },
  {
   "cell_type": "code",
   "execution_count": null,
   "metadata": {
    "colab": {
     "base_uri": "https://localhost:8080/"
    },
    "id": "0akMTs7NK4iJ",
    "outputId": "c0b5a714-aa52-452c-e4b0-0bb49299b931"
   },
   "outputs": [
    {
     "name": "stdout",
     "output_type": "stream",
     "text": [
      "                  precision    recall  f1-score   support\n",
      "\n",
      "Radiance Level 1       0.80      0.73      0.77      3420\n",
      "Radiance Level 2       0.63      0.68      0.66      3429\n",
      "Radiance Level 3       0.65      0.65      0.65      3268\n",
      "\n",
      "        accuracy                           0.69     10117\n",
      "       macro avg       0.69      0.69      0.69     10117\n",
      "    weighted avg       0.69      0.69      0.69     10117\n",
      "\n"
     ]
    }
   ],
   "source": [
    "# DISPLAY IN-DEPTH EVALUTAION METRICS\n",
    "best_model = load_model(CNN_FILENAME)\n",
    "display_eval_metrics(model, testX, testY, n_ntl_bins)"
   ]
  },
  {
   "cell_type": "code",
   "execution_count": null,
   "metadata": {
    "id": "7VYvJlW58z-M"
   },
   "outputs": [],
   "source": [
    "### Save Dataframe of Predicted Values\n",
    "\n",
    "# Predict Values\n",
    "predY = best_model.predict(testX) # model.predict(testX)\n",
    "predY = np.argmax(predY, axis = 1)\n",
    "testY_bins = np.argmax(testY, axis = 1)\n",
    "\n",
    "# Make Dataframe\n",
    "results_df = pd.DataFrame({'predY': predY, 'testY': testY_bins})\n",
    "\n",
    "# Save Dataframe\n",
    "results_df.to_csv(PREDICTION_FILENAME, index=False)  "
   ]
  },
  {
   "cell_type": "code",
   "execution_count": null,
   "metadata": {
    "id": "_smbAxFWvWrP"
   },
   "outputs": [],
   "source": []
  },
  {
   "cell_type": "code",
   "execution_count": null,
   "metadata": {
    "id": "YUJ79Dvkvb-3"
   },
   "outputs": [],
   "source": []
  },
  {
   "cell_type": "code",
   "execution_count": null,
   "metadata": {
    "id": "OIaYzmPcvjTS"
   },
   "outputs": [],
   "source": []
  },
  {
   "cell_type": "code",
   "execution_count": null,
   "metadata": {
    "id": "ABUz9Hk8wPmd"
   },
   "outputs": [],
   "source": []
  }
 ],
 "metadata": {
  "accelerator": "GPU",
  "colab": {
   "include_colab_link": true,
   "name": "01_cnn.ipynb",
   "provenance": []
  },
  "kernelspec": {
   "display_name": "Python 3",
   "language": "python",
   "name": "python3"
  },
  "language_info": {
   "codemirror_mode": {
    "name": "ipython",
    "version": 3
   },
   "file_extension": ".py",
   "mimetype": "text/x-python",
   "name": "python",
   "nbconvert_exporter": "python",
   "pygments_lexer": "ipython3",
   "version": "3.7.2"
  }
 },
 "nbformat": 4,
 "nbformat_minor": 2
}
