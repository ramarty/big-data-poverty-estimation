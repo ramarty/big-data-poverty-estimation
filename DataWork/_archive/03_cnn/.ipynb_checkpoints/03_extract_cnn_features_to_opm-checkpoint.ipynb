{
 "cells": [
  {
   "cell_type": "markdown",
   "metadata": {},
   "source": [
    "## Extract Features from CNN to OPM Data\n",
    "\n",
    "Extracts features to OPM data. \n",
    "* __Inputs:__ (1) DTL data around OPM survey points (previous script pre-processes as numpy arrays) and (2) CNN model \n",
    "* __Output:__ Dataframe with OPM survey ID and CNN features\n",
    "\n",
    "Notes:\n",
    "Might encounter an error that says \"SystemError: <class 'int'> returned a result with an error set\"."
   ]
  },
  {
   "cell_type": "markdown",
   "metadata": {},
   "source": [
    "## Setup"
   ]
  },
  {
   "cell_type": "code",
   "execution_count": 76,
   "metadata": {},
   "outputs": [],
   "source": [
    "import os, math, pickle, datetime, json\n",
    "import numpy as np\n",
    "import pandas as pd\n",
    "#import geopandas as gpd\n",
    "import json\n",
    "#from rasterio.plot import show\n",
    "import pickle\n",
    "\n",
    "import re\n",
    "\n",
    "#from geopandas import GeoDataFrame\n",
    "#from shapely.geometry import Point\n",
    "\n",
    "from sklearn.decomposition import PCA\n",
    "from sklearn.model_selection import train_test_split\n",
    "from sklearn.preprocessing import StandardScaler\n",
    "from sklearn.svm import LinearSVC\n",
    "from sklearn.tree import DecisionTreeClassifier\n",
    "from sklearn.ensemble import (BaggingClassifier, AdaBoostClassifier, \n",
    "                              GradientBoostingClassifier, RandomForestClassifier)\n",
    "from sklearn.neighbors import KNeighborsClassifier\n",
    "from sklearn.naive_bayes import GaussianNB\n",
    "from sklearn.metrics import (accuracy_score, precision_score, \n",
    "                             recall_score, classification_report)\n",
    "\n",
    "from keras.models import load_model\n",
    "from keras.models import Sequential, Model\n",
    "\n",
    "from tensorflow.keras.applications.vgg16 import preprocess_input\n",
    "\n",
    "import warnings\n",
    "import random\n",
    "import tensorflow as tf\n",
    "warnings.filterwarnings('ignore')\n",
    "\n",
    "## User Defined\n",
    "import config as cf\n",
    "import feature_extraction as fe"
   ]
  },
  {
   "cell_type": "markdown",
   "metadata": {},
   "source": [
    "## Extraction"
   ]
  },
  {
   "cell_type": "code",
   "execution_count": 78,
   "metadata": {},
   "outputs": [
    {
     "name": "stdout",
     "output_type": "stream",
     "text": [
      "CNN_DEPVAR_median_rad_2014_5bin_DTLFIlE_dtl5_rgb_2014.h5\n",
      "CNN_DEPVAR_median_rad_2014_5bin_DTLFIlE_dtl4_3_2_rgb_2014.h5\n",
      "CNN_DEPVAR_median_rad_2014_5bin_DTLFIlE_dtl6_rgb_2014.h5\n",
      "CNN_DEPVAR_median_rad_2014_5bin_DTLFIlE_dtl7_rgb_2014.h5\n"
     ]
    }
   ],
   "source": [
    "SURVEY = 'OPM'\n",
    "\n",
    "# Prep file lists ---------------------------------------------\n",
    "CNN_FOLDER_VIIRS = os.path.join(cf.GD_CNN_DIRECTORY, 'VIIRS')\n",
    "CNN_FOLDER_SURVEY = os.path.join(cf.GD_CNN_DIRECTORY, SURVEY)\n",
    "\n",
    "cnn_files_viirs = os.listdir(os.path.join(CNN_FOLDER_VIIRS))\n",
    "cnn_files_survey = os.listdir(os.path.join(CNN_FOLDER_VIIRS))\n",
    "\n",
    "reg_npy = re.compile(r'^dtl.*npy$')   \n",
    "reg_h5 = re.compile(r'CNN_.*h5$')    \n",
    "npy_files = list(filter(reg_npy.search, cnn_files_survey)) # grab dtl data extracted from survey\n",
    "h5_files = list(filter(reg_h5.search, cnn_files_viirs)) # grab models trained on viirs \n",
    "\n",
    "# Loop through files, load & extract data -------------------------------\n",
    "for dtl_file_i in dtl_files:\n",
    "\n",
    "    # Grab all h5 files that use that DTL layer (eg, different dep vars)\n",
    "    dtl_file_i_clean = dtl_file_i.replace('.npy', '')\n",
    "    reg_dtl_i = re.compile(r''.join(dtl_file_i_clean))\n",
    "    h5_files_for_dtl_i = list(filter(reg_dtl_i.search, h5_files)) \n",
    "\n",
    "    # Loop through h5 files\n",
    "    for h5_i in h5_files_for_dtl_i:\n",
    "        print(h5_i)\n",
    "\n",
    "        # Load Data ---------------------------------------------   \n",
    "        model = load_model(os.path.join(CNN_FOLDER_VIIRS, h5_i))\n",
    "        DTL = np.load(os.path.join(CNN_FOLDER_SURVEY, dtl_file_i))\n",
    "        gdf = pd.read_pickle(os.path.join(CNN_FOLDER_SURVEY, 'dep_var.pkl'))\n",
    "\n",
    "        if DTL.shape[3] == 1:\n",
    "            DTL = np.repeat(DTL, 3, -1)\n",
    "            \n",
    "        # Extract Data ---------------------------------------------   \n",
    "        DTL_p = preprocess_input(DTL)\n",
    "        \n",
    "        feature_extractor = Model(inputs=model.inputs,\n",
    "                          outputs=model.get_layer(name='fc1').output,)\n",
    "\n",
    "        features = feature_extractor.predict(DTL_p)\n",
    "\n",
    "        cnn_df = pd.DataFrame(features).add_prefix('cnn_feat_')\n",
    "        cnn_df['uid'] = gdf.uid\n",
    "        \n",
    "        # Export CNN Features --------------------------------------\n",
    "        csv_out = h5_i.replace('.h5', '_cnn_features.csv')\n",
    "        cnn_df.to_csv(os.path.join(cf.DROPBOX_DIRECTORY, 'Data', SURVEY, 'FinalData', 'Individual Datasets', csv_out), index=False) "
   ]
  },
  {
   "cell_type": "code",
   "execution_count": 74,
   "metadata": {},
   "outputs": [],
   "source": []
  },
  {
   "cell_type": "code",
   "execution_count": 75,
   "metadata": {},
   "outputs": [],
   "source": []
  },
  {
   "cell_type": "code",
   "execution_count": 68,
   "metadata": {},
   "outputs": [],
   "source": []
  },
  {
   "cell_type": "code",
   "execution_count": 70,
   "metadata": {},
   "outputs": [],
   "source": []
  },
  {
   "cell_type": "code",
   "execution_count": 72,
   "metadata": {},
   "outputs": [],
   "source": []
  },
  {
   "cell_type": "code",
   "execution_count": null,
   "metadata": {},
   "outputs": [],
   "source": []
  },
  {
   "cell_type": "code",
   "execution_count": null,
   "metadata": {},
   "outputs": [],
   "source": []
  }
 ],
 "metadata": {
  "kernelspec": {
   "display_name": "Python 3",
   "language": "python",
   "name": "python3"
  },
  "language_info": {
   "codemirror_mode": {
    "name": "ipython",
    "version": 3
   },
   "file_extension": ".py",
   "mimetype": "text/x-python",
   "name": "python",
   "nbconvert_exporter": "python",
   "pygments_lexer": "ipython3",
   "version": "3.7.2"
  }
 },
 "nbformat": 4,
 "nbformat_minor": 5
}
