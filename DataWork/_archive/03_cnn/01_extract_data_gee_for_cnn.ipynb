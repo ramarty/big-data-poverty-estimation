{
 "cells": [
  {
   "cell_type": "markdown",
   "metadata": {},
   "source": [
    "# Prepare CNN Data"
   ]
  },
  {
   "cell_type": "code",
   "execution_count": 1,
   "metadata": {},
   "outputs": [],
   "source": [
    "# TODOS\n",
    "# 1. If sepate numpys, can loose a dimension -- as wont be all stacked"
   ]
  },
  {
   "cell_type": "code",
   "execution_count": null,
   "metadata": {},
   "outputs": [],
   "source": []
  },
  {
   "cell_type": "markdown",
   "metadata": {},
   "source": [
    "## Setup"
   ]
  },
  {
   "cell_type": "code",
   "execution_count": 2,
   "metadata": {},
   "outputs": [
    {
     "data": {
      "text/html": [
       "<p>To authorize access needed by Earth Engine, open the following\n",
       "        URL in a web browser and follow the instructions:</p>\n",
       "        <p><a href=https://accounts.google.com/o/oauth2/auth?client_id=517222506229-vsmmajv00ul0bs7p89v5m89qs8eb9359.apps.googleusercontent.com&scope=https%3A%2F%2Fwww.googleapis.com%2Fauth%2Fearthengine+https%3A%2F%2Fwww.googleapis.com%2Fauth%2Fdevstorage.full_control&redirect_uri=urn%3Aietf%3Awg%3Aoauth%3A2.0%3Aoob&response_type=code&code_challenge=OIf0ljklzH0kGMPm7JBUmMegPXK95rnN3nfrJrkP8Wg&code_challenge_method=S256>https://accounts.google.com/o/oauth2/auth?client_id=517222506229-vsmmajv00ul0bs7p89v5m89qs8eb9359.apps.googleusercontent.com&scope=https%3A%2F%2Fwww.googleapis.com%2Fauth%2Fearthengine+https%3A%2F%2Fwww.googleapis.com%2Fauth%2Fdevstorage.full_control&redirect_uri=urn%3Aietf%3Awg%3Aoauth%3A2.0%3Aoob&response_type=code&code_challenge=OIf0ljklzH0kGMPm7JBUmMegPXK95rnN3nfrJrkP8Wg&code_challenge_method=S256</a></p>\n",
       "        <p>The authorization workflow will generate a code, which you\n",
       "        should paste in the box below</p>\n",
       "        "
      ],
      "text/plain": [
       "<IPython.core.display.HTML object>"
      ]
     },
     "metadata": {},
     "output_type": "display_data"
    },
    {
     "name": "stdin",
     "output_type": "stream",
     "text": [
      "Enter verification code:  4/1AY0e-g5KweS7gcRFFUEcXAyy7bkM0ytq6WBRxuyIQ89iMXMZ8As2GnVnOwY\n"
     ]
    },
    {
     "name": "stdout",
     "output_type": "stream",
     "text": [
      "\n",
      "Successfully saved authorization token.\n"
     ]
    }
   ],
   "source": [
    "import ee\n",
    "ee.Authenticate()\n",
    "ee.Initialize()"
   ]
  },
  {
   "cell_type": "code",
   "execution_count": 4,
   "metadata": {},
   "outputs": [],
   "source": [
    "import numpy as np\n",
    "import geetools\n",
    "from geetools import ui, cloud_mask\n",
    "import os, datetime\n",
    "import config as cf\n",
    "import pandas as pd\n",
    "import itertools\n",
    "\n",
    "cloud_mask_landsatSR = cloud_mask.landsatSR()\n",
    "cloud_mask_sentinel2 = cloud_mask.sentinel2()"
   ]
  },
  {
   "cell_type": "code",
   "execution_count": 5,
   "metadata": {},
   "outputs": [],
   "source": [
    "KERNEL_SIZE = 224\n",
    "SURVEY_NAME = 'DHS'"
   ]
  },
  {
   "cell_type": "markdown",
   "metadata": {},
   "source": [
    "## Functions"
   ]
  },
  {
   "cell_type": "code",
   "execution_count": 6,
   "metadata": {},
   "outputs": [],
   "source": [
    "def survey_to_fc(survey_df):\n",
    "    '''\n",
    "    Convert pandas dataframe of survey locations to a feature collection. \n",
    "    \n",
    "    Inputs:\n",
    "        survey_df: pandas dataframe of survey locations. Function assumes \n",
    "                   the dataframe contains (1) latitude, (2) longitude and\n",
    "                   (3) uid variables. Assumes coordinates in WGS84.\n",
    "    Returns:\n",
    "        (feature collection)\n",
    "    '''\n",
    "    \n",
    "    survey_fc_list = []\n",
    "    \n",
    "    n_rows = survey_df.shape[0]\n",
    "    for i in range(0, n_rows):\n",
    "        survey_df_i = survey_df.iloc[[i]]\n",
    "\n",
    "        f_i = ee.Feature(ee.Geometry.Point([survey_df_i['longitude'].iloc[0], \n",
    "                                            survey_df_i['latitude'].iloc[0]]), \n",
    "                         {'uid': survey_df_i['uid'].iloc[0]})\n",
    "\n",
    "        survey_fc_list.append(f_i)\n",
    "        \n",
    "    survey_fc = ee.FeatureCollection(survey_fc_list)\n",
    "    \n",
    "    return survey_fc\n",
    "\n",
    "def normalized_diff(values1, values2):\n",
    "    '''\n",
    "    Normalized Difference Value\n",
    "\n",
    "    Input:  values1, values2 (must be same dimensions)\n",
    "\n",
    "    Output: np array\n",
    "    '''\n",
    "\n",
    "    return (values2 - values1)/(values2 + values1)\n",
    "\n",
    "def ee_to_np_daytime(f, survey_df, n_rows, out_path, b_b, g_b, r_b, nir_b, single_bs):\n",
    "    '''\n",
    "    Transforms feature collection from neighborhood array to np array for landsat 8\n",
    "\n",
    "    Input:  \n",
    "      f (features)\n",
    "      n_rows (number of features)\n",
    "\n",
    "    Output: np array\n",
    "    '''\n",
    "    \n",
    "    for i in range(0, n_rows):\n",
    "        survey_uid = survey_df['uid'].iloc[i]\n",
    "        \n",
    "        f_i = f[i]['properties']\n",
    "        \n",
    "        brgb_l = [np.array(f_i[b_b]), np.array(f_i[g_b]), np.array(f_i[r_b])]\n",
    "        brgb_np = np.stack(brgb_l, axis=-1)\n",
    "        np.save(os.path.join(out_path, 'BRGB' + \"_\" + survey_uid + '.npy'), brgb_np)\n",
    "        \n",
    "        bndvi_l = normalized_diff(np.array(f_i[nir_b]), np.array(f_i[r_b]))\n",
    "        bndvi_np = np.expand_dims(bndvi_l, axis=2)\n",
    "        #bndvi_np = np.repeat(bndvi_np, 3, -1)\n",
    "        np.save(os.path.join(out_path, 'BNDVI' + \"_\" + survey_uid + '.npy'), bndvi_np)\n",
    "                        \n",
    "        SINGLE_BANDS_ALL = single_bs.copy()\n",
    "        SINGLE_BANDS_ALL.append(nir_b)\n",
    "        for band_i in SINGLE_BANDS_ALL:\n",
    "            \n",
    "            b_l = np.array(f_i[band_i])\n",
    "            b_np = np.expand_dims(b_l, axis=2)\n",
    "            #b_np = np.repeat(b_np, 3, -1)\n",
    "            np.save(os.path.join(out_path, band_i + \"_\" + survey_uid + '.npy'), b_np)\n",
    "\n",
    "    return \"Done\"\n",
    "\n",
    "def prep_cnn_np(survey_df,\n",
    "                satellite,\n",
    "                kernel_size,\n",
    "                year,\n",
    "                out_path):\n",
    "    '''\n",
    "    Creates numpy arrays for CNN\n",
    "\n",
    "    Input:  df - pandas dataframe\n",
    "            lat_name - name of latitude variable in df\n",
    "            lon_name - name of longitude variable in df\n",
    "    Output: geopandas dataframe\n",
    "    '''\n",
    "\n",
    "    survey_fc = survey_to_fc(survey_df)\n",
    "    \n",
    "    # Grab satellite and reduce it\n",
    "        \n",
    "    # l7 ----------------------------------------------------------------\n",
    "    if satellite == \"l7\":\n",
    "        \n",
    "        # Bands\n",
    "        b_b = 'B1'\n",
    "        g_b = 'B2' \n",
    "        r_b = 'B3' \n",
    "        nir_b = 'B4'\n",
    "        single_bs = ['B5', 'B6', 'B7']\n",
    "        \n",
    "        BANDS = single_bs.copy()\n",
    "        BANDS.append(b_b)\n",
    "        BANDS.append(g_b)\n",
    "        BANDS.append(r_b)\n",
    "        BANDS.append(nir_b)\n",
    "\n",
    "        # Scale\n",
    "        SCALE = 30\n",
    "        \n",
    "        # Year\n",
    "        year_use = year\n",
    "        \n",
    "        year_plus = year_use + 1\n",
    "        year_minus = year_use - 1\n",
    "        \n",
    "        year_minus_str = str(year_minus) + '-01-01'\n",
    "        year_plus_str = str(year_plus) + '-12-31'\n",
    "        \n",
    "        image = ee.ImageCollection('LANDSAT/LC07/C01/T1_SR')\\\n",
    "            .filterDate(year_minus_str, year_plus_str)\\\n",
    "            .map(cloud_mask_landsatSR)\\\n",
    "            .median()\\\n",
    "            .multiply(0.0001)\n",
    "    \n",
    "    # l8 ----------------------------------------------------------------\n",
    "    if satellite == \"l8\":\n",
    "                \n",
    "        # Bands\n",
    "        b_b = 'B2'\n",
    "        g_b = 'B3' \n",
    "        r_b = 'B4' \n",
    "        nir_b = 'B5'\n",
    "        single_bs = ['B1', 'B6', 'B7', 'B10', 'B11']\n",
    "        \n",
    "        BANDS = single_bs.copy()\n",
    "        BANDS.append(b_b)\n",
    "        BANDS.append(g_b)\n",
    "        BANDS.append(r_b)\n",
    "        BANDS.append(nir_b)\n",
    "                \n",
    "        # Scale\n",
    "        SCALE = 30\n",
    "        \n",
    "        # Year\n",
    "        # landsat 8 starts in April 2013; if year is less than\n",
    "        # 2014, use 2014 as year (to ensure have year before and after)\n",
    "        if year < 2014:\n",
    "            year_use = 2014\n",
    "        else:\n",
    "            year_use = year\n",
    "                    \n",
    "        year_plus = year_use + 1\n",
    "        year_minus = year_use - 1\n",
    "        \n",
    "        year_minus_str = str(year_minus) + '-01-01'\n",
    "        year_plus_str = str(year_plus) + '-12-31'\n",
    "        \n",
    "        image = ee.ImageCollection('LANDSAT/LC08/C01/T1_SR')\\\n",
    "            .filterDate(year_minus_str, year_plus_str)\\\n",
    "            .map(cloud_mask_landsatSR)\\\n",
    "            .median()\\\n",
    "            .multiply(0.0001)\n",
    "        \n",
    "    # s2 ----------------------------------------------------------------\n",
    "    if satellite == \"s2\":\n",
    "        \n",
    "        # Bands\n",
    "        b_b = 'B2'\n",
    "        g_b = 'B3' \n",
    "        r_b = 'B4' \n",
    "        nir_b = 'B8'\n",
    "        single_bs = ['B5', 'B6', 'B7', 'B8A', 'B9', 'B11', 'B12']\n",
    "     \n",
    "        BANDS = single_bs.copy()\n",
    "        BANDS.append(b_b)\n",
    "        BANDS.append(g_b)\n",
    "        BANDS.append(r_b)\n",
    "        BANDS.append(nir_b)\n",
    "        \n",
    "        # Scale\n",
    "        SCALE = 10\n",
    "        \n",
    "        # Year\n",
    "        # sentinel starts in March 2017; juse use 2018\n",
    "        year_use = 2018\n",
    "                    \n",
    "        year_plus = year_use + 1\n",
    "        year_minus = year_use - 1\n",
    "        \n",
    "        year_minus_str = str(year_minus) + '-01-01'\n",
    "        year_plus_str = str(year_plus) + '-12-31'\n",
    "        \n",
    "        image = ee.ImageCollection('COPERNICUS/S2_SR')\\\n",
    "            .filterDate(year_minus_str, year_plus_str)\\\n",
    "            .map(cloud_mask_sentinel2)\\\n",
    "            .median()\\\n",
    "            .multiply(0.0001)\n",
    "\n",
    "    # Select Bands  \n",
    "    image = image.select(BANDS)\n",
    "        \n",
    "    # Image to neighborhood array\n",
    "    list = ee.List.repeat(1, KERNEL_SIZE)\n",
    "    lists = ee.List.repeat(list, KERNEL_SIZE)\n",
    "    kernel = ee.Kernel.fixed(KERNEL_SIZE, KERNEL_SIZE, lists)\n",
    "\n",
    "    arrays = image.neighborhoodToArray(kernel)\n",
    "    \n",
    "    # Extract values from GEE    \n",
    "    values_ee = arrays.sample(\n",
    "      region = survey_fc, \n",
    "      scale = SCALE,\n",
    "      tileScale = 8\n",
    "    )\n",
    "    \n",
    "    dict_ee = values_ee.getInfo()\n",
    "    \n",
    "    # Convert values to numpy array\n",
    "    n_rows = survey_df.shape[0]\n",
    "    f = dict_ee['features']\n",
    "    \n",
    "    if satellite in ['l7', 'l8', 's2']:\n",
    "        out = ee_to_np_daytime(f, survey_df, n_rows, out_path, b_b, g_b, r_b, nir_b, single_bs)\n",
    "\n",
    "    return \"Done\"\n",
    "\n",
    "def chunk_ids(total_length, chunk_size):\n",
    "    n_numbers = np.ceil(total_length / chunk_size)\n",
    "    n_numbers = int(n_numbers)\n",
    "    \n",
    "    chunk_ids = list(range(0,n_numbers)) * chunk_size\n",
    "    chunk_ids.sort()\n",
    "    chunk_ids = chunk_ids[:total_length]\n",
    "    \n",
    "    return chunk_ids"
   ]
  },
  {
   "cell_type": "code",
   "execution_count": 7,
   "metadata": {},
   "outputs": [],
   "source": [
    "## Implement"
   ]
  },
  {
   "cell_type": "code",
   "execution_count": 8,
   "metadata": {},
   "outputs": [],
   "source": [
    "survey_df = pd.read_csv(os.path.join(cf.SECURE_DATA_DIRECTORY, 'Data', SURVEY_NAME, 'FinalData - PII', 'GPS_uid_crosswalk.csv'))\n",
    "survey_df = survey_df[survey_df.most_recent_survey == True]\n",
    "survey_df = survey_df[survey_df.country_code == 'PK']\n",
    "#survey_df = survey_df.head(50)\n",
    "CHUNK_SIZE = 10"
   ]
  },
  {
   "cell_type": "code",
   "execution_count": 9,
   "metadata": {},
   "outputs": [],
   "source": [
    "survey_df['chunk_id'] = chunk_ids(survey_df.shape[0], CHUNK_SIZE)"
   ]
  },
  {
   "cell_type": "code",
   "execution_count": 10,
   "metadata": {},
   "outputs": [
    {
     "name": "stdout",
     "output_type": "stream",
     "text": [
      "0\n",
      "1\n",
      "2\n",
      "3\n",
      "4\n",
      "5\n",
      "6\n",
      "7\n",
      "8\n",
      "9\n",
      "10\n",
      "11\n",
      "12\n",
      "13\n",
      "14\n",
      "15\n",
      "16\n",
      "17\n",
      "18\n",
      "19\n",
      "20\n",
      "21\n",
      "22\n",
      "23\n",
      "24\n",
      "25\n",
      "26\n",
      "27\n",
      "28\n",
      "29\n",
      "30\n",
      "31\n",
      "32\n",
      "33\n",
      "34\n",
      "35\n",
      "36\n",
      "37\n",
      "38\n",
      "39\n",
      "40\n",
      "41\n",
      "42\n",
      "43\n",
      "44\n",
      "45\n",
      "46\n"
     ]
    },
    {
     "name": "stderr",
     "output_type": "stream",
     "text": [
      "/Users/robmarty/anaconda3/lib/python3.7/site-packages/ipykernel_launcher.py:38: RuntimeWarning: invalid value encountered in true_divide\n"
     ]
    },
    {
     "name": "stdout",
     "output_type": "stream",
     "text": [
      "47\n",
      "48\n",
      "49\n",
      "50\n",
      "51\n",
      "52\n",
      "53\n",
      "54\n",
      "55\n"
     ]
    }
   ],
   "source": [
    "for year_i in list(np.unique(survey_df.year)):\n",
    "    \n",
    "    survey_df_yeari = survey_df[survey_df['year'] == year_i]\n",
    "    \n",
    "    for chunk_i in list(np.unique(survey_df_yeari.chunk_id)):\n",
    "\n",
    "        print(chunk_i)\n",
    "\n",
    "        survey_df_i = survey_df_yeari[survey_df_yeari['chunk_id'] == chunk_i]\n",
    "\n",
    "        l8_result_i = prep_cnn_np(survey_df_i,\n",
    "                                  satellite = 'l8',\n",
    "                                  kernel_size = KERNEL_SIZE,\n",
    "                                  year = year_i,\n",
    "                                  out_path = os.path.join(cf.GOOGLEDRIVE_DIRECTORY, \n",
    "                                                          'Data', \n",
    "                                                          SURVEY_NAME, \n",
    "                                                          'FinalData',\n",
    "                                                          'Individual Datasets',\n",
    "                                                          'cnn_l8',\n",
    "                                                          'npy'))\n"
   ]
  },
  {
   "cell_type": "code",
   "execution_count": null,
   "metadata": {},
   "outputs": [],
   "source": []
  },
  {
   "cell_type": "code",
   "execution_count": null,
   "metadata": {},
   "outputs": [],
   "source": []
  },
  {
   "cell_type": "code",
   "execution_count": null,
   "metadata": {},
   "outputs": [],
   "source": []
  },
  {
   "cell_type": "code",
   "execution_count": null,
   "metadata": {},
   "outputs": [],
   "source": []
  },
  {
   "cell_type": "code",
   "execution_count": null,
   "metadata": {},
   "outputs": [],
   "source": []
  },
  {
   "cell_type": "code",
   "execution_count": null,
   "metadata": {},
   "outputs": [],
   "source": []
  },
  {
   "cell_type": "code",
   "execution_count": null,
   "metadata": {},
   "outputs": [],
   "source": []
  },
  {
   "cell_type": "code",
   "execution_count": null,
   "metadata": {},
   "outputs": [],
   "source": []
  },
  {
   "cell_type": "code",
   "execution_count": null,
   "metadata": {},
   "outputs": [],
   "source": []
  },
  {
   "cell_type": "code",
   "execution_count": null,
   "metadata": {},
   "outputs": [],
   "source": [
    "\n",
    "\n"
   ]
  },
  {
   "cell_type": "code",
   "execution_count": null,
   "metadata": {},
   "outputs": [],
   "source": []
  },
  {
   "cell_type": "code",
   "execution_count": null,
   "metadata": {},
   "outputs": [],
   "source": []
  },
  {
   "cell_type": "code",
   "execution_count": null,
   "metadata": {},
   "outputs": [],
   "source": []
  },
  {
   "cell_type": "code",
   "execution_count": null,
   "metadata": {},
   "outputs": [],
   "source": []
  },
  {
   "cell_type": "code",
   "execution_count": null,
   "metadata": {},
   "outputs": [],
   "source": []
  },
  {
   "cell_type": "code",
   "execution_count": null,
   "metadata": {},
   "outputs": [],
   "source": []
  },
  {
   "cell_type": "code",
   "execution_count": null,
   "metadata": {},
   "outputs": [],
   "source": []
  },
  {
   "cell_type": "code",
   "execution_count": null,
   "metadata": {},
   "outputs": [],
   "source": []
  },
  {
   "cell_type": "code",
   "execution_count": null,
   "metadata": {},
   "outputs": [],
   "source": []
  },
  {
   "cell_type": "code",
   "execution_count": null,
   "metadata": {},
   "outputs": [],
   "source": []
  },
  {
   "cell_type": "code",
   "execution_count": null,
   "metadata": {},
   "outputs": [],
   "source": []
  }
 ],
 "metadata": {
  "kernelspec": {
   "display_name": "Python 3",
   "language": "python",
   "name": "python3"
  },
  "language_info": {
   "codemirror_mode": {
    "name": "ipython",
    "version": 3
   },
   "file_extension": ".py",
   "mimetype": "text/x-python",
   "name": "python",
   "nbconvert_exporter": "python",
   "pygments_lexer": "ipython3",
   "version": "3.7.2"
  }
 },
 "nbformat": 4,
 "nbformat_minor": 2
}
