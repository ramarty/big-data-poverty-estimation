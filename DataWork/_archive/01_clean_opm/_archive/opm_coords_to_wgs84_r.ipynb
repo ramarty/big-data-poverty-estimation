{
 "cells": [
  {
   "cell_type": "markdown",
   "id": "chief-printer",
   "metadata": {},
   "source": [
    "# OPM Coords to WGS84\n",
    "\n",
    "OPM coordinates not originally in WGS84; convert and save file with OPM UID and lat/lon."
   ]
  },
  {
   "cell_type": "markdown",
   "id": "owned-might",
   "metadata": {},
   "source": [
    "## Setup"
   ]
  },
  {
   "cell_type": "code",
   "execution_count": 5,
   "id": "tough-sixth",
   "metadata": {},
   "outputs": [
    {
     "name": "stderr",
     "output_type": "stream",
     "text": [
      "also installing the dependencies ‘maptools’, ‘XML’, ‘rgdal’\n",
      "\n",
      "\n",
      "Warning message in install.packages(\"rgeos\", dep = T):\n",
      "“installation of package ‘rgdal’ had non-zero exit status”\n",
      "Warning message in install.packages(\"rgeos\", dep = T):\n",
      "“installation of package ‘rgeos’ had non-zero exit status”\n",
      "Updating HTML index of packages in '.Library'\n",
      "\n",
      "Making 'packages.html' ...\n",
      " done\n",
      "\n"
     ]
    }
   ],
   "source": [
    "# install.packages(\"rgeos\", dep = T)"
   ]
  },
  {
   "cell_type": "code",
   "execution_count": 6,
   "id": "matched-agenda",
   "metadata": {},
   "outputs": [
    {
     "ename": "ERROR",
     "evalue": "Error in library(rgeos): there is no package called ‘rgeos’\n",
     "output_type": "error",
     "traceback": [
      "Error in library(rgeos): there is no package called ‘rgeos’\nTraceback:\n",
      "1. library(rgeos)"
     ]
    }
   ],
   "source": [
    "# Load packages\n",
    "library(tidyverse)\n",
    "library(haven)\n",
    "library(rgeos)\n",
    "\n",
    "# Set up sagemaker\n",
    "library(reticulate)\n",
    "sagemaker <- import('sagemaker')\n",
    "session <- sagemaker$Session()\n",
    "\n",
    "# s3 bucket name\n",
    "bucket = \"worldbank-pakistan-data\"\n",
    "local_dir = '/home/ec2-user/SageMaker/'"
   ]
  },
  {
   "cell_type": "markdown",
   "id": "standing-sixth",
   "metadata": {},
   "source": [
    "## Load Data"
   ]
  },
  {
   "cell_type": "code",
   "execution_count": null,
   "id": "turkish-contributor",
   "metadata": {},
   "outputs": [],
   "source": [
    "session$download_data(path = local_dir,\n",
    "              bucket = bucket,\n",
    "              key_prefix = 'OPM/RawData - PII/GPS_uid_crosswalk.dta')\n",
    "\n",
    "session$download_data(path = local_dir,\n",
    "              bucket = bucket,\n",
    "              key_prefix = 'GADM/RawData/gadm36_PAK_0_sp.rds')"
   ]
  },
  {
   "cell_type": "code",
   "execution_count": null,
   "id": "asian-arena",
   "metadata": {},
   "outputs": [],
   "source": [
    "bisp_coords <- read_dta(file.path(local_dir, \"GPS_uid_crosswalk.dta\"))\n",
    "pak_adm0 <- readRDS(file.path(local_dir, \"gadm36_PAK_0_sp.rds\"))"
   ]
  },
  {
   "cell_type": "markdown",
   "id": "civilian-windows",
   "metadata": {},
   "source": [
    "## Prep Data"
   ]
  },
  {
   "cell_type": "code",
   "execution_count": 2,
   "id": "optimum-rubber",
   "metadata": {},
   "outputs": [
    {
     "ename": "ERROR",
     "evalue": "Error in filter(., !is.na(GPSN)): object 'bisp_coords' not found\n",
     "output_type": "error",
     "traceback": [
      "Error in filter(., !is.na(GPSN)): object 'bisp_coords' not found\nTraceback:\n",
      "1. bisp_coords %>% filter(!is.na(GPSN)) %>% mutate(latitude = get_lat_lon(GPSN), \n .     longitude = get_lat_lon(GPSE), uid = uid %>% as.numeric()) %>% \n .     dplyr::select(uid, latitude, longitude) %>% filter(latitude <= \n .     100, longitude <= 100)",
      "2. filter(., latitude <= 100, longitude <= 100)",
      "3. dplyr::select(., uid, latitude, longitude)",
      "4. mutate(., latitude = get_lat_lon(GPSN), longitude = get_lat_lon(GPSE), \n .     uid = uid %>% as.numeric())",
      "5. filter(., !is.na(GPSN))"
     ]
    }
   ],
   "source": [
    "bisp_coords <- bisp_coords %>%\n",
    "  filter(!is.na(GPSN)) %>%\n",
    "  \n",
    "  mutate(latitude = get_lat_lon(GPSN),\n",
    "         longitude = get_lat_lon(GPSE),\n",
    "         uid = uid %>% as.numeric()) %>%\n",
    "  \n",
    "  dplyr::select(uid, latitude, longitude) %>%\n",
    "  \n",
    "  filter(latitude <= 100,\n",
    "         longitude <= 100)\n",
    "\n",
    "## Restrict to Coordinates in Pakistan\n",
    "bisp_coords_sdf <- bisp_coords\n",
    "coordinates(bisp_coords_sdf) <- ~longitude+latitude\n",
    "crs(bisp_coords_sdf) <- CRS(\"+proj=longlat +datum=WGS84 +no_defs +ellps=WGS84 +towgs84=0,0,0\")\n",
    "\n",
    "dist_to_pak <- gDistance(bisp_coords_sdf, pak_adm0, byid=T) %>% as.vector()\n",
    "\n",
    "bisp_coords <- bisp_coords[dist_to_pak == 0,]"
   ]
  },
  {
   "cell_type": "markdown",
   "id": "oriental-beauty",
   "metadata": {},
   "source": [
    "## Export"
   ]
  },
  {
   "cell_type": "code",
   "execution_count": null,
   "id": "confident-belarus",
   "metadata": {},
   "outputs": [],
   "source": [
    "write.csv(bisp_coords, file.path(local_dir, \"GPS_uid_crosswalk.csv\"), row.names = F)\n",
    "\n",
    "session$upload_data(path       = file.path(local_dir, \"GPS_uid_crosswalk.csv\"), \n",
    "                    bucket     = bucket, \n",
    "                    key_prefix = file.path(\"OPM\", \"FinalData - PII\"))"
   ]
  }
 ],
 "metadata": {
  "kernelspec": {
   "display_name": "R",
   "language": "R",
   "name": "ir"
  },
  "language_info": {
   "codemirror_mode": "r",
   "file_extension": ".r",
   "mimetype": "text/x-r-source",
   "name": "R",
   "pygments_lexer": "r",
   "version": "4.0.3"
  }
 },
 "nbformat": 4,
 "nbformat_minor": 5
}
