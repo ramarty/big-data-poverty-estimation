{
 "cells": [
  {
   "cell_type": "markdown",
   "metadata": {},
   "source": [
    "# Merge OPM Survey Data with CNN Features"
   ]
  },
  {
   "cell_type": "markdown",
   "metadata": {},
   "source": [
    "## Setup"
   ]
  },
  {
   "cell_type": "code",
   "execution_count": 9,
   "metadata": {},
   "outputs": [],
   "source": [
    "# Load packages\n",
    "library(tidyverse)\n",
    "\n",
    "# Set up sagemaker\n",
    "library(reticulate)\n",
    "sagemaker <- import('sagemaker')\n",
    "session <- sagemaker$Session()\n",
    "\n",
    "# s3 bucket name\n",
    "bucket = \"worldbank-pakistan-data\"\n",
    "local_dir = '/home/ec2-user/SageMaker/'"
   ]
  },
  {
   "cell_type": "markdown",
   "metadata": {},
   "source": [
    "## Load Data"
   ]
  },
  {
   "cell_type": "code",
   "execution_count": 10,
   "metadata": {},
   "outputs": [],
   "source": [
    "session$download_data(path = local_dir,\n",
    "              bucket = bucket,\n",
    "              key_prefix = 'OPM/FinalData/Individual Datasets/bisp_socioeconomic.Rds')"
   ]
  },
  {
   "cell_type": "code",
   "execution_count": 11,
   "metadata": {},
   "outputs": [],
   "source": [
    "opm_df <- readRDS(file.path(local_dir, 'bisp_socioeconomic.Rds'))"
   ]
  },
  {
   "cell_type": "code",
   "execution_count": 12,
   "metadata": {},
   "outputs": [],
   "source": [
    "# identify the param names for each of the five folders and store in a vector\n",
    "param_names = c(\"Nbands3_nNtlBins3_minNTLbinCount16861\",\"Band1_nNtlBins3_minNTLbinCount16814\",\n",
    "               \"Band5_nNtlBins3_minNTLbinCount1861\",\"Band6_nNtlBins3_minNTLbinCount1861\",\n",
    "               \"Band7_nNtlBins3_minNTLbinCount1861\")\n",
    "\n",
    "# iterate through each of the folders and read in the five bicp_cnn_features_all files associated with \n",
    "# each folder one at a time. Store each dataframe in a list\n",
    "cnn_df = list()\n",
    "for (i in 1:length(param_names))\n",
    "{\n",
    "    cnn_df[[i]] <- suppressWarnings(read_csv(session$read_s3_file(bucket,\n",
    "                     file.path('OPM','FinalData','Individual Datasets',\n",
    "                               paste0('bisp_cnn_features_all_',param_names[i],'_2014.csv')))))\n",
    "}"
   ]
  },
  {
   "cell_type": "code",
   "execution_count": 13,
   "metadata": {},
   "outputs": [],
   "source": [
    "# remove the row names column (X1) from each of the datasets and store each dataset in a seperate data frame\n",
    "df_RGB = cnn_df[[1]] %>% select(-X1)\n",
    "df_Band1 = cnn_df[[2]] %>% select(-X1)\n",
    "df_Band5 = cnn_df[[3]] %>% select(-X1)\n",
    "df_Band6 = cnn_df[[4]] %>% select(-X1)\n",
    "df_Band7 = cnn_df[[5]] %>% select(-X1)"
   ]
  },
  {
   "cell_type": "code",
   "execution_count": 14,
   "metadata": {},
   "outputs": [],
   "source": [
    "# create a list of suffixes to append to the column names in order to differentiate between features 0 through \n",
    "# 99 for all five models\n",
    "suffix = c(\"_Nbands3\",\"_Band1\",\"_Band5\",\"_Band6\",\"_Band7\")\n",
    "\n",
    "# merge each dataframe one by one starting from the RGB features data and append suffixes when needed to \n",
    "# eliminate column name confusion\n",
    "cnn_df <- df_RGB %>% \n",
    "merge(df_Band1, by = \"uid\", suffix = suffix[1:2]) %>% \n",
    "merge(df_Band5, by = \"uid\") %>% \n",
    "merge(df_Band6, by = \"uid\", suffix = suffix[3:4]) %>%\n",
    "merge(df_Band7, by = \"uid\")\n",
    "\n",
    "# fix last 100 column names to attach its proper suffix\n",
    "colnames(cnn_df)[402:501] <- paste0(colnames(cnn_df)[402:501], suffix[5])"
   ]
  },
  {
   "cell_type": "markdown",
   "metadata": {},
   "source": [
    "## Merge"
   ]
  },
  {
   "cell_type": "code",
   "execution_count": 15,
   "metadata": {},
   "outputs": [],
   "source": [
    "opm_df$uid <- opm_df$uid %>% as.numeric()\n",
    "cnn_df$uid <- cnn_df$uid %>% as.numeric()\n",
    "\n",
    "opm_df <- merge(opm_df, cnn_df, by = c(\"uid\"), all.x=T, all.y=F)\n",
    "\n",
    "opm_df <- opm_df %>% filter(!is.na(cnn_feat_1_Nbands3), year %in% 2014)"
   ]
  },
  {
   "cell_type": "markdown",
   "metadata": {},
   "source": [
    "## Export"
   ]
  },
  {
   "cell_type": "code",
   "execution_count": 16,
   "metadata": {},
   "outputs": [
    {
     "data": {
      "text/html": [
       "'s3://worldbank-pakistan-data/OPM/FinalData/Merged Datasets/cnn_merge.csv'"
      ],
      "text/latex": [
       "'s3://worldbank-pakistan-data/OPM/FinalData/Merged Datasets/cnn\\_merge.csv'"
      ],
      "text/markdown": [
       "'s3://worldbank-pakistan-data/OPM/FinalData/Merged Datasets/cnn_merge.csv'"
      ],
      "text/plain": [
       "[1] \"s3://worldbank-pakistan-data/OPM/FinalData/Merged Datasets/cnn_merge.csv\""
      ]
     },
     "metadata": {},
     "output_type": "display_data"
    }
   ],
   "source": [
    "write.csv(opm_df, file.path(local_dir, \"cnn_merge.csv\"), row.names = F)\n",
    "\n",
    "session$upload_data(path       = file.path(local_dir, \"cnn_merge.csv\"), \n",
    "                    bucket     = bucket, \n",
    "                    key_prefix = file.path(\"OPM\", \"FinalData\", \"Merged Datasets\"))"
   ]
  }
 ],
 "metadata": {
  "kernelspec": {
   "display_name": "Python 3",
   "language": "python",
   "name": "python3"
  },
  "language_info": {
   "codemirror_mode": {
    "name": "ipython",
    "version": 3
   },
   "file_extension": ".py",
   "mimetype": "text/x-python",
   "name": "python",
   "nbconvert_exporter": "python",
   "pygments_lexer": "ipython3",
   "version": "3.7.2"
  }
 },
 "nbformat": 4,
 "nbformat_minor": 5
}
