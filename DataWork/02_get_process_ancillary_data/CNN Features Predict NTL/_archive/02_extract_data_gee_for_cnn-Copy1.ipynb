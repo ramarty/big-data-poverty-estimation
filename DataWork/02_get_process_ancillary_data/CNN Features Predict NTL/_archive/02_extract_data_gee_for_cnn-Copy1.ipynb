{
 "cells": [
  {
   "cell_type": "markdown",
   "metadata": {
    "id": "X0MV-G1dXVY2"
   },
   "source": [
    "# Prepare CNN Data"
   ]
  },
  {
   "cell_type": "markdown",
   "metadata": {
    "id": "iuOZpPbiXVY5"
   },
   "source": [
    "## Setup"
   ]
  },
  {
   "cell_type": "code",
   "execution_count": 1,
   "metadata": {},
   "outputs": [
    {
     "data": {
      "text/html": [
       "<p>To authorize access needed by Earth Engine, open the following\n",
       "        URL in a web browser and follow the instructions:</p>\n",
       "        <p><a href=https://accounts.google.com/o/oauth2/auth?client_id=517222506229-vsmmajv00ul0bs7p89v5m89qs8eb9359.apps.googleusercontent.com&scope=https%3A%2F%2Fwww.googleapis.com%2Fauth%2Fearthengine+https%3A%2F%2Fwww.googleapis.com%2Fauth%2Fdevstorage.full_control&redirect_uri=urn%3Aietf%3Awg%3Aoauth%3A2.0%3Aoob&response_type=code&code_challenge=8POP5GslJE2dOQv2MUQ6t_I6zDlEH9NDw1x33LO3p3E&code_challenge_method=S256>https://accounts.google.com/o/oauth2/auth?client_id=517222506229-vsmmajv00ul0bs7p89v5m89qs8eb9359.apps.googleusercontent.com&scope=https%3A%2F%2Fwww.googleapis.com%2Fauth%2Fearthengine+https%3A%2F%2Fwww.googleapis.com%2Fauth%2Fdevstorage.full_control&redirect_uri=urn%3Aietf%3Awg%3Aoauth%3A2.0%3Aoob&response_type=code&code_challenge=8POP5GslJE2dOQv2MUQ6t_I6zDlEH9NDw1x33LO3p3E&code_challenge_method=S256</a></p>\n",
       "        <p>The authorization workflow will generate a code, which you\n",
       "        should paste in the box below</p>\n",
       "        "
      ],
      "text/plain": [
       "<IPython.core.display.HTML object>"
      ]
     },
     "metadata": {},
     "output_type": "display_data"
    },
    {
     "name": "stdin",
     "output_type": "stream",
     "text": [
      "Enter verification code:  4/1AX4XfWhPwkTLgKUyG4mvwE1QHki7rP56dMZVNU_ueyMY__2edEgfyHDu7lE\n"
     ]
    },
    {
     "name": "stdout",
     "output_type": "stream",
     "text": [
      "\n",
      "Successfully saved authorization token.\n"
     ]
    }
   ],
   "source": [
    "# USE ACCOUNT: robmarty3@gmail.com\n",
    "import ee\n",
    "ee.Authenticate()\n",
    "ee.Initialize()"
   ]
  },
  {
   "cell_type": "code",
   "execution_count": 2,
   "metadata": {},
   "outputs": [
    {
     "name": "stderr",
     "output_type": "stream",
     "text": [
      "/Users/robmarty/anaconda3/lib/python3.7/site-packages/dask/config.py:168: YAMLLoadWarning: calling yaml.load() without Loader=... is deprecated, as the default Loader is unsafe. Please read https://msg.pyyaml.org/load for full details.\n",
      "  data = yaml.load(f.read()) or {}\n",
      "/Users/robmarty/anaconda3/lib/python3.7/site-packages/xarray/core/merge.py:17: FutureWarning: The Panel class is removed from pandas. Accessing it from the top-level namespace will also be removed in the next version\n",
      "  PANDAS_TYPES = (pd.Series, pd.DataFrame, pd.Panel)\n",
      "/Users/robmarty/anaconda3/lib/python3.7/site-packages/distributed/config.py:20: YAMLLoadWarning: calling yaml.load() without Loader=... is deprecated, as the default Loader is unsafe. Please read https://msg.pyyaml.org/load for full details.\n",
      "  defaults = yaml.load(f)\n"
     ]
    }
   ],
   "source": [
    "import numpy as np\n",
    "import os, datetime\n",
    "import pandas as pd\n",
    "import itertools\n",
    "import tensorflow as tf\n",
    "import config as cf\n",
    "import ee_utils as utils\n",
    "import eeconvert\n",
    "import time\n",
    "\n",
    "#import geetools\n",
    "#from geetools import ui, cloud_mask\n",
    "#cloud_mask_landsatSR = cloud_mask.landsatSR()\n",
    "#cloud_mask_sentinel2 = cloud_mask.sentinel2()"
   ]
  },
  {
   "cell_type": "markdown",
   "metadata": {},
   "source": [
    "## Parameters"
   ]
  },
  {
   "cell_type": "code",
   "execution_count": 3,
   "metadata": {
    "id": "TqWX3QM4mVPW"
   },
   "outputs": [
    {
     "name": "stdout",
     "output_type": "stream",
     "text": [
      "224\n"
     ]
    }
   ],
   "source": [
    "#224\n",
    "SURVEY_NAME = 'DHS'\n",
    "SATELLITE = 's2'\n",
    "SKIP_IF_SCRAPED = True\n",
    "CHUNK_SIZE = 1 # Number of observtaions to scrape in GEE at any given time\n",
    "DROPBOX_DIR = cf.DROPBOX_DIRECTORY\n",
    "GOOGLEDRIVE_DIR = cf.GOOGLEDRIVE_DIRECTORY\n",
    "\n",
    "if SATELLITE == 's2':\n",
    "    KERNEL_SIZE = 224\n",
    "elif SATELLITE == 'l8':\n",
    "    KERNEL_SIZE = 167\n",
    "\n",
    "print(KERNEL_SIZE)"
   ]
  },
  {
   "cell_type": "code",
   "execution_count": 4,
   "metadata": {
    "colab": {
     "base_uri": "https://localhost:8080/"
    },
    "id": "MwPA7XTCYmjh",
    "outputId": "74e611ba-5c81-44ca-e2ce-c595399753a0"
   },
   "outputs": [],
   "source": [
    "# Directory to store tfrecords\n",
    "out_path = os.path.join(GOOGLEDRIVE_DIR, \n",
    "            'Data', \n",
    "            SURVEY_NAME, \n",
    "            'FinalData',\n",
    "            'Individual Datasets',\n",
    "            'cnn_' + SATELLITE,\n",
    "            'tfrecords')"
   ]
  },
  {
   "cell_type": "markdown",
   "metadata": {
    "colab": {
     "base_uri": "https://localhost:8080/"
    },
    "id": "phzXq49zXVY5",
    "outputId": "0b60e419-0e3f-44e2-e927-0895afb316cc"
   },
   "source": [
    "## Load Data"
   ]
  },
  {
   "cell_type": "code",
   "execution_count": 5,
   "metadata": {},
   "outputs": [
    {
     "name": "stdout",
     "output_type": "stream",
     "text": [
      "(63374, 8)\n",
      "1    21000\n",
      "2    13811\n",
      "3    12403\n",
      "4     8867\n",
      "0     7293\n",
      "Name: ntl_group, dtype: int64\n"
     ]
    }
   ],
   "source": [
    "# Relies on VIIRs Values\n",
    "survey_df = pd.read_csv(os.path.join(DROPBOX_DIR, 'Data', SURVEY_NAME, 'FinalData', 'Individual Datasets', 'data_for_cnn.csv'))\n",
    "print(survey_df.shape)\n",
    "print(survey_df.ntl_group.value_counts())"
   ]
  },
  {
   "cell_type": "code",
   "execution_count": 6,
   "metadata": {
    "colab": {
     "base_uri": "https://localhost:8080/"
    },
    "id": "hpXnbunXYZdP",
    "outputId": "9cf085c9-5a7c-4298-9600-36158f5d7f7c"
   },
   "outputs": [],
   "source": [
    "# Remove observations that had issues\n",
    "#survey_df = survey_df[survey_df['GID_2'] != \"IND.18.1_1\"]\n",
    "survey_df = survey_df[survey_df['uid'] != 'CO201000003682']\n",
    "survey_df = survey_df[survey_df['uid'] != 'CO201000003683']\n",
    "survey_df = survey_df[survey_df['uid'] != 'CO201000004885']\n",
    "survey_df = survey_df[survey_df['uid'] != 'IA201400180058']\n",
    "survey_df = survey_df[survey_df['uid'] != 'IA201400180040']\n",
    "survey_df = survey_df[survey_df['uid'] != 'IA201400300032']\n",
    "survey_df = survey_df[survey_df['uid'] != 'IA201400010147']\n",
    "survey_df = survey_df[survey_df['uid'] != 'NM201300000001']\n",
    "survey_df = survey_df[survey_df['uid'] != 'CO201000002924']\n",
    "survey_df = survey_df[survey_df['uid'] != 'CO201000002524']\n",
    "survey_df = survey_df[survey_df['uid'] != 'CO201000001170']\n",
    "survey_df = survey_df[survey_df['uid'] != 'CO201000003554']\n",
    "survey_df = survey_df[survey_df['uid'] != 'GA201200000310']\n",
    "survey_df = survey_df[survey_df['uid'] != 'IA201400180104'] # maybe OK?\n",
    "survey_df = survey_df[survey_df['uid'] != 'IA201400180012']\n",
    "survey_df = survey_df[survey_df['uid'] != 'IA201400180011']\n",
    "survey_df = survey_df[survey_df['uid'] != 'IA201400180048']\n",
    "survey_df = survey_df[survey_df['uid'] != 'IA201400300002']\n",
    "survey_df = survey_df[survey_df['uid'] != 'IA201400130192']\n",
    "survey_df = survey_df[survey_df['uid'] != 'IA201400140845']\n",
    "survey_df = survey_df[survey_df['uid'] != 'IA201400010076']\n",
    "survey_df = survey_df[survey_df['uid'] != 'IA201400180133']\n",
    "survey_df = survey_df[survey_df['uid'] != 'IA201400180123']\n",
    "survey_df = survey_df[survey_df['uid'] != 'IA201400180047']\n",
    "survey_df = survey_df[survey_df['uid'] != 'IA201400180138']\n",
    "survey_df = survey_df[survey_df['uid'] != 'IA201400180052']\n",
    "survey_df = survey_df[survey_df['uid'] != 'IA201400180055']\n",
    "survey_df = survey_df[survey_df['uid'] != 'IA201400180116']\n",
    "survey_df = survey_df[survey_df['uid'] != 'IA201400180030']\n",
    "survey_df = survey_df[survey_df['uid'] != 'IA201400180086']\n",
    "survey_df = survey_df[survey_df['uid'] != 'IA201400180050']\n",
    "survey_df = survey_df[survey_df['uid'] != 'IA201400180027']\n",
    "survey_df = survey_df[survey_df['uid'] != 'IA201400180072']\n",
    "survey_df = survey_df[survey_df['uid'] != 'IA201400180080']\n",
    "survey_df = survey_df[survey_df['uid'] != 'IA201400180079']\n",
    "survey_df = survey_df[survey_df['uid'] != 'IA201400180064']\n",
    "survey_df = survey_df[survey_df['uid'] != 'IA201400180081']\n",
    "survey_df = survey_df[survey_df['uid'] != 'IA201400180062']\n",
    "survey_df = survey_df[survey_df['uid'] != 'UG201800000335']\n",
    "survey_df = survey_df[survey_df['uid'] != 'UG201800000330']\n",
    "survey_df = survey_df[survey_df['uid'] != 'UG201800000322']\n",
    "survey_df = survey_df[survey_df['uid'] != 'IA201400180062']\n",
    "survey_df = survey_df[survey_df['uid'] != 'IA201400180140']\n",
    "survey_df = survey_df[survey_df['uid'] != 'IA201400180100']\n",
    "survey_df = survey_df[survey_df['uid'] != 'UG201800000342']\n",
    "survey_df = survey_df[survey_df['uid'] != 'IA201400180081']\n",
    "survey_df = survey_df[survey_df['uid'] != 'IA201400180028']\n",
    "survey_df = survey_df[survey_df['uid'] != 'UG201800000340']\n",
    "survey_df = survey_df[survey_df['uid'] != 'IA201400180091']\n",
    "survey_df = survey_df[survey_df['uid'] != 'IA201400180112']\n",
    "survey_df = survey_df[survey_df['uid'] != 'UG201800000331']\n",
    "survey_df = survey_df[survey_df['uid'] != 'UG201800000336']\n",
    "survey_df = survey_df[survey_df['uid'] != 'UG201800000334']\n",
    "survey_df = survey_df[survey_df['uid'] != 'IA201400180083']\n",
    "\n",
    "# List of TF Records\n",
    "tf_record_list = list(np.unique(survey_df.tfrecord_name))"
   ]
  },
  {
   "cell_type": "code",
   "execution_count": 7,
   "metadata": {
    "id": "PTEEJI89XVY6"
   },
   "outputs": [
    {
     "name": "stdout",
     "output_type": "stream",
     "text": [
      "4\n"
     ]
    }
   ],
   "source": [
    "# If skip already scraped, remove existing tfrecords from tf_record_list\n",
    "if SKIP_IF_SCRAPED:\n",
    "    tf_records_exist = os.listdir(out_path)\n",
    "    tf_record_list = [x for x in tf_record_list if x not in tf_records_exist]\n",
    "    \n",
    "print(len(tf_record_list))"
   ]
  },
  {
   "cell_type": "code",
   "execution_count": 8,
   "metadata": {},
   "outputs": [],
   "source": [
    "tf_record_list.reverse()"
   ]
  },
  {
   "cell_type": "code",
   "execution_count": 9,
   "metadata": {},
   "outputs": [],
   "source": [
    "#tf_record_list"
   ]
  },
  {
   "cell_type": "code",
   "execution_count": 9,
   "metadata": {},
   "outputs": [
    {
     "name": "stderr",
     "output_type": "stream",
     "text": [
      "/Users/robmarty/anaconda3/lib/python3.7/site-packages/ipykernel_launcher.py:13: SettingWithCopyWarning: \n",
      "A value is trying to be set on a copy of a slice from a DataFrame.\n",
      "Try using .loc[row_indexer,col_indexer] = value instead\n",
      "\n",
      "See the caveats in the documentation: https://pandas.pydata.org/pandas-docs/stable/user_guide/indexing.html#returning-a-view-versus-a-copy\n",
      "  del sys.path[0]\n"
     ]
    },
    {
     "name": "stdout",
     "output_type": "stream",
     "text": [
      "Putting 66 observations into forcnn_AL_1_1_all.tfrecord\n",
      "Observation: 0/66\n",
      "Observation: 1/66\n",
      "Observation: 2/66\n",
      "Observation: 3/66\n",
      "Error!\n"
     ]
    },
    {
     "name": "stderr",
     "output_type": "stream",
     "text": [
      "ERROR:root:Internal Python error in the inspect module.\n",
      "Below is the traceback from this internal error.\n",
      "\n",
      "ERROR:root:Internal Python error in the inspect module.\n",
      "Below is the traceback from this internal error.\n",
      "\n"
     ]
    },
    {
     "name": "stdout",
     "output_type": "stream",
     "text": [
      "Traceback (most recent call last):\n",
      "  File \"/Users/robmarty/anaconda3/lib/python3.7/site-packages/urllib3/connectionpool.py\", line 377, in _make_request\n",
      "    httplib_response = conn.getresponse(buffering=True)\n",
      "TypeError: getresponse() got an unexpected keyword argument 'buffering'\n",
      "\n",
      "During handling of the above exception, another exception occurred:\n",
      "\n",
      "Traceback (most recent call last):\n",
      "  File \"<ipython-input-9-35e4ef9beeda>\", line 32, in <module>\n",
      "    proto_examples_i = utils.prep_cnn_np(survey_df_yeari_chunki, SATELLITE, KERNEL_SIZE, year_i)\n",
      "  File \"/Users/robmarty/Documents/Github/Pakistan-Poverty-from-Sky/DataWork/02_get_process_ancillary_data/CNN Features Predict NTL/ee_utils.py\", line 443, in prep_cnn_np\n",
      "    dict_ee = values_ee.getInfo()\n",
      "  File \"/Users/robmarty/anaconda3/lib/python3.7/site-packages/ee/collection.py\", line 127, in getInfo\n",
      "    return super(Collection, self).getInfo()\n",
      "  File \"/Users/robmarty/anaconda3/lib/python3.7/site-packages/ee/computedobject.py\", line 98, in getInfo\n",
      "    return data.computeValue(self)\n",
      "  File \"/Users/robmarty/anaconda3/lib/python3.7/site-packages/ee/data.py\", line 678, in computeValue\n",
      "    prettyPrint=False))['result']\n",
      "  File \"/Users/robmarty/anaconda3/lib/python3.7/site-packages/ee/data.py\", line 334, in _execute_cloud_call\n",
      "    return call.execute(num_retries=num_retries)\n",
      "  File \"/Users/robmarty/anaconda3/lib/python3.7/site-packages/googleapiclient/_helpers.py\", line 134, in positional_wrapper\n",
      "    return wrapped(*args, **kwargs)\n",
      "  File \"/Users/robmarty/anaconda3/lib/python3.7/site-packages/googleapiclient/http.py\", line 909, in execute\n",
      "    headers=self.headers,\n",
      "  File \"/Users/robmarty/anaconda3/lib/python3.7/site-packages/googleapiclient/http.py\", line 177, in _retry_request\n",
      "    resp, content = http.request(uri, method, *args, **kwargs)\n",
      "  File \"/Users/robmarty/anaconda3/lib/python3.7/site-packages/google_auth_httplib2.py\", line 198, in request\n",
      "    uri, method, body=body, headers=request_headers, **kwargs)\n",
      "  File \"/Users/robmarty/anaconda3/lib/python3.7/site-packages/httplib2/__init__.py\", line 1726, in request\n",
      "    conn, authority, uri, request_uri, method, body, headers, redirections, cachekey,\n",
      "  File \"/Users/robmarty/anaconda3/lib/python3.7/site-packages/httplib2/__init__.py\", line 1441, in _request\n",
      "    (response, content) = self._conn_request(conn, request_uri, method, body, headers)\n",
      "  File \"/Users/robmarty/anaconda3/lib/python3.7/site-packages/httplib2shim/__init__.py\", line 148, in _conn_request\n",
      "    decode_content=decode)\n",
      "  File \"/Users/robmarty/anaconda3/lib/python3.7/site-packages/urllib3/request.py\", line 72, in request\n",
      "    **urlopen_kw)\n",
      "  File \"/Users/robmarty/anaconda3/lib/python3.7/site-packages/urllib3/request.py\", line 150, in request_encode_body\n",
      "    return self.urlopen(method, url, **extra_kw)\n",
      "  File \"/Users/robmarty/anaconda3/lib/python3.7/site-packages/urllib3/poolmanager.py\", line 324, in urlopen\n",
      "    response = conn.urlopen(method, u.request_uri, **kw)\n",
      "  File \"/Users/robmarty/anaconda3/lib/python3.7/site-packages/urllib3/connectionpool.py\", line 600, in urlopen\n",
      "    chunked=chunked)\n",
      "  File \"/Users/robmarty/anaconda3/lib/python3.7/site-packages/urllib3/connectionpool.py\", line 380, in _make_request\n",
      "    httplib_response = conn.getresponse()\n",
      "  File \"/Users/robmarty/anaconda3/lib/python3.7/http/client.py\", line 1321, in getresponse\n",
      "    response.begin()\n",
      "  File \"/Users/robmarty/anaconda3/lib/python3.7/http/client.py\", line 296, in begin\n",
      "    version, status, reason = self._read_status()\n",
      "  File \"/Users/robmarty/anaconda3/lib/python3.7/http/client.py\", line 257, in _read_status\n",
      "    line = str(self.fp.readline(_MAXLINE + 1), \"iso-8859-1\")\n",
      "  File \"/Users/robmarty/anaconda3/lib/python3.7/socket.py\", line 589, in readinto\n",
      "    return self._sock.recv_into(b)\n",
      "  File \"/Users/robmarty/anaconda3/lib/python3.7/ssl.py\", line 1052, in recv_into\n",
      "    return self.read(nbytes, buffer)\n",
      "  File \"/Users/robmarty/anaconda3/lib/python3.7/ssl.py\", line 911, in read\n",
      "    return self._sslobj.read(len, buffer)\n",
      "KeyboardInterrupt\n",
      "\n",
      "During handling of the above exception, another exception occurred:\n",
      "\n",
      "Traceback (most recent call last):\n",
      "  File \"/Users/robmarty/anaconda3/lib/python3.7/site-packages/IPython/core/interactiveshell.py\", line 3291, in run_code\n",
      "    exec(code_obj, self.user_global_ns, self.user_ns)\n",
      "  File \"<ipython-input-9-35e4ef9beeda>\", line 39, in <module>\n",
      "    time.sleep(10)\n",
      "KeyboardInterrupt\n",
      "\n",
      "During handling of the above exception, another exception occurred:\n",
      "\n",
      "Traceback (most recent call last):\n",
      "  File \"/Users/robmarty/anaconda3/lib/python3.7/site-packages/IPython/core/interactiveshell.py\", line 2033, in showtraceback\n",
      "    stb = value._render_traceback_()\n",
      "AttributeError: 'KeyboardInterrupt' object has no attribute '_render_traceback_'\n",
      "\n",
      "During handling of the above exception, another exception occurred:\n",
      "\n",
      "Traceback (most recent call last):\n",
      "  File \"/Users/robmarty/anaconda3/lib/python3.7/site-packages/IPython/core/ultratb.py\", line 1095, in get_records\n",
      "    return _fixed_getinnerframes(etb, number_of_lines_of_context, tb_offset)\n",
      "  File \"/Users/robmarty/anaconda3/lib/python3.7/site-packages/IPython/core/ultratb.py\", line 313, in wrapped\n",
      "    return f(*args, **kwargs)\n",
      "  File \"/Users/robmarty/anaconda3/lib/python3.7/site-packages/IPython/core/ultratb.py\", line 347, in _fixed_getinnerframes\n",
      "    records = fix_frame_records_filenames(inspect.getinnerframes(etb, context))\n",
      "  File \"/Users/robmarty/anaconda3/lib/python3.7/inspect.py\", line 1502, in getinnerframes\n",
      "    frameinfo = (tb.tb_frame,) + getframeinfo(tb, context)\n",
      "  File \"/Users/robmarty/anaconda3/lib/python3.7/inspect.py\", line 1460, in getframeinfo\n",
      "    filename = getsourcefile(frame) or getfile(frame)\n",
      "  File \"/Users/robmarty/anaconda3/lib/python3.7/inspect.py\", line 696, in getsourcefile\n",
      "    if getattr(getmodule(object, filename), '__loader__', None) is not None:\n",
      "  File \"/Users/robmarty/anaconda3/lib/python3.7/inspect.py\", line 739, in getmodule\n",
      "    f = getabsfile(module)\n",
      "  File \"/Users/robmarty/anaconda3/lib/python3.7/inspect.py\", line 708, in getabsfile\n",
      "    _filename = getsourcefile(object) or getfile(object)\n",
      "  File \"/Users/robmarty/anaconda3/lib/python3.7/inspect.py\", line 684, in getsourcefile\n",
      "    filename = getfile(object)\n",
      "KeyboardInterrupt\n",
      "Traceback (most recent call last):\n",
      "  File \"/Users/robmarty/anaconda3/lib/python3.7/site-packages/urllib3/connectionpool.py\", line 377, in _make_request\n",
      "    httplib_response = conn.getresponse(buffering=True)\n",
      "TypeError: getresponse() got an unexpected keyword argument 'buffering'\n",
      "\n",
      "During handling of the above exception, another exception occurred:\n",
      "\n",
      "Traceback (most recent call last):\n",
      "  File \"<ipython-input-9-35e4ef9beeda>\", line 32, in <module>\n",
      "    proto_examples_i = utils.prep_cnn_np(survey_df_yeari_chunki, SATELLITE, KERNEL_SIZE, year_i)\n",
      "  File \"/Users/robmarty/Documents/Github/Pakistan-Poverty-from-Sky/DataWork/02_get_process_ancillary_data/CNN Features Predict NTL/ee_utils.py\", line 443, in prep_cnn_np\n",
      "    dict_ee = values_ee.getInfo()\n",
      "  File \"/Users/robmarty/anaconda3/lib/python3.7/site-packages/ee/collection.py\", line 127, in getInfo\n",
      "    return super(Collection, self).getInfo()\n",
      "  File \"/Users/robmarty/anaconda3/lib/python3.7/site-packages/ee/computedobject.py\", line 98, in getInfo\n",
      "    return data.computeValue(self)\n",
      "  File \"/Users/robmarty/anaconda3/lib/python3.7/site-packages/ee/data.py\", line 678, in computeValue\n",
      "    prettyPrint=False))['result']\n",
      "  File \"/Users/robmarty/anaconda3/lib/python3.7/site-packages/ee/data.py\", line 334, in _execute_cloud_call\n",
      "    return call.execute(num_retries=num_retries)\n",
      "  File \"/Users/robmarty/anaconda3/lib/python3.7/site-packages/googleapiclient/_helpers.py\", line 134, in positional_wrapper\n",
      "    return wrapped(*args, **kwargs)\n",
      "  File \"/Users/robmarty/anaconda3/lib/python3.7/site-packages/googleapiclient/http.py\", line 909, in execute\n",
      "    headers=self.headers,\n",
      "  File \"/Users/robmarty/anaconda3/lib/python3.7/site-packages/googleapiclient/http.py\", line 177, in _retry_request\n",
      "    resp, content = http.request(uri, method, *args, **kwargs)\n",
      "  File \"/Users/robmarty/anaconda3/lib/python3.7/site-packages/google_auth_httplib2.py\", line 198, in request\n",
      "    uri, method, body=body, headers=request_headers, **kwargs)\n",
      "  File \"/Users/robmarty/anaconda3/lib/python3.7/site-packages/httplib2/__init__.py\", line 1726, in request\n",
      "    conn, authority, uri, request_uri, method, body, headers, redirections, cachekey,\n",
      "  File \"/Users/robmarty/anaconda3/lib/python3.7/site-packages/httplib2/__init__.py\", line 1441, in _request\n",
      "    (response, content) = self._conn_request(conn, request_uri, method, body, headers)\n",
      "  File \"/Users/robmarty/anaconda3/lib/python3.7/site-packages/httplib2shim/__init__.py\", line 148, in _conn_request\n",
      "    decode_content=decode)\n",
      "  File \"/Users/robmarty/anaconda3/lib/python3.7/site-packages/urllib3/request.py\", line 72, in request\n",
      "    **urlopen_kw)\n",
      "  File \"/Users/robmarty/anaconda3/lib/python3.7/site-packages/urllib3/request.py\", line 150, in request_encode_body\n",
      "    return self.urlopen(method, url, **extra_kw)\n",
      "  File \"/Users/robmarty/anaconda3/lib/python3.7/site-packages/urllib3/poolmanager.py\", line 324, in urlopen\n",
      "    response = conn.urlopen(method, u.request_uri, **kw)\n",
      "  File \"/Users/robmarty/anaconda3/lib/python3.7/site-packages/urllib3/connectionpool.py\", line 600, in urlopen\n",
      "    chunked=chunked)\n",
      "  File \"/Users/robmarty/anaconda3/lib/python3.7/site-packages/urllib3/connectionpool.py\", line 380, in _make_request\n",
      "    httplib_response = conn.getresponse()\n",
      "  File \"/Users/robmarty/anaconda3/lib/python3.7/http/client.py\", line 1321, in getresponse\n",
      "    response.begin()\n",
      "  File \"/Users/robmarty/anaconda3/lib/python3.7/http/client.py\", line 296, in begin\n",
      "    version, status, reason = self._read_status()\n",
      "  File \"/Users/robmarty/anaconda3/lib/python3.7/http/client.py\", line 257, in _read_status\n",
      "    line = str(self.fp.readline(_MAXLINE + 1), \"iso-8859-1\")\n",
      "  File \"/Users/robmarty/anaconda3/lib/python3.7/socket.py\", line 589, in readinto\n",
      "    return self._sock.recv_into(b)\n",
      "  File \"/Users/robmarty/anaconda3/lib/python3.7/ssl.py\", line 1052, in recv_into\n",
      "    return self.read(nbytes, buffer)\n",
      "  File \"/Users/robmarty/anaconda3/lib/python3.7/ssl.py\", line 911, in read\n",
      "    return self._sslobj.read(len, buffer)\n",
      "KeyboardInterrupt\n",
      "\n",
      "During handling of the above exception, another exception occurred:\n",
      "\n",
      "Traceback (most recent call last):\n",
      "  File \"/Users/robmarty/anaconda3/lib/python3.7/site-packages/IPython/core/interactiveshell.py\", line 3291, in run_code\n",
      "    exec(code_obj, self.user_global_ns, self.user_ns)\n",
      "  File \"<ipython-input-9-35e4ef9beeda>\", line 39, in <module>\n",
      "    time.sleep(10)\n",
      "KeyboardInterrupt\n",
      "\n",
      "During handling of the above exception, another exception occurred:\n",
      "\n",
      "Traceback (most recent call last):\n",
      "  File \"/Users/robmarty/anaconda3/lib/python3.7/site-packages/IPython/core/interactiveshell.py\", line 2033, in showtraceback\n",
      "    stb = value._render_traceback_()\n",
      "AttributeError: 'KeyboardInterrupt' object has no attribute '_render_traceback_'\n",
      "\n",
      "During handling of the above exception, another exception occurred:\n",
      "\n",
      "Traceback (most recent call last):\n",
      "  File \"/Users/robmarty/anaconda3/lib/python3.7/site-packages/IPython/core/interactiveshell.py\", line 3209, in run_ast_nodes\n",
      "    if (yield from self.run_code(code, result)):\n",
      "  File \"/Users/robmarty/anaconda3/lib/python3.7/site-packages/IPython/core/interactiveshell.py\", line 3308, in run_code\n",
      "    self.showtraceback(running_compiled_code=True)\n",
      "  File \"/Users/robmarty/anaconda3/lib/python3.7/site-packages/IPython/core/interactiveshell.py\", line 2036, in showtraceback\n",
      "    value, tb, tb_offset=tb_offset)\n",
      "  File \"/Users/robmarty/anaconda3/lib/python3.7/site-packages/IPython/core/ultratb.py\", line 1379, in structured_traceback\n",
      "    self, etype, value, tb, tb_offset, number_of_lines_of_context)\n",
      "  File \"/Users/robmarty/anaconda3/lib/python3.7/site-packages/IPython/core/ultratb.py\", line 1282, in structured_traceback\n",
      "    self, etype, value, tb, tb_offset, number_of_lines_of_context\n",
      "  File \"/Users/robmarty/anaconda3/lib/python3.7/site-packages/IPython/core/ultratb.py\", line 1144, in structured_traceback\n",
      "    formatted_exceptions += self.prepare_chained_exception_message(evalue.__cause__)\n",
      "TypeError: can only concatenate str (not \"list\") to str\n",
      "\n",
      "During handling of the above exception, another exception occurred:\n",
      "\n",
      "Traceback (most recent call last):\n",
      "  File \"/Users/robmarty/anaconda3/lib/python3.7/site-packages/IPython/core/interactiveshell.py\", line 2033, in showtraceback\n",
      "    stb = value._render_traceback_()\n",
      "AttributeError: 'TypeError' object has no attribute '_render_traceback_'\n",
      "\n",
      "During handling of the above exception, another exception occurred:\n",
      "\n",
      "Traceback (most recent call last):\n",
      "  File \"/Users/robmarty/anaconda3/lib/python3.7/site-packages/IPython/core/ultratb.py\", line 1095, in get_records\n",
      "    return _fixed_getinnerframes(etb, number_of_lines_of_context, tb_offset)\n",
      "  File \"/Users/robmarty/anaconda3/lib/python3.7/site-packages/IPython/core/ultratb.py\", line 313, in wrapped\n",
      "    return f(*args, **kwargs)\n",
      "  File \"/Users/robmarty/anaconda3/lib/python3.7/site-packages/IPython/core/ultratb.py\", line 347, in _fixed_getinnerframes\n",
      "    records = fix_frame_records_filenames(inspect.getinnerframes(etb, context))\n",
      "  File \"/Users/robmarty/anaconda3/lib/python3.7/inspect.py\", line 1502, in getinnerframes\n",
      "    frameinfo = (tb.tb_frame,) + getframeinfo(tb, context)\n",
      "  File \"/Users/robmarty/anaconda3/lib/python3.7/inspect.py\", line 1460, in getframeinfo\n",
      "    filename = getsourcefile(frame) or getfile(frame)\n",
      "  File \"/Users/robmarty/anaconda3/lib/python3.7/inspect.py\", line 696, in getsourcefile\n",
      "    if getattr(getmodule(object, filename), '__loader__', None) is not None:\n",
      "  File \"/Users/robmarty/anaconda3/lib/python3.7/inspect.py\", line 742, in getmodule\n",
      "    os.path.realpath(f)] = module.__name__\n",
      "  File \"/Users/robmarty/anaconda3/lib/python3.7/posixpath.py\", line 395, in realpath\n",
      "    path, ok = _joinrealpath(filename[:0], filename, {})\n",
      "  File \"/Users/robmarty/anaconda3/lib/python3.7/posixpath.py\", line 428, in _joinrealpath\n",
      "    newpath = join(path, name)\n",
      "  File \"/Users/robmarty/anaconda3/lib/python3.7/posixpath.py\", line 75, in join\n",
      "    def join(a, *p):\n",
      "KeyboardInterrupt\n"
     ]
    },
    {
     "name": "stderr",
     "output_type": "stream",
     "text": [
      "ERROR:root:Internal Python error in the inspect module.\n",
      "Below is the traceback from this internal error.\n",
      "\n"
     ]
    },
    {
     "name": "stdout",
     "output_type": "stream",
     "text": [
      "Traceback (most recent call last):\n",
      "  File \"/Users/robmarty/anaconda3/lib/python3.7/site-packages/urllib3/connectionpool.py\", line 377, in _make_request\n",
      "    httplib_response = conn.getresponse(buffering=True)\n",
      "TypeError: getresponse() got an unexpected keyword argument 'buffering'\n",
      "\n",
      "During handling of the above exception, another exception occurred:\n",
      "\n",
      "Traceback (most recent call last):\n",
      "  File \"<ipython-input-9-35e4ef9beeda>\", line 32, in <module>\n",
      "    proto_examples_i = utils.prep_cnn_np(survey_df_yeari_chunki, SATELLITE, KERNEL_SIZE, year_i)\n",
      "  File \"/Users/robmarty/Documents/Github/Pakistan-Poverty-from-Sky/DataWork/02_get_process_ancillary_data/CNN Features Predict NTL/ee_utils.py\", line 443, in prep_cnn_np\n",
      "    dict_ee = values_ee.getInfo()\n",
      "  File \"/Users/robmarty/anaconda3/lib/python3.7/site-packages/ee/collection.py\", line 127, in getInfo\n",
      "    return super(Collection, self).getInfo()\n",
      "  File \"/Users/robmarty/anaconda3/lib/python3.7/site-packages/ee/computedobject.py\", line 98, in getInfo\n",
      "    return data.computeValue(self)\n",
      "  File \"/Users/robmarty/anaconda3/lib/python3.7/site-packages/ee/data.py\", line 678, in computeValue\n",
      "    prettyPrint=False))['result']\n",
      "  File \"/Users/robmarty/anaconda3/lib/python3.7/site-packages/ee/data.py\", line 334, in _execute_cloud_call\n",
      "    return call.execute(num_retries=num_retries)\n",
      "  File \"/Users/robmarty/anaconda3/lib/python3.7/site-packages/googleapiclient/_helpers.py\", line 134, in positional_wrapper\n",
      "    return wrapped(*args, **kwargs)\n",
      "  File \"/Users/robmarty/anaconda3/lib/python3.7/site-packages/googleapiclient/http.py\", line 909, in execute\n",
      "    headers=self.headers,\n",
      "  File \"/Users/robmarty/anaconda3/lib/python3.7/site-packages/googleapiclient/http.py\", line 177, in _retry_request\n",
      "    resp, content = http.request(uri, method, *args, **kwargs)\n",
      "  File \"/Users/robmarty/anaconda3/lib/python3.7/site-packages/google_auth_httplib2.py\", line 198, in request\n",
      "    uri, method, body=body, headers=request_headers, **kwargs)\n",
      "  File \"/Users/robmarty/anaconda3/lib/python3.7/site-packages/httplib2/__init__.py\", line 1726, in request\n",
      "    conn, authority, uri, request_uri, method, body, headers, redirections, cachekey,\n",
      "  File \"/Users/robmarty/anaconda3/lib/python3.7/site-packages/httplib2/__init__.py\", line 1441, in _request\n",
      "    (response, content) = self._conn_request(conn, request_uri, method, body, headers)\n",
      "  File \"/Users/robmarty/anaconda3/lib/python3.7/site-packages/httplib2shim/__init__.py\", line 148, in _conn_request\n",
      "    decode_content=decode)\n",
      "  File \"/Users/robmarty/anaconda3/lib/python3.7/site-packages/urllib3/request.py\", line 72, in request\n",
      "    **urlopen_kw)\n",
      "  File \"/Users/robmarty/anaconda3/lib/python3.7/site-packages/urllib3/request.py\", line 150, in request_encode_body\n",
      "    return self.urlopen(method, url, **extra_kw)\n",
      "  File \"/Users/robmarty/anaconda3/lib/python3.7/site-packages/urllib3/poolmanager.py\", line 324, in urlopen\n",
      "    response = conn.urlopen(method, u.request_uri, **kw)\n",
      "  File \"/Users/robmarty/anaconda3/lib/python3.7/site-packages/urllib3/connectionpool.py\", line 600, in urlopen\n",
      "    chunked=chunked)\n",
      "  File \"/Users/robmarty/anaconda3/lib/python3.7/site-packages/urllib3/connectionpool.py\", line 380, in _make_request\n",
      "    httplib_response = conn.getresponse()\n",
      "  File \"/Users/robmarty/anaconda3/lib/python3.7/http/client.py\", line 1321, in getresponse\n",
      "    response.begin()\n",
      "  File \"/Users/robmarty/anaconda3/lib/python3.7/http/client.py\", line 296, in begin\n",
      "    version, status, reason = self._read_status()\n",
      "  File \"/Users/robmarty/anaconda3/lib/python3.7/http/client.py\", line 257, in _read_status\n",
      "    line = str(self.fp.readline(_MAXLINE + 1), \"iso-8859-1\")\n",
      "  File \"/Users/robmarty/anaconda3/lib/python3.7/socket.py\", line 589, in readinto\n",
      "    return self._sock.recv_into(b)\n",
      "  File \"/Users/robmarty/anaconda3/lib/python3.7/ssl.py\", line 1052, in recv_into\n",
      "    return self.read(nbytes, buffer)\n",
      "  File \"/Users/robmarty/anaconda3/lib/python3.7/ssl.py\", line 911, in read\n",
      "    return self._sslobj.read(len, buffer)\n",
      "KeyboardInterrupt\n",
      "\n",
      "During handling of the above exception, another exception occurred:\n",
      "\n",
      "Traceback (most recent call last):\n",
      "  File \"/Users/robmarty/anaconda3/lib/python3.7/site-packages/IPython/core/interactiveshell.py\", line 3291, in run_code\n",
      "    exec(code_obj, self.user_global_ns, self.user_ns)\n",
      "  File \"<ipython-input-9-35e4ef9beeda>\", line 39, in <module>\n",
      "    time.sleep(10)\n",
      "KeyboardInterrupt\n",
      "\n",
      "During handling of the above exception, another exception occurred:\n",
      "\n",
      "Traceback (most recent call last):\n",
      "  File \"/Users/robmarty/anaconda3/lib/python3.7/site-packages/IPython/core/interactiveshell.py\", line 2033, in showtraceback\n",
      "    stb = value._render_traceback_()\n",
      "AttributeError: 'KeyboardInterrupt' object has no attribute '_render_traceback_'\n",
      "\n",
      "During handling of the above exception, another exception occurred:\n",
      "\n",
      "Traceback (most recent call last):\n",
      "  File \"/Users/robmarty/anaconda3/lib/python3.7/site-packages/IPython/core/interactiveshell.py\", line 3209, in run_ast_nodes\n",
      "    if (yield from self.run_code(code, result)):\n",
      "  File \"/Users/robmarty/anaconda3/lib/python3.7/site-packages/IPython/core/interactiveshell.py\", line 3308, in run_code\n",
      "    self.showtraceback(running_compiled_code=True)\n",
      "  File \"/Users/robmarty/anaconda3/lib/python3.7/site-packages/IPython/core/interactiveshell.py\", line 2036, in showtraceback\n",
      "    value, tb, tb_offset=tb_offset)\n",
      "  File \"/Users/robmarty/anaconda3/lib/python3.7/site-packages/IPython/core/ultratb.py\", line 1379, in structured_traceback\n",
      "    self, etype, value, tb, tb_offset, number_of_lines_of_context)\n",
      "  File \"/Users/robmarty/anaconda3/lib/python3.7/site-packages/IPython/core/ultratb.py\", line 1282, in structured_traceback\n",
      "    self, etype, value, tb, tb_offset, number_of_lines_of_context\n",
      "  File \"/Users/robmarty/anaconda3/lib/python3.7/site-packages/IPython/core/ultratb.py\", line 1144, in structured_traceback\n",
      "    formatted_exceptions += self.prepare_chained_exception_message(evalue.__cause__)\n",
      "TypeError: can only concatenate str (not \"list\") to str\n",
      "\n",
      "During handling of the above exception, another exception occurred:\n",
      "\n",
      "Traceback (most recent call last):\n",
      "  File \"/Users/robmarty/anaconda3/lib/python3.7/site-packages/IPython/core/interactiveshell.py\", line 2033, in showtraceback\n",
      "    stb = value._render_traceback_()\n",
      "AttributeError: 'TypeError' object has no attribute '_render_traceback_'\n",
      "\n",
      "During handling of the above exception, another exception occurred:\n",
      "\n",
      "Traceback (most recent call last):\n",
      "  File \"/Users/robmarty/anaconda3/lib/python3.7/site-packages/IPython/core/ultratb.py\", line 1095, in get_records\n",
      "    return _fixed_getinnerframes(etb, number_of_lines_of_context, tb_offset)\n",
      "  File \"/Users/robmarty/anaconda3/lib/python3.7/site-packages/IPython/core/ultratb.py\", line 313, in wrapped\n",
      "    return f(*args, **kwargs)\n",
      "  File \"/Users/robmarty/anaconda3/lib/python3.7/site-packages/IPython/core/ultratb.py\", line 347, in _fixed_getinnerframes\n",
      "    records = fix_frame_records_filenames(inspect.getinnerframes(etb, context))\n",
      "  File \"/Users/robmarty/anaconda3/lib/python3.7/inspect.py\", line 1502, in getinnerframes\n",
      "    frameinfo = (tb.tb_frame,) + getframeinfo(tb, context)\n",
      "  File \"/Users/robmarty/anaconda3/lib/python3.7/inspect.py\", line 1460, in getframeinfo\n",
      "    filename = getsourcefile(frame) or getfile(frame)\n",
      "  File \"/Users/robmarty/anaconda3/lib/python3.7/inspect.py\", line 696, in getsourcefile\n",
      "    if getattr(getmodule(object, filename), '__loader__', None) is not None:\n",
      "  File \"/Users/robmarty/anaconda3/lib/python3.7/inspect.py\", line 742, in getmodule\n",
      "    os.path.realpath(f)] = module.__name__\n",
      "  File \"/Users/robmarty/anaconda3/lib/python3.7/posixpath.py\", line 395, in realpath\n",
      "    path, ok = _joinrealpath(filename[:0], filename, {})\n",
      "  File \"/Users/robmarty/anaconda3/lib/python3.7/posixpath.py\", line 429, in _joinrealpath\n",
      "    if not islink(newpath):\n",
      "  File \"/Users/robmarty/anaconda3/lib/python3.7/posixpath.py\", line 171, in islink\n",
      "    st = os.lstat(path)\n",
      "KeyboardInterrupt\n"
     ]
    },
    {
     "ename": "TypeError",
     "evalue": "can only concatenate str (not \"list\") to str",
     "output_type": "error",
     "traceback": [
      "\u001b[0;31m---------------------------------------------------------------------------\u001b[0m",
      "\u001b[0;31mTypeError\u001b[0m                                 Traceback (most recent call last)",
      "\u001b[0;32m~/anaconda3/lib/python3.7/site-packages/urllib3/connectionpool.py\u001b[0m in \u001b[0;36m_make_request\u001b[0;34m(self, conn, method, url, timeout, chunked, **httplib_request_kw)\u001b[0m\n\u001b[1;32m    376\u001b[0m             \u001b[0;32mtry\u001b[0m\u001b[0;34m:\u001b[0m  \u001b[0;31m# Python 2.7, use buffering of HTTP responses\u001b[0m\u001b[0;34m\u001b[0m\u001b[0;34m\u001b[0m\u001b[0m\n\u001b[0;32m--> 377\u001b[0;31m                 \u001b[0mhttplib_response\u001b[0m \u001b[0;34m=\u001b[0m \u001b[0mconn\u001b[0m\u001b[0;34m.\u001b[0m\u001b[0mgetresponse\u001b[0m\u001b[0;34m(\u001b[0m\u001b[0mbuffering\u001b[0m\u001b[0;34m=\u001b[0m\u001b[0;32mTrue\u001b[0m\u001b[0;34m)\u001b[0m\u001b[0;34m\u001b[0m\u001b[0;34m\u001b[0m\u001b[0m\n\u001b[0m\u001b[1;32m    378\u001b[0m             \u001b[0;32mexcept\u001b[0m \u001b[0mTypeError\u001b[0m\u001b[0;34m:\u001b[0m  \u001b[0;31m# Python 3\u001b[0m\u001b[0;34m\u001b[0m\u001b[0;34m\u001b[0m\u001b[0m\n",
      "\u001b[0;31mTypeError\u001b[0m: getresponse() got an unexpected keyword argument 'buffering'",
      "\nDuring handling of the above exception, another exception occurred:\n",
      "\nDuring handling of the above exception, another exception occurred:\n",
      "\nDuring handling of the above exception, another exception occurred:\n",
      "\u001b[0;31mAttributeError\u001b[0m                            Traceback (most recent call last)",
      "\u001b[0;32m~/anaconda3/lib/python3.7/site-packages/IPython/core/interactiveshell.py\u001b[0m in \u001b[0;36mshowtraceback\u001b[0;34m(self, exc_tuple, filename, tb_offset, exception_only, running_compiled_code)\u001b[0m\n\u001b[1;32m   2032\u001b[0m                         \u001b[0;31m# in the engines. This should return a list of strings.\u001b[0m\u001b[0;34m\u001b[0m\u001b[0;34m\u001b[0m\u001b[0;34m\u001b[0m\u001b[0m\n\u001b[0;32m-> 2033\u001b[0;31m                         \u001b[0mstb\u001b[0m \u001b[0;34m=\u001b[0m \u001b[0mvalue\u001b[0m\u001b[0;34m.\u001b[0m\u001b[0m_render_traceback_\u001b[0m\u001b[0;34m(\u001b[0m\u001b[0;34m)\u001b[0m\u001b[0;34m\u001b[0m\u001b[0;34m\u001b[0m\u001b[0m\n\u001b[0m\u001b[1;32m   2034\u001b[0m                     \u001b[0;32mexcept\u001b[0m \u001b[0mException\u001b[0m\u001b[0;34m:\u001b[0m\u001b[0;34m\u001b[0m\u001b[0;34m\u001b[0m\u001b[0m\n",
      "\u001b[0;31mAttributeError\u001b[0m: 'KeyboardInterrupt' object has no attribute '_render_traceback_'",
      "\nDuring handling of the above exception, another exception occurred:\n",
      "\u001b[0;31mTypeError\u001b[0m                                 Traceback (most recent call last)",
      "\u001b[0;32m~/anaconda3/lib/python3.7/site-packages/IPython/core/interactiveshell.py\u001b[0m in \u001b[0;36mrun_code\u001b[0;34m(self, code_obj, result, async_)\u001b[0m\n\u001b[1;32m   3306\u001b[0m             \u001b[0;32mif\u001b[0m \u001b[0mresult\u001b[0m \u001b[0;32mis\u001b[0m \u001b[0;32mnot\u001b[0m \u001b[0;32mNone\u001b[0m\u001b[0;34m:\u001b[0m\u001b[0;34m\u001b[0m\u001b[0;34m\u001b[0m\u001b[0m\n\u001b[1;32m   3307\u001b[0m                 \u001b[0mresult\u001b[0m\u001b[0;34m.\u001b[0m\u001b[0merror_in_exec\u001b[0m \u001b[0;34m=\u001b[0m \u001b[0msys\u001b[0m\u001b[0;34m.\u001b[0m\u001b[0mexc_info\u001b[0m\u001b[0;34m(\u001b[0m\u001b[0;34m)\u001b[0m\u001b[0;34m[\u001b[0m\u001b[0;36m1\u001b[0m\u001b[0;34m]\u001b[0m\u001b[0;34m\u001b[0m\u001b[0;34m\u001b[0m\u001b[0m\n\u001b[0;32m-> 3308\u001b[0;31m             \u001b[0mself\u001b[0m\u001b[0;34m.\u001b[0m\u001b[0mshowtraceback\u001b[0m\u001b[0;34m(\u001b[0m\u001b[0mrunning_compiled_code\u001b[0m\u001b[0;34m=\u001b[0m\u001b[0;32mTrue\u001b[0m\u001b[0;34m)\u001b[0m\u001b[0;34m\u001b[0m\u001b[0;34m\u001b[0m\u001b[0m\n\u001b[0m\u001b[1;32m   3309\u001b[0m         \u001b[0;32melse\u001b[0m\u001b[0;34m:\u001b[0m\u001b[0;34m\u001b[0m\u001b[0;34m\u001b[0m\u001b[0m\n\u001b[1;32m   3310\u001b[0m             \u001b[0moutflag\u001b[0m \u001b[0;34m=\u001b[0m \u001b[0;32mFalse\u001b[0m\u001b[0;34m\u001b[0m\u001b[0;34m\u001b[0m\u001b[0m\n",
      "\u001b[0;32m~/anaconda3/lib/python3.7/site-packages/IPython/core/interactiveshell.py\u001b[0m in \u001b[0;36mshowtraceback\u001b[0;34m(self, exc_tuple, filename, tb_offset, exception_only, running_compiled_code)\u001b[0m\n\u001b[1;32m   2034\u001b[0m                     \u001b[0;32mexcept\u001b[0m \u001b[0mException\u001b[0m\u001b[0;34m:\u001b[0m\u001b[0;34m\u001b[0m\u001b[0;34m\u001b[0m\u001b[0m\n\u001b[1;32m   2035\u001b[0m                         stb = self.InteractiveTB.structured_traceback(etype,\n\u001b[0;32m-> 2036\u001b[0;31m                                             value, tb, tb_offset=tb_offset)\n\u001b[0m\u001b[1;32m   2037\u001b[0m \u001b[0;34m\u001b[0m\u001b[0m\n\u001b[1;32m   2038\u001b[0m                     \u001b[0mself\u001b[0m\u001b[0;34m.\u001b[0m\u001b[0m_showtraceback\u001b[0m\u001b[0;34m(\u001b[0m\u001b[0metype\u001b[0m\u001b[0;34m,\u001b[0m \u001b[0mvalue\u001b[0m\u001b[0;34m,\u001b[0m \u001b[0mstb\u001b[0m\u001b[0;34m)\u001b[0m\u001b[0;34m\u001b[0m\u001b[0;34m\u001b[0m\u001b[0m\n",
      "\u001b[0;32m~/anaconda3/lib/python3.7/site-packages/IPython/core/ultratb.py\u001b[0m in \u001b[0;36mstructured_traceback\u001b[0;34m(self, etype, value, tb, tb_offset, number_of_lines_of_context)\u001b[0m\n\u001b[1;32m   1377\u001b[0m         \u001b[0mself\u001b[0m\u001b[0;34m.\u001b[0m\u001b[0mtb\u001b[0m \u001b[0;34m=\u001b[0m \u001b[0mtb\u001b[0m\u001b[0;34m\u001b[0m\u001b[0;34m\u001b[0m\u001b[0m\n\u001b[1;32m   1378\u001b[0m         return FormattedTB.structured_traceback(\n\u001b[0;32m-> 1379\u001b[0;31m             self, etype, value, tb, tb_offset, number_of_lines_of_context)\n\u001b[0m\u001b[1;32m   1380\u001b[0m \u001b[0;34m\u001b[0m\u001b[0m\n\u001b[1;32m   1381\u001b[0m \u001b[0;34m\u001b[0m\u001b[0m\n",
      "\u001b[0;32m~/anaconda3/lib/python3.7/site-packages/IPython/core/ultratb.py\u001b[0m in \u001b[0;36mstructured_traceback\u001b[0;34m(self, etype, value, tb, tb_offset, number_of_lines_of_context)\u001b[0m\n\u001b[1;32m   1280\u001b[0m             \u001b[0;31m# Verbose modes need a full traceback\u001b[0m\u001b[0;34m\u001b[0m\u001b[0;34m\u001b[0m\u001b[0;34m\u001b[0m\u001b[0m\n\u001b[1;32m   1281\u001b[0m             return VerboseTB.structured_traceback(\n\u001b[0;32m-> 1282\u001b[0;31m                 \u001b[0mself\u001b[0m\u001b[0;34m,\u001b[0m \u001b[0metype\u001b[0m\u001b[0;34m,\u001b[0m \u001b[0mvalue\u001b[0m\u001b[0;34m,\u001b[0m \u001b[0mtb\u001b[0m\u001b[0;34m,\u001b[0m \u001b[0mtb_offset\u001b[0m\u001b[0;34m,\u001b[0m \u001b[0mnumber_of_lines_of_context\u001b[0m\u001b[0;34m\u001b[0m\u001b[0;34m\u001b[0m\u001b[0m\n\u001b[0m\u001b[1;32m   1283\u001b[0m             )\n\u001b[1;32m   1284\u001b[0m         \u001b[0;32melif\u001b[0m \u001b[0mmode\u001b[0m \u001b[0;34m==\u001b[0m \u001b[0;34m'Minimal'\u001b[0m\u001b[0;34m:\u001b[0m\u001b[0;34m\u001b[0m\u001b[0;34m\u001b[0m\u001b[0m\n",
      "\u001b[0;32m~/anaconda3/lib/python3.7/site-packages/IPython/core/ultratb.py\u001b[0m in \u001b[0;36mstructured_traceback\u001b[0;34m(self, etype, evalue, etb, tb_offset, number_of_lines_of_context)\u001b[0m\n\u001b[1;32m   1142\u001b[0m         \u001b[0mexception\u001b[0m \u001b[0;34m=\u001b[0m \u001b[0mself\u001b[0m\u001b[0;34m.\u001b[0m\u001b[0mget_parts_of_chained_exception\u001b[0m\u001b[0;34m(\u001b[0m\u001b[0mevalue\u001b[0m\u001b[0;34m)\u001b[0m\u001b[0;34m\u001b[0m\u001b[0;34m\u001b[0m\u001b[0m\n\u001b[1;32m   1143\u001b[0m         \u001b[0;32mif\u001b[0m \u001b[0mexception\u001b[0m\u001b[0;34m:\u001b[0m\u001b[0;34m\u001b[0m\u001b[0;34m\u001b[0m\u001b[0m\n\u001b[0;32m-> 1144\u001b[0;31m             \u001b[0mformatted_exceptions\u001b[0m \u001b[0;34m+=\u001b[0m \u001b[0mself\u001b[0m\u001b[0;34m.\u001b[0m\u001b[0mprepare_chained_exception_message\u001b[0m\u001b[0;34m(\u001b[0m\u001b[0mevalue\u001b[0m\u001b[0;34m.\u001b[0m\u001b[0m__cause__\u001b[0m\u001b[0;34m)\u001b[0m\u001b[0;34m\u001b[0m\u001b[0;34m\u001b[0m\u001b[0m\n\u001b[0m\u001b[1;32m   1145\u001b[0m             \u001b[0metype\u001b[0m\u001b[0;34m,\u001b[0m \u001b[0mevalue\u001b[0m\u001b[0;34m,\u001b[0m \u001b[0metb\u001b[0m \u001b[0;34m=\u001b[0m \u001b[0mexception\u001b[0m\u001b[0;34m\u001b[0m\u001b[0;34m\u001b[0m\u001b[0m\n\u001b[1;32m   1146\u001b[0m         \u001b[0;32melse\u001b[0m\u001b[0;34m:\u001b[0m\u001b[0;34m\u001b[0m\u001b[0;34m\u001b[0m\u001b[0m\n",
      "\u001b[0;31mTypeError\u001b[0m: can only concatenate str (not \"list\") to str"
     ]
    }
   ],
   "source": [
    "# DONT SKIP ERRORS\n",
    "if True:\n",
    "    ### Loop through all tfrecords\n",
    "    for tfr_i in tf_record_list:\n",
    "\n",
    "        # Sometimes we get computational time out errors. If occurs, just skip and go to next.\n",
    "        # We can then go back and rescrape missed ones.\n",
    "\n",
    "        survey_df_yeari = survey_df[survey_df['tfrecord_name'] == tfr_i]\n",
    "        year_i = survey_df_yeari['year'].iloc[0]\n",
    "\n",
    "        ### Loop through chunks within tfrecord (can only pull so much data from GEE at a time)\n",
    "        survey_df_yeari['chunk_id'] = utils.chunk_ids(survey_df_yeari.shape[0], CHUNK_SIZE)\n",
    "\n",
    "        print(\"Putting \" + str(survey_df_yeari.shape[0]) + \" observations into \" + tfr_i)\n",
    "\n",
    "        proto_examples_all = []\n",
    "        for chunk_i in list(np.unique(survey_df_yeari.chunk_id)):\n",
    "            #time.sleep(6)\n",
    "            \n",
    "            ## Sometimes we hit a memory error; try until we don't hit that\n",
    "            \n",
    "            # TODO: could say: try 3 times?\n",
    "            try_extract_data = True\n",
    "            while try_extract_data:\n",
    "                try:\n",
    "\n",
    "                    print(\"Observation: \" + str(len(proto_examples_all)) + \"/\" + str(survey_df_yeari.shape[0]))\n",
    "\n",
    "                    survey_df_yeari_chunki = survey_df_yeari[survey_df_yeari['chunk_id'] == chunk_i]\n",
    "\n",
    "                    proto_examples_i = utils.prep_cnn_np(survey_df_yeari_chunki, SATELLITE, KERNEL_SIZE, year_i)\n",
    "                    proto_examples_all.extend(proto_examples_i)\n",
    "                    \n",
    "                    try_extract_data = False\n",
    "                    \n",
    "                except:\n",
    "                    print(\"Error!\")\n",
    "                    time.sleep(10)\n",
    "                    pass\n",
    "            \n",
    "        ### Save data as tf record\n",
    "        out_path_i = os.path.join(out_path, tfr_i)\n",
    "        print(out_path_i)\n",
    "        with tf.io.TFRecordWriter(out_path_i) as writer:\n",
    "            for tf_example in proto_examples_all:\n",
    "                writer.write(tf_example.SerializeToString())\n",
    "\n",
    "        print(\"Success \\o/\")"
   ]
  },
  {
   "cell_type": "code",
   "execution_count": 9,
   "metadata": {
    "id": "c89pBOUXZT_V"
   },
   "outputs": [
    {
     "name": "stderr",
     "output_type": "stream",
     "text": [
      "/Users/robmarty/anaconda3/lib/python3.7/site-packages/ipykernel_launcher.py:13: SettingWithCopyWarning: \n",
      "A value is trying to be set on a copy of a slice from a DataFrame.\n",
      "Try using .loc[row_indexer,col_indexer] = value instead\n",
      "\n",
      "See the caveats in the documentation: https://pandas.pydata.org/pandas-docs/stable/user_guide/indexing.html#returning-a-view-versus-a-copy\n",
      "  del sys.path[0]\n"
     ]
    },
    {
     "name": "stdout",
     "output_type": "stream",
     "text": [
      "Putting 57 observations into nocnn_UG_4_1_all.tfrecord\n",
      "Observation: 0/57\n",
      "Observation: 1/57\n",
      "Observation: 2/57\n",
      "Observation: 3/57\n",
      "Observation: 4/57\n",
      "Observation: 5/57\n",
      "Observation: 6/57\n",
      "Observation: 7/57\n",
      "Observation: 8/57\n",
      "Observation: 9/57\n",
      "Observation: 10/57\n",
      "Observation: 11/57\n",
      "Observation: 12/57\n",
      "Observation: 13/57\n",
      "Error ---\n",
      "42284    UG201800000336\n",
      "Name: uid, dtype: object\n",
      "Putting 247 observations into nocnn_IA_4_3_all.tfrecord\n",
      "Observation: 0/247\n",
      "Observation: 1/247\n",
      "Observation: 2/247\n",
      "Observation: 3/247\n",
      "Observation: 4/247\n",
      "Observation: 5/247\n",
      "Observation: 6/247\n",
      "Observation: 7/247\n",
      "Observation: 8/247\n",
      "Observation: 9/247\n",
      "Observation: 10/247\n",
      "Observation: 11/247\n",
      "Observation: 12/247\n",
      "Observation: 13/247\n",
      "Observation: 14/247\n",
      "Observation: 15/247\n",
      "Observation: 16/247\n",
      "Observation: 17/247\n",
      "Observation: 18/247\n",
      "Observation: 19/247\n",
      "Observation: 20/247\n",
      "Observation: 21/247\n",
      "Observation: 22/247\n",
      "Observation: 23/247\n",
      "Observation: 24/247\n",
      "Observation: 25/247\n",
      "Observation: 26/247\n",
      "Observation: 27/247\n",
      "Observation: 28/247\n",
      "Observation: 29/247\n",
      "Observation: 30/247\n",
      "Observation: 31/247\n",
      "Observation: 32/247\n",
      "Observation: 33/247\n",
      "Observation: 34/247\n",
      "Observation: 35/247\n",
      "Observation: 36/247\n",
      "Observation: 37/247\n",
      "Observation: 38/247\n",
      "Observation: 39/247\n",
      "Observation: 40/247\n",
      "Observation: 41/247\n",
      "Observation: 42/247\n",
      "Observation: 43/247\n",
      "Observation: 44/247\n",
      "Observation: 45/247\n",
      "Observation: 46/247\n",
      "Observation: 47/247\n",
      "Observation: 48/247\n",
      "Observation: 49/247\n",
      "Observation: 50/247\n",
      "Observation: 51/247\n",
      "Observation: 52/247\n",
      "Observation: 53/247\n",
      "Observation: 54/247\n",
      "Observation: 55/247\n",
      "Observation: 56/247\n",
      "Observation: 57/247\n",
      "Observation: 58/247\n",
      "Observation: 59/247\n",
      "Observation: 60/247\n",
      "Observation: 61/247\n",
      "Observation: 62/247\n",
      "Observation: 63/247\n",
      "Observation: 64/247\n",
      "Observation: 65/247\n",
      "Observation: 66/247\n",
      "Observation: 67/247\n",
      "Observation: 68/247\n",
      "Observation: 69/247\n",
      "Observation: 70/247\n",
      "Observation: 71/247\n",
      "Observation: 72/247\n",
      "Observation: 73/247\n",
      "Observation: 74/247\n",
      "Observation: 75/247\n",
      "Observation: 76/247\n",
      "Observation: 77/247\n",
      "Observation: 78/247\n",
      "Observation: 79/247\n",
      "Observation: 80/247\n",
      "Observation: 81/247\n",
      "Observation: 82/247\n",
      "Observation: 83/247\n",
      "Observation: 84/247\n",
      "Observation: 85/247\n",
      "Observation: 86/247\n",
      "Observation: 87/247\n",
      "Observation: 88/247\n",
      "Observation: 89/247\n",
      "Observation: 90/247\n",
      "Observation: 91/247\n",
      "Observation: 92/247\n",
      "Observation: 93/247\n",
      "Observation: 94/247\n",
      "Observation: 95/247\n",
      "Observation: 96/247\n",
      "Observation: 97/247\n",
      "Observation: 98/247\n",
      "Observation: 99/247\n",
      "Observation: 100/247\n",
      "Observation: 101/247\n",
      "Observation: 102/247\n",
      "Observation: 103/247\n",
      "Observation: 104/247\n",
      "Observation: 105/247\n",
      "Observation: 106/247\n",
      "Observation: 107/247\n",
      "Observation: 108/247\n",
      "Observation: 109/247\n",
      "Observation: 110/247\n",
      "Observation: 111/247\n",
      "Observation: 112/247\n",
      "Observation: 113/247\n",
      "Observation: 114/247\n",
      "Observation: 115/247\n",
      "Observation: 116/247\n",
      "Observation: 117/247\n",
      "Observation: 118/247\n",
      "Observation: 119/247\n",
      "Observation: 120/247\n",
      "Observation: 121/247\n",
      "Observation: 122/247\n",
      "Observation: 123/247\n",
      "Observation: 124/247\n",
      "Observation: 125/247\n",
      "Observation: 126/247\n",
      "Observation: 127/247\n",
      "Observation: 128/247\n",
      "Observation: 129/247\n",
      "Observation: 130/247\n",
      "Observation: 131/247\n",
      "Observation: 132/247\n",
      "Observation: 133/247\n",
      "Observation: 134/247\n",
      "Observation: 135/247\n",
      "Observation: 136/247\n",
      "Observation: 137/247\n",
      "Observation: 138/247\n",
      "Observation: 139/247\n",
      "Observation: 140/247\n",
      "Observation: 141/247\n",
      "Observation: 142/247\n",
      "Observation: 143/247\n",
      "Observation: 144/247\n",
      "Observation: 145/247\n",
      "Observation: 146/247\n",
      "Observation: 147/247\n",
      "Observation: 148/247\n",
      "Observation: 149/247\n",
      "Observation: 150/247\n",
      "Observation: 151/247\n",
      "Observation: 152/247\n",
      "Observation: 153/247\n",
      "Observation: 154/247\n",
      "Observation: 155/247\n",
      "Observation: 156/247\n",
      "Observation: 157/247\n",
      "Observation: 158/247\n",
      "Observation: 159/247\n",
      "Observation: 160/247\n",
      "Observation: 161/247\n",
      "Observation: 162/247\n",
      "Observation: 163/247\n",
      "Observation: 164/247\n",
      "Observation: 165/247\n",
      "Observation: 166/247\n",
      "Observation: 167/247\n",
      "Observation: 168/247\n",
      "Observation: 169/247\n",
      "Observation: 170/247\n",
      "Observation: 171/247\n",
      "Observation: 172/247\n",
      "Observation: 173/247\n",
      "Observation: 174/247\n",
      "Observation: 175/247\n",
      "Observation: 176/247\n",
      "Observation: 177/247\n",
      "Observation: 178/247\n",
      "Observation: 179/247\n",
      "Observation: 180/247\n",
      "Observation: 181/247\n",
      "Observation: 182/247\n",
      "Observation: 183/247\n",
      "Observation: 184/247\n",
      "Observation: 185/247\n",
      "Observation: 186/247\n",
      "Observation: 187/247\n",
      "Observation: 188/247\n",
      "Observation: 189/247\n",
      "Observation: 190/247\n",
      "Observation: 191/247\n",
      "Observation: 192/247\n",
      "Observation: 193/247\n",
      "Observation: 194/247\n",
      "Observation: 195/247\n",
      "Observation: 196/247\n",
      "Observation: 197/247\n",
      "Observation: 198/247\n",
      "Observation: 199/247\n",
      "Observation: 200/247\n",
      "Observation: 201/247\n",
      "Observation: 202/247\n",
      "Observation: 203/247\n",
      "Observation: 204/247\n",
      "Observation: 205/247\n",
      "Observation: 206/247\n",
      "Observation: 207/247\n",
      "Observation: 208/247\n",
      "Observation: 209/247\n",
      "Observation: 210/247\n",
      "Observation: 211/247\n",
      "Observation: 212/247\n",
      "Observation: 213/247\n",
      "Observation: 214/247\n",
      "Observation: 215/247\n",
      "Observation: 216/247\n",
      "Observation: 217/247\n",
      "Observation: 218/247\n",
      "Observation: 219/247\n",
      "Observation: 220/247\n",
      "Observation: 221/247\n",
      "Observation: 222/247\n",
      "Observation: 223/247\n",
      "Observation: 224/247\n",
      "Observation: 225/247\n",
      "Observation: 226/247\n",
      "Observation: 227/247\n",
      "Observation: 228/247\n",
      "Observation: 229/247\n",
      "Observation: 230/247\n",
      "Observation: 231/247\n",
      "Observation: 232/247\n",
      "Observation: 233/247\n",
      "Observation: 234/247\n",
      "Observation: 235/247\n",
      "Observation: 236/247\n",
      "Observation: 237/247\n",
      "Observation: 238/247\n",
      "Observation: 239/247\n",
      "Observation: 240/247\n",
      "Observation: 241/247\n",
      "Observation: 242/247\n",
      "Observation: 243/247\n",
      "Observation: 244/247\n",
      "Observation: 245/247\n",
      "Observation: 246/247\n",
      "/Users/robmarty/Google Drive/World Bank/IEs/Pakistan Poverty Estimation/Data/DHS/FinalData/Individual Datasets/cnn_s2/tfrecords/nocnn_IA_4_3_all.tfrecord\n",
      "Success \\o/\n",
      "Putting 247 observations into nocnn_IA_4_10_all.tfrecord\n",
      "Observation: 0/247\n",
      "Observation: 1/247\n",
      "Observation: 2/247\n",
      "Observation: 3/247\n",
      "Observation: 4/247\n",
      "Observation: 5/247\n",
      "Observation: 6/247\n",
      "Observation: 7/247\n",
      "Observation: 8/247\n",
      "Observation: 9/247\n",
      "Observation: 10/247\n",
      "Observation: 11/247\n",
      "Observation: 12/247\n",
      "Observation: 13/247\n",
      "Observation: 14/247\n",
      "Observation: 15/247\n",
      "Observation: 16/247\n",
      "Observation: 17/247\n",
      "Observation: 18/247\n",
      "Observation: 19/247\n",
      "Observation: 20/247\n",
      "Observation: 21/247\n",
      "Observation: 22/247\n",
      "Observation: 23/247\n",
      "Observation: 24/247\n",
      "Observation: 25/247\n",
      "Observation: 26/247\n",
      "Observation: 27/247\n",
      "Observation: 28/247\n",
      "Observation: 29/247\n",
      "Observation: 30/247\n",
      "Observation: 31/247\n",
      "Observation: 32/247\n",
      "Observation: 33/247\n",
      "Observation: 34/247\n",
      "Observation: 35/247\n",
      "Observation: 36/247\n",
      "Observation: 37/247\n",
      "Observation: 38/247\n",
      "Observation: 39/247\n",
      "Observation: 40/247\n",
      "Observation: 41/247\n",
      "Observation: 42/247\n",
      "Observation: 43/247\n",
      "Observation: 44/247\n",
      "Observation: 45/247\n",
      "Observation: 46/247\n",
      "Observation: 47/247\n",
      "Observation: 48/247\n",
      "Observation: 49/247\n",
      "Observation: 50/247\n",
      "Observation: 51/247\n",
      "Observation: 52/247\n",
      "Observation: 53/247\n",
      "Observation: 54/247\n",
      "Observation: 55/247\n",
      "Observation: 56/247\n",
      "Observation: 57/247\n",
      "Observation: 58/247\n",
      "Observation: 59/247\n",
      "Observation: 60/247\n",
      "Observation: 61/247\n",
      "Observation: 62/247\n",
      "Observation: 63/247\n",
      "Observation: 64/247\n",
      "Observation: 65/247\n",
      "Observation: 66/247\n",
      "Observation: 67/247\n",
      "Observation: 68/247\n",
      "Observation: 69/247\n",
      "Observation: 70/247\n",
      "Observation: 71/247\n",
      "Observation: 72/247\n",
      "Observation: 73/247\n",
      "Observation: 74/247\n",
      "Observation: 75/247\n",
      "Observation: 76/247\n",
      "Observation: 77/247\n",
      "Observation: 78/247\n",
      "Observation: 79/247\n",
      "Observation: 80/247\n",
      "Observation: 81/247\n",
      "Error ---\n",
      "45882    IA201400180083\n",
      "Name: uid, dtype: object\n",
      "Putting 37 observations into forcnn_UG_4_1_all.tfrecord\n",
      "Observation: 0/37\n",
      "Observation: 1/37\n",
      "Observation: 2/37\n",
      "Observation: 3/37\n",
      "Observation: 4/37\n",
      "Observation: 5/37\n",
      "Error ---\n",
      "2149    UG201800000334\n",
      "Name: uid, dtype: object\n"
     ]
    }
   ],
   "source": [
    "if True:\n",
    "    ### Loop through all tfrecords\n",
    "    for tfr_i in tf_record_list:\n",
    "\n",
    "        # Sometimes we get computational time out errors. If occurs, just skip and go to next.\n",
    "        # We can then go back and rescrape missed ones.\n",
    "        try:\n",
    "\n",
    "            survey_df_yeari = survey_df[survey_df['tfrecord_name'] == tfr_i]\n",
    "            year_i = survey_df_yeari['year'].iloc[0]\n",
    "\n",
    "            ### Loop through chunks within tfrecord (can only pull so much data from GEE at a time)\n",
    "            survey_df_yeari['chunk_id'] = utils.chunk_ids(survey_df_yeari.shape[0], CHUNK_SIZE)\n",
    "\n",
    "            print(\"Putting \" + str(survey_df_yeari.shape[0]) + \" observations into \" + tfr_i)\n",
    "\n",
    "            proto_examples_all = []\n",
    "            for chunk_i in list(np.unique(survey_df_yeari.chunk_id)):\n",
    "                #time.sleep(7)\n",
    "                print(\"Observation: \" + str(len(proto_examples_all)) + \"/\" + str(survey_df_yeari.shape[0]))\n",
    "\n",
    "                survey_df_yeari_chunki = survey_df_yeari[survey_df_yeari['chunk_id'] == chunk_i]\n",
    "\n",
    "                proto_examples_i = utils.prep_cnn_np(survey_df_yeari_chunki, SATELLITE, KERNEL_SIZE, year_i)\n",
    "                proto_examples_all.extend(proto_examples_i)\n",
    "\n",
    "            ### Save data as tf record\n",
    "            out_path_i = os.path.join(out_path, tfr_i)\n",
    "            print(out_path_i)\n",
    "            with tf.io.TFRecordWriter(out_path_i) as writer:\n",
    "                for tf_example in proto_examples_all:\n",
    "                    writer.write(tf_example.SerializeToString())\n",
    "\n",
    "            print(\"Success \\o/\")\n",
    "\n",
    "        except:\n",
    "            print(\"Error ---\")\n",
    "            print(survey_df_yeari_chunki['uid'])\n",
    "            time.sleep(15)\n",
    "            pass"
   ]
  },
  {
   "cell_type": "code",
   "execution_count": null,
   "metadata": {
    "colab": {
     "base_uri": "https://localhost:8080/"
    },
    "id": "gfMKJ0ILXVZC",
    "outputId": "4c960a89-0028-4fdd-be62-5e7d0e073240"
   },
   "outputs": [],
   "source": []
  },
  {
   "cell_type": "code",
   "execution_count": 10,
   "metadata": {
    "colab": {
     "base_uri": "https://localhost:8080/",
     "height": 224
    },
    "id": "I6NhXtwo73AK",
    "outputId": "988398b3-4e62-4be2-8817-532af8d6f58e"
   },
   "outputs": [
    {
     "name": "stdout",
     "output_type": "stream",
     "text": [
      "0\n",
      "1\n",
      "2\n",
      "3\n",
      "4\n"
     ]
    },
    {
     "ename": "IndexError",
     "evalue": "positional indexers are out-of-bounds",
     "output_type": "error",
     "traceback": [
      "\u001b[0;31m---------------------------------------------------------------------------\u001b[0m",
      "\u001b[0;31mIndexError\u001b[0m                                Traceback (most recent call last)",
      "\u001b[0;32m~/anaconda3/lib/python3.7/site-packages/pandas/core/indexing.py\u001b[0m in \u001b[0;36m_get_list_axis\u001b[0;34m(self, key, axis)\u001b[0m\n\u001b[1;32m   2110\u001b[0m         \u001b[0;32mtry\u001b[0m\u001b[0;34m:\u001b[0m\u001b[0;34m\u001b[0m\u001b[0;34m\u001b[0m\u001b[0m\n\u001b[0;32m-> 2111\u001b[0;31m             \u001b[0;32mreturn\u001b[0m \u001b[0mself\u001b[0m\u001b[0;34m.\u001b[0m\u001b[0mobj\u001b[0m\u001b[0;34m.\u001b[0m\u001b[0m_take_with_is_copy\u001b[0m\u001b[0;34m(\u001b[0m\u001b[0mkey\u001b[0m\u001b[0;34m,\u001b[0m \u001b[0maxis\u001b[0m\u001b[0;34m=\u001b[0m\u001b[0maxis\u001b[0m\u001b[0;34m)\u001b[0m\u001b[0;34m\u001b[0m\u001b[0;34m\u001b[0m\u001b[0m\n\u001b[0m\u001b[1;32m   2112\u001b[0m         \u001b[0;32mexcept\u001b[0m \u001b[0mIndexError\u001b[0m\u001b[0;34m:\u001b[0m\u001b[0;34m\u001b[0m\u001b[0;34m\u001b[0m\u001b[0m\n",
      "\u001b[0;32m~/anaconda3/lib/python3.7/site-packages/pandas/core/generic.py\u001b[0m in \u001b[0;36m_take_with_is_copy\u001b[0;34m(self, indices, axis, **kwargs)\u001b[0m\n\u001b[1;32m   3408\u001b[0m         \"\"\"\n\u001b[0;32m-> 3409\u001b[0;31m         \u001b[0mresult\u001b[0m \u001b[0;34m=\u001b[0m \u001b[0mself\u001b[0m\u001b[0;34m.\u001b[0m\u001b[0mtake\u001b[0m\u001b[0;34m(\u001b[0m\u001b[0mindices\u001b[0m\u001b[0;34m=\u001b[0m\u001b[0mindices\u001b[0m\u001b[0;34m,\u001b[0m \u001b[0maxis\u001b[0m\u001b[0;34m=\u001b[0m\u001b[0maxis\u001b[0m\u001b[0;34m,\u001b[0m \u001b[0;34m**\u001b[0m\u001b[0mkwargs\u001b[0m\u001b[0;34m)\u001b[0m\u001b[0;34m\u001b[0m\u001b[0;34m\u001b[0m\u001b[0m\n\u001b[0m\u001b[1;32m   3410\u001b[0m         \u001b[0;31m# Maybe set copy if we didn't actually change the index.\u001b[0m\u001b[0;34m\u001b[0m\u001b[0;34m\u001b[0m\u001b[0;34m\u001b[0m\u001b[0m\n",
      "\u001b[0;32m~/anaconda3/lib/python3.7/site-packages/pandas/core/generic.py\u001b[0m in \u001b[0;36mtake\u001b[0;34m(self, indices, axis, is_copy, **kwargs)\u001b[0m\n\u001b[1;32m   3394\u001b[0m         new_data = self._data.take(\n\u001b[0;32m-> 3395\u001b[0;31m             \u001b[0mindices\u001b[0m\u001b[0;34m,\u001b[0m \u001b[0maxis\u001b[0m\u001b[0;34m=\u001b[0m\u001b[0mself\u001b[0m\u001b[0;34m.\u001b[0m\u001b[0m_get_block_manager_axis\u001b[0m\u001b[0;34m(\u001b[0m\u001b[0maxis\u001b[0m\u001b[0;34m)\u001b[0m\u001b[0;34m,\u001b[0m \u001b[0mverify\u001b[0m\u001b[0;34m=\u001b[0m\u001b[0;32mTrue\u001b[0m\u001b[0;34m\u001b[0m\u001b[0;34m\u001b[0m\u001b[0m\n\u001b[0m\u001b[1;32m   3396\u001b[0m         )\n",
      "\u001b[0;32m~/anaconda3/lib/python3.7/site-packages/pandas/core/internals/managers.py\u001b[0m in \u001b[0;36mtake\u001b[0;34m(self, indexer, axis, verify, convert)\u001b[0m\n\u001b[1;32m   1385\u001b[0m         \u001b[0;32mif\u001b[0m \u001b[0mconvert\u001b[0m\u001b[0;34m:\u001b[0m\u001b[0;34m\u001b[0m\u001b[0;34m\u001b[0m\u001b[0m\n\u001b[0;32m-> 1386\u001b[0;31m             \u001b[0mindexer\u001b[0m \u001b[0;34m=\u001b[0m \u001b[0mmaybe_convert_indices\u001b[0m\u001b[0;34m(\u001b[0m\u001b[0mindexer\u001b[0m\u001b[0;34m,\u001b[0m \u001b[0mn\u001b[0m\u001b[0;34m)\u001b[0m\u001b[0;34m\u001b[0m\u001b[0;34m\u001b[0m\u001b[0m\n\u001b[0m\u001b[1;32m   1387\u001b[0m \u001b[0;34m\u001b[0m\u001b[0m\n",
      "\u001b[0;32m~/anaconda3/lib/python3.7/site-packages/pandas/core/indexers.py\u001b[0m in \u001b[0;36mmaybe_convert_indices\u001b[0;34m(indices, n)\u001b[0m\n\u001b[1;32m    212\u001b[0m     \u001b[0;32mif\u001b[0m \u001b[0mmask\u001b[0m\u001b[0;34m.\u001b[0m\u001b[0many\u001b[0m\u001b[0;34m(\u001b[0m\u001b[0;34m)\u001b[0m\u001b[0;34m:\u001b[0m\u001b[0;34m\u001b[0m\u001b[0;34m\u001b[0m\u001b[0m\n\u001b[0;32m--> 213\u001b[0;31m         \u001b[0;32mraise\u001b[0m \u001b[0mIndexError\u001b[0m\u001b[0;34m(\u001b[0m\u001b[0;34m\"indices are out-of-bounds\"\u001b[0m\u001b[0;34m)\u001b[0m\u001b[0;34m\u001b[0m\u001b[0;34m\u001b[0m\u001b[0m\n\u001b[0m\u001b[1;32m    214\u001b[0m     \u001b[0;32mreturn\u001b[0m \u001b[0mindices\u001b[0m\u001b[0;34m\u001b[0m\u001b[0;34m\u001b[0m\u001b[0m\n",
      "\u001b[0;31mIndexError\u001b[0m: indices are out-of-bounds",
      "\nDuring handling of the above exception, another exception occurred:\n",
      "\u001b[0;31mIndexError\u001b[0m                                Traceback (most recent call last)",
      "\u001b[0;32m<ipython-input-10-0725ac8cfe30>\u001b[0m in \u001b[0;36m<module>\u001b[0;34m\u001b[0m\n\u001b[1;32m      1\u001b[0m \u001b[0;32mfor\u001b[0m \u001b[0mrow_i\u001b[0m \u001b[0;32min\u001b[0m \u001b[0mrange\u001b[0m\u001b[0;34m(\u001b[0m\u001b[0;36m0\u001b[0m\u001b[0;34m,\u001b[0m\u001b[0;36m10\u001b[0m\u001b[0;34m)\u001b[0m\u001b[0;34m:\u001b[0m\u001b[0;34m\u001b[0m\u001b[0;34m\u001b[0m\u001b[0m\n\u001b[1;32m      2\u001b[0m     \u001b[0mprint\u001b[0m\u001b[0;34m(\u001b[0m\u001b[0mrow_i\u001b[0m\u001b[0;34m)\u001b[0m\u001b[0;34m\u001b[0m\u001b[0;34m\u001b[0m\u001b[0m\n\u001b[0;32m----> 3\u001b[0;31m     \u001b[0mproto_examples_i\u001b[0m \u001b[0;34m=\u001b[0m \u001b[0mutils\u001b[0m\u001b[0;34m.\u001b[0m\u001b[0mprep_cnn_np\u001b[0m\u001b[0;34m(\u001b[0m\u001b[0msurvey_df_yeari_chunki\u001b[0m\u001b[0;34m.\u001b[0m\u001b[0miloc\u001b[0m\u001b[0;34m[\u001b[0m\u001b[0;34m[\u001b[0m\u001b[0mrow_i\u001b[0m\u001b[0;34m]\u001b[0m\u001b[0;34m]\u001b[0m\u001b[0;34m,\u001b[0m \u001b[0mSATELLITE\u001b[0m\u001b[0;34m,\u001b[0m \u001b[0mKERNEL_SIZE\u001b[0m\u001b[0;34m,\u001b[0m \u001b[0myear_i\u001b[0m\u001b[0;34m)\u001b[0m\u001b[0;34m\u001b[0m\u001b[0;34m\u001b[0m\u001b[0m\n\u001b[0m",
      "\u001b[0;32m~/anaconda3/lib/python3.7/site-packages/pandas/core/indexing.py\u001b[0m in \u001b[0;36m__getitem__\u001b[0;34m(self, key)\u001b[0m\n\u001b[1;32m   1766\u001b[0m \u001b[0;34m\u001b[0m\u001b[0m\n\u001b[1;32m   1767\u001b[0m             \u001b[0mmaybe_callable\u001b[0m \u001b[0;34m=\u001b[0m \u001b[0mcom\u001b[0m\u001b[0;34m.\u001b[0m\u001b[0mapply_if_callable\u001b[0m\u001b[0;34m(\u001b[0m\u001b[0mkey\u001b[0m\u001b[0;34m,\u001b[0m \u001b[0mself\u001b[0m\u001b[0;34m.\u001b[0m\u001b[0mobj\u001b[0m\u001b[0;34m)\u001b[0m\u001b[0;34m\u001b[0m\u001b[0;34m\u001b[0m\u001b[0m\n\u001b[0;32m-> 1768\u001b[0;31m             \u001b[0;32mreturn\u001b[0m \u001b[0mself\u001b[0m\u001b[0;34m.\u001b[0m\u001b[0m_getitem_axis\u001b[0m\u001b[0;34m(\u001b[0m\u001b[0mmaybe_callable\u001b[0m\u001b[0;34m,\u001b[0m \u001b[0maxis\u001b[0m\u001b[0;34m=\u001b[0m\u001b[0maxis\u001b[0m\u001b[0;34m)\u001b[0m\u001b[0;34m\u001b[0m\u001b[0;34m\u001b[0m\u001b[0m\n\u001b[0m\u001b[1;32m   1769\u001b[0m \u001b[0;34m\u001b[0m\u001b[0m\n\u001b[1;32m   1770\u001b[0m     \u001b[0;32mdef\u001b[0m \u001b[0m_is_scalar_access\u001b[0m\u001b[0;34m(\u001b[0m\u001b[0mself\u001b[0m\u001b[0;34m,\u001b[0m \u001b[0mkey\u001b[0m\u001b[0;34m:\u001b[0m \u001b[0mTuple\u001b[0m\u001b[0;34m)\u001b[0m\u001b[0;34m:\u001b[0m\u001b[0;34m\u001b[0m\u001b[0;34m\u001b[0m\u001b[0m\n",
      "\u001b[0;32m~/anaconda3/lib/python3.7/site-packages/pandas/core/indexing.py\u001b[0m in \u001b[0;36m_getitem_axis\u001b[0;34m(self, key, axis)\u001b[0m\n\u001b[1;32m   2127\u001b[0m         \u001b[0;31m# a list of integers\u001b[0m\u001b[0;34m\u001b[0m\u001b[0;34m\u001b[0m\u001b[0;34m\u001b[0m\u001b[0m\n\u001b[1;32m   2128\u001b[0m         \u001b[0;32melif\u001b[0m \u001b[0mis_list_like_indexer\u001b[0m\u001b[0;34m(\u001b[0m\u001b[0mkey\u001b[0m\u001b[0;34m)\u001b[0m\u001b[0;34m:\u001b[0m\u001b[0;34m\u001b[0m\u001b[0;34m\u001b[0m\u001b[0m\n\u001b[0;32m-> 2129\u001b[0;31m             \u001b[0;32mreturn\u001b[0m \u001b[0mself\u001b[0m\u001b[0;34m.\u001b[0m\u001b[0m_get_list_axis\u001b[0m\u001b[0;34m(\u001b[0m\u001b[0mkey\u001b[0m\u001b[0;34m,\u001b[0m \u001b[0maxis\u001b[0m\u001b[0;34m=\u001b[0m\u001b[0maxis\u001b[0m\u001b[0;34m)\u001b[0m\u001b[0;34m\u001b[0m\u001b[0;34m\u001b[0m\u001b[0m\n\u001b[0m\u001b[1;32m   2130\u001b[0m \u001b[0;34m\u001b[0m\u001b[0m\n\u001b[1;32m   2131\u001b[0m         \u001b[0;31m# a single integer\u001b[0m\u001b[0;34m\u001b[0m\u001b[0;34m\u001b[0m\u001b[0;34m\u001b[0m\u001b[0m\n",
      "\u001b[0;32m~/anaconda3/lib/python3.7/site-packages/pandas/core/indexing.py\u001b[0m in \u001b[0;36m_get_list_axis\u001b[0;34m(self, key, axis)\u001b[0m\n\u001b[1;32m   2112\u001b[0m         \u001b[0;32mexcept\u001b[0m \u001b[0mIndexError\u001b[0m\u001b[0;34m:\u001b[0m\u001b[0;34m\u001b[0m\u001b[0;34m\u001b[0m\u001b[0m\n\u001b[1;32m   2113\u001b[0m             \u001b[0;31m# re-raise with different error message\u001b[0m\u001b[0;34m\u001b[0m\u001b[0;34m\u001b[0m\u001b[0;34m\u001b[0m\u001b[0m\n\u001b[0;32m-> 2114\u001b[0;31m             \u001b[0;32mraise\u001b[0m \u001b[0mIndexError\u001b[0m\u001b[0;34m(\u001b[0m\u001b[0;34m\"positional indexers are out-of-bounds\"\u001b[0m\u001b[0;34m)\u001b[0m\u001b[0;34m\u001b[0m\u001b[0;34m\u001b[0m\u001b[0m\n\u001b[0m\u001b[1;32m   2115\u001b[0m \u001b[0;34m\u001b[0m\u001b[0m\n\u001b[1;32m   2116\u001b[0m     \u001b[0;32mdef\u001b[0m \u001b[0m_getitem_axis\u001b[0m\u001b[0;34m(\u001b[0m\u001b[0mself\u001b[0m\u001b[0;34m,\u001b[0m \u001b[0mkey\u001b[0m\u001b[0;34m,\u001b[0m \u001b[0maxis\u001b[0m\u001b[0;34m:\u001b[0m \u001b[0mint\u001b[0m\u001b[0;34m)\u001b[0m\u001b[0;34m:\u001b[0m\u001b[0;34m\u001b[0m\u001b[0;34m\u001b[0m\u001b[0m\n",
      "\u001b[0;31mIndexError\u001b[0m: positional indexers are out-of-bounds"
     ]
    }
   ],
   "source": [
    "for row_i in range(0,10):\n",
    "    print(row_i)\n",
    "    proto_examples_i = utils.prep_cnn_np(survey_df_yeari_chunki.iloc[[row_i]], SATELLITE, KERNEL_SIZE, year_i)"
   ]
  },
  {
   "cell_type": "code",
   "execution_count": null,
   "metadata": {
    "id": "3l_U7gwb_vDC"
   },
   "outputs": [],
   "source": [
    "survey_df_yeari_chunki.iloc[[4]]"
   ]
  },
  {
   "cell_type": "code",
   "execution_count": null,
   "metadata": {
    "colab": {
     "base_uri": "https://localhost:8080/",
     "height": 224
    },
    "id": "YuhpLiDq_zLm",
    "outputId": "f5dc6270-4493-4cbf-b2b0-18ec047077fa"
   },
   "outputs": [],
   "source": []
  },
  {
   "cell_type": "code",
   "execution_count": null,
   "metadata": {
    "colab": {
     "base_uri": "https://localhost:8080/"
    },
    "id": "zU05sc-s29jA",
    "outputId": "f9f946fc-d6a6-44e8-c2c2-539ec29937b9"
   },
   "outputs": [],
   "source": []
  },
  {
   "cell_type": "code",
   "execution_count": null,
   "metadata": {
    "id": "fVeX2_WIkGiV"
   },
   "outputs": [],
   "source": []
  },
  {
   "cell_type": "code",
   "execution_count": 72,
   "metadata": {
    "id": "4RhcmrWylK6k"
   },
   "outputs": [],
   "source": []
  },
  {
   "cell_type": "code",
   "execution_count": null,
   "metadata": {
    "colab": {
     "base_uri": "https://localhost:8080/",
     "height": 80
    },
    "id": "pFHX00Y4ld81",
    "outputId": "4c9c913a-dce5-47b7-e28e-b9c6f14b7fed"
   },
   "outputs": [],
   "source": []
  },
  {
   "cell_type": "code",
   "execution_count": null,
   "metadata": {
    "colab": {
     "base_uri": "https://localhost:8080/"
    },
    "id": "9tk6RNyHXVZC",
    "outputId": "8806e5aa-370a-4a24-c6ba-062cf52f5ffb"
   },
   "outputs": [],
   "source": []
  },
  {
   "cell_type": "code",
   "execution_count": null,
   "metadata": {
    "id": "WAVqwXz7_lDL"
   },
   "outputs": [],
   "source": []
  },
  {
   "cell_type": "code",
   "execution_count": null,
   "metadata": {
    "colab": {
     "base_uri": "https://localhost:8080/"
    },
    "id": "I9atvzCW65oh",
    "outputId": "515a1320-e759-4e12-a053-362d7562c52f"
   },
   "outputs": [],
   "source": []
  },
  {
   "cell_type": "code",
   "execution_count": null,
   "metadata": {
    "colab": {
     "base_uri": "https://localhost:8080/"
    },
    "id": "5UrbRLqLKAtA",
    "outputId": "936ca132-44fc-45cb-d754-ad9dcfb8901e"
   },
   "outputs": [],
   "source": []
  },
  {
   "cell_type": "code",
   "execution_count": null,
   "metadata": {
    "id": "gaBcOr2w77ZL"
   },
   "outputs": [],
   "source": []
  },
  {
   "cell_type": "code",
   "execution_count": null,
   "metadata": {
    "colab": {
     "base_uri": "https://localhost:8080/"
    },
    "id": "l69Wpxz5XVZC",
    "outputId": "5d4d531b-61ef-45c7-b5b5-f25cb875c6b6"
   },
   "outputs": [],
   "source": []
  },
  {
   "cell_type": "code",
   "execution_count": null,
   "metadata": {
    "colab": {
     "base_uri": "https://localhost:8080/"
    },
    "id": "Q9MXwUdTXVZD",
    "outputId": "0bc2748f-ebe3-466d-a859-924eaa1b9081"
   },
   "outputs": [],
   "source": []
  },
  {
   "cell_type": "code",
   "execution_count": null,
   "metadata": {
    "colab": {
     "base_uri": "https://localhost:8080/",
     "height": 181
    },
    "id": "iLbrGQTRojcS",
    "outputId": "43aabd48-e175-4d1c-f5f1-48be198520b0"
   },
   "outputs": [],
   "source": []
  },
  {
   "cell_type": "code",
   "execution_count": null,
   "metadata": {
    "colab": {
     "base_uri": "https://localhost:8080/",
     "height": 198
    },
    "id": "VHZAJ22anj6b",
    "outputId": "bebf3669-139a-423a-a967-78109a8c80a2"
   },
   "outputs": [],
   "source": []
  },
  {
   "cell_type": "code",
   "execution_count": null,
   "metadata": {
    "id": "y1MXAhkbpRkI"
   },
   "outputs": [],
   "source": []
  },
  {
   "cell_type": "code",
   "execution_count": null,
   "metadata": {
    "colab": {
     "base_uri": "https://localhost:8080/",
     "height": 198
    },
    "id": "93PWEi6jm-3K",
    "outputId": "67dcc0a7-1516-4ee8-bfd9-694fd0f347de"
   },
   "outputs": [],
   "source": []
  },
  {
   "cell_type": "code",
   "execution_count": null,
   "metadata": {
    "id": "5Rm6K6D-XVZD"
   },
   "outputs": [],
   "source": []
  },
  {
   "cell_type": "code",
   "execution_count": null,
   "metadata": {
    "colab": {
     "base_uri": "https://localhost:8080/"
    },
    "id": "fod-VYxLXVZE",
    "outputId": "3dd1f56a-476b-4aad-8279-86840b0bc026"
   },
   "outputs": [],
   "source": []
  },
  {
   "cell_type": "code",
   "execution_count": null,
   "metadata": {
    "colab": {
     "base_uri": "https://localhost:8080/"
    },
    "id": "t0iUwZmAXVZE",
    "outputId": "a33e2442-ae0c-4f62-ce6b-eddb002c165d"
   },
   "outputs": [],
   "source": []
  },
  {
   "cell_type": "code",
   "execution_count": null,
   "metadata": {
    "colab": {
     "base_uri": "https://localhost:8080/"
    },
    "id": "62ReOurYXVZE",
    "outputId": "92795c41-e2b9-4971-f512-9d56b18cf5d8"
   },
   "outputs": [],
   "source": []
  },
  {
   "cell_type": "code",
   "execution_count": null,
   "metadata": {
    "id": "-SajCSlNXVZE"
   },
   "outputs": [],
   "source": []
  },
  {
   "cell_type": "code",
   "execution_count": null,
   "metadata": {
    "id": "LJAM4iswXVZE"
   },
   "outputs": [],
   "source": []
  },
  {
   "cell_type": "code",
   "execution_count": null,
   "metadata": {
    "id": "9wYDJxfpXVZF"
   },
   "outputs": [],
   "source": []
  },
  {
   "cell_type": "code",
   "execution_count": null,
   "metadata": {
    "id": "Zb0U780PXVZF"
   },
   "outputs": [],
   "source": []
  },
  {
   "cell_type": "code",
   "execution_count": null,
   "metadata": {
    "id": "pBuKts4wXVZF"
   },
   "outputs": [],
   "source": []
  },
  {
   "cell_type": "code",
   "execution_count": null,
   "metadata": {
    "id": "IS7Bb2f0XVZF"
   },
   "outputs": [],
   "source": []
  },
  {
   "cell_type": "code",
   "execution_count": null,
   "metadata": {
    "id": "ju-_zuLnXVZF"
   },
   "outputs": [],
   "source": []
  },
  {
   "cell_type": "code",
   "execution_count": null,
   "metadata": {
    "id": "fD0SacCEXVZF"
   },
   "outputs": [],
   "source": []
  },
  {
   "cell_type": "code",
   "execution_count": null,
   "metadata": {
    "id": "0xqAkzCqXVZG"
   },
   "outputs": [],
   "source": []
  },
  {
   "cell_type": "code",
   "execution_count": null,
   "metadata": {
    "id": "JDskpn-iXVZG"
   },
   "outputs": [],
   "source": []
  },
  {
   "cell_type": "code",
   "execution_count": null,
   "metadata": {
    "id": "0Iep8MNNXVZG"
   },
   "outputs": [],
   "source": []
  },
  {
   "cell_type": "code",
   "execution_count": null,
   "metadata": {
    "id": "TNjhMUDHXVZH"
   },
   "outputs": [],
   "source": []
  },
  {
   "cell_type": "code",
   "execution_count": null,
   "metadata": {
    "id": "mPzEHDBcXVZH"
   },
   "outputs": [],
   "source": []
  },
  {
   "cell_type": "code",
   "execution_count": null,
   "metadata": {
    "id": "jVI8BPYMXVZH"
   },
   "outputs": [],
   "source": []
  },
  {
   "cell_type": "code",
   "execution_count": null,
   "metadata": {
    "id": "eQR8aHw2XVZH"
   },
   "outputs": [],
   "source": []
  },
  {
   "cell_type": "code",
   "execution_count": null,
   "metadata": {
    "id": "H5pJ0FIOXVZI"
   },
   "outputs": [],
   "source": []
  },
  {
   "cell_type": "code",
   "execution_count": null,
   "metadata": {
    "id": "H9GuSI50opSX"
   },
   "outputs": [],
   "source": []
  }
 ],
 "metadata": {
  "colab": {
   "collapsed_sections": [],
   "name": "01_extract_data_gee_for_cnn.ipynb",
   "provenance": []
  },
  "kernelspec": {
   "display_name": "Python 3",
   "language": "python",
   "name": "python3"
  },
  "language_info": {
   "codemirror_mode": {
    "name": "ipython",
    "version": 3
   },
   "file_extension": ".py",
   "mimetype": "text/x-python",
   "name": "python",
   "nbconvert_exporter": "python",
   "pygments_lexer": "ipython3",
   "version": "3.7.2"
  }
 },
 "nbformat": 4,
 "nbformat_minor": 2
}
