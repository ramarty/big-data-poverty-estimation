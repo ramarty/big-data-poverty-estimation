{
 "cells": [
  {
   "cell_type": "markdown",
   "metadata": {
    "id": "X0MV-G1dXVY2"
   },
   "source": [
    "# Prepare CNN Data"
   ]
  },
  {
   "cell_type": "markdown",
   "metadata": {
    "id": "iuOZpPbiXVY5"
   },
   "source": [
    "## Setup"
   ]
  },
  {
   "cell_type": "code",
   "execution_count": 1,
   "metadata": {},
   "outputs": [
    {
     "data": {
      "text/html": [
       "<p>To authorize access needed by Earth Engine, open the following\n",
       "        URL in a web browser and follow the instructions:</p>\n",
       "        <p><a href=https://accounts.google.com/o/oauth2/auth?client_id=517222506229-vsmmajv00ul0bs7p89v5m89qs8eb9359.apps.googleusercontent.com&scope=https%3A%2F%2Fwww.googleapis.com%2Fauth%2Fearthengine+https%3A%2F%2Fwww.googleapis.com%2Fauth%2Fdevstorage.full_control&redirect_uri=urn%3Aietf%3Awg%3Aoauth%3A2.0%3Aoob&response_type=code&code_challenge=KDQPB5C5AD_CDFlgI5vOwTDjhT-L-p39KTqx_QQyGQ0&code_challenge_method=S256>https://accounts.google.com/o/oauth2/auth?client_id=517222506229-vsmmajv00ul0bs7p89v5m89qs8eb9359.apps.googleusercontent.com&scope=https%3A%2F%2Fwww.googleapis.com%2Fauth%2Fearthengine+https%3A%2F%2Fwww.googleapis.com%2Fauth%2Fdevstorage.full_control&redirect_uri=urn%3Aietf%3Awg%3Aoauth%3A2.0%3Aoob&response_type=code&code_challenge=KDQPB5C5AD_CDFlgI5vOwTDjhT-L-p39KTqx_QQyGQ0&code_challenge_method=S256</a></p>\n",
       "        <p>The authorization workflow will generate a code, which you\n",
       "        should paste in the box below</p>\n",
       "        "
      ],
      "text/plain": [
       "<IPython.core.display.HTML object>"
      ]
     },
     "metadata": {},
     "output_type": "display_data"
    },
    {
     "name": "stdin",
     "output_type": "stream",
     "text": [
      "Enter verification code:  4/1AX4XfWhFp8h1LFROJ-jbIzCbhsabPaA9dtypqyieLv7fioEdg4nCAuclda4\n"
     ]
    },
    {
     "name": "stdout",
     "output_type": "stream",
     "text": [
      "\n",
      "Successfully saved authorization token.\n"
     ]
    }
   ],
   "source": [
    "# USE ACCOUNT: robmarty3@gmail.com\n",
    "import ee\n",
    "ee.Authenticate()\n",
    "ee.Initialize()"
   ]
  },
  {
   "cell_type": "code",
   "execution_count": 11,
   "metadata": {},
   "outputs": [],
   "source": [
    "#image = ee.ImageCollection('LANDSAT/LC08/C02/T1_L2')\\\n",
    "#    .filterDate(\"2019-01-01\", \"2019-02-01\")\\\n",
    "#    .map(cloud_mask_landsatSR)\\\n",
    "#    .median()\n",
    "#\n",
    "#print(image.getInfo())"
   ]
  },
  {
   "cell_type": "code",
   "execution_count": 12,
   "metadata": {},
   "outputs": [],
   "source": [
    "import numpy as np\n",
    "import os, datetime\n",
    "import pandas as pd\n",
    "import itertools\n",
    "import tensorflow as tf\n",
    "import config as cf\n",
    "import ee_utils as utils\n",
    "import eeconvert\n",
    "import time\n",
    "\n",
    "#import geetools\n",
    "#from geetools import ui, cloud_mask\n",
    "#cloud_mask_landsatSR = cloud_mask.landsatSR()\n",
    "#cloud_mask_sentinel2 = cloud_mask.sentinel2()"
   ]
  },
  {
   "cell_type": "markdown",
   "metadata": {},
   "source": [
    "## Parameters"
   ]
  },
  {
   "cell_type": "code",
   "execution_count": 13,
   "metadata": {
    "id": "TqWX3QM4mVPW"
   },
   "outputs": [
    {
     "name": "stdout",
     "output_type": "stream",
     "text": [
      "167\n"
     ]
    }
   ],
   "source": [
    "#224\n",
    "SURVEY_NAME = 'DHS'\n",
    "SATELLITE = 'l8'\n",
    "SKIP_IF_SCRAPED = True\n",
    "CHUNK_SIZE = 10 # Number of observtaions to scrape in GEE at any given time\n",
    "DROPBOX_DIR = cf.DROPBOX_DIRECTORY\n",
    "GOOGLEDRIVE_DIR = cf.GOOGLEDRIVE_DIRECTORY\n",
    "\n",
    "if SATELLITE == 's2':\n",
    "    KERNEL_SIZE = 500\n",
    "elif SATELLITE == 'l8':\n",
    "    KERNEL_SIZE = 167\n",
    "\n",
    "print(KERNEL_SIZE)"
   ]
  },
  {
   "cell_type": "code",
   "execution_count": 14,
   "metadata": {
    "colab": {
     "base_uri": "https://localhost:8080/"
    },
    "id": "MwPA7XTCYmjh",
    "outputId": "74e611ba-5c81-44ca-e2ce-c595399753a0"
   },
   "outputs": [],
   "source": [
    "# Directory to store tfrecords\n",
    "out_path = os.path.join(GOOGLEDRIVE_DIR, \n",
    "            'Data', \n",
    "            SURVEY_NAME, \n",
    "            'FinalData',\n",
    "            'Individual Datasets',\n",
    "            'cnn_' + SATELLITE,\n",
    "            'tfrecords')"
   ]
  },
  {
   "cell_type": "markdown",
   "metadata": {
    "colab": {
     "base_uri": "https://localhost:8080/"
    },
    "id": "phzXq49zXVY5",
    "outputId": "0b60e419-0e3f-44e2-e927-0895afb316cc"
   },
   "source": [
    "## Load Data"
   ]
  },
  {
   "cell_type": "code",
   "execution_count": 15,
   "metadata": {},
   "outputs": [
    {
     "data": {
      "text/plain": [
       "(64249, 44)"
      ]
     },
     "execution_count": 15,
     "metadata": {},
     "output_type": "execute_result"
    }
   ],
   "source": [
    "# Relies on VIIRs Values\n",
    "survey_df = pd.read_csv(os.path.join(DROPBOX_DIR, 'Data', SURVEY_NAME, 'FinalData', 'Individual Datasets', 'survey_socioeconomic.csv'))\n",
    "\n",
    "viirs_2_5km_df = pd.read_csv(os.path.join(DROPBOX_DIR, 'Data', SURVEY_NAME, 'FinalData', 'Individual Datasets', 'survey_viirs_2_5km.csv'))\n",
    "viirs_5km_df = pd.read_csv(os.path.join(DROPBOX_DIR, 'Data', SURVEY_NAME, 'FinalData', 'Individual Datasets', 'survey_viirs_5km.csv'))\n",
    "\n",
    "viirs_2_5km_df.viirs_avg_rad = np.log(viirs_2_5km_df.viirs_avg_rad + 1)\n",
    "viirs_5km_df.viirs_avg_rad = np.log(viirs_5km_df.viirs_avg_rad + 1)\n",
    "\n",
    "viirs_2_5km_df = viirs_2_5km_df.rename(columns={\"viirs_avg_rad\": \"viirs_avg_rad_2_5km\"})\n",
    "viirs_5km_df = viirs_5km_df.rename(columns={\"viirs_avg_rad\": \"viirs_avg_rad_5km\"})\n",
    "\n",
    "survey_df = survey_df.merge(viirs_2_5km_df, on = 'uid')\n",
    "survey_df = survey_df.merge(viirs_5km_df, on = 'uid')\n",
    "\n",
    "survey_df.shape"
   ]
  },
  {
   "cell_type": "code",
   "execution_count": 16,
   "metadata": {
    "colab": {
     "base_uri": "https://localhost:8080/"
    },
    "id": "hpXnbunXYZdP",
    "outputId": "9cf085c9-5a7c-4298-9600-36158f5d7f7c"
   },
   "outputs": [],
   "source": [
    "# Sentinel doesn't capture Lakshadweep (island off coast of mainland India)\n",
    "#survey_df = survey_df[survey_df['GID_2'] != \"IND.18.1_1\"]\n",
    "\n",
    "# List of TF Records\n",
    "tf_record_list = list(np.unique(survey_df.tfrecord_name))"
   ]
  },
  {
   "cell_type": "code",
   "execution_count": 17,
   "metadata": {},
   "outputs": [],
   "source": [
    "# Remove if issues extracting\n",
    "#survey_df = survey_df[survey_df['uid'] != \"IA201400180079\"]\n",
    "#survey_df = survey_df[survey_df['uid'] != \"IA201400180052\"]\n",
    "#survey_df = survey_df[survey_df['uid'] != \"IA201400180112\"]\n",
    "#survey_df = survey_df[survey_df['uid'] != \"IA201400180081\"]\n",
    "#survey_df = survey_df[survey_df['uid'] != \"IA201400180011\"]\n",
    "#survey_df = survey_df[survey_df['uid'] != \"IA201400180048\"]\n",
    "#survey_df = survey_df[survey_df['uid'] != \"IA201400180058\"]\n",
    "#survey_df = survey_df[survey_df['uid'] != \"IA201400180028\"]\n",
    "#survey_df = survey_df[survey_df['uid'] != \"IA201400180072\"]\n",
    "#survey_df = survey_df[survey_df['uid'] != \"IA201400180047\"]\n",
    "#survey_df = survey_df[survey_df['uid'] != \"IA201400180012\"]\n",
    "#survey_df = survey_df[survey_df['uid'] != \"IA201400180040\"]\n",
    "#survey_df = survey_df[survey_df['uid'] != \"IA201400180055\"]\n",
    "#survey_df = survey_df[survey_df['uid'] != \"IA201400180140\"]\n",
    "#survey_df = survey_df[survey_df['uid'] != \"IA201400180030\"]\n",
    "#survey_df = survey_df[survey_df['uid'] != \"IA201400180104\"]\n",
    "#survey_df = survey_df[survey_df['uid'] != \"IA201400180123\"]\n",
    "#survey_df = survey_df[survey_df['uid'] != \"IA201400180062\"]\n",
    "#survey_df = survey_df[survey_df['uid'] != \"IA201400180080\"]\n",
    "#survey_df = survey_df[survey_df['uid'] != \"IA201400180050\"]\n",
    "#survey_df = survey_df[survey_df['uid'] != \"IA201400180116\"]"
   ]
  },
  {
   "cell_type": "code",
   "execution_count": 18,
   "metadata": {
    "id": "PTEEJI89XVY6"
   },
   "outputs": [],
   "source": [
    "# If skip already scraped, remove existing tfrecords from tf_record_list\n",
    "if SKIP_IF_SCRAPED:\n",
    "    tf_records_exist = os.listdir(out_path)\n",
    "    tf_record_list = [x for x in tf_record_list if x not in tf_records_exist]"
   ]
  },
  {
   "cell_type": "code",
   "execution_count": null,
   "metadata": {
    "id": "c89pBOUXZT_V"
   },
   "outputs": [
    {
     "name": "stderr",
     "output_type": "stream",
     "text": [
      "/Users/robmarty/anaconda3/lib/python3.7/site-packages/ipykernel_launcher.py:12: SettingWithCopyWarning: \n",
      "A value is trying to be set on a copy of a slice from a DataFrame.\n",
      "Try using .loc[row_indexer,col_indexer] = value instead\n",
      "\n",
      "See the caveats in the documentation: https://pandas.pydata.org/pandas-docs/stable/user_guide/indexing.html#returning-a-view-versus-a-copy\n",
      "  if sys.path[0] == '':\n"
     ]
    },
    {
     "name": "stdout",
     "output_type": "stream",
     "text": [
      "Putting 128 observations into AO_1_1.tfrecord\n",
      "Observation: 0/128\n",
      "Observation: 10/128\n",
      "Observation: 20/128\n",
      "Observation: 30/128\n",
      "Observation: 40/128\n",
      "Observation: 50/128\n",
      "Observation: 60/128\n",
      "Observation: 70/128\n",
      "Observation: 80/128\n",
      "Observation: 90/128\n",
      "Observation: 100/128\n",
      "Observation: 110/128\n",
      "Observation: 120/128\n",
      "/Users/robmarty/Google Drive/World Bank/IEs/Pakistan Poverty Estimation/Data/DHS/FinalData/Individual Datasets/cnn_l8/tfrecords/AO_1_1.tfrecord\n",
      "Putting 125 observations into AO_2_1.tfrecord\n",
      "Observation: 0/125\n",
      "Observation: 10/125\n",
      "Observation: 20/125\n",
      "Observation: 30/125\n",
      "Observation: 40/125\n",
      "Observation: 50/125\n",
      "Observation: 60/125\n",
      "Observation: 70/125\n",
      "Observation: 80/125\n",
      "Observation: 90/125\n",
      "Observation: 100/125\n",
      "Observation: 110/125\n",
      "Observation: 120/125\n",
      "/Users/robmarty/Google Drive/World Bank/IEs/Pakistan Poverty Estimation/Data/DHS/FinalData/Individual Datasets/cnn_l8/tfrecords/AO_2_1.tfrecord\n",
      "Putting 146 observations into AO_3_1.tfrecord\n",
      "Observation: 0/146\n"
     ]
    },
    {
     "name": "stderr",
     "output_type": "stream",
     "text": [
      "/Users/robmarty/Documents/Github/Pakistan-Poverty-from-Sky/DataWork/02_get_process_ancillary_data/CNN Features Predict NTL/ee_utils.py:80: RuntimeWarning: invalid value encountered in true_divide\n",
      "  return (values2 - values1)/(values2 + values1)\n"
     ]
    },
    {
     "name": "stdout",
     "output_type": "stream",
     "text": [
      "Observation: 10/146\n",
      "Observation: 20/146\n",
      "Observation: 30/146\n",
      "Observation: 40/146\n",
      "Observation: 50/146\n",
      "Observation: 60/146\n",
      "Observation: 70/146\n",
      "Observation: 80/146\n",
      "Observation: 90/146\n",
      "Observation: 100/146\n",
      "Observation: 110/146\n",
      "Observation: 120/146\n",
      "Observation: 130/146\n",
      "Observation: 140/146\n",
      "/Users/robmarty/Google Drive/World Bank/IEs/Pakistan Poverty Estimation/Data/DHS/FinalData/Individual Datasets/cnn_l8/tfrecords/AO_3_1.tfrecord\n",
      "Putting 85 observations into AO_4_1.tfrecord\n",
      "Observation: 0/85\n",
      "Observation: 10/85\n",
      "Observation: 20/85\n",
      "Putting 141 observations into AO_5_1.tfrecord\n",
      "Observation: 0/141\n",
      "Observation: 10/141\n",
      "Observation: 20/141\n",
      "Observation: 30/141\n",
      "Observation: 40/141\n",
      "Observation: 50/141\n",
      "Observation: 60/141\n",
      "Observation: 70/141\n",
      "Observation: 80/141\n",
      "Observation: 90/141\n",
      "Observation: 100/141\n",
      "Observation: 110/141\n",
      "Observation: 120/141\n",
      "Observation: 130/141\n",
      "Observation: 140/141\n",
      "/Users/robmarty/Google Drive/World Bank/IEs/Pakistan Poverty Estimation/Data/DHS/FinalData/Individual Datasets/cnn_l8/tfrecords/AO_5_1.tfrecord\n",
      "Putting 137 observations into BD_1_1.tfrecord\n",
      "Observation: 0/137\n",
      "Observation: 10/137\n",
      "Observation: 20/137\n",
      "Observation: 30/137\n",
      "Observation: 40/137\n",
      "Observation: 50/137\n",
      "Observation: 60/137\n",
      "Observation: 70/137\n",
      "Observation: 80/137\n",
      "Observation: 90/137\n",
      "Observation: 100/137\n",
      "Observation: 110/137\n",
      "Observation: 120/137\n",
      "Observation: 130/137\n",
      "/Users/robmarty/Google Drive/World Bank/IEs/Pakistan Poverty Estimation/Data/DHS/FinalData/Individual Datasets/cnn_l8/tfrecords/BD_1_1.tfrecord\n",
      "Putting 133 observations into BD_2_1.tfrecord\n",
      "Observation: 0/133\n",
      "Observation: 10/133\n",
      "Observation: 20/133\n",
      "Observation: 30/133\n",
      "Observation: 40/133\n",
      "Observation: 50/133\n",
      "Observation: 60/133\n",
      "Observation: 70/133\n",
      "Observation: 80/133\n",
      "Observation: 90/133\n",
      "Observation: 100/133\n",
      "Observation: 110/133\n",
      "Observation: 120/133\n",
      "Observation: 130/133\n",
      "/Users/robmarty/Google Drive/World Bank/IEs/Pakistan Poverty Estimation/Data/DHS/FinalData/Individual Datasets/cnn_l8/tfrecords/BD_2_1.tfrecord\n",
      "Putting 85 observations into BD_3_1.tfrecord\n",
      "Observation: 0/85\n",
      "Observation: 10/85\n",
      "Observation: 20/85\n",
      "Observation: 30/85\n",
      "Observation: 40/85\n",
      "Observation: 50/85\n",
      "Observation: 60/85\n",
      "Observation: 70/85\n",
      "Observation: 80/85\n",
      "/Users/robmarty/Google Drive/World Bank/IEs/Pakistan Poverty Estimation/Data/DHS/FinalData/Individual Datasets/cnn_l8/tfrecords/BD_3_1.tfrecord\n",
      "Putting 154 observations into BD_4_1.tfrecord\n",
      "Observation: 0/154\n",
      "Observation: 10/154\n",
      "Observation: 20/154\n",
      "Observation: 30/154\n",
      "Observation: 40/154\n",
      "Observation: 50/154\n",
      "Putting 163 observations into BD_5_1.tfrecord\n",
      "Observation: 0/163\n",
      "Observation: 10/163\n",
      "Observation: 20/163\n",
      "Observation: 30/163\n",
      "Observation: 40/163\n",
      "Observation: 50/163\n",
      "Observation: 60/163\n",
      "Observation: 70/163\n",
      "Observation: 80/163\n",
      "Observation: 90/163\n",
      "Observation: 100/163\n",
      "Observation: 110/163\n",
      "Observation: 120/163\n",
      "Observation: 130/163\n",
      "Observation: 140/163\n",
      "Observation: 150/163\n",
      "Observation: 160/163\n",
      "/Users/robmarty/Google Drive/World Bank/IEs/Pakistan Poverty Estimation/Data/DHS/FinalData/Individual Datasets/cnn_l8/tfrecords/BD_5_1.tfrecord\n",
      "Putting 154 observations into BF_1_1.tfrecord\n",
      "Observation: 0/154\n",
      "Observation: 10/154\n",
      "Observation: 20/154\n",
      "Observation: 30/154\n",
      "Observation: 40/154\n",
      "Observation: 50/154\n",
      "Observation: 60/154\n",
      "Observation: 70/154\n",
      "Observation: 80/154\n",
      "Observation: 90/154\n",
      "Observation: 100/154\n",
      "Observation: 110/154\n",
      "Observation: 120/154\n",
      "Observation: 130/154\n",
      "Observation: 140/154\n",
      "Observation: 150/154\n",
      "/Users/robmarty/Google Drive/World Bank/IEs/Pakistan Poverty Estimation/Data/DHS/FinalData/Individual Datasets/cnn_l8/tfrecords/BF_1_1.tfrecord\n",
      "Putting 102 observations into BF_2_1.tfrecord\n",
      "Observation: 0/102\n",
      "Observation: 10/102\n",
      "Observation: 20/102\n",
      "Observation: 30/102\n",
      "Observation: 40/102\n",
      "Observation: 50/102\n",
      "Observation: 60/102\n",
      "Observation: 70/102\n",
      "Observation: 80/102\n",
      "Observation: 90/102\n",
      "Observation: 100/102\n",
      "/Users/robmarty/Google Drive/World Bank/IEs/Pakistan Poverty Estimation/Data/DHS/FinalData/Individual Datasets/cnn_l8/tfrecords/BF_2_1.tfrecord\n",
      "Putting 108 observations into BF_3_1.tfrecord\n",
      "Observation: 0/108\n",
      "Observation: 10/108\n",
      "Observation: 20/108\n",
      "Observation: 30/108\n",
      "Observation: 40/108\n"
     ]
    },
    {
     "name": "stderr",
     "output_type": "stream",
     "text": [
      "WARNING: Logging before flag parsing goes to stderr.\n",
      "W0910 12:31:30.334298 4588170688 http.py:171] Sleeping 0.81 seconds before retry 1 of 5 for request: POST https://earthengine.googleapis.com/v1alpha/projects/earthengine-legacy/value:compute?prettyPrint=false&alt=json, after 502\n"
     ]
    },
    {
     "name": "stdout",
     "output_type": "stream",
     "text": [
      "Observation: 50/108\n",
      "Observation: 60/108\n",
      "Observation: 70/108\n",
      "Observation: 80/108\n",
      "Observation: 90/108\n",
      "Observation: 100/108\n",
      "/Users/robmarty/Google Drive/World Bank/IEs/Pakistan Poverty Estimation/Data/DHS/FinalData/Individual Datasets/cnn_l8/tfrecords/BF_3_1.tfrecord\n",
      "Putting 78 observations into BF_4_1.tfrecord\n",
      "Observation: 0/78\n",
      "Observation: 10/78\n",
      "Observation: 20/78\n",
      "Observation: 30/78\n",
      "Observation: 40/78\n",
      "Observation: 50/78\n",
      "Observation: 60/78\n",
      "Observation: 70/78\n",
      "/Users/robmarty/Google Drive/World Bank/IEs/Pakistan Poverty Estimation/Data/DHS/FinalData/Individual Datasets/cnn_l8/tfrecords/BF_4_1.tfrecord\n",
      "Putting 99 observations into BF_5_1.tfrecord\n",
      "Observation: 0/99\n",
      "Observation: 10/99\n",
      "Observation: 20/99\n",
      "Observation: 30/99\n",
      "Observation: 40/99\n",
      "Observation: 50/99\n",
      "Observation: 60/99\n",
      "Observation: 70/99\n",
      "Observation: 80/99\n",
      "Observation: 90/99\n",
      "Putting 127 observations into BJ_1_1.tfrecord\n",
      "Observation: 0/127\n",
      "Observation: 10/127\n",
      "Observation: 20/127\n",
      "Observation: 30/127\n",
      "Observation: 40/127\n",
      "Observation: 50/127\n",
      "Observation: 60/127\n",
      "Observation: 70/127\n",
      "Observation: 80/127\n",
      "Observation: 90/127\n",
      "Observation: 100/127\n",
      "Observation: 110/127\n",
      "Observation: 120/127\n",
      "/Users/robmarty/Google Drive/World Bank/IEs/Pakistan Poverty Estimation/Data/DHS/FinalData/Individual Datasets/cnn_l8/tfrecords/BJ_1_1.tfrecord\n",
      "Putting 144 observations into BJ_2_1.tfrecord\n",
      "Observation: 0/144\n",
      "Observation: 10/144\n",
      "Observation: 20/144\n",
      "Observation: 30/144\n",
      "Observation: 40/144\n",
      "Observation: 50/144\n",
      "Observation: 60/144\n",
      "Observation: 70/144\n",
      "Observation: 80/144\n",
      "Observation: 90/144\n",
      "Observation: 100/144\n",
      "Observation: 110/144\n",
      "Observation: 120/144\n",
      "Observation: 130/144\n",
      "Observation: 140/144\n",
      "/Users/robmarty/Google Drive/World Bank/IEs/Pakistan Poverty Estimation/Data/DHS/FinalData/Individual Datasets/cnn_l8/tfrecords/BJ_2_1.tfrecord\n",
      "Putting 70 observations into BJ_3_1.tfrecord\n",
      "Observation: 0/70\n",
      "Observation: 10/70\n",
      "Observation: 20/70\n",
      "Observation: 30/70\n",
      "Observation: 40/70\n",
      "Observation: 50/70\n",
      "Observation: 60/70\n",
      "/Users/robmarty/Google Drive/World Bank/IEs/Pakistan Poverty Estimation/Data/DHS/FinalData/Individual Datasets/cnn_l8/tfrecords/BJ_3_1.tfrecord\n",
      "Putting 97 observations into BJ_4_1.tfrecord\n",
      "Observation: 0/97\n",
      "Observation: 10/97\n",
      "Observation: 20/97\n",
      "Observation: 30/97\n",
      "Observation: 40/97\n",
      "Observation: 50/97\n",
      "Observation: 60/97\n",
      "Putting 102 observations into BJ_5_1.tfrecord\n",
      "Observation: 0/102\n",
      "Observation: 10/102\n",
      "Observation: 20/102\n",
      "Observation: 30/102\n",
      "Observation: 40/102\n",
      "Observation: 50/102\n",
      "Observation: 60/102\n",
      "Observation: 70/102\n",
      "Observation: 80/102\n",
      "Observation: 90/102\n",
      "Observation: 100/102\n",
      "/Users/robmarty/Google Drive/World Bank/IEs/Pakistan Poverty Estimation/Data/DHS/FinalData/Individual Datasets/cnn_l8/tfrecords/BJ_5_1.tfrecord\n",
      "Putting 137 observations into BO_1_1.tfrecord\n",
      "Observation: 0/137\n",
      "Observation: 10/137\n",
      "Observation: 20/137\n",
      "Observation: 30/137\n",
      "Observation: 40/137\n",
      "Observation: 50/137\n",
      "Observation: 60/137\n",
      "Observation: 70/137\n",
      "Observation: 80/137\n",
      "Observation: 90/137\n",
      "Observation: 100/137\n",
      "Observation: 110/137\n",
      "Observation: 120/137\n",
      "Observation: 130/137\n",
      "/Users/robmarty/Google Drive/World Bank/IEs/Pakistan Poverty Estimation/Data/DHS/FinalData/Individual Datasets/cnn_l8/tfrecords/BO_1_1.tfrecord\n",
      "Putting 200 observations into BO_2_1.tfrecord\n",
      "Observation: 0/200\n",
      "Observation: 10/200\n",
      "Observation: 20/200\n",
      "Observation: 30/200\n",
      "Observation: 40/200\n",
      "Observation: 50/200\n"
     ]
    },
    {
     "name": "stderr",
     "output_type": "stream",
     "text": [
      "W0910 13:21:31.201469 4588170688 http.py:171] Sleeping 0.17 seconds before retry 1 of 5 for request: POST https://earthengine.googleapis.com/v1alpha/projects/earthengine-legacy/value:compute?prettyPrint=false&alt=json, after 502\n"
     ]
    },
    {
     "name": "stdout",
     "output_type": "stream",
     "text": [
      "Observation: 60/200\n",
      "Observation: 70/200\n",
      "Observation: 80/200\n",
      "Observation: 90/200\n",
      "Observation: 100/200\n",
      "Observation: 110/200\n",
      "Observation: 120/200\n",
      "Observation: 130/200\n",
      "Observation: 140/200\n",
      "Observation: 150/200\n",
      "Observation: 160/200\n",
      "Observation: 170/200\n",
      "Observation: 180/200\n",
      "Observation: 190/200\n",
      "/Users/robmarty/Google Drive/World Bank/IEs/Pakistan Poverty Estimation/Data/DHS/FinalData/Individual Datasets/cnn_l8/tfrecords/BO_2_1.tfrecord\n",
      "Putting 68 observations into BO_2_2.tfrecord\n",
      "Observation: 0/68\n",
      "Observation: 10/68\n",
      "Observation: 20/68\n",
      "Observation: 30/68\n",
      "Observation: 40/68\n",
      "Observation: 50/68\n",
      "Observation: 60/68\n",
      "/Users/robmarty/Google Drive/World Bank/IEs/Pakistan Poverty Estimation/Data/DHS/FinalData/Individual Datasets/cnn_l8/tfrecords/BO_2_2.tfrecord\n",
      "Putting 118 observations into BO_3_1.tfrecord\n",
      "Observation: 0/118\n",
      "Observation: 10/118\n",
      "Observation: 20/118\n",
      "Observation: 30/118\n",
      "Observation: 40/118\n"
     ]
    },
    {
     "name": "stderr",
     "output_type": "stream",
     "text": [
      "W0910 13:42:20.492254 4588170688 http.py:171] Sleeping 0.70 seconds before retry 1 of 5 for request: POST https://earthengine.googleapis.com/v1alpha/projects/earthengine-legacy/value:compute?prettyPrint=false&alt=json, after 503\n"
     ]
    },
    {
     "name": "stdout",
     "output_type": "stream",
     "text": [
      "Observation: 50/118\n",
      "Observation: 60/118\n",
      "Observation: 70/118\n",
      "Observation: 80/118\n",
      "Observation: 90/118\n",
      "Observation: 100/118\n",
      "Observation: 110/118\n",
      "/Users/robmarty/Google Drive/World Bank/IEs/Pakistan Poverty Estimation/Data/DHS/FinalData/Individual Datasets/cnn_l8/tfrecords/BO_3_1.tfrecord\n",
      "Putting 200 observations into BO_4_1.tfrecord\n",
      "Observation: 0/200\n",
      "Observation: 10/200\n",
      "Observation: 20/200\n",
      "Observation: 30/200\n",
      "Observation: 40/200\n",
      "Observation: 50/200\n",
      "Observation: 60/200\n",
      "Observation: 70/200\n",
      "Observation: 80/200\n",
      "Observation: 90/200\n",
      "Observation: 100/200\n",
      "Observation: 110/200\n",
      "Observation: 120/200\n",
      "Observation: 130/200\n",
      "Observation: 140/200\n",
      "Observation: 150/200\n",
      "Observation: 160/200\n",
      "Observation: 170/200\n",
      "Observation: 180/200\n",
      "Observation: 190/200\n",
      "Putting 15 observations into BO_4_2.tfrecord\n",
      "Observation: 0/15\n",
      "Observation: 10/15\n",
      "/Users/robmarty/Google Drive/World Bank/IEs/Pakistan Poverty Estimation/Data/DHS/FinalData/Individual Datasets/cnn_l8/tfrecords/BO_4_2.tfrecord\n",
      "Putting 203 observations into BO_5_1.tfrecord\n",
      "Observation: 0/203\n",
      "Observation: 10/203\n",
      "Observation: 20/203\n",
      "Observation: 30/203\n"
     ]
    },
    {
     "name": "stderr",
     "output_type": "stream",
     "text": [
      "/Users/robmarty/Documents/Github/Pakistan-Poverty-from-Sky/DataWork/02_get_process_ancillary_data/CNN Features Predict NTL/ee_utils.py:80: RuntimeWarning: divide by zero encountered in true_divide\n",
      "  return (values2 - values1)/(values2 + values1)\n"
     ]
    },
    {
     "name": "stdout",
     "output_type": "stream",
     "text": [
      "Observation: 40/203\n",
      "Observation: 50/203\n",
      "Putting 63 observations into BO_5_2.tfrecord\n",
      "Observation: 0/63\n",
      "Observation: 10/63\n",
      "Putting 126 observations into BU_1_1.tfrecord\n",
      "Observation: 0/126\n",
      "Observation: 10/126\n",
      "Observation: 20/126\n",
      "Observation: 30/126\n",
      "Observation: 40/126\n",
      "Observation: 50/126\n",
      "Putting 117 observations into BU_2_1.tfrecord\n"
     ]
    }
   ],
   "source": [
    "### Loop through all tfrecords\n",
    "for tfr_i in tf_record_list:\n",
    "    \n",
    "    # Sometimes we get computational time out errors. If occurs, just skip and go to next.\n",
    "    # We can then go back and rescrape missed ones.\n",
    "    try:\n",
    "    \n",
    "        survey_df_yeari = survey_df[survey_df['tfrecord_name'] == tfr_i]\n",
    "        year_i = survey_df_yeari['year'].iloc[0]\n",
    "\n",
    "        ### Loop through chunks within tfrecord (can only pull so much data from GEE at a time)\n",
    "        survey_df_yeari['chunk_id'] = utils.chunk_ids(survey_df_yeari.shape[0], CHUNK_SIZE)\n",
    "\n",
    "        print(\"Putting \" + str(survey_df_yeari.shape[0]) + \" observations into \" + tfr_i)\n",
    "\n",
    "        proto_examples_all = []\n",
    "        for chunk_i in list(np.unique(survey_df_yeari.chunk_id)):\n",
    "            time.sleep(6)\n",
    "            print(\"Observation: \" + str(len(proto_examples_all)) + \"/\" + str(survey_df_yeari.shape[0]))\n",
    "\n",
    "            survey_df_yeari_chunki = survey_df_yeari[survey_df_yeari['chunk_id'] == chunk_i]\n",
    "\n",
    "            proto_examples_i = utils.prep_cnn_np(survey_df_yeari_chunki, SATELLITE, KERNEL_SIZE, year_i)\n",
    "            proto_examples_all.extend(proto_examples_i)\n",
    "\n",
    "        ### Save data as tf record\n",
    "        out_path_i = os.path.join(out_path, tfr_i)\n",
    "        print(out_path_i)\n",
    "        with tf.io.TFRecordWriter(out_path_i) as writer:\n",
    "            for tf_example in proto_examples_all:\n",
    "                writer.write(tf_example.SerializeToString())\n",
    "                \n",
    "    except:\n",
    "        pass"
   ]
  },
  {
   "cell_type": "code",
   "execution_count": null,
   "metadata": {
    "colab": {
     "base_uri": "https://localhost:8080/"
    },
    "id": "gfMKJ0ILXVZC",
    "outputId": "4c960a89-0028-4fdd-be62-5e7d0e073240"
   },
   "outputs": [],
   "source": []
  },
  {
   "cell_type": "code",
   "execution_count": null,
   "metadata": {
    "colab": {
     "base_uri": "https://localhost:8080/",
     "height": 224
    },
    "id": "I6NhXtwo73AK",
    "outputId": "988398b3-4e62-4be2-8817-532af8d6f58e"
   },
   "outputs": [],
   "source": [
    "for row_i in range(0,10):\n",
    "    print(row_i)\n",
    "    proto_examples_i = utils.prep_cnn_np(survey_df_yeari_chunki.iloc[[row_i]], SATELLITE, KERNEL_SIZE, year_i)"
   ]
  },
  {
   "cell_type": "code",
   "execution_count": null,
   "metadata": {
    "id": "3l_U7gwb_vDC"
   },
   "outputs": [],
   "source": [
    "survey_df_yeari_chunki.iloc[[1]]"
   ]
  },
  {
   "cell_type": "code",
   "execution_count": null,
   "metadata": {
    "colab": {
     "base_uri": "https://localhost:8080/",
     "height": 224
    },
    "id": "YuhpLiDq_zLm",
    "outputId": "f5dc6270-4493-4cbf-b2b0-18ec047077fa"
   },
   "outputs": [],
   "source": []
  },
  {
   "cell_type": "code",
   "execution_count": null,
   "metadata": {
    "colab": {
     "base_uri": "https://localhost:8080/"
    },
    "id": "zU05sc-s29jA",
    "outputId": "f9f946fc-d6a6-44e8-c2c2-539ec29937b9"
   },
   "outputs": [],
   "source": []
  },
  {
   "cell_type": "code",
   "execution_count": 71,
   "metadata": {
    "id": "fVeX2_WIkGiV"
   },
   "outputs": [],
   "source": []
  },
  {
   "cell_type": "code",
   "execution_count": 72,
   "metadata": {
    "id": "4RhcmrWylK6k"
   },
   "outputs": [],
   "source": []
  },
  {
   "cell_type": "code",
   "execution_count": null,
   "metadata": {
    "colab": {
     "base_uri": "https://localhost:8080/",
     "height": 80
    },
    "id": "pFHX00Y4ld81",
    "outputId": "4c9c913a-dce5-47b7-e28e-b9c6f14b7fed"
   },
   "outputs": [],
   "source": []
  },
  {
   "cell_type": "code",
   "execution_count": null,
   "metadata": {
    "colab": {
     "base_uri": "https://localhost:8080/"
    },
    "id": "9tk6RNyHXVZC",
    "outputId": "8806e5aa-370a-4a24-c6ba-062cf52f5ffb"
   },
   "outputs": [],
   "source": []
  },
  {
   "cell_type": "code",
   "execution_count": null,
   "metadata": {
    "id": "WAVqwXz7_lDL"
   },
   "outputs": [],
   "source": []
  },
  {
   "cell_type": "code",
   "execution_count": null,
   "metadata": {
    "colab": {
     "base_uri": "https://localhost:8080/"
    },
    "id": "I9atvzCW65oh",
    "outputId": "515a1320-e759-4e12-a053-362d7562c52f"
   },
   "outputs": [],
   "source": []
  },
  {
   "cell_type": "code",
   "execution_count": null,
   "metadata": {
    "colab": {
     "base_uri": "https://localhost:8080/"
    },
    "id": "5UrbRLqLKAtA",
    "outputId": "936ca132-44fc-45cb-d754-ad9dcfb8901e"
   },
   "outputs": [],
   "source": []
  },
  {
   "cell_type": "code",
   "execution_count": null,
   "metadata": {
    "id": "gaBcOr2w77ZL"
   },
   "outputs": [],
   "source": []
  },
  {
   "cell_type": "code",
   "execution_count": null,
   "metadata": {
    "colab": {
     "base_uri": "https://localhost:8080/"
    },
    "id": "l69Wpxz5XVZC",
    "outputId": "5d4d531b-61ef-45c7-b5b5-f25cb875c6b6"
   },
   "outputs": [],
   "source": []
  },
  {
   "cell_type": "code",
   "execution_count": null,
   "metadata": {
    "colab": {
     "base_uri": "https://localhost:8080/"
    },
    "id": "Q9MXwUdTXVZD",
    "outputId": "0bc2748f-ebe3-466d-a859-924eaa1b9081"
   },
   "outputs": [],
   "source": []
  },
  {
   "cell_type": "code",
   "execution_count": null,
   "metadata": {
    "colab": {
     "base_uri": "https://localhost:8080/",
     "height": 181
    },
    "id": "iLbrGQTRojcS",
    "outputId": "43aabd48-e175-4d1c-f5f1-48be198520b0"
   },
   "outputs": [],
   "source": []
  },
  {
   "cell_type": "code",
   "execution_count": null,
   "metadata": {
    "colab": {
     "base_uri": "https://localhost:8080/",
     "height": 198
    },
    "id": "VHZAJ22anj6b",
    "outputId": "bebf3669-139a-423a-a967-78109a8c80a2"
   },
   "outputs": [],
   "source": []
  },
  {
   "cell_type": "code",
   "execution_count": null,
   "metadata": {
    "id": "y1MXAhkbpRkI"
   },
   "outputs": [],
   "source": []
  },
  {
   "cell_type": "code",
   "execution_count": null,
   "metadata": {
    "colab": {
     "base_uri": "https://localhost:8080/",
     "height": 198
    },
    "id": "93PWEi6jm-3K",
    "outputId": "67dcc0a7-1516-4ee8-bfd9-694fd0f347de"
   },
   "outputs": [],
   "source": []
  },
  {
   "cell_type": "code",
   "execution_count": null,
   "metadata": {
    "id": "5Rm6K6D-XVZD"
   },
   "outputs": [],
   "source": []
  },
  {
   "cell_type": "code",
   "execution_count": null,
   "metadata": {
    "colab": {
     "base_uri": "https://localhost:8080/"
    },
    "id": "fod-VYxLXVZE",
    "outputId": "3dd1f56a-476b-4aad-8279-86840b0bc026"
   },
   "outputs": [],
   "source": []
  },
  {
   "cell_type": "code",
   "execution_count": null,
   "metadata": {
    "colab": {
     "base_uri": "https://localhost:8080/"
    },
    "id": "t0iUwZmAXVZE",
    "outputId": "a33e2442-ae0c-4f62-ce6b-eddb002c165d"
   },
   "outputs": [],
   "source": []
  },
  {
   "cell_type": "code",
   "execution_count": null,
   "metadata": {
    "colab": {
     "base_uri": "https://localhost:8080/"
    },
    "id": "62ReOurYXVZE",
    "outputId": "92795c41-e2b9-4971-f512-9d56b18cf5d8"
   },
   "outputs": [],
   "source": []
  },
  {
   "cell_type": "code",
   "execution_count": null,
   "metadata": {
    "id": "-SajCSlNXVZE"
   },
   "outputs": [],
   "source": []
  },
  {
   "cell_type": "code",
   "execution_count": null,
   "metadata": {
    "id": "LJAM4iswXVZE"
   },
   "outputs": [],
   "source": []
  },
  {
   "cell_type": "code",
   "execution_count": null,
   "metadata": {
    "id": "9wYDJxfpXVZF"
   },
   "outputs": [],
   "source": []
  },
  {
   "cell_type": "code",
   "execution_count": null,
   "metadata": {
    "id": "Zb0U780PXVZF"
   },
   "outputs": [],
   "source": []
  },
  {
   "cell_type": "code",
   "execution_count": null,
   "metadata": {
    "id": "pBuKts4wXVZF"
   },
   "outputs": [],
   "source": []
  },
  {
   "cell_type": "code",
   "execution_count": null,
   "metadata": {
    "id": "IS7Bb2f0XVZF"
   },
   "outputs": [],
   "source": []
  },
  {
   "cell_type": "code",
   "execution_count": null,
   "metadata": {
    "id": "ju-_zuLnXVZF"
   },
   "outputs": [],
   "source": []
  },
  {
   "cell_type": "code",
   "execution_count": null,
   "metadata": {
    "id": "fD0SacCEXVZF"
   },
   "outputs": [],
   "source": []
  },
  {
   "cell_type": "code",
   "execution_count": null,
   "metadata": {
    "id": "0xqAkzCqXVZG"
   },
   "outputs": [],
   "source": []
  },
  {
   "cell_type": "code",
   "execution_count": null,
   "metadata": {
    "id": "JDskpn-iXVZG"
   },
   "outputs": [],
   "source": []
  },
  {
   "cell_type": "code",
   "execution_count": null,
   "metadata": {
    "id": "0Iep8MNNXVZG"
   },
   "outputs": [],
   "source": []
  },
  {
   "cell_type": "code",
   "execution_count": null,
   "metadata": {
    "id": "TNjhMUDHXVZH"
   },
   "outputs": [],
   "source": []
  },
  {
   "cell_type": "code",
   "execution_count": null,
   "metadata": {
    "id": "mPzEHDBcXVZH"
   },
   "outputs": [],
   "source": []
  },
  {
   "cell_type": "code",
   "execution_count": null,
   "metadata": {
    "id": "jVI8BPYMXVZH"
   },
   "outputs": [],
   "source": []
  },
  {
   "cell_type": "code",
   "execution_count": null,
   "metadata": {
    "id": "eQR8aHw2XVZH"
   },
   "outputs": [],
   "source": []
  },
  {
   "cell_type": "code",
   "execution_count": null,
   "metadata": {
    "id": "H5pJ0FIOXVZI"
   },
   "outputs": [],
   "source": []
  },
  {
   "cell_type": "code",
   "execution_count": null,
   "metadata": {
    "id": "H9GuSI50opSX"
   },
   "outputs": [],
   "source": []
  }
 ],
 "metadata": {
  "colab": {
   "collapsed_sections": [],
   "name": "01_extract_data_gee_for_cnn.ipynb",
   "provenance": []
  },
  "kernelspec": {
   "display_name": "Python 3",
   "language": "python",
   "name": "python3"
  },
  "language_info": {
   "codemirror_mode": {
    "name": "ipython",
    "version": 3
   },
   "file_extension": ".py",
   "mimetype": "text/x-python",
   "name": "python",
   "nbconvert_exporter": "python",
   "pygments_lexer": "ipython3",
   "version": "3.7.2"
  }
 },
 "nbformat": 4,
 "nbformat_minor": 2
}
