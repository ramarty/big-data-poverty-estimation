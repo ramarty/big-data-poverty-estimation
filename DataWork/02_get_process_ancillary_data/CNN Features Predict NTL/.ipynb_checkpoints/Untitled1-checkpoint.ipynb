{
 "cells": [
  {
   "cell_type": "code",
   "execution_count": 23,
   "id": "94aa6748-2204-4cd1-8688-82f41e48bd64",
   "metadata": {},
   "outputs": [],
   "source": [
    "from __future__ import division\n",
    "import math\n",
    "MERCATOR_RANGE = 256\n",
    "\n",
    "def  bound(value, opt_min, opt_max):\n",
    "    if (opt_min != None): \n",
    "        value = max(value, opt_min)\n",
    "    if (opt_max != None): \n",
    "        value = min(value, opt_max)\n",
    "    return value\n",
    "\n",
    "\n",
    "def  degreesToRadians(deg) :\n",
    "    return deg * (math.pi / 180)\n",
    "\n",
    "\n",
    "def  radiansToDegrees(rad) :\n",
    "    return rad / (math.pi / 180)\n",
    "\n",
    "\n",
    "class G_Point :\n",
    "    def __init__(self,x=0, y=0):\n",
    "        self.x = x\n",
    "        self.y = y\n",
    "\n",
    "\n",
    "\n",
    "class G_LatLng :\n",
    "    def __init__(self,lt, ln):\n",
    "        self.lat = lt\n",
    "        self.lng = ln\n",
    "\n",
    "\n",
    "class MercatorProjection :\n",
    "\n",
    "\n",
    "    def __init__(self) :\n",
    "        self.pixelOrigin_ =  G_Point( MERCATOR_RANGE / 2, MERCATOR_RANGE / 2)\n",
    "        self.pixelsPerLonDegree_ = MERCATOR_RANGE / 360\n",
    "        self.pixelsPerLonRadian_ = MERCATOR_RANGE / (2 * math.pi)\n",
    "\n",
    "\n",
    "    def fromLatLngToPoint(self, latLng, opt_point=None) :\n",
    "        point = opt_point if opt_point is not None else G_Point(0,0)\n",
    "        origin = self.pixelOrigin_\n",
    "        point.x = origin.x + latLng.lng * self.pixelsPerLonDegree_\n",
    "        # NOTE(appleton): Truncating to 0.9999 effectively limits latitude to\n",
    "        # 89.189.  This is about a third of a tile past the edge of the world tile.\n",
    "        siny = bound(math.sin(degreesToRadians(latLng.lat)), -0.9999, 0.9999)\n",
    "        point.y = origin.y + 0.5 * math.log((1 + siny) / (1 - siny)) * -     self.pixelsPerLonRadian_\n",
    "        return point\n",
    "\n",
    "\n",
    "    def fromPointToLatLng(self,point) :\n",
    "            origin = self.pixelOrigin_\n",
    "            lng = (point.x - origin.x) / self.pixelsPerLonDegree_\n",
    "            latRadians = (point.y - origin.y) / -self.pixelsPerLonRadian_\n",
    "            lat = radiansToDegrees(2 * math.atan(math.exp(latRadians)) - math.pi / 2)\n",
    "            return G_LatLng(lat, lng)\n",
    "\n",
    "#pixelCoordinate = worldCoordinate * pow(2,zoomLevel)\n",
    "\n",
    "def getCorners(center, zoom, mapWidth, mapHeight):\n",
    "    scale = 2**zoom\n",
    "    proj = MercatorProjection()\n",
    "    centerPx = proj.fromLatLngToPoint(center)\n",
    "    SWPoint = G_Point(centerPx.x-(mapWidth/2)/scale, centerPx.y+(mapHeight/2)/scale)\n",
    "    SWLatLon = proj.fromPointToLatLng(SWPoint)\n",
    "    NEPoint = G_Point(centerPx.x+(mapWidth/2)/scale, centerPx.y-(mapHeight/2)/scale)\n",
    "    NELatLon = proj.fromPointToLatLng(NEPoint)\n",
    "    return {\n",
    "        'N' : NELatLon.lat,\n",
    "        'E' : NELatLon.lng,\n",
    "        'S' : SWLatLon.lat,\n",
    "        'W' : SWLatLon.lng,\n",
    "    }"
   ]
  },
  {
   "cell_type": "code",
   "execution_count": null,
   "id": "f22e8475-f525-4c33-a3bd-6c78b6e102d5",
   "metadata": {},
   "outputs": [],
   "source": []
  },
  {
   "cell_type": "code",
   "execution_count": 22,
   "id": "fc0ca1f0-3a35-47af-ba3a-a7b08fe6b0a5",
   "metadata": {},
   "outputs": [
    {
     "ename": "TypeError",
     "evalue": "fromLatLngToPoint() missing 1 required positional argument: 'latLng'",
     "output_type": "error",
     "traceback": [
      "\u001b[0;31m---------------------------------------------------------------------------\u001b[0m",
      "\u001b[0;31mTypeError\u001b[0m                                 Traceback (most recent call last)",
      "Input \u001b[0;32mIn [22]\u001b[0m, in \u001b[0;36m<cell line: 8>\u001b[0;34m()\u001b[0m\n\u001b[1;32m      6\u001b[0m mapHeight \u001b[38;5;241m=\u001b[39m \u001b[38;5;241m640\u001b[39m\n\u001b[1;32m      7\u001b[0m centerPoint \u001b[38;5;241m=\u001b[39m G_LatLng(centerLat, centerLon)\n\u001b[0;32m----> 8\u001b[0m corners \u001b[38;5;241m=\u001b[39m \u001b[43mgetCorners\u001b[49m\u001b[43m(\u001b[49m\u001b[43mcenterPoint\u001b[49m\u001b[43m,\u001b[49m\u001b[43m \u001b[49m\u001b[43mzoom\u001b[49m\u001b[43m,\u001b[49m\u001b[43m \u001b[49m\u001b[43mmapWidth\u001b[49m\u001b[43m,\u001b[49m\u001b[43m \u001b[49m\u001b[43mmapHeight\u001b[49m\u001b[43m)\u001b[49m\n\u001b[1;32m      9\u001b[0m corners\n",
      "Input \u001b[0;32mIn [21]\u001b[0m, in \u001b[0;36mgetCorners\u001b[0;34m(center, zoom, mapWidth, mapHeight)\u001b[0m\n\u001b[1;32m     60\u001b[0m scale \u001b[38;5;241m=\u001b[39m \u001b[38;5;241m2\u001b[39m\u001b[38;5;241m*\u001b[39m\u001b[38;5;241m*\u001b[39mzoom\n\u001b[1;32m     61\u001b[0m proj \u001b[38;5;241m=\u001b[39m MercatorProjection()\n\u001b[0;32m---> 62\u001b[0m centerPx \u001b[38;5;241m=\u001b[39m \u001b[43mfromLatLngToPoint\u001b[49m\u001b[43m(\u001b[49m\u001b[43mcenter\u001b[49m\u001b[43m)\u001b[49m\n\u001b[1;32m     63\u001b[0m SWPoint \u001b[38;5;241m=\u001b[39m G_Point(centerPx\u001b[38;5;241m.\u001b[39mx\u001b[38;5;241m-\u001b[39m(mapWidth\u001b[38;5;241m/\u001b[39m\u001b[38;5;241m2\u001b[39m)\u001b[38;5;241m/\u001b[39mscale, centerPx\u001b[38;5;241m.\u001b[39my\u001b[38;5;241m+\u001b[39m(mapHeight\u001b[38;5;241m/\u001b[39m\u001b[38;5;241m2\u001b[39m)\u001b[38;5;241m/\u001b[39mscale)\n\u001b[1;32m     64\u001b[0m SWLatLon \u001b[38;5;241m=\u001b[39m fromPointToLatLng(SWPoint)\n",
      "\u001b[0;31mTypeError\u001b[0m: fromLatLngToPoint() missing 1 required positional argument: 'latLng'"
     ]
    }
   ],
   "source": [
    "#import MercatorProjection\n",
    "centerLat = 49.141404\n",
    "centerLon = -121.960988\n",
    "zoom = 10\n",
    "mapWidth = 640\n",
    "mapHeight = 640\n",
    "centerPoint = G_LatLng(centerLat, centerLon)\n",
    "corners = getCorners(centerPoint, zoom, mapWidth, mapHeight)\n",
    "corners"
   ]
  },
  {
   "cell_type": "code",
   "execution_count": 8,
   "id": "f8003265-8228-4a11-af5b-29fcf4a2aae6",
   "metadata": {},
   "outputs": [
    {
     "data": {
      "text/plain": [
       "__main__.MercatorProjection"
      ]
     },
     "execution_count": 8,
     "metadata": {},
     "output_type": "execute_result"
    }
   ],
   "source": [
    "MercatorProjection"
   ]
  },
  {
   "cell_type": "code",
   "execution_count": 20,
   "id": "c73a5065-b1e9-4d2c-8e1f-14792b25da3b",
   "metadata": {},
   "outputs": [
    {
     "ename": "NameError",
     "evalue": "name 'fromLatLngToPoint' is not defined",
     "output_type": "error",
     "traceback": [
      "\u001b[0;31m---------------------------------------------------------------------------\u001b[0m",
      "\u001b[0;31mNameError\u001b[0m                                 Traceback (most recent call last)",
      "Input \u001b[0;32mIn [20]\u001b[0m, in \u001b[0;36m<cell line: 1>\u001b[0;34m()\u001b[0m\n\u001b[0;32m----> 1\u001b[0m \u001b[43mfromLatLngToPoint\u001b[49m\n",
      "\u001b[0;31mNameError\u001b[0m: name 'fromLatLngToPoint' is not defined"
     ]
    }
   ],
   "source": [
    "fromLatLngToPoint"
   ]
  },
  {
   "cell_type": "code",
   "execution_count": 24,
   "id": "1a8c9503-c4b4-479f-b18a-9d83b2d71cee",
   "metadata": {},
   "outputs": [],
   "source": [
    "#import MercatorProjection\n",
    "centerLat = 49.141404\n",
    "centerLon = -121.960988\n",
    "zoom = 10\n",
    "mapWidth = 640\n",
    "mapHeight = 640\n",
    "centerPoint = G_LatLng(centerLat, centerLon)"
   ]
  },
  {
   "cell_type": "code",
   "execution_count": 25,
   "id": "83a2d6e4-93a8-4054-ac73-6c81eb73caa5",
   "metadata": {},
   "outputs": [
    {
     "data": {
      "text/plain": [
       "<__main__.G_LatLng at 0x7fdbf80449a0>"
      ]
     },
     "execution_count": 25,
     "metadata": {},
     "output_type": "execute_result"
    }
   ],
   "source": [
    "centerPoint"
   ]
  },
  {
   "cell_type": "code",
   "execution_count": null,
   "id": "7950c4af-9455-408b-9ca4-cb1a5d4922f4",
   "metadata": {},
   "outputs": [],
   "source": []
  }
 ],
 "metadata": {
  "kernelspec": {
   "display_name": "Python 3 (ipykernel)",
   "language": "python",
   "name": "python3"
  },
  "language_info": {
   "codemirror_mode": {
    "name": "ipython",
    "version": 3
   },
   "file_extension": ".py",
   "mimetype": "text/x-python",
   "name": "python",
   "nbconvert_exporter": "python",
   "pygments_lexer": "ipython3",
   "version": "3.8.13"
  }
 },
 "nbformat": 4,
 "nbformat_minor": 5
}
