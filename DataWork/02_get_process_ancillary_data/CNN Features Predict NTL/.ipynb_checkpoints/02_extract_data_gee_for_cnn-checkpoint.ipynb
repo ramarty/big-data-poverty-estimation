{
 "cells": [
  {
   "cell_type": "markdown",
   "metadata": {
    "id": "X0MV-G1dXVY2"
   },
   "source": [
    "# Prepare CNN Data"
   ]
  },
  {
   "cell_type": "markdown",
   "metadata": {
    "id": "iuOZpPbiXVY5"
   },
   "source": [
    "## Setup"
   ]
  },
  {
   "cell_type": "code",
   "execution_count": 31,
   "metadata": {},
   "outputs": [],
   "source": [
    "import ee\n",
    "#ee.Authenticate()\n",
    "ee.Initialize()"
   ]
  },
  {
   "cell_type": "code",
   "execution_count": 32,
   "metadata": {},
   "outputs": [],
   "source": [
    "import numpy as np\n",
    "import os, datetime\n",
    "import pandas as pd\n",
    "import itertools\n",
    "import tensorflow as tf\n",
    "import config as cf\n",
    "import ee_utils as utils\n",
    "import eeconvert\n",
    "import time\n",
    "from datetime import datetime\n",
    "import glob\n",
    "\n",
    "DROPBOX_DIR = cf.DROPBOX_DIRECTORY"
   ]
  },
  {
   "cell_type": "code",
   "execution_count": 33,
   "metadata": {},
   "outputs": [],
   "source": [
    "def decode_fn_uid(record_bytes):\n",
    "    return tf.io.parse_single_example(\n",
    "        # Data\n",
    "        record_bytes,\n",
    "\n",
    "        # Schema\n",
    "        {\"uid\": tf.io.FixedLenFeature([], dtype=tf.string)}\n",
    "    )\n",
    "\n",
    "def extract_uid(TF_FILES):\n",
    "    actual_values = []\n",
    "    for batch in tf.data.TFRecordDataset([TF_FILES]).map(decode_fn_uid):\n",
    "        value = batch['uid'].numpy()\n",
    "        actual_values.append(value)\n",
    "\n",
    "    return actual_values"
   ]
  },
  {
   "cell_type": "markdown",
   "metadata": {},
   "source": [
    "## Parameters"
   ]
  },
  {
   "cell_type": "code",
   "execution_count": 34,
   "metadata": {
    "id": "TqWX3QM4mVPW"
   },
   "outputs": [
    {
     "name": "stdout",
     "output_type": "stream",
     "text": [
      "224\n"
     ]
    }
   ],
   "source": [
    "# Datasets -------------------------------------\n",
    "SURVEY_NAME = 'DHS'\n",
    "\n",
    "VERSION = 1\n",
    "if VERSION == 1:\n",
    "\n",
    "    SATELLITE         = 's2' \n",
    "    OUTCOME_VAR       = \"viirs\" \n",
    "    UNDERSAMPLE_INDIA = True\n",
    "    \n",
    "if VERSION == 2:\n",
    "\n",
    "    SATELLITE         = 'landsat' \n",
    "    OUTCOME_VAR       = \"ntlharmon\" \n",
    "    UNDERSAMPLE_INDIA = True\n",
    "\n",
    "# Processing data ------------------------------\n",
    "SKIP_IF_SCRAPED = True ## Skip if filename has already been created\n",
    "CHECK_IF_UID_SCRAPED = True ## Load data already scraped and skip if scraped; add date to filename\n",
    "IGNORE_ERRORS = False ## Load dataset of errors and remove from ones to scrape\n",
    "\n",
    "CHUNK_SIZE = 1 # Number of observtaions to scrape in GEE at any given time\n",
    "\n",
    "# Parameters based on dataset ---------------------\n",
    "if SATELLITE == 's2':\n",
    "    KERNEL_SIZE = 224\n",
    "elif SATELLITE == 'landsat':\n",
    "    KERNEL_SIZE = 224 #167\n",
    "elif SATELLITE == 'landsat_7':\n",
    "    KERNEL_SIZE = 224 #167\n",
    "\n",
    "print(KERNEL_SIZE)"
   ]
  },
  {
   "cell_type": "code",
   "execution_count": 35,
   "metadata": {
    "colab": {
     "base_uri": "https://localhost:8080/"
    },
    "id": "MwPA7XTCYmjh",
    "outputId": "74e611ba-5c81-44ca-e2ce-c595399753a0"
   },
   "outputs": [],
   "source": [
    "# Directory to store tfrecords\n",
    "out_path = os.path.join(DROPBOX_DIR, \n",
    "            'Data', \n",
    "            SURVEY_NAME, \n",
    "            'FinalData',\n",
    "            'Individual Datasets',\n",
    "            'cnn_' + SATELLITE + '_' + OUTCOME_VAR + '_underia' + str(UNDERSAMPLE_INDIA),\n",
    "            'tfrecords')\n",
    "\n",
    "out_path_errors = os.path.join(DROPBOX_DIR, \n",
    "            'Data', \n",
    "            SURVEY_NAME, \n",
    "            'FinalData',\n",
    "            'Individual Datasets',\n",
    "            'cnn_' + SATELLITE + '_' + OUTCOME_VAR + '_underia' + str(UNDERSAMPLE_INDIA))"
   ]
  },
  {
   "cell_type": "markdown",
   "metadata": {
    "colab": {
     "base_uri": "https://localhost:8080/"
    },
    "id": "phzXq49zXVY5",
    "outputId": "0b60e419-0e3f-44e2-e927-0895afb316cc"
   },
   "source": [
    "## Load Data"
   ]
  },
  {
   "cell_type": "code",
   "execution_count": 36,
   "metadata": {},
   "outputs": [
    {
     "name": "stdout",
     "output_type": "stream",
     "text": [
      "(63911, 9)\n",
      "0    22545\n",
      "2    11104\n",
      "1    10690\n",
      "4     9830\n",
      "3     9742\n",
      "Name: ntl_group, dtype: int64\n"
     ]
    }
   ],
   "source": [
    "### Load data\n",
    "if UNDERSAMPLE_INDIA == True:\n",
    "    UNDERSAMPLE_INDIA_str = \"TRUE\"\n",
    "else:\n",
    "    UNDERSAMPLE_INDIA_str = \"FALSE\"\n",
    "    \n",
    "survey_df = pd.read_csv(os.path.join(DROPBOX_DIR, 'Data', SURVEY_NAME, 'FinalData', 'Individual Datasets', \n",
    "                                     'data_for_cnn_' + OUTCOME_VAR + '_iaunder' + UNDERSAMPLE_INDIA_str + '_' + SATELLITE + '.csv'))\n",
    "\n",
    "### If sentinel, only use most recent\n",
    "if SATELLITE == 's2':\n",
    "    survey_df = survey_df[survey_df.most_recent_survey == True]\n",
    "        \n",
    "### N Observations      \n",
    "print(survey_df.shape)\n",
    "print(survey_df.ntl_group.value_counts())"
   ]
  },
  {
   "cell_type": "markdown",
   "metadata": {},
   "source": [
    "### Check if UID Already Scraped\n",
    "\n",
    "(1) Filter surveys to those that have been scraped, and (2) add date/time to filename (so process of checking if file has been scraped doesnt skip it)"
   ]
  },
  {
   "cell_type": "code",
   "execution_count": 37,
   "metadata": {},
   "outputs": [],
   "source": [
    "if IGNORE_ERRORS:\n",
    "    error_files = glob.glob(out_path_errors + '/*.csv')\n",
    "    error_df = pd.concat([pd.read_csv(f) for f in error_files])\n",
    "\n",
    "    survey_df = survey_df[~survey_df['uid'].isin(error_df['uid'])]"
   ]
  },
  {
   "cell_type": "code",
   "execution_count": 38,
   "metadata": {},
   "outputs": [],
   "source": [
    "## Check if everything processed, ignoring errors\n",
    "if False:\n",
    "    tf_paths = glob.glob(out_path + '/*.tfrecord')\n",
    "    processed_uids = extract_uid(tf_paths)\n",
    "\n",
    "    ## List of IDs already processed\n",
    "    processed_uids = [x.decode('utf-8') for x in processed_uids]\n",
    "\n",
    "    ## Subset survey to uids not scraped\n",
    "    survey_df = survey_df[~survey_df['uid'].isin(processed_uids)]"
   ]
  },
  {
   "cell_type": "code",
   "execution_count": 39,
   "metadata": {},
   "outputs": [],
   "source": [
    "if CHECK_IF_UID_SCRAPED:\n",
    "\n",
    "    tf_paths = glob.glob(out_path + '/*.tfrecord')\n",
    "    processed_uids = extract_uid(tf_paths)\n",
    "    \n",
    "    ## List of IDs already processed\n",
    "    processed_uids = [x.decode('utf-8') for x in processed_uids]\n",
    "    \n",
    "    ## Subset survey to uids not scraped\n",
    "    survey_df = survey_df[~survey_df['uid'].isin(processed_uids)]\n",
    "    \n",
    "    ## Change name of tfrecords\n",
    "    txt_to_add = datetime.now().strftime(\"%Y%m%d%H%M%S\")\n",
    "    \n",
    "    survey_df['tfrecord_name'] = survey_df.apply(lambda row: row['tfrecord_name'].replace('.tfrecord', \"_\" + txt_to_add + '.tfrecord'), axis='columns')"
   ]
  },
  {
   "cell_type": "markdown",
   "metadata": {},
   "source": [
    "### Skip tfrecords already processed"
   ]
  },
  {
   "cell_type": "code",
   "execution_count": 40,
   "metadata": {},
   "outputs": [
    {
     "data": {
      "text/html": [
       "<div>\n",
       "<style scoped>\n",
       "    .dataframe tbody tr th:only-of-type {\n",
       "        vertical-align: middle;\n",
       "    }\n",
       "\n",
       "    .dataframe tbody tr th {\n",
       "        vertical-align: top;\n",
       "    }\n",
       "\n",
       "    .dataframe thead th {\n",
       "        text-align: right;\n",
       "    }\n",
       "</style>\n",
       "<table border=\"1\" class=\"dataframe\">\n",
       "  <thead>\n",
       "    <tr style=\"text-align: right;\">\n",
       "      <th></th>\n",
       "      <th>uid</th>\n",
       "      <th>GID_2</th>\n",
       "      <th>year</th>\n",
       "      <th>most_recent_survey</th>\n",
       "      <th>ntl_group</th>\n",
       "      <th>longitude</th>\n",
       "      <th>latitude</th>\n",
       "      <th>tfrecord_name</th>\n",
       "      <th>use_for_cnn</th>\n",
       "    </tr>\n",
       "  </thead>\n",
       "  <tbody>\n",
       "    <tr>\n",
       "      <th>5572</th>\n",
       "      <td>IA201400180047</td>\n",
       "      <td>IND.18.1_1</td>\n",
       "      <td>2015</td>\n",
       "      <td>True</td>\n",
       "      <td>2</td>\n",
       "      <td>72.718370</td>\n",
       "      <td>11.121363</td>\n",
       "      <td>forcnn_train_IA_4_1_all_20221212115634.tfrecord</td>\n",
       "      <td>yes</td>\n",
       "    </tr>\n",
       "    <tr>\n",
       "      <th>5580</th>\n",
       "      <td>IA201400180138</td>\n",
       "      <td>IND.18.1_1</td>\n",
       "      <td>2015</td>\n",
       "      <td>True</td>\n",
       "      <td>2</td>\n",
       "      <td>72.719906</td>\n",
       "      <td>11.125791</td>\n",
       "      <td>forcnn_train_IA_4_2_all_20221212115634.tfrecord</td>\n",
       "      <td>yes</td>\n",
       "    </tr>\n",
       "    <tr>\n",
       "      <th>10059</th>\n",
       "      <td>UG201800000327</td>\n",
       "      <td>UGA.19.1_1</td>\n",
       "      <td>2018</td>\n",
       "      <td>True</td>\n",
       "      <td>0</td>\n",
       "      <td>0.000000</td>\n",
       "      <td>0.000000</td>\n",
       "      <td>forcnn_train_UG_3_1_all_20221212115634.tfrecord</td>\n",
       "      <td>yes</td>\n",
       "    </tr>\n",
       "    <tr>\n",
       "      <th>10551</th>\n",
       "      <td>UG201800000328</td>\n",
       "      <td>UGA.19.1_1</td>\n",
       "      <td>2018</td>\n",
       "      <td>True</td>\n",
       "      <td>0</td>\n",
       "      <td>0.000000</td>\n",
       "      <td>0.000000</td>\n",
       "      <td>forcnn_train_UG_3_1_all_20221212115634.tfrecord</td>\n",
       "      <td>yes</td>\n",
       "    </tr>\n",
       "    <tr>\n",
       "      <th>10896</th>\n",
       "      <td>UG201800000334</td>\n",
       "      <td>UGA.19.1_1</td>\n",
       "      <td>2018</td>\n",
       "      <td>True</td>\n",
       "      <td>0</td>\n",
       "      <td>0.000000</td>\n",
       "      <td>0.000000</td>\n",
       "      <td>forcnn_train_UG_3_1_all_20221212115634.tfrecord</td>\n",
       "      <td>yes</td>\n",
       "    </tr>\n",
       "  </tbody>\n",
       "</table>\n",
       "</div>"
      ],
      "text/plain": [
       "                  uid       GID_2  year  most_recent_survey  ntl_group  \\\n",
       "5572   IA201400180047  IND.18.1_1  2015                True          2   \n",
       "5580   IA201400180138  IND.18.1_1  2015                True          2   \n",
       "10059  UG201800000327  UGA.19.1_1  2018                True          0   \n",
       "10551  UG201800000328  UGA.19.1_1  2018                True          0   \n",
       "10896  UG201800000334  UGA.19.1_1  2018                True          0   \n",
       "\n",
       "       longitude   latitude                                    tfrecord_name  \\\n",
       "5572   72.718370  11.121363  forcnn_train_IA_4_1_all_20221212115634.tfrecord   \n",
       "5580   72.719906  11.125791  forcnn_train_IA_4_2_all_20221212115634.tfrecord   \n",
       "10059   0.000000   0.000000  forcnn_train_UG_3_1_all_20221212115634.tfrecord   \n",
       "10551   0.000000   0.000000  forcnn_train_UG_3_1_all_20221212115634.tfrecord   \n",
       "10896   0.000000   0.000000  forcnn_train_UG_3_1_all_20221212115634.tfrecord   \n",
       "\n",
       "      use_for_cnn  \n",
       "5572          yes  \n",
       "5580          yes  \n",
       "10059         yes  \n",
       "10551         yes  \n",
       "10896         yes  "
      ]
     },
     "execution_count": 40,
     "metadata": {},
     "output_type": "execute_result"
    }
   ],
   "source": [
    "survey_df.head()"
   ]
  },
  {
   "cell_type": "code",
   "execution_count": 41,
   "metadata": {},
   "outputs": [
    {
     "data": {
      "text/plain": [
       "(51, 9)"
      ]
     },
     "execution_count": 41,
     "metadata": {},
     "output_type": "execute_result"
    }
   ],
   "source": [
    "survey_df.shape"
   ]
  },
  {
   "cell_type": "code",
   "execution_count": 42,
   "metadata": {},
   "outputs": [
    {
     "data": {
      "text/plain": [
       "19"
      ]
     },
     "execution_count": 42,
     "metadata": {},
     "output_type": "execute_result"
    }
   ],
   "source": [
    "# List of TF Records\n",
    "tf_record_list = list(np.unique(survey_df.tfrecord_name))\n",
    "\n",
    "len(tf_record_list)"
   ]
  },
  {
   "cell_type": "code",
   "execution_count": 43,
   "metadata": {
    "id": "PTEEJI89XVY6"
   },
   "outputs": [
    {
     "name": "stdout",
     "output_type": "stream",
     "text": [
      "19\n"
     ]
    }
   ],
   "source": [
    "# If skip already scraped, remove existing tfrecords from tf_record_list\n",
    "if SKIP_IF_SCRAPED:\n",
    "    tf_records_exist = os.listdir(out_path)\n",
    "    tf_record_list = [x for x in tf_record_list if x not in tf_records_exist]\n",
    "    \n",
    "print(len(tf_record_list))"
   ]
  },
  {
   "cell_type": "code",
   "execution_count": 44,
   "metadata": {},
   "outputs": [],
   "source": [
    "# https://gist.github.com/erdemarslan/3ec02009f38f8df84c8e4807e7954af3\n",
    "if False:\n",
    "    import urllib3\n",
    "\n",
    "    def check_internet_conn():\n",
    "        http = urllib3.PoolManager(timeout=3.0)\n",
    "        r = http.request('GET', 'google.com', preload_content=False)\n",
    "        code = r.status\n",
    "        r.release_conn()\n",
    "        if code == 200:\n",
    "            return True\n",
    "        else:\n",
    "            return False"
   ]
  },
  {
   "cell_type": "markdown",
   "metadata": {},
   "source": [
    "## Query Data"
   ]
  },
  {
   "cell_type": "code",
   "execution_count": null,
   "metadata": {},
   "outputs": [
    {
     "name": "stdout",
     "output_type": "stream",
     "text": [
      "Putting 1 observations into forcnn_train_IA_4_1_all_20221212115634.tfrecord\n"
     ]
    },
    {
     "name": "stderr",
     "output_type": "stream",
     "text": [
      "/var/folders/m1/8h14xfm56hd6qfgz6btm1rd80000gn/T/ipykernel_11652/407197897.py:20: SettingWithCopyWarning: \n",
      "A value is trying to be set on a copy of a slice from a DataFrame.\n",
      "Try using .loc[row_indexer,col_indexer] = value instead\n",
      "\n",
      "See the caveats in the documentation: https://pandas.pydata.org/pandas-docs/stable/user_guide/indexing.html#returning-a-view-versus-a-copy\n",
      "  survey_df_yeari['chunk_id'] = utils.chunk_ids(survey_df_yeari.shape[0], CHUNK_SIZE)\n"
     ]
    },
    {
     "name": "stdout",
     "output_type": "stream",
     "text": [
      "Observation: 0/1\n",
      "Error ---\n",
      "5572    IA201400180047\n",
      "Name: uid, dtype: object\n"
     ]
    },
    {
     "name": "stderr",
     "output_type": "stream",
     "text": [
      "/var/folders/m1/8h14xfm56hd6qfgz6btm1rd80000gn/T/ipykernel_11652/407197897.py:43: FutureWarning: The frame.append method is deprecated and will be removed from pandas in a future version. Use pandas.concat instead.\n",
      "  errors_df = errors_df.append(survey_df_yeari_chunki[['uid']], ignore_index = True)\n"
     ]
    },
    {
     "name": "stdout",
     "output_type": "stream",
     "text": [
      "/Users/robmarty/Dropbox/World Bank/IEs/Pakistan Poverty Estimation from Satellites/Data/DHS/FinalData/Individual Datasets/cnn_s2_viirs_underiaTrue/tfrecords/forcnn_train_IA_4_1_all_20221212115634.tfrecord\n",
      "Success \\o/\n",
      "Putting 1 observations into forcnn_train_IA_4_2_all_20221212115634.tfrecord\n"
     ]
    },
    {
     "name": "stderr",
     "output_type": "stream",
     "text": [
      "/var/folders/m1/8h14xfm56hd6qfgz6btm1rd80000gn/T/ipykernel_11652/407197897.py:20: SettingWithCopyWarning: \n",
      "A value is trying to be set on a copy of a slice from a DataFrame.\n",
      "Try using .loc[row_indexer,col_indexer] = value instead\n",
      "\n",
      "See the caveats in the documentation: https://pandas.pydata.org/pandas-docs/stable/user_guide/indexing.html#returning-a-view-versus-a-copy\n",
      "  survey_df_yeari['chunk_id'] = utils.chunk_ids(survey_df_yeari.shape[0], CHUNK_SIZE)\n"
     ]
    },
    {
     "name": "stdout",
     "output_type": "stream",
     "text": [
      "Observation: 0/1\n",
      "Error ---\n",
      "5580    IA201400180138\n",
      "Name: uid, dtype: object\n"
     ]
    },
    {
     "name": "stderr",
     "output_type": "stream",
     "text": [
      "/var/folders/m1/8h14xfm56hd6qfgz6btm1rd80000gn/T/ipykernel_11652/407197897.py:43: FutureWarning: The frame.append method is deprecated and will be removed from pandas in a future version. Use pandas.concat instead.\n",
      "  errors_df = errors_df.append(survey_df_yeari_chunki[['uid']], ignore_index = True)\n"
     ]
    },
    {
     "name": "stdout",
     "output_type": "stream",
     "text": [
      "/Users/robmarty/Dropbox/World Bank/IEs/Pakistan Poverty Estimation from Satellites/Data/DHS/FinalData/Individual Datasets/cnn_s2_viirs_underiaTrue/tfrecords/forcnn_train_IA_4_2_all_20221212115634.tfrecord\n",
      "Success \\o/\n",
      "Putting 4 observations into forcnn_train_UG_3_1_all_20221212115634.tfrecord\n"
     ]
    },
    {
     "name": "stderr",
     "output_type": "stream",
     "text": [
      "/var/folders/m1/8h14xfm56hd6qfgz6btm1rd80000gn/T/ipykernel_11652/407197897.py:20: SettingWithCopyWarning: \n",
      "A value is trying to be set on a copy of a slice from a DataFrame.\n",
      "Try using .loc[row_indexer,col_indexer] = value instead\n",
      "\n",
      "See the caveats in the documentation: https://pandas.pydata.org/pandas-docs/stable/user_guide/indexing.html#returning-a-view-versus-a-copy\n",
      "  survey_df_yeari['chunk_id'] = utils.chunk_ids(survey_df_yeari.shape[0], CHUNK_SIZE)\n"
     ]
    },
    {
     "name": "stdout",
     "output_type": "stream",
     "text": [
      "Observation: 0/4\n",
      "Error ---\n",
      "10059    UG201800000327\n",
      "Name: uid, dtype: object\n"
     ]
    },
    {
     "name": "stderr",
     "output_type": "stream",
     "text": [
      "/var/folders/m1/8h14xfm56hd6qfgz6btm1rd80000gn/T/ipykernel_11652/407197897.py:43: FutureWarning: The frame.append method is deprecated and will be removed from pandas in a future version. Use pandas.concat instead.\n",
      "  errors_df = errors_df.append(survey_df_yeari_chunki[['uid']], ignore_index = True)\n"
     ]
    },
    {
     "name": "stdout",
     "output_type": "stream",
     "text": [
      "Observation: 0/4\n",
      "Error ---\n",
      "10551    UG201800000328\n",
      "Name: uid, dtype: object\n"
     ]
    },
    {
     "name": "stderr",
     "output_type": "stream",
     "text": [
      "/var/folders/m1/8h14xfm56hd6qfgz6btm1rd80000gn/T/ipykernel_11652/407197897.py:43: FutureWarning: The frame.append method is deprecated and will be removed from pandas in a future version. Use pandas.concat instead.\n",
      "  errors_df = errors_df.append(survey_df_yeari_chunki[['uid']], ignore_index = True)\n"
     ]
    },
    {
     "name": "stdout",
     "output_type": "stream",
     "text": [
      "Observation: 0/4\n",
      "Error ---\n",
      "10896    UG201800000334\n",
      "Name: uid, dtype: object\n"
     ]
    },
    {
     "name": "stderr",
     "output_type": "stream",
     "text": [
      "/var/folders/m1/8h14xfm56hd6qfgz6btm1rd80000gn/T/ipykernel_11652/407197897.py:43: FutureWarning: The frame.append method is deprecated and will be removed from pandas in a future version. Use pandas.concat instead.\n",
      "  errors_df = errors_df.append(survey_df_yeari_chunki[['uid']], ignore_index = True)\n"
     ]
    },
    {
     "name": "stdout",
     "output_type": "stream",
     "text": [
      "Observation: 0/4\n",
      "Error ---\n",
      "11610    UG201800000323\n",
      "Name: uid, dtype: object\n"
     ]
    },
    {
     "name": "stderr",
     "output_type": "stream",
     "text": [
      "/var/folders/m1/8h14xfm56hd6qfgz6btm1rd80000gn/T/ipykernel_11652/407197897.py:43: FutureWarning: The frame.append method is deprecated and will be removed from pandas in a future version. Use pandas.concat instead.\n",
      "  errors_df = errors_df.append(survey_df_yeari_chunki[['uid']], ignore_index = True)\n"
     ]
    },
    {
     "name": "stdout",
     "output_type": "stream",
     "text": [
      "/Users/robmarty/Dropbox/World Bank/IEs/Pakistan Poverty Estimation from Satellites/Data/DHS/FinalData/Individual Datasets/cnn_s2_viirs_underiaTrue/tfrecords/forcnn_train_UG_3_1_all_20221212115634.tfrecord\n",
      "Success \\o/\n",
      "Putting 3 observations into nocnn_IA_4_10_all_20221212115634.tfrecord\n"
     ]
    },
    {
     "name": "stderr",
     "output_type": "stream",
     "text": [
      "/var/folders/m1/8h14xfm56hd6qfgz6btm1rd80000gn/T/ipykernel_11652/407197897.py:20: SettingWithCopyWarning: \n",
      "A value is trying to be set on a copy of a slice from a DataFrame.\n",
      "Try using .loc[row_indexer,col_indexer] = value instead\n",
      "\n",
      "See the caveats in the documentation: https://pandas.pydata.org/pandas-docs/stable/user_guide/indexing.html#returning-a-view-versus-a-copy\n",
      "  survey_df_yeari['chunk_id'] = utils.chunk_ids(survey_df_yeari.shape[0], CHUNK_SIZE)\n"
     ]
    },
    {
     "name": "stdout",
     "output_type": "stream",
     "text": [
      "Observation: 0/3\n",
      "Error ---\n",
      "15365    IA201400180112\n",
      "Name: uid, dtype: object\n"
     ]
    },
    {
     "name": "stderr",
     "output_type": "stream",
     "text": [
      "/var/folders/m1/8h14xfm56hd6qfgz6btm1rd80000gn/T/ipykernel_11652/407197897.py:43: FutureWarning: The frame.append method is deprecated and will be removed from pandas in a future version. Use pandas.concat instead.\n",
      "  errors_df = errors_df.append(survey_df_yeari_chunki[['uid']], ignore_index = True)\n"
     ]
    },
    {
     "name": "stdout",
     "output_type": "stream",
     "text": [
      "Observation: 0/3\n",
      "Error ---\n",
      "35246    IA201400180062\n",
      "Name: uid, dtype: object\n"
     ]
    },
    {
     "name": "stderr",
     "output_type": "stream",
     "text": [
      "/var/folders/m1/8h14xfm56hd6qfgz6btm1rd80000gn/T/ipykernel_11652/407197897.py:43: FutureWarning: The frame.append method is deprecated and will be removed from pandas in a future version. Use pandas.concat instead.\n",
      "  errors_df = errors_df.append(survey_df_yeari_chunki[['uid']], ignore_index = True)\n"
     ]
    },
    {
     "name": "stdout",
     "output_type": "stream",
     "text": [
      "Observation: 0/3\n",
      "Error ---\n",
      "45548    IA201400180116\n",
      "Name: uid, dtype: object\n"
     ]
    },
    {
     "name": "stderr",
     "output_type": "stream",
     "text": [
      "/var/folders/m1/8h14xfm56hd6qfgz6btm1rd80000gn/T/ipykernel_11652/407197897.py:43: FutureWarning: The frame.append method is deprecated and will be removed from pandas in a future version. Use pandas.concat instead.\n",
      "  errors_df = errors_df.append(survey_df_yeari_chunki[['uid']], ignore_index = True)\n"
     ]
    },
    {
     "name": "stdout",
     "output_type": "stream",
     "text": [
      "/Users/robmarty/Dropbox/World Bank/IEs/Pakistan Poverty Estimation from Satellites/Data/DHS/FinalData/Individual Datasets/cnn_s2_viirs_underiaTrue/tfrecords/nocnn_IA_4_10_all_20221212115634.tfrecord\n",
      "Success \\o/\n",
      "Putting 1 observations into nocnn_IA_4_11_all_20221212115634.tfrecord\n"
     ]
    },
    {
     "name": "stderr",
     "output_type": "stream",
     "text": [
      "/var/folders/m1/8h14xfm56hd6qfgz6btm1rd80000gn/T/ipykernel_11652/407197897.py:20: SettingWithCopyWarning: \n",
      "A value is trying to be set on a copy of a slice from a DataFrame.\n",
      "Try using .loc[row_indexer,col_indexer] = value instead\n",
      "\n",
      "See the caveats in the documentation: https://pandas.pydata.org/pandas-docs/stable/user_guide/indexing.html#returning-a-view-versus-a-copy\n",
      "  survey_df_yeari['chunk_id'] = utils.chunk_ids(survey_df_yeari.shape[0], CHUNK_SIZE)\n"
     ]
    },
    {
     "name": "stdout",
     "output_type": "stream",
     "text": [
      "Observation: 0/1\n",
      "Error ---\n",
      "21090    IA201400180091\n",
      "Name: uid, dtype: object\n"
     ]
    },
    {
     "name": "stderr",
     "output_type": "stream",
     "text": [
      "/var/folders/m1/8h14xfm56hd6qfgz6btm1rd80000gn/T/ipykernel_11652/407197897.py:43: FutureWarning: The frame.append method is deprecated and will be removed from pandas in a future version. Use pandas.concat instead.\n",
      "  errors_df = errors_df.append(survey_df_yeari_chunki[['uid']], ignore_index = True)\n"
     ]
    },
    {
     "name": "stdout",
     "output_type": "stream",
     "text": [
      "/Users/robmarty/Dropbox/World Bank/IEs/Pakistan Poverty Estimation from Satellites/Data/DHS/FinalData/Individual Datasets/cnn_s2_viirs_underiaTrue/tfrecords/nocnn_IA_4_11_all_20221212115634.tfrecord\n",
      "Success \\o/\n",
      "Putting 1 observations into nocnn_IA_4_12_all_20221212115634.tfrecord\n"
     ]
    },
    {
     "name": "stderr",
     "output_type": "stream",
     "text": [
      "/var/folders/m1/8h14xfm56hd6qfgz6btm1rd80000gn/T/ipykernel_11652/407197897.py:20: SettingWithCopyWarning: \n",
      "A value is trying to be set on a copy of a slice from a DataFrame.\n",
      "Try using .loc[row_indexer,col_indexer] = value instead\n",
      "\n",
      "See the caveats in the documentation: https://pandas.pydata.org/pandas-docs/stable/user_guide/indexing.html#returning-a-view-versus-a-copy\n",
      "  survey_df_yeari['chunk_id'] = utils.chunk_ids(survey_df_yeari.shape[0], CHUNK_SIZE)\n"
     ]
    },
    {
     "name": "stdout",
     "output_type": "stream",
     "text": [
      "Observation: 0/1\n",
      "Error ---\n",
      "50767    IA201400180064\n",
      "Name: uid, dtype: object\n"
     ]
    },
    {
     "name": "stderr",
     "output_type": "stream",
     "text": [
      "/var/folders/m1/8h14xfm56hd6qfgz6btm1rd80000gn/T/ipykernel_11652/407197897.py:43: FutureWarning: The frame.append method is deprecated and will be removed from pandas in a future version. Use pandas.concat instead.\n",
      "  errors_df = errors_df.append(survey_df_yeari_chunki[['uid']], ignore_index = True)\n"
     ]
    },
    {
     "name": "stdout",
     "output_type": "stream",
     "text": [
      "/Users/robmarty/Dropbox/World Bank/IEs/Pakistan Poverty Estimation from Satellites/Data/DHS/FinalData/Individual Datasets/cnn_s2_viirs_underiaTrue/tfrecords/nocnn_IA_4_12_all_20221212115634.tfrecord\n",
      "Success \\o/\n",
      "Putting 2 observations into nocnn_IA_4_13_all_20221212115634.tfrecord\n"
     ]
    },
    {
     "name": "stderr",
     "output_type": "stream",
     "text": [
      "/var/folders/m1/8h14xfm56hd6qfgz6btm1rd80000gn/T/ipykernel_11652/407197897.py:20: SettingWithCopyWarning: \n",
      "A value is trying to be set on a copy of a slice from a DataFrame.\n",
      "Try using .loc[row_indexer,col_indexer] = value instead\n",
      "\n",
      "See the caveats in the documentation: https://pandas.pydata.org/pandas-docs/stable/user_guide/indexing.html#returning-a-view-versus-a-copy\n",
      "  survey_df_yeari['chunk_id'] = utils.chunk_ids(survey_df_yeari.shape[0], CHUNK_SIZE)\n"
     ]
    },
    {
     "name": "stdout",
     "output_type": "stream",
     "text": [
      "Observation: 0/2\n",
      "Error ---\n",
      "28655    IA201400180072\n",
      "Name: uid, dtype: object\n"
     ]
    },
    {
     "name": "stderr",
     "output_type": "stream",
     "text": [
      "/var/folders/m1/8h14xfm56hd6qfgz6btm1rd80000gn/T/ipykernel_11652/407197897.py:43: FutureWarning: The frame.append method is deprecated and will be removed from pandas in a future version. Use pandas.concat instead.\n",
      "  errors_df = errors_df.append(survey_df_yeari_chunki[['uid']], ignore_index = True)\n"
     ]
    },
    {
     "name": "stdout",
     "output_type": "stream",
     "text": [
      "Observation: 0/2\n",
      "Error ---\n",
      "37844    IA201400180079\n",
      "Name: uid, dtype: object\n"
     ]
    },
    {
     "name": "stderr",
     "output_type": "stream",
     "text": [
      "/var/folders/m1/8h14xfm56hd6qfgz6btm1rd80000gn/T/ipykernel_11652/407197897.py:43: FutureWarning: The frame.append method is deprecated and will be removed from pandas in a future version. Use pandas.concat instead.\n",
      "  errors_df = errors_df.append(survey_df_yeari_chunki[['uid']], ignore_index = True)\n"
     ]
    },
    {
     "name": "stdout",
     "output_type": "stream",
     "text": [
      "/Users/robmarty/Dropbox/World Bank/IEs/Pakistan Poverty Estimation from Satellites/Data/DHS/FinalData/Individual Datasets/cnn_s2_viirs_underiaTrue/tfrecords/nocnn_IA_4_13_all_20221212115634.tfrecord\n",
      "Success \\o/\n",
      "Putting 4 observations into nocnn_IA_4_16_all_20221212115634.tfrecord\n"
     ]
    },
    {
     "name": "stderr",
     "output_type": "stream",
     "text": [
      "/var/folders/m1/8h14xfm56hd6qfgz6btm1rd80000gn/T/ipykernel_11652/407197897.py:20: SettingWithCopyWarning: \n",
      "A value is trying to be set on a copy of a slice from a DataFrame.\n",
      "Try using .loc[row_indexer,col_indexer] = value instead\n",
      "\n",
      "See the caveats in the documentation: https://pandas.pydata.org/pandas-docs/stable/user_guide/indexing.html#returning-a-view-versus-a-copy\n",
      "  survey_df_yeari['chunk_id'] = utils.chunk_ids(survey_df_yeari.shape[0], CHUNK_SIZE)\n"
     ]
    },
    {
     "name": "stdout",
     "output_type": "stream",
     "text": [
      "Observation: 0/4\n",
      "Error ---\n",
      "14814    IA201400180140\n",
      "Name: uid, dtype: object\n"
     ]
    },
    {
     "name": "stderr",
     "output_type": "stream",
     "text": [
      "/var/folders/m1/8h14xfm56hd6qfgz6btm1rd80000gn/T/ipykernel_11652/407197897.py:43: FutureWarning: The frame.append method is deprecated and will be removed from pandas in a future version. Use pandas.concat instead.\n",
      "  errors_df = errors_df.append(survey_df_yeari_chunki[['uid']], ignore_index = True)\n"
     ]
    },
    {
     "name": "stdout",
     "output_type": "stream",
     "text": [
      "Observation: 0/4\n",
      "Error ---\n",
      "16064    IA201400180040\n",
      "Name: uid, dtype: object\n"
     ]
    },
    {
     "name": "stderr",
     "output_type": "stream",
     "text": [
      "/var/folders/m1/8h14xfm56hd6qfgz6btm1rd80000gn/T/ipykernel_11652/407197897.py:43: FutureWarning: The frame.append method is deprecated and will be removed from pandas in a future version. Use pandas.concat instead.\n",
      "  errors_df = errors_df.append(survey_df_yeari_chunki[['uid']], ignore_index = True)\n"
     ]
    },
    {
     "name": "stdout",
     "output_type": "stream",
     "text": [
      "Observation: 0/4\n",
      "Error ---\n",
      "37094    IA201400180055\n",
      "Name: uid, dtype: object\n"
     ]
    },
    {
     "name": "stderr",
     "output_type": "stream",
     "text": [
      "/var/folders/m1/8h14xfm56hd6qfgz6btm1rd80000gn/T/ipykernel_11652/407197897.py:43: FutureWarning: The frame.append method is deprecated and will be removed from pandas in a future version. Use pandas.concat instead.\n",
      "  errors_df = errors_df.append(survey_df_yeari_chunki[['uid']], ignore_index = True)\n"
     ]
    },
    {
     "name": "stdout",
     "output_type": "stream",
     "text": [
      "Observation: 0/4\n",
      "Error ---\n",
      "37118    IA201400180080\n",
      "Name: uid, dtype: object\n"
     ]
    },
    {
     "name": "stderr",
     "output_type": "stream",
     "text": [
      "/var/folders/m1/8h14xfm56hd6qfgz6btm1rd80000gn/T/ipykernel_11652/407197897.py:43: FutureWarning: The frame.append method is deprecated and will be removed from pandas in a future version. Use pandas.concat instead.\n",
      "  errors_df = errors_df.append(survey_df_yeari_chunki[['uid']], ignore_index = True)\n"
     ]
    },
    {
     "name": "stdout",
     "output_type": "stream",
     "text": [
      "/Users/robmarty/Dropbox/World Bank/IEs/Pakistan Poverty Estimation from Satellites/Data/DHS/FinalData/Individual Datasets/cnn_s2_viirs_underiaTrue/tfrecords/nocnn_IA_4_16_all_20221212115634.tfrecord\n",
      "Success \\o/\n",
      "Putting 1 observations into nocnn_IA_4_17_all_20221212115634.tfrecord\n"
     ]
    },
    {
     "name": "stderr",
     "output_type": "stream",
     "text": [
      "/var/folders/m1/8h14xfm56hd6qfgz6btm1rd80000gn/T/ipykernel_11652/407197897.py:20: SettingWithCopyWarning: \n",
      "A value is trying to be set on a copy of a slice from a DataFrame.\n",
      "Try using .loc[row_indexer,col_indexer] = value instead\n",
      "\n",
      "See the caveats in the documentation: https://pandas.pydata.org/pandas-docs/stable/user_guide/indexing.html#returning-a-view-versus-a-copy\n",
      "  survey_df_yeari['chunk_id'] = utils.chunk_ids(survey_df_yeari.shape[0], CHUNK_SIZE)\n"
     ]
    },
    {
     "name": "stdout",
     "output_type": "stream",
     "text": [
      "Observation: 0/1\n",
      "Error ---\n",
      "58997    IA201400180058\n",
      "Name: uid, dtype: object\n"
     ]
    },
    {
     "name": "stderr",
     "output_type": "stream",
     "text": [
      "/var/folders/m1/8h14xfm56hd6qfgz6btm1rd80000gn/T/ipykernel_11652/407197897.py:43: FutureWarning: The frame.append method is deprecated and will be removed from pandas in a future version. Use pandas.concat instead.\n",
      "  errors_df = errors_df.append(survey_df_yeari_chunki[['uid']], ignore_index = True)\n"
     ]
    },
    {
     "name": "stdout",
     "output_type": "stream",
     "text": [
      "/Users/robmarty/Dropbox/World Bank/IEs/Pakistan Poverty Estimation from Satellites/Data/DHS/FinalData/Individual Datasets/cnn_s2_viirs_underiaTrue/tfrecords/nocnn_IA_4_17_all_20221212115634.tfrecord\n",
      "Success \\o/\n",
      "Putting 1 observations into nocnn_IA_4_18_all_20221212115634.tfrecord\n"
     ]
    },
    {
     "name": "stderr",
     "output_type": "stream",
     "text": [
      "/var/folders/m1/8h14xfm56hd6qfgz6btm1rd80000gn/T/ipykernel_11652/407197897.py:20: SettingWithCopyWarning: \n",
      "A value is trying to be set on a copy of a slice from a DataFrame.\n",
      "Try using .loc[row_indexer,col_indexer] = value instead\n",
      "\n",
      "See the caveats in the documentation: https://pandas.pydata.org/pandas-docs/stable/user_guide/indexing.html#returning-a-view-versus-a-copy\n",
      "  survey_df_yeari['chunk_id'] = utils.chunk_ids(survey_df_yeari.shape[0], CHUNK_SIZE)\n"
     ]
    },
    {
     "name": "stdout",
     "output_type": "stream",
     "text": [
      "Observation: 0/1\n",
      "Error ---\n",
      "32901    IA201400180050\n",
      "Name: uid, dtype: object\n"
     ]
    },
    {
     "name": "stderr",
     "output_type": "stream",
     "text": [
      "/var/folders/m1/8h14xfm56hd6qfgz6btm1rd80000gn/T/ipykernel_11652/407197897.py:43: FutureWarning: The frame.append method is deprecated and will be removed from pandas in a future version. Use pandas.concat instead.\n",
      "  errors_df = errors_df.append(survey_df_yeari_chunki[['uid']], ignore_index = True)\n"
     ]
    },
    {
     "name": "stdout",
     "output_type": "stream",
     "text": [
      "/Users/robmarty/Dropbox/World Bank/IEs/Pakistan Poverty Estimation from Satellites/Data/DHS/FinalData/Individual Datasets/cnn_s2_viirs_underiaTrue/tfrecords/nocnn_IA_4_18_all_20221212115634.tfrecord\n",
      "Success \\o/\n",
      "Putting 1 observations into nocnn_IA_4_19_all_20221212115634.tfrecord\n"
     ]
    },
    {
     "name": "stderr",
     "output_type": "stream",
     "text": [
      "/var/folders/m1/8h14xfm56hd6qfgz6btm1rd80000gn/T/ipykernel_11652/407197897.py:20: SettingWithCopyWarning: \n",
      "A value is trying to be set on a copy of a slice from a DataFrame.\n",
      "Try using .loc[row_indexer,col_indexer] = value instead\n",
      "\n",
      "See the caveats in the documentation: https://pandas.pydata.org/pandas-docs/stable/user_guide/indexing.html#returning-a-view-versus-a-copy\n",
      "  survey_df_yeari['chunk_id'] = utils.chunk_ids(survey_df_yeari.shape[0], CHUNK_SIZE)\n"
     ]
    },
    {
     "name": "stdout",
     "output_type": "stream",
     "text": [
      "Observation: 0/1\n",
      "Error ---\n",
      "56608    IA201400180012\n",
      "Name: uid, dtype: object\n"
     ]
    },
    {
     "name": "stderr",
     "output_type": "stream",
     "text": [
      "/var/folders/m1/8h14xfm56hd6qfgz6btm1rd80000gn/T/ipykernel_11652/407197897.py:43: FutureWarning: The frame.append method is deprecated and will be removed from pandas in a future version. Use pandas.concat instead.\n",
      "  errors_df = errors_df.append(survey_df_yeari_chunki[['uid']], ignore_index = True)\n"
     ]
    },
    {
     "name": "stdout",
     "output_type": "stream",
     "text": [
      "/Users/robmarty/Dropbox/World Bank/IEs/Pakistan Poverty Estimation from Satellites/Data/DHS/FinalData/Individual Datasets/cnn_s2_viirs_underiaTrue/tfrecords/nocnn_IA_4_19_all_20221212115634.tfrecord\n",
      "Success \\o/\n",
      "Putting 1 observations into nocnn_IA_4_1_all_20221212115634.tfrecord\n"
     ]
    },
    {
     "name": "stderr",
     "output_type": "stream",
     "text": [
      "/var/folders/m1/8h14xfm56hd6qfgz6btm1rd80000gn/T/ipykernel_11652/407197897.py:20: SettingWithCopyWarning: \n",
      "A value is trying to be set on a copy of a slice from a DataFrame.\n",
      "Try using .loc[row_indexer,col_indexer] = value instead\n",
      "\n",
      "See the caveats in the documentation: https://pandas.pydata.org/pandas-docs/stable/user_guide/indexing.html#returning-a-view-versus-a-copy\n",
      "  survey_df_yeari['chunk_id'] = utils.chunk_ids(survey_df_yeari.shape[0], CHUNK_SIZE)\n"
     ]
    },
    {
     "name": "stdout",
     "output_type": "stream",
     "text": [
      "Observation: 0/1\n",
      "Error ---\n",
      "17462    IA201400180011\n",
      "Name: uid, dtype: object\n"
     ]
    },
    {
     "name": "stderr",
     "output_type": "stream",
     "text": [
      "/var/folders/m1/8h14xfm56hd6qfgz6btm1rd80000gn/T/ipykernel_11652/407197897.py:43: FutureWarning: The frame.append method is deprecated and will be removed from pandas in a future version. Use pandas.concat instead.\n",
      "  errors_df = errors_df.append(survey_df_yeari_chunki[['uid']], ignore_index = True)\n"
     ]
    },
    {
     "name": "stdout",
     "output_type": "stream",
     "text": [
      "/Users/robmarty/Dropbox/World Bank/IEs/Pakistan Poverty Estimation from Satellites/Data/DHS/FinalData/Individual Datasets/cnn_s2_viirs_underiaTrue/tfrecords/nocnn_IA_4_1_all_20221212115634.tfrecord\n",
      "Success \\o/\n",
      "Putting 2 observations into nocnn_IA_4_21_all_20221212115634.tfrecord\n"
     ]
    },
    {
     "name": "stderr",
     "output_type": "stream",
     "text": [
      "/var/folders/m1/8h14xfm56hd6qfgz6btm1rd80000gn/T/ipykernel_11652/407197897.py:20: SettingWithCopyWarning: \n",
      "A value is trying to be set on a copy of a slice from a DataFrame.\n",
      "Try using .loc[row_indexer,col_indexer] = value instead\n",
      "\n",
      "See the caveats in the documentation: https://pandas.pydata.org/pandas-docs/stable/user_guide/indexing.html#returning-a-view-versus-a-copy\n",
      "  survey_df_yeari['chunk_id'] = utils.chunk_ids(survey_df_yeari.shape[0], CHUNK_SIZE)\n"
     ]
    },
    {
     "name": "stdout",
     "output_type": "stream",
     "text": [
      "Observation: 0/2\n",
      "Error ---\n",
      "51963    IA201400180048\n",
      "Name: uid, dtype: object\n"
     ]
    },
    {
     "name": "stderr",
     "output_type": "stream",
     "text": [
      "/var/folders/m1/8h14xfm56hd6qfgz6btm1rd80000gn/T/ipykernel_11652/407197897.py:43: FutureWarning: The frame.append method is deprecated and will be removed from pandas in a future version. Use pandas.concat instead.\n",
      "  errors_df = errors_df.append(survey_df_yeari_chunki[['uid']], ignore_index = True)\n"
     ]
    },
    {
     "name": "stdout",
     "output_type": "stream",
     "text": [
      "Observation: 0/2\n",
      "Error ---\n",
      "52220    IA201400180086\n",
      "Name: uid, dtype: object\n"
     ]
    },
    {
     "name": "stderr",
     "output_type": "stream",
     "text": [
      "/var/folders/m1/8h14xfm56hd6qfgz6btm1rd80000gn/T/ipykernel_11652/407197897.py:43: FutureWarning: The frame.append method is deprecated and will be removed from pandas in a future version. Use pandas.concat instead.\n",
      "  errors_df = errors_df.append(survey_df_yeari_chunki[['uid']], ignore_index = True)\n"
     ]
    },
    {
     "name": "stdout",
     "output_type": "stream",
     "text": [
      "/Users/robmarty/Dropbox/World Bank/IEs/Pakistan Poverty Estimation from Satellites/Data/DHS/FinalData/Individual Datasets/cnn_s2_viirs_underiaTrue/tfrecords/nocnn_IA_4_21_all_20221212115634.tfrecord\n",
      "Success \\o/\n",
      "Putting 4 observations into nocnn_IA_4_22_all_20221212115634.tfrecord\n"
     ]
    },
    {
     "name": "stderr",
     "output_type": "stream",
     "text": [
      "/var/folders/m1/8h14xfm56hd6qfgz6btm1rd80000gn/T/ipykernel_11652/407197897.py:20: SettingWithCopyWarning: \n",
      "A value is trying to be set on a copy of a slice from a DataFrame.\n",
      "Try using .loc[row_indexer,col_indexer] = value instead\n",
      "\n",
      "See the caveats in the documentation: https://pandas.pydata.org/pandas-docs/stable/user_guide/indexing.html#returning-a-view-versus-a-copy\n",
      "  survey_df_yeari['chunk_id'] = utils.chunk_ids(survey_df_yeari.shape[0], CHUNK_SIZE)\n"
     ]
    },
    {
     "name": "stdout",
     "output_type": "stream",
     "text": [
      "Observation: 0/4\n",
      "Error ---\n",
      "21079    IA201400180123\n",
      "Name: uid, dtype: object\n"
     ]
    },
    {
     "name": "stderr",
     "output_type": "stream",
     "text": [
      "/var/folders/m1/8h14xfm56hd6qfgz6btm1rd80000gn/T/ipykernel_11652/407197897.py:43: FutureWarning: The frame.append method is deprecated and will be removed from pandas in a future version. Use pandas.concat instead.\n",
      "  errors_df = errors_df.append(survey_df_yeari_chunki[['uid']], ignore_index = True)\n"
     ]
    },
    {
     "name": "stdout",
     "output_type": "stream",
     "text": [
      "Observation: 0/4\n",
      "Error ---\n",
      "21686    IA201400180027\n",
      "Name: uid, dtype: object\n"
     ]
    },
    {
     "name": "stderr",
     "output_type": "stream",
     "text": [
      "/var/folders/m1/8h14xfm56hd6qfgz6btm1rd80000gn/T/ipykernel_11652/407197897.py:43: FutureWarning: The frame.append method is deprecated and will be removed from pandas in a future version. Use pandas.concat instead.\n",
      "  errors_df = errors_df.append(survey_df_yeari_chunki[['uid']], ignore_index = True)\n"
     ]
    },
    {
     "name": "stdout",
     "output_type": "stream",
     "text": [
      "Observation: 0/4\n",
      "Error ---\n",
      "36090    IA201400180081\n",
      "Name: uid, dtype: object\n"
     ]
    },
    {
     "name": "stderr",
     "output_type": "stream",
     "text": [
      "/var/folders/m1/8h14xfm56hd6qfgz6btm1rd80000gn/T/ipykernel_11652/407197897.py:43: FutureWarning: The frame.append method is deprecated and will be removed from pandas in a future version. Use pandas.concat instead.\n",
      "  errors_df = errors_df.append(survey_df_yeari_chunki[['uid']], ignore_index = True)\n"
     ]
    },
    {
     "name": "stdout",
     "output_type": "stream",
     "text": [
      "Observation: 0/4\n",
      "Error ---\n",
      "49594    IA201400180052\n",
      "Name: uid, dtype: object\n"
     ]
    },
    {
     "name": "stderr",
     "output_type": "stream",
     "text": [
      "/var/folders/m1/8h14xfm56hd6qfgz6btm1rd80000gn/T/ipykernel_11652/407197897.py:43: FutureWarning: The frame.append method is deprecated and will be removed from pandas in a future version. Use pandas.concat instead.\n",
      "  errors_df = errors_df.append(survey_df_yeari_chunki[['uid']], ignore_index = True)\n"
     ]
    },
    {
     "name": "stdout",
     "output_type": "stream",
     "text": [
      "/Users/robmarty/Dropbox/World Bank/IEs/Pakistan Poverty Estimation from Satellites/Data/DHS/FinalData/Individual Datasets/cnn_s2_viirs_underiaTrue/tfrecords/nocnn_IA_4_22_all_20221212115634.tfrecord\n",
      "Success \\o/\n",
      "Putting 1 observations into nocnn_IA_4_23_all_20221212115634.tfrecord\n"
     ]
    },
    {
     "name": "stderr",
     "output_type": "stream",
     "text": [
      "/var/folders/m1/8h14xfm56hd6qfgz6btm1rd80000gn/T/ipykernel_11652/407197897.py:20: SettingWithCopyWarning: \n",
      "A value is trying to be set on a copy of a slice from a DataFrame.\n",
      "Try using .loc[row_indexer,col_indexer] = value instead\n",
      "\n",
      "See the caveats in the documentation: https://pandas.pydata.org/pandas-docs/stable/user_guide/indexing.html#returning-a-view-versus-a-copy\n",
      "  survey_df_yeari['chunk_id'] = utils.chunk_ids(survey_df_yeari.shape[0], CHUNK_SIZE)\n"
     ]
    },
    {
     "name": "stdout",
     "output_type": "stream",
     "text": [
      "Observation: 0/1\n",
      "Error ---\n",
      "37212    IA201400180030\n",
      "Name: uid, dtype: object\n"
     ]
    },
    {
     "name": "stderr",
     "output_type": "stream",
     "text": [
      "/var/folders/m1/8h14xfm56hd6qfgz6btm1rd80000gn/T/ipykernel_11652/407197897.py:43: FutureWarning: The frame.append method is deprecated and will be removed from pandas in a future version. Use pandas.concat instead.\n",
      "  errors_df = errors_df.append(survey_df_yeari_chunki[['uid']], ignore_index = True)\n"
     ]
    },
    {
     "name": "stdout",
     "output_type": "stream",
     "text": [
      "/Users/robmarty/Dropbox/World Bank/IEs/Pakistan Poverty Estimation from Satellites/Data/DHS/FinalData/Individual Datasets/cnn_s2_viirs_underiaTrue/tfrecords/nocnn_IA_4_23_all_20221212115634.tfrecord\n",
      "Success \\o/\n",
      "Putting 1 observations into nocnn_IA_4_3_all_20221212115634.tfrecord\n"
     ]
    },
    {
     "name": "stderr",
     "output_type": "stream",
     "text": [
      "/var/folders/m1/8h14xfm56hd6qfgz6btm1rd80000gn/T/ipykernel_11652/407197897.py:20: SettingWithCopyWarning: \n",
      "A value is trying to be set on a copy of a slice from a DataFrame.\n",
      "Try using .loc[row_indexer,col_indexer] = value instead\n",
      "\n",
      "See the caveats in the documentation: https://pandas.pydata.org/pandas-docs/stable/user_guide/indexing.html#returning-a-view-versus-a-copy\n",
      "  survey_df_yeari['chunk_id'] = utils.chunk_ids(survey_df_yeari.shape[0], CHUNK_SIZE)\n"
     ]
    },
    {
     "name": "stdout",
     "output_type": "stream",
     "text": [
      "Observation: 0/1\n",
      "Error ---\n",
      "16905    IA201400180028\n",
      "Name: uid, dtype: object\n"
     ]
    },
    {
     "name": "stderr",
     "output_type": "stream",
     "text": [
      "/var/folders/m1/8h14xfm56hd6qfgz6btm1rd80000gn/T/ipykernel_11652/407197897.py:43: FutureWarning: The frame.append method is deprecated and will be removed from pandas in a future version. Use pandas.concat instead.\n",
      "  errors_df = errors_df.append(survey_df_yeari_chunki[['uid']], ignore_index = True)\n"
     ]
    },
    {
     "name": "stdout",
     "output_type": "stream",
     "text": [
      "/Users/robmarty/Dropbox/World Bank/IEs/Pakistan Poverty Estimation from Satellites/Data/DHS/FinalData/Individual Datasets/cnn_s2_viirs_underiaTrue/tfrecords/nocnn_IA_4_3_all_20221212115634.tfrecord\n",
      "Success \\o/\n",
      "Putting 3 observations into nocnn_IA_4_4_all_20221212115634.tfrecord\n"
     ]
    },
    {
     "name": "stderr",
     "output_type": "stream",
     "text": [
      "/var/folders/m1/8h14xfm56hd6qfgz6btm1rd80000gn/T/ipykernel_11652/407197897.py:20: SettingWithCopyWarning: \n",
      "A value is trying to be set on a copy of a slice from a DataFrame.\n",
      "Try using .loc[row_indexer,col_indexer] = value instead\n",
      "\n",
      "See the caveats in the documentation: https://pandas.pydata.org/pandas-docs/stable/user_guide/indexing.html#returning-a-view-versus-a-copy\n",
      "  survey_df_yeari['chunk_id'] = utils.chunk_ids(survey_df_yeari.shape[0], CHUNK_SIZE)\n"
     ]
    },
    {
     "name": "stdout",
     "output_type": "stream",
     "text": [
      "Observation: 0/3\n",
      "Error ---\n",
      "26794    IA201400180083\n",
      "Name: uid, dtype: object\n"
     ]
    },
    {
     "name": "stderr",
     "output_type": "stream",
     "text": [
      "/var/folders/m1/8h14xfm56hd6qfgz6btm1rd80000gn/T/ipykernel_11652/407197897.py:43: FutureWarning: The frame.append method is deprecated and will be removed from pandas in a future version. Use pandas.concat instead.\n",
      "  errors_df = errors_df.append(survey_df_yeari_chunki[['uid']], ignore_index = True)\n"
     ]
    },
    {
     "name": "stdout",
     "output_type": "stream",
     "text": [
      "Observation: 0/3\n",
      "Error ---\n",
      "34444    IA201400180100\n",
      "Name: uid, dtype: object\n"
     ]
    },
    {
     "name": "stderr",
     "output_type": "stream",
     "text": [
      "/var/folders/m1/8h14xfm56hd6qfgz6btm1rd80000gn/T/ipykernel_11652/407197897.py:43: FutureWarning: The frame.append method is deprecated and will be removed from pandas in a future version. Use pandas.concat instead.\n",
      "  errors_df = errors_df.append(survey_df_yeari_chunki[['uid']], ignore_index = True)\n"
     ]
    },
    {
     "name": "stdout",
     "output_type": "stream",
     "text": [
      "Observation: 0/3\n",
      "Error ---\n",
      "62071    IA201400180133\n",
      "Name: uid, dtype: object\n"
     ]
    },
    {
     "name": "stderr",
     "output_type": "stream",
     "text": [
      "/var/folders/m1/8h14xfm56hd6qfgz6btm1rd80000gn/T/ipykernel_11652/407197897.py:43: FutureWarning: The frame.append method is deprecated and will be removed from pandas in a future version. Use pandas.concat instead.\n",
      "  errors_df = errors_df.append(survey_df_yeari_chunki[['uid']], ignore_index = True)\n"
     ]
    }
   ],
   "source": [
    "## Blank error dataframe\n",
    "errors_df = pd.DataFrame()\n",
    "\n",
    "## Error file name\n",
    "now = datetime.now()\n",
    "current_time = now.strftime(\"%d_%m_%y_%H_%M_%S\")\n",
    "error_file_name = 'errors_' + current_time + '.csv'\n",
    "\n",
    "if True:\n",
    "    ### Loop through all tfrecords\n",
    "    for tfr_i in tf_record_list:\n",
    "\n",
    "        # Sometimes we get computational time out errors. If occurs, just skip and go to next.\n",
    "        # We can then go back and rescrape missed ones.\n",
    "\n",
    "        survey_df_yeari = survey_df[survey_df['tfrecord_name'] == tfr_i]\n",
    "        year_i = survey_df_yeari['year'].iloc[0]\n",
    "\n",
    "        ### Loop through chunks within tfrecord (can only pull so much data from GEE at a time)\n",
    "        survey_df_yeari['chunk_id'] = utils.chunk_ids(survey_df_yeari.shape[0], CHUNK_SIZE)\n",
    "\n",
    "        print(\"Putting \" + str(survey_df_yeari.shape[0]) + \" observations into \" + tfr_i)\n",
    "\n",
    "        proto_examples_all = []\n",
    "        for chunk_i in list(np.unique(survey_df_yeari.chunk_id)):\n",
    "            \n",
    "\n",
    "            try:\n",
    "\n",
    "                time.sleep(3)\n",
    "                print(\"Observation: \" + str(len(proto_examples_all)) + \"/\" + str(survey_df_yeari.shape[0]))\n",
    "\n",
    "                survey_df_yeari_chunki = survey_df_yeari[survey_df_yeari['chunk_id'] == chunk_i]\n",
    "\n",
    "                proto_examples_i = utils.prep_cnn_np(survey_df_yeari_chunki, SATELLITE, KERNEL_SIZE, year_i)\n",
    "                proto_examples_all.extend(proto_examples_i)\n",
    "\n",
    "            except:\n",
    "\n",
    "                print(\"Error ---\")\n",
    "                print(survey_df_yeari_chunki['uid'])\n",
    "\n",
    "                errors_df = errors_df.append(survey_df_yeari_chunki[['uid']], ignore_index = True)\n",
    "                errors_df.to_csv(os.path.join(out_path_errors, error_file_name))\n",
    "\n",
    "                time.sleep(15)\n",
    "                pass\n",
    "\n",
    "        ### Save data as tf record\n",
    "        out_path_i = os.path.join(out_path, tfr_i)\n",
    "        print(out_path_i)\n",
    "        with tf.io.TFRecordWriter(out_path_i) as writer:\n",
    "            for tf_example in proto_examples_all:\n",
    "                writer.write(tf_example.SerializeToString())\n",
    "\n",
    "        print(\"Success \\o/\")\n",
    "\n"
   ]
  },
  {
   "cell_type": "code",
   "execution_count": null,
   "metadata": {},
   "outputs": [],
   "source": []
  },
  {
   "cell_type": "code",
   "execution_count": null,
   "metadata": {},
   "outputs": [],
   "source": []
  },
  {
   "cell_type": "code",
   "execution_count": null,
   "metadata": {
    "id": "-SajCSlNXVZE"
   },
   "outputs": [],
   "source": []
  },
  {
   "cell_type": "code",
   "execution_count": null,
   "metadata": {
    "id": "LJAM4iswXVZE"
   },
   "outputs": [],
   "source": []
  },
  {
   "cell_type": "code",
   "execution_count": null,
   "metadata": {
    "id": "9wYDJxfpXVZF"
   },
   "outputs": [],
   "source": []
  },
  {
   "cell_type": "code",
   "execution_count": null,
   "metadata": {
    "id": "Zb0U780PXVZF"
   },
   "outputs": [],
   "source": []
  },
  {
   "cell_type": "code",
   "execution_count": null,
   "metadata": {
    "id": "pBuKts4wXVZF"
   },
   "outputs": [],
   "source": []
  },
  {
   "cell_type": "code",
   "execution_count": null,
   "metadata": {
    "id": "IS7Bb2f0XVZF"
   },
   "outputs": [],
   "source": []
  },
  {
   "cell_type": "code",
   "execution_count": null,
   "metadata": {
    "id": "ju-_zuLnXVZF"
   },
   "outputs": [],
   "source": []
  },
  {
   "cell_type": "code",
   "execution_count": null,
   "metadata": {
    "id": "fD0SacCEXVZF"
   },
   "outputs": [],
   "source": []
  },
  {
   "cell_type": "code",
   "execution_count": null,
   "metadata": {
    "id": "0xqAkzCqXVZG"
   },
   "outputs": [],
   "source": []
  },
  {
   "cell_type": "code",
   "execution_count": null,
   "metadata": {
    "id": "JDskpn-iXVZG"
   },
   "outputs": [],
   "source": []
  },
  {
   "cell_type": "code",
   "execution_count": null,
   "metadata": {
    "id": "0Iep8MNNXVZG"
   },
   "outputs": [],
   "source": []
  },
  {
   "cell_type": "code",
   "execution_count": null,
   "metadata": {
    "id": "TNjhMUDHXVZH"
   },
   "outputs": [],
   "source": []
  },
  {
   "cell_type": "code",
   "execution_count": null,
   "metadata": {
    "id": "mPzEHDBcXVZH"
   },
   "outputs": [],
   "source": []
  },
  {
   "cell_type": "code",
   "execution_count": null,
   "metadata": {
    "id": "jVI8BPYMXVZH"
   },
   "outputs": [],
   "source": []
  },
  {
   "cell_type": "code",
   "execution_count": null,
   "metadata": {
    "id": "eQR8aHw2XVZH"
   },
   "outputs": [],
   "source": []
  },
  {
   "cell_type": "code",
   "execution_count": null,
   "metadata": {
    "id": "H5pJ0FIOXVZI"
   },
   "outputs": [],
   "source": []
  },
  {
   "cell_type": "code",
   "execution_count": null,
   "metadata": {
    "id": "H9GuSI50opSX"
   },
   "outputs": [],
   "source": []
  }
 ],
 "metadata": {
  "colab": {
   "collapsed_sections": [],
   "name": "01_extract_data_gee_for_cnn.ipynb",
   "provenance": []
  },
  "kernelspec": {
   "display_name": "Python 3 (ipykernel)",
   "language": "python",
   "name": "python3"
  },
  "language_info": {
   "codemirror_mode": {
    "name": "ipython",
    "version": 3
   },
   "file_extension": ".py",
   "mimetype": "text/x-python",
   "name": "python",
   "nbconvert_exporter": "python",
   "pygments_lexer": "ipython3",
   "version": "3.8.13"
  }
 },
 "nbformat": 4,
 "nbformat_minor": 4
}
