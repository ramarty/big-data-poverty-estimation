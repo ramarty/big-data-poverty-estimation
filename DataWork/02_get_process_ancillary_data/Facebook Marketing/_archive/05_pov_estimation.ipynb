{
 "cells": [
  {
   "cell_type": "markdown",
   "metadata": {},
   "source": [
    "## Poverty Estimation with Facebook Data"
   ]
  },
  {
   "cell_type": "code",
   "execution_count": 8,
   "metadata": {},
   "outputs": [],
   "source": [
    "import os\n",
    "import pandas as pd"
   ]
  },
  {
   "cell_type": "code",
   "execution_count": 9,
   "metadata": {},
   "outputs": [],
   "source": [
    "data_dir = \"~/Dropbox/World Bank/IEs/Pakistan Poverty Estimation from Satellites/Data\"\n",
    "SURVEY_NAME = \"DHS\""
   ]
  },
  {
   "cell_type": "code",
   "execution_count": 12,
   "metadata": {},
   "outputs": [
    {
     "name": "stderr",
     "output_type": "stream",
     "text": [
      "/Users/robmarty/anaconda3/lib/python3.7/site-packages/IPython/core/interactiveshell.py:3044: DtypeWarning: Columns (27,31,35) have mixed types.Specify dtype option on import or set low_memory=False.\n",
      "  interactivity=interactivity, compiler=compiler, result=result)\n"
     ]
    }
   ],
   "source": [
    "fb_df = pd.read_csv(os.path.join(data_dir, SURVEY_NAME, 'FinalData', 'Individual Datasets', 'facebook_marketing_dau_mau_prop.csv'))\n",
    "survey_df = pd.read_csv(os.path.join(data_dir, SURVEY_NAME, \"FinalData\", \"Individual Datasets\", \"survey_socioeconomic.csv\"))"
   ]
  },
  {
   "cell_type": "code",
   "execution_count": 19,
   "metadata": {},
   "outputs": [],
   "source": [
    "df = survey_df.merge(fb_df, on = 'uid')"
   ]
  },
  {
   "cell_type": "code",
   "execution_count": 20,
   "metadata": {},
   "outputs": [],
   "source": [
    "df = df.sample(frac=1).reset_index(drop=True)"
   ]
  },
  {
   "cell_type": "code",
   "execution_count": 25,
   "metadata": {},
   "outputs": [
    {
     "data": {
      "text/plain": [
       "Index(['gadm_uid', 'uid', 'country_code', 'country_year', 'urban_rural',\n",
       "       'year', 'most_recent_survey', 'latitude', 'longitude', 'cluster_id',\n",
       "       'has_electricity', 'has_radio', 'has_tv', 'has_fridge', 'has_motorbike',\n",
       "       'has_car', 'n_hh_members', 'n_rooms_sleeping', 'wealth_index',\n",
       "       'wealth_index_score', 'water_source_piped_dwelling',\n",
       "       'n_sleeping_rooms_pp', 'asset_pca_1', 'GID_0', 'NAME_0', 'GID_1',\n",
       "       'NAME_1', 'NL_NAME_1', 'GID_2', 'NAME_2', 'VARNAME_2', 'NL_NAME_2',\n",
       "       'TYPE_2', 'ENGTYPE_2', 'CC_2', 'HASC_2', 'within_country_fold',\n",
       "       'tfrecord_name'],\n",
       "      dtype='object')"
      ]
     },
     "execution_count": 25,
     "metadata": {},
     "output_type": "execute_result"
    }
   ],
   "source": [
    "survey_df.columns"
   ]
  },
  {
   "cell_type": "code",
   "execution_count": null,
   "metadata": {},
   "outputs": [],
   "source": []
  }
 ],
 "metadata": {
  "kernelspec": {
   "display_name": "Python 3",
   "language": "python",
   "name": "python3"
  },
  "language_info": {
   "codemirror_mode": {
    "name": "ipython",
    "version": 3
   },
   "file_extension": ".py",
   "mimetype": "text/x-python",
   "name": "python",
   "nbconvert_exporter": "python",
   "pygments_lexer": "ipython3",
   "version": "3.7.2"
  }
 },
 "nbformat": 4,
 "nbformat_minor": 2
}
