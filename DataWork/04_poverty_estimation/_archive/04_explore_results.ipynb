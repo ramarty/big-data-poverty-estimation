{
 "cells": [
  {
   "cell_type": "markdown",
   "metadata": {},
   "source": [
    "# Evaluating initial machine learning performance\n",
    "\n",
    "I ran the combined Landsat7-and-household-income data through a large-grid ML pipeline, using 30% of the original data as test data, and recording the resulting $R^2$ values. \n",
    "\n",
    "### About the grid\n",
    "\n",
    "The regression models used in this grid search approach are the Linear Regression, Ridge Regression, Linear Support Vector Machine Regression (SVM), Decision Tree Regressor, Bagging Regressor, Gradient Boosting Regressor, and Random Forest Regressor model types. They were selected to provide a range of regression-based approaches. If any major regression-based model seems arbitrarily excluded, it is because I did not understand how they work.\n",
    "\n",
    "Note: I had originally planned to include Gradient Boosting in the list of models. However, due to the lack of computing hardware available for this step, I was not able to complete a full training run of the Gradient Boosting models on my personal laptop. For the range of models specified in the grid, training Gradient Boosting models alone did not complete within 12 hours over several overnight trials.\n",
    "\n",
    "For reference, the full range of hyperparameters can be seen in the `GRID_MAIN` variable in [config.py](https://github.com/worldbank/Pakistan-Poverty-from-Sky/blob/ml-first-pass/Code/bisp_approach/03_analysis/config.py).\n",
    "\n",
    "### About this document\n",
    "\n",
    "This notebook explores results and feature importances from the various trained models.\n",
    "\n",
    "1. [Read Results](#1.-Read-results)\n",
    "2. Explore best-performing models\n",
    "    - [2.1 Models trained across any feature set](#2.1-Models-trained-across-all-feature-sets)\n",
    "    - [2.2 Models trained on daytime features only](#2.2-Models-with-Daytime-features-only)\n",
    "    - [2.3 Models trained on all features only](#2.3-Models-trained-on-All-Features-only)"
   ]
  },
  {
   "cell_type": "code",
   "execution_count": 62,
   "metadata": {},
   "outputs": [],
   "source": [
    "import os\n",
    "import math\n",
    "import pickle\n",
    "import itertools\n",
    "import numpy as np\n",
    "import pandas as pd\n",
    "import matplotlib.pyplot as plt\n",
    "from sklearn.preprocessing import normalize\n",
    "from sklearn.model_selection import train_test_split\n",
    "from sklearn.tree import DecisionTreeRegressor\n",
    "from sklearn.ensemble import BaggingRegressor\n",
    "from sklearn.metrics import r2_score\n",
    "import graphviz\n",
    "\n",
    "import config as cf\n",
    "\n",
    "# Display settings\n",
    "pd.options.display.max_columns = 999\n",
    "pd.options.display.max_colwidth = -1"
   ]
  },
  {
   "cell_type": "markdown",
   "metadata": {},
   "source": [
    "## 1. Read results\n",
    "\n",
    "### Load results file"
   ]
  },
  {
   "cell_type": "code",
   "execution_count": 125,
   "metadata": {},
   "outputs": [
    {
     "data": {
      "text/plain": [
       "(1092, 7)"
      ]
     },
     "execution_count": 125,
     "metadata": {},
     "output_type": "execute_result"
    }
   ],
   "source": [
    "RESULTS_PATH = os.path.join('output', 'results.csv')\n",
    "df = pd.read_csv(RESULTS_PATH)\n",
    "df.shape"
   ]
  },
  {
   "cell_type": "code",
   "execution_count": 126,
   "metadata": {},
   "outputs": [
    {
     "data": {
      "text/html": [
       "<div>\n",
       "<style scoped>\n",
       "    .dataframe tbody tr th:only-of-type {\n",
       "        vertical-align: middle;\n",
       "    }\n",
       "\n",
       "    .dataframe tbody tr th {\n",
       "        vertical-align: top;\n",
       "    }\n",
       "\n",
       "    .dataframe thead th {\n",
       "        text-align: right;\n",
       "    }\n",
       "</style>\n",
       "<table border=\"1\" class=\"dataframe\">\n",
       "  <thead>\n",
       "    <tr style=\"text-align: right;\">\n",
       "      <th></th>\n",
       "      <th>Unnamed: 0</th>\n",
       "      <th>regressor</th>\n",
       "      <th>params</th>\n",
       "      <th>features</th>\n",
       "      <th>r2</th>\n",
       "      <th>mse</th>\n",
       "      <th>max_err</th>\n",
       "    </tr>\n",
       "  </thead>\n",
       "  <tbody>\n",
       "    <tr>\n",
       "      <th>0</th>\n",
       "      <td>0</td>\n",
       "      <td>Lasso</td>\n",
       "      <td>{'alpha': 0.01, 'max_iter': 1000.0, 'selection': 'cyclic', 'random_state': 0}</td>\n",
       "      <td>DAY_FEATURES</td>\n",
       "      <td>0.002785</td>\n",
       "      <td>2.832462e+12</td>\n",
       "      <td>3.112745e+07</td>\n",
       "    </tr>\n",
       "    <tr>\n",
       "      <th>1</th>\n",
       "      <td>1</td>\n",
       "      <td>Lasso</td>\n",
       "      <td>{'alpha': 0.01, 'max_iter': 1000.0, 'selection': 'cyclic', 'random_state': 0}</td>\n",
       "      <td>NIGHT_FEATURES</td>\n",
       "      <td>0.000684</td>\n",
       "      <td>2.838430e+12</td>\n",
       "      <td>3.130330e+07</td>\n",
       "    </tr>\n",
       "    <tr>\n",
       "      <th>2</th>\n",
       "      <td>2</td>\n",
       "      <td>Lasso</td>\n",
       "      <td>{'alpha': 0.01, 'max_iter': 1000.0, 'selection': 'cyclic', 'random_state': 0}</td>\n",
       "      <td>ALL_FEATURES</td>\n",
       "      <td>0.002788</td>\n",
       "      <td>2.832455e+12</td>\n",
       "      <td>3.111432e+07</td>\n",
       "    </tr>\n",
       "    <tr>\n",
       "      <th>3</th>\n",
       "      <td>3</td>\n",
       "      <td>Lasso</td>\n",
       "      <td>{'alpha': 0.01, 'max_iter': 1000.0, 'selection': 'random', 'random_state': 0}</td>\n",
       "      <td>DAY_FEATURES</td>\n",
       "      <td>0.002978</td>\n",
       "      <td>2.831916e+12</td>\n",
       "      <td>3.112967e+07</td>\n",
       "    </tr>\n",
       "    <tr>\n",
       "      <th>4</th>\n",
       "      <td>4</td>\n",
       "      <td>Lasso</td>\n",
       "      <td>{'alpha': 0.01, 'max_iter': 1000.0, 'selection': 'random', 'random_state': 0}</td>\n",
       "      <td>NIGHT_FEATURES</td>\n",
       "      <td>0.000684</td>\n",
       "      <td>2.838430e+12</td>\n",
       "      <td>3.130330e+07</td>\n",
       "    </tr>\n",
       "  </tbody>\n",
       "</table>\n",
       "</div>"
      ],
      "text/plain": [
       "   Unnamed: 0 regressor  \\\n",
       "0  0           Lasso      \n",
       "1  1           Lasso      \n",
       "2  2           Lasso      \n",
       "3  3           Lasso      \n",
       "4  4           Lasso      \n",
       "\n",
       "                                                                          params  \\\n",
       "0  {'alpha': 0.01, 'max_iter': 1000.0, 'selection': 'cyclic', 'random_state': 0}   \n",
       "1  {'alpha': 0.01, 'max_iter': 1000.0, 'selection': 'cyclic', 'random_state': 0}   \n",
       "2  {'alpha': 0.01, 'max_iter': 1000.0, 'selection': 'cyclic', 'random_state': 0}   \n",
       "3  {'alpha': 0.01, 'max_iter': 1000.0, 'selection': 'random', 'random_state': 0}   \n",
       "4  {'alpha': 0.01, 'max_iter': 1000.0, 'selection': 'random', 'random_state': 0}   \n",
       "\n",
       "         features        r2           mse       max_err  \n",
       "0  DAY_FEATURES    0.002785  2.832462e+12  3.112745e+07  \n",
       "1  NIGHT_FEATURES  0.000684  2.838430e+12  3.130330e+07  \n",
       "2  ALL_FEATURES    0.002788  2.832455e+12  3.111432e+07  \n",
       "3  DAY_FEATURES    0.002978  2.831916e+12  3.112967e+07  \n",
       "4  NIGHT_FEATURES  0.000684  2.838430e+12  3.130330e+07  "
      ]
     },
     "execution_count": 126,
     "metadata": {},
     "output_type": "execute_result"
    }
   ],
   "source": [
    "df.head()"
   ]
  },
  {
   "cell_type": "code",
   "execution_count": 127,
   "metadata": {},
   "outputs": [
    {
     "data": {
      "text/plain": [
       "array(['Lasso', 'DecisionTreeRegressor', 'LinearSVR', 'Ridge',\n",
       "       'LinearRegression', 'RandomForestRegressor', 'BaggingRegressor'],\n",
       "      dtype=object)"
      ]
     },
     "execution_count": 127,
     "metadata": {},
     "output_type": "execute_result"
    }
   ],
   "source": [
    "df['regressor'].unique()"
   ]
  },
  {
   "cell_type": "markdown",
   "metadata": {},
   "source": [
    "## 2. Explore best-performing models\n",
    "\n",
    "### 2.1 Models trained across all feature sets\n",
    "\n",
    "First, we take a look at which models performed best for any feature set."
   ]
  },
  {
   "cell_type": "code",
   "execution_count": 4,
   "metadata": {},
   "outputs": [
    {
     "data": {
      "text/html": [
       "<div>\n",
       "<style scoped>\n",
       "    .dataframe tbody tr th:only-of-type {\n",
       "        vertical-align: middle;\n",
       "    }\n",
       "\n",
       "    .dataframe tbody tr th {\n",
       "        vertical-align: top;\n",
       "    }\n",
       "\n",
       "    .dataframe thead th {\n",
       "        text-align: right;\n",
       "    }\n",
       "</style>\n",
       "<table border=\"1\" class=\"dataframe\">\n",
       "  <thead>\n",
       "    <tr style=\"text-align: right;\">\n",
       "      <th></th>\n",
       "      <th>Unnamed: 0</th>\n",
       "      <th>regressor</th>\n",
       "      <th>params</th>\n",
       "      <th>features</th>\n",
       "      <th>r2</th>\n",
       "      <th>mse</th>\n",
       "      <th>max_err</th>\n",
       "    </tr>\n",
       "  </thead>\n",
       "  <tbody>\n",
       "    <tr>\n",
       "      <th>190</th>\n",
       "      <td>190</td>\n",
       "      <td>DecisionTreeRegressor</td>\n",
       "      <td>{'criterion': 'friedman_mse', 'splitter': 'best', 'max_depth': 20, 'max_features': 'sqrt', 'random_state': 0}</td>\n",
       "      <td>NIGHT_FEATURES</td>\n",
       "      <td>0.695971</td>\n",
       "      <td>8.635571e+11</td>\n",
       "      <td>20061798.0</td>\n",
       "    </tr>\n",
       "    <tr>\n",
       "      <th>118</th>\n",
       "      <td>118</td>\n",
       "      <td>DecisionTreeRegressor</td>\n",
       "      <td>{'criterion': 'mse', 'splitter': 'best', 'max_depth': 20, 'max_features': 'sqrt', 'random_state': 0}</td>\n",
       "      <td>NIGHT_FEATURES</td>\n",
       "      <td>0.695971</td>\n",
       "      <td>8.635571e+11</td>\n",
       "      <td>20061798.0</td>\n",
       "    </tr>\n",
       "    <tr>\n",
       "      <th>121</th>\n",
       "      <td>121</td>\n",
       "      <td>DecisionTreeRegressor</td>\n",
       "      <td>{'criterion': 'mse', 'splitter': 'best', 'max_depth': 20, 'max_features': 'log2', 'random_state': 0}</td>\n",
       "      <td>NIGHT_FEATURES</td>\n",
       "      <td>0.695971</td>\n",
       "      <td>8.635571e+11</td>\n",
       "      <td>20061798.0</td>\n",
       "    </tr>\n",
       "    <tr>\n",
       "      <th>193</th>\n",
       "      <td>193</td>\n",
       "      <td>DecisionTreeRegressor</td>\n",
       "      <td>{'criterion': 'friedman_mse', 'splitter': 'best', 'max_depth': 20, 'max_features': 'log2', 'random_state': 0}</td>\n",
       "      <td>NIGHT_FEATURES</td>\n",
       "      <td>0.695971</td>\n",
       "      <td>8.635571e+11</td>\n",
       "      <td>20061798.0</td>\n",
       "    </tr>\n",
       "    <tr>\n",
       "      <th>225</th>\n",
       "      <td>225</td>\n",
       "      <td>DecisionTreeRegressor</td>\n",
       "      <td>{'criterion': 'friedman_mse', 'splitter': 'random', 'max_depth': 20, 'max_features': 'sqrt', 'random_state': 0}</td>\n",
       "      <td>DAY_FEATURES</td>\n",
       "      <td>0.680805</td>\n",
       "      <td>9.066333e+11</td>\n",
       "      <td>20061798.0</td>\n",
       "    </tr>\n",
       "  </tbody>\n",
       "</table>\n",
       "</div>"
      ],
      "text/plain": [
       "     Unnamed: 0              regressor  \\\n",
       "190  190         DecisionTreeRegressor   \n",
       "118  118         DecisionTreeRegressor   \n",
       "121  121         DecisionTreeRegressor   \n",
       "193  193         DecisionTreeRegressor   \n",
       "225  225         DecisionTreeRegressor   \n",
       "\n",
       "                                                                                                              params  \\\n",
       "190  {'criterion': 'friedman_mse', 'splitter': 'best', 'max_depth': 20, 'max_features': 'sqrt', 'random_state': 0}     \n",
       "118  {'criterion': 'mse', 'splitter': 'best', 'max_depth': 20, 'max_features': 'sqrt', 'random_state': 0}              \n",
       "121  {'criterion': 'mse', 'splitter': 'best', 'max_depth': 20, 'max_features': 'log2', 'random_state': 0}              \n",
       "193  {'criterion': 'friedman_mse', 'splitter': 'best', 'max_depth': 20, 'max_features': 'log2', 'random_state': 0}     \n",
       "225  {'criterion': 'friedman_mse', 'splitter': 'random', 'max_depth': 20, 'max_features': 'sqrt', 'random_state': 0}   \n",
       "\n",
       "           features        r2           mse     max_err  \n",
       "190  NIGHT_FEATURES  0.695971  8.635571e+11  20061798.0  \n",
       "118  NIGHT_FEATURES  0.695971  8.635571e+11  20061798.0  \n",
       "121  NIGHT_FEATURES  0.695971  8.635571e+11  20061798.0  \n",
       "193  NIGHT_FEATURES  0.695971  8.635571e+11  20061798.0  \n",
       "225  DAY_FEATURES    0.680805  9.066333e+11  20061798.0  "
      ]
     },
     "execution_count": 4,
     "metadata": {},
     "output_type": "execute_result"
    }
   ],
   "source": [
    "df.sort_values(by='r2', ascending=False).head()"
   ]
  },
  {
   "cell_type": "markdown",
   "metadata": {},
   "source": [
    "The best-performing models (by $R^2$) were decision tree regression models trained on night-time features.\n",
    "\n",
    "Hyperparameters for the best-performing models involved:\n",
    "- a maximum tree depth of 20 (`max_depth = 20`) \n",
    "- searching sqrt(n) or log2(n) features at each split (`max_features = {sqrt, log2}`)\n",
    "- using mean squared error to determine best non-random splits (`criterion = {mse, friedman_mse}`)"
   ]
  },
  {
   "cell_type": "code",
   "execution_count": 5,
   "metadata": {},
   "outputs": [
    {
     "data": {
      "text/plain": [
       "regressor\n",
       "DecisionTreeRegressor    0.695971\n",
       "BaggingRegressor         0.635201\n",
       "RandomForestRegressor    0.554162\n",
       "LinearRegression         0.003086\n",
       "Lasso                    0.003085\n",
       "Ridge                    0.002697\n",
       "LinearSVR                0.000802\n",
       "Name: r2, dtype: float64"
      ]
     },
     "execution_count": 5,
     "metadata": {},
     "output_type": "execute_result"
    }
   ],
   "source": [
    "# What was the best performance for each model type?\n",
    "df.groupby('regressor')['r2'].max().sort_values(ascending=False)"
   ]
  },
  {
   "cell_type": "markdown",
   "metadata": {},
   "source": [
    "Only bagging, decision tree, and random forest models achieved $R^2$ scores appreciably above 0. \n",
    "\n",
    "Surprisingly, decision trees seem to outperform random forests here. Given how random forests work, this suggests that the problem lies either with bootstrapping features (i.e. useful information is spread across all features such that that we lose info by using subsets) or bootstrapping observations (i.e. our initial dataset is too small for subsets to be useful). "
   ]
  },
  {
   "cell_type": "markdown",
   "metadata": {},
   "source": [
    "### 2.1.1 Get feature importances\n",
    "\n",
    "To re-create feature importances, we'll have to re-train the best-performing models."
   ]
  },
  {
   "cell_type": "code",
   "execution_count": 6,
   "metadata": {},
   "outputs": [
    {
     "name": "stdout",
     "output_type": "stream",
     "text": [
      "(3412, 32)\n",
      "(1463, 32)\n",
      "(3412,)\n",
      "(1463,)\n"
     ]
    }
   ],
   "source": [
    "# Load final model data\n",
    "CLEAN_DATA_PATH = os.path.join('output', 'final_data.pkl')\n",
    "with open(CLEAN_DATA_PATH, 'rb') as f:\n",
    "    x_train, x_test, y_train, y_test = pickle.load(f)\n",
    "    \n",
    "# Verify\n",
    "for i in (x_train, x_test, y_train, y_test):\n",
    "    print(i.shape)"
   ]
  },
  {
   "cell_type": "code",
   "execution_count": 7,
   "metadata": {},
   "outputs": [
    {
     "data": {
      "text/plain": [
       "['dmspols_2011', 'viirs_2012', 'dmspols_2011_imputed', 'viirs_2012_imputed']"
      ]
     },
     "execution_count": 7,
     "metadata": {},
     "output_type": "execute_result"
    }
   ],
   "source": [
    "# Verify feature set\n",
    "features = cf.NIGHT_FEATURES\n",
    "features"
   ]
  },
  {
   "cell_type": "code",
   "execution_count": 8,
   "metadata": {},
   "outputs": [
    {
     "data": {
      "text/plain": [
       "{'criterion': 'friedman_mse',\n",
       " 'splitter': 'best',\n",
       " 'max_depth': 20,\n",
       " 'max_features': 'sqrt',\n",
       " 'random_state': 0}"
      ]
     },
     "execution_count": 8,
     "metadata": {},
     "output_type": "execute_result"
    }
   ],
   "source": [
    "# Get parameters \n",
    "params = eval(df.sort_values(by='r2', ascending=False).reset_index().iloc[0]['params'])\n",
    "params"
   ]
  },
  {
   "cell_type": "code",
   "execution_count": 9,
   "metadata": {},
   "outputs": [
    {
     "data": {
      "text/plain": [
       "DecisionTreeRegressor(criterion='friedman_mse', max_depth=20,\n",
       "                      max_features='sqrt', max_leaf_nodes=None,\n",
       "                      min_impurity_decrease=0.0, min_impurity_split=None,\n",
       "                      min_samples_leaf=1, min_samples_split=2,\n",
       "                      min_weight_fraction_leaf=0.0, presort=False,\n",
       "                      random_state=0, splitter='best')"
      ]
     },
     "execution_count": 9,
     "metadata": {},
     "output_type": "execute_result"
    }
   ],
   "source": [
    "# Retrain best tree\n",
    "dt = DecisionTreeRegressor(**params)\n",
    "dt.fit(x_train[features], y_train)"
   ]
  },
  {
   "cell_type": "code",
   "execution_count": 10,
   "metadata": {},
   "outputs": [
    {
     "data": {
      "text/plain": [
       "-0.4502273446300675"
      ]
     },
     "execution_count": 10,
     "metadata": {},
     "output_type": "execute_result"
    }
   ],
   "source": [
    "# Verify this is the model with the highest R2\n",
    "pred_labels = dt.predict(x_test[features])\n",
    "\n",
    "r2_score(y_true=y_test, y_pred=pred_labels)"
   ]
  },
  {
   "cell_type": "code",
   "execution_count": 11,
   "metadata": {},
   "outputs": [
    {
     "data": {
      "text/html": [
       "<div>\n",
       "<style scoped>\n",
       "    .dataframe tbody tr th:only-of-type {\n",
       "        vertical-align: middle;\n",
       "    }\n",
       "\n",
       "    .dataframe tbody tr th {\n",
       "        vertical-align: top;\n",
       "    }\n",
       "\n",
       "    .dataframe thead th {\n",
       "        text-align: right;\n",
       "    }\n",
       "</style>\n",
       "<table border=\"1\" class=\"dataframe\">\n",
       "  <thead>\n",
       "    <tr style=\"text-align: right;\">\n",
       "      <th></th>\n",
       "      <th>feature</th>\n",
       "      <th>importance</th>\n",
       "    </tr>\n",
       "  </thead>\n",
       "  <tbody>\n",
       "    <tr>\n",
       "      <th>0</th>\n",
       "      <td>dmspols_2011</td>\n",
       "      <td>0.104068</td>\n",
       "    </tr>\n",
       "    <tr>\n",
       "      <th>1</th>\n",
       "      <td>viirs_2012</td>\n",
       "      <td>0.895772</td>\n",
       "    </tr>\n",
       "    <tr>\n",
       "      <th>2</th>\n",
       "      <td>dmspols_2011_imputed</td>\n",
       "      <td>0.000160</td>\n",
       "    </tr>\n",
       "    <tr>\n",
       "      <th>3</th>\n",
       "      <td>viirs_2012_imputed</td>\n",
       "      <td>0.000000</td>\n",
       "    </tr>\n",
       "  </tbody>\n",
       "</table>\n",
       "</div>"
      ],
      "text/plain": [
       "                feature  importance\n",
       "0  dmspols_2011          0.104068  \n",
       "1  viirs_2012            0.895772  \n",
       "2  dmspols_2011_imputed  0.000160  \n",
       "3  viirs_2012_imputed    0.000000  "
      ]
     },
     "execution_count": 11,
     "metadata": {},
     "output_type": "execute_result"
    }
   ],
   "source": [
    "importance = pd.DataFrame({'feature': features, 'importance': dt.feature_importances_})\n",
    "importance"
   ]
  },
  {
   "cell_type": "markdown",
   "metadata": {},
   "source": [
    "Unsurprisingly, `viirs_2012` seems to be the most important feature in this model."
   ]
  },
  {
   "cell_type": "markdown",
   "metadata": {},
   "source": [
    "### 2.1.2 Visualize tree\n",
    "\n",
    "Final decision tree (with max depth 20) is a little too large to display here."
   ]
  },
  {
   "cell_type": "code",
   "execution_count": 12,
   "metadata": {
    "scrolled": false
   },
   "outputs": [],
   "source": [
    "# export_graphviz(dt,\n",
    "#                 out_file=os.path.join('output', 'tree.dot'),\n",
    "#                 feature_names=cf.NIGHT_FEATURES,\n",
    "#                 filled=True)\n",
    "\n",
    "# graphviz.Source.from_file(os.path.join('output', 'tree.dot'))"
   ]
  },
  {
   "cell_type": "markdown",
   "metadata": {},
   "source": [
    "### 2.2 Models with Daytime features only\n",
    "\n",
    "What about models trained on daytime features? Which ones performed best? Which were the most important features?"
   ]
  },
  {
   "cell_type": "code",
   "execution_count": 13,
   "metadata": {},
   "outputs": [
    {
     "data": {
      "text/html": [
       "<div>\n",
       "<style scoped>\n",
       "    .dataframe tbody tr th:only-of-type {\n",
       "        vertical-align: middle;\n",
       "    }\n",
       "\n",
       "    .dataframe tbody tr th {\n",
       "        vertical-align: top;\n",
       "    }\n",
       "\n",
       "    .dataframe thead th {\n",
       "        text-align: right;\n",
       "    }\n",
       "</style>\n",
       "<table border=\"1\" class=\"dataframe\">\n",
       "  <thead>\n",
       "    <tr style=\"text-align: right;\">\n",
       "      <th></th>\n",
       "      <th>Unnamed: 0</th>\n",
       "      <th>regressor</th>\n",
       "      <th>params</th>\n",
       "      <th>features</th>\n",
       "      <th>r2</th>\n",
       "      <th>mse</th>\n",
       "      <th>max_err</th>\n",
       "    </tr>\n",
       "  </thead>\n",
       "  <tbody>\n",
       "    <tr>\n",
       "      <th>225</th>\n",
       "      <td>225</td>\n",
       "      <td>DecisionTreeRegressor</td>\n",
       "      <td>{'criterion': 'friedman_mse', 'splitter': 'random', 'max_depth': 20, 'max_features': 'sqrt', 'random_state': 0}</td>\n",
       "      <td>DAY_FEATURES</td>\n",
       "      <td>0.680805</td>\n",
       "      <td>9.066333e+11</td>\n",
       "      <td>2.006180e+07</td>\n",
       "    </tr>\n",
       "    <tr>\n",
       "      <th>153</th>\n",
       "      <td>153</td>\n",
       "      <td>DecisionTreeRegressor</td>\n",
       "      <td>{'criterion': 'mse', 'splitter': 'random', 'max_depth': 20, 'max_features': 'sqrt', 'random_state': 0}</td>\n",
       "      <td>DAY_FEATURES</td>\n",
       "      <td>0.680805</td>\n",
       "      <td>9.066333e+11</td>\n",
       "      <td>2.006180e+07</td>\n",
       "    </tr>\n",
       "    <tr>\n",
       "      <th>189</th>\n",
       "      <td>189</td>\n",
       "      <td>DecisionTreeRegressor</td>\n",
       "      <td>{'criterion': 'friedman_mse', 'splitter': 'best', 'max_depth': 20, 'max_features': 'sqrt', 'random_state': 0}</td>\n",
       "      <td>DAY_FEATURES</td>\n",
       "      <td>0.656971</td>\n",
       "      <td>9.743306e+11</td>\n",
       "      <td>2.003678e+07</td>\n",
       "    </tr>\n",
       "    <tr>\n",
       "      <th>117</th>\n",
       "      <td>117</td>\n",
       "      <td>DecisionTreeRegressor</td>\n",
       "      <td>{'criterion': 'mse', 'splitter': 'best', 'max_depth': 20, 'max_features': 'sqrt', 'random_state': 0}</td>\n",
       "      <td>DAY_FEATURES</td>\n",
       "      <td>0.656971</td>\n",
       "      <td>9.743306e+11</td>\n",
       "      <td>2.003678e+07</td>\n",
       "    </tr>\n",
       "    <tr>\n",
       "      <th>1083</th>\n",
       "      <td>1083</td>\n",
       "      <td>BaggingRegressor</td>\n",
       "      <td>{'n_estimators': 10000, 'max_features': 0.3, 'random_state': 0, 'n_jobs': -1}</td>\n",
       "      <td>DAY_FEATURES</td>\n",
       "      <td>0.635201</td>\n",
       "      <td>1.036166e+12</td>\n",
       "      <td>1.989730e+07</td>\n",
       "    </tr>\n",
       "  </tbody>\n",
       "</table>\n",
       "</div>"
      ],
      "text/plain": [
       "      Unnamed: 0              regressor  \\\n",
       "225   225         DecisionTreeRegressor   \n",
       "153   153         DecisionTreeRegressor   \n",
       "189   189         DecisionTreeRegressor   \n",
       "117   117         DecisionTreeRegressor   \n",
       "1083  1083        BaggingRegressor        \n",
       "\n",
       "                                                                                                               params  \\\n",
       "225   {'criterion': 'friedman_mse', 'splitter': 'random', 'max_depth': 20, 'max_features': 'sqrt', 'random_state': 0}   \n",
       "153   {'criterion': 'mse', 'splitter': 'random', 'max_depth': 20, 'max_features': 'sqrt', 'random_state': 0}            \n",
       "189   {'criterion': 'friedman_mse', 'splitter': 'best', 'max_depth': 20, 'max_features': 'sqrt', 'random_state': 0}     \n",
       "117   {'criterion': 'mse', 'splitter': 'best', 'max_depth': 20, 'max_features': 'sqrt', 'random_state': 0}              \n",
       "1083  {'n_estimators': 10000, 'max_features': 0.3, 'random_state': 0, 'n_jobs': -1}                                     \n",
       "\n",
       "          features        r2           mse       max_err  \n",
       "225   DAY_FEATURES  0.680805  9.066333e+11  2.006180e+07  \n",
       "153   DAY_FEATURES  0.680805  9.066333e+11  2.006180e+07  \n",
       "189   DAY_FEATURES  0.656971  9.743306e+11  2.003678e+07  \n",
       "117   DAY_FEATURES  0.656971  9.743306e+11  2.003678e+07  \n",
       "1083  DAY_FEATURES  0.635201  1.036166e+12  1.989730e+07  "
      ]
     },
     "execution_count": 13,
     "metadata": {},
     "output_type": "execute_result"
    }
   ],
   "source": [
    "df.loc[df['features'] == 'DAY_FEATURES'] \\\n",
    "    .sort_values(by='r2', ascending=False) \\\n",
    "    .head()"
   ]
  },
  {
   "cell_type": "markdown",
   "metadata": {},
   "source": [
    "The best-performing daytime models (by $R^2$) were also decision trees.\n",
    "\n",
    "Hyperparameters for the best-performing daytime models involved:\n",
    "- a maximum tree depth of 20 (`max_depth = 20`) \n",
    "- searching sqrt(n) features at each split (`max_features = sqrt`)\n",
    "- with random splits (`splitter = random`)"
   ]
  },
  {
   "cell_type": "code",
   "execution_count": 14,
   "metadata": {},
   "outputs": [
    {
     "data": {
      "text/plain": [
       "{'criterion': 'friedman_mse',\n",
       " 'splitter': 'random',\n",
       " 'max_depth': 20,\n",
       " 'max_features': 'sqrt',\n",
       " 'random_state': 0}"
      ]
     },
     "execution_count": 14,
     "metadata": {},
     "output_type": "execute_result"
    }
   ],
   "source": [
    "day_params = eval(df.loc[df['features'] == 'DAY_FEATURES'] \\\n",
    "    .sort_values(by='r2', ascending=False) \\\n",
    "    .reset_index() \\\n",
    "    .iloc[0]['params'])\n",
    "day_params"
   ]
  },
  {
   "cell_type": "code",
   "execution_count": 15,
   "metadata": {},
   "outputs": [
    {
     "data": {
      "text/plain": [
       "DecisionTreeRegressor(criterion='friedman_mse', max_depth=20,\n",
       "                      max_features='sqrt', max_leaf_nodes=None,\n",
       "                      min_impurity_decrease=0.0, min_impurity_split=None,\n",
       "                      min_samples_leaf=1, min_samples_split=2,\n",
       "                      min_weight_fraction_leaf=0.0, presort=False,\n",
       "                      random_state=0, splitter='random')"
      ]
     },
     "execution_count": 15,
     "metadata": {},
     "output_type": "execute_result"
    }
   ],
   "source": [
    "# Retrain best tree\n",
    "day_dt = DecisionTreeRegressor(**day_params)\n",
    "day_dt.fit(x_train[cf.DAY_FEATURES], y_train)"
   ]
  },
  {
   "cell_type": "code",
   "execution_count": 16,
   "metadata": {},
   "outputs": [
    {
     "data": {
      "text/plain": [
       "-1.000808666245904"
      ]
     },
     "execution_count": 16,
     "metadata": {},
     "output_type": "execute_result"
    }
   ],
   "source": [
    "# Verify this is the model with the highest R2\n",
    "day_pred_labels = day_dt.predict(x_test[cf.DAY_FEATURES])\n",
    "\n",
    "r2_score(y_true=y_test, y_pred=day_pred_labels)"
   ]
  },
  {
   "cell_type": "code",
   "execution_count": 17,
   "metadata": {},
   "outputs": [
    {
     "data": {
      "text/html": [
       "<div>\n",
       "<style scoped>\n",
       "    .dataframe tbody tr th:only-of-type {\n",
       "        vertical-align: middle;\n",
       "    }\n",
       "\n",
       "    .dataframe tbody tr th {\n",
       "        vertical-align: top;\n",
       "    }\n",
       "\n",
       "    .dataframe thead th {\n",
       "        text-align: right;\n",
       "    }\n",
       "</style>\n",
       "<table border=\"1\" class=\"dataframe\">\n",
       "  <thead>\n",
       "    <tr style=\"text-align: right;\">\n",
       "      <th></th>\n",
       "      <th>feature</th>\n",
       "      <th>importance</th>\n",
       "    </tr>\n",
       "  </thead>\n",
       "  <tbody>\n",
       "    <tr>\n",
       "      <th>1</th>\n",
       "      <td>l7_2011_2</td>\n",
       "      <td>0.253304</td>\n",
       "    </tr>\n",
       "    <tr>\n",
       "      <th>27</th>\n",
       "      <td>ratio_6_7</td>\n",
       "      <td>0.144409</td>\n",
       "    </tr>\n",
       "    <tr>\n",
       "      <th>23</th>\n",
       "      <td>ratio_4_6</td>\n",
       "      <td>0.114767</td>\n",
       "    </tr>\n",
       "    <tr>\n",
       "      <th>4</th>\n",
       "      <td>l7_2011_5</td>\n",
       "      <td>0.074585</td>\n",
       "    </tr>\n",
       "    <tr>\n",
       "      <th>16</th>\n",
       "      <td>ratio_2_6</td>\n",
       "      <td>0.052273</td>\n",
       "    </tr>\n",
       "  </tbody>\n",
       "</table>\n",
       "</div>"
      ],
      "text/plain": [
       "      feature  importance\n",
       "1   l7_2011_2  0.253304  \n",
       "27  ratio_6_7  0.144409  \n",
       "23  ratio_4_6  0.114767  \n",
       "4   l7_2011_5  0.074585  \n",
       "16  ratio_2_6  0.052273  "
      ]
     },
     "execution_count": 17,
     "metadata": {},
     "output_type": "execute_result"
    }
   ],
   "source": [
    "day_importance = pd.DataFrame({'feature': cf.DAY_FEATURES, 'importance': day_dt.feature_importances_})\n",
    "day_importance.sort_values(by='importance', ascending=False).head()"
   ]
  },
  {
   "cell_type": "markdown",
   "metadata": {},
   "source": [
    "In this model, the Landsat Band 2 (blue) seems to be most important, followed by:\n",
    "- the ratio of Band 6 to Band 7 (SWIR1 and SWIR2)\n",
    "- then the ratio of Band 4 to Band 6 (Red and SWIR1)\n",
    "- then Band 5 (NIR)"
   ]
  },
  {
   "cell_type": "markdown",
   "metadata": {},
   "source": [
    "### 2.3 Models trained on All Features only\n",
    "\n",
    "What about models trained on all features? How does the feature importance of the daytime features compare to that of the nighttime ones?"
   ]
  },
  {
   "cell_type": "code",
   "execution_count": 18,
   "metadata": {},
   "outputs": [
    {
     "data": {
      "text/html": [
       "<div>\n",
       "<style scoped>\n",
       "    .dataframe tbody tr th:only-of-type {\n",
       "        vertical-align: middle;\n",
       "    }\n",
       "\n",
       "    .dataframe tbody tr th {\n",
       "        vertical-align: top;\n",
       "    }\n",
       "\n",
       "    .dataframe thead th {\n",
       "        text-align: right;\n",
       "    }\n",
       "</style>\n",
       "<table border=\"1\" class=\"dataframe\">\n",
       "  <thead>\n",
       "    <tr style=\"text-align: right;\">\n",
       "      <th></th>\n",
       "      <th>Unnamed: 0</th>\n",
       "      <th>regressor</th>\n",
       "      <th>params</th>\n",
       "      <th>features</th>\n",
       "      <th>r2</th>\n",
       "      <th>mse</th>\n",
       "      <th>max_err</th>\n",
       "    </tr>\n",
       "  </thead>\n",
       "  <tbody>\n",
       "    <tr>\n",
       "      <th>1085</th>\n",
       "      <td>1085</td>\n",
       "      <td>BaggingRegressor</td>\n",
       "      <td>{'n_estimators': 10000, 'max_features': 0.3, 'random_state': 0, 'n_jobs': -1}</td>\n",
       "      <td>ALL_FEATURES</td>\n",
       "      <td>0.634160</td>\n",
       "      <td>1.039122e+12</td>\n",
       "      <td>1.992488e+07</td>\n",
       "    </tr>\n",
       "    <tr>\n",
       "      <th>1067</th>\n",
       "      <td>1067</td>\n",
       "      <td>BaggingRegressor</td>\n",
       "      <td>{'n_estimators': 100, 'max_features': 0.3, 'random_state': 0, 'n_jobs': -1}</td>\n",
       "      <td>ALL_FEATURES</td>\n",
       "      <td>0.631913</td>\n",
       "      <td>1.045506e+12</td>\n",
       "      <td>1.992133e+07</td>\n",
       "    </tr>\n",
       "    <tr>\n",
       "      <th>1076</th>\n",
       "      <td>1076</td>\n",
       "      <td>BaggingRegressor</td>\n",
       "      <td>{'n_estimators': 1000, 'max_features': 0.3, 'random_state': 0, 'n_jobs': -1}</td>\n",
       "      <td>ALL_FEATURES</td>\n",
       "      <td>0.631641</td>\n",
       "      <td>1.046278e+12</td>\n",
       "      <td>1.993062e+07</td>\n",
       "    </tr>\n",
       "    <tr>\n",
       "      <th>1088</th>\n",
       "      <td>1088</td>\n",
       "      <td>BaggingRegressor</td>\n",
       "      <td>{'n_estimators': 10000, 'max_features': 0.5, 'random_state': 0, 'n_jobs': -1}</td>\n",
       "      <td>ALL_FEATURES</td>\n",
       "      <td>0.623065</td>\n",
       "      <td>1.070636e+12</td>\n",
       "      <td>1.991678e+07</td>\n",
       "    </tr>\n",
       "    <tr>\n",
       "      <th>1079</th>\n",
       "      <td>1079</td>\n",
       "      <td>BaggingRegressor</td>\n",
       "      <td>{'n_estimators': 1000, 'max_features': 0.5, 'random_state': 0, 'n_jobs': -1}</td>\n",
       "      <td>ALL_FEATURES</td>\n",
       "      <td>0.620876</td>\n",
       "      <td>1.076854e+12</td>\n",
       "      <td>1.990345e+07</td>\n",
       "    </tr>\n",
       "  </tbody>\n",
       "</table>\n",
       "</div>"
      ],
      "text/plain": [
       "      Unnamed: 0         regressor  \\\n",
       "1085  1085        BaggingRegressor   \n",
       "1067  1067        BaggingRegressor   \n",
       "1076  1076        BaggingRegressor   \n",
       "1088  1088        BaggingRegressor   \n",
       "1079  1079        BaggingRegressor   \n",
       "\n",
       "                                                                             params  \\\n",
       "1085  {'n_estimators': 10000, 'max_features': 0.3, 'random_state': 0, 'n_jobs': -1}   \n",
       "1067  {'n_estimators': 100, 'max_features': 0.3, 'random_state': 0, 'n_jobs': -1}     \n",
       "1076  {'n_estimators': 1000, 'max_features': 0.3, 'random_state': 0, 'n_jobs': -1}    \n",
       "1088  {'n_estimators': 10000, 'max_features': 0.5, 'random_state': 0, 'n_jobs': -1}   \n",
       "1079  {'n_estimators': 1000, 'max_features': 0.5, 'random_state': 0, 'n_jobs': -1}    \n",
       "\n",
       "          features        r2           mse       max_err  \n",
       "1085  ALL_FEATURES  0.634160  1.039122e+12  1.992488e+07  \n",
       "1067  ALL_FEATURES  0.631913  1.045506e+12  1.992133e+07  \n",
       "1076  ALL_FEATURES  0.631641  1.046278e+12  1.993062e+07  \n",
       "1088  ALL_FEATURES  0.623065  1.070636e+12  1.991678e+07  \n",
       "1079  ALL_FEATURES  0.620876  1.076854e+12  1.990345e+07  "
      ]
     },
     "execution_count": 18,
     "metadata": {},
     "output_type": "execute_result"
    }
   ],
   "source": [
    "df.loc[df['features'] == 'ALL_FEATURES'].sort_values(by=['r2'], ascending=False).head()"
   ]
  },
  {
   "cell_type": "code",
   "execution_count": 19,
   "metadata": {},
   "outputs": [
    {
     "data": {
      "text/plain": [
       "['dmspols_2011',\n",
       " 'viirs_2012',\n",
       " 'dmspols_2011_imputed',\n",
       " 'viirs_2012_imputed',\n",
       " 'l7_2011_1',\n",
       " 'l7_2011_2',\n",
       " 'l7_2011_3',\n",
       " 'l7_2011_4',\n",
       " 'l7_2011_5',\n",
       " 'l7_2011_6',\n",
       " 'l7_2011_7',\n",
       " 'ratio_1_2',\n",
       " 'ratio_1_3',\n",
       " 'ratio_1_4',\n",
       " 'ratio_1_5',\n",
       " 'ratio_1_6',\n",
       " 'ratio_1_7',\n",
       " 'ratio_2_3',\n",
       " 'ratio_2_4',\n",
       " 'ratio_2_5',\n",
       " 'ratio_2_6',\n",
       " 'ratio_2_7',\n",
       " 'ratio_3_4',\n",
       " 'ratio_3_5',\n",
       " 'ratio_3_6',\n",
       " 'ratio_3_7',\n",
       " 'ratio_4_5',\n",
       " 'ratio_4_6',\n",
       " 'ratio_4_7',\n",
       " 'ratio_5_6',\n",
       " 'ratio_5_7',\n",
       " 'ratio_6_7']"
      ]
     },
     "execution_count": 19,
     "metadata": {},
     "output_type": "execute_result"
    }
   ],
   "source": [
    "# Verify feature set\n",
    "features = cf.ALL_FEATURES\n",
    "features"
   ]
  },
  {
   "cell_type": "code",
   "execution_count": 20,
   "metadata": {},
   "outputs": [
    {
     "data": {
      "text/plain": [
       "{'n_estimators': 10000, 'max_features': 0.3, 'random_state': 0, 'n_jobs': -1}"
      ]
     },
     "execution_count": 20,
     "metadata": {},
     "output_type": "execute_result"
    }
   ],
   "source": [
    "# Get parameters \n",
    "params = eval(df.iloc[1085]['params'])\n",
    "params"
   ]
  },
  {
   "cell_type": "code",
   "execution_count": 21,
   "metadata": {},
   "outputs": [
    {
     "data": {
      "text/plain": [
       "BaggingRegressor(base_estimator=None, bootstrap=True, bootstrap_features=False,\n",
       "                 max_features=0.3, max_samples=1.0, n_estimators=10000,\n",
       "                 n_jobs=-1, oob_score=False, random_state=0, verbose=0,\n",
       "                 warm_start=False)"
      ]
     },
     "execution_count": 21,
     "metadata": {},
     "output_type": "execute_result"
    }
   ],
   "source": [
    "# Retrain best tree\n",
    "bg = BaggingRegressor(**params)\n",
    "bg.fit(x_train[features], y_train)"
   ]
  },
  {
   "cell_type": "code",
   "execution_count": 22,
   "metadata": {},
   "outputs": [
    {
     "data": {
      "text/plain": [
       "-0.07085622857386764"
      ]
     },
     "execution_count": 22,
     "metadata": {},
     "output_type": "execute_result"
    }
   ],
   "source": [
    "# Verify this is the model with the highest R2\n",
    "all_pred_labels = bg.predict(x_test[cf.ALL_FEATURES])\n",
    "\n",
    "r2_score(y_true=y_test, y_pred=all_pred_labels)"
   ]
  },
  {
   "cell_type": "markdown",
   "metadata": {},
   "source": [
    "### 2.3.1 Recover feature importances\n",
    "\n",
    "Our best-performing bagging model used a random sample of 30% (approx 9) of our features in each of its 10,000 estimator. Since each estimator has a different combination of features, I manually implement a feature importance calculation as follows:\n",
    "1. Assume that every feature not in a given estimator has an importance of 0. This prevents a feature that appears in a low number of estimators but has a high importance from being ranked highly.\n",
    "2. Recover every feature importance from every estimator and map it back to the feature name. \n",
    "3. Calculate the mean importance for each feature.\n",
    "\n",
    "The BaggingRegressor model uses a DecisionTreeRegressor as its base estimator. With default hyperparameters, it main splitting criterion is on mean squared error (MSE). We can therefore interpret the final importance metric for any given feature as the mean of the total normalized reduction in MSE achieved by splitting on that feature over all nodes of all estimators in the bagging model."
   ]
  },
  {
   "cell_type": "code",
   "execution_count": 41,
   "metadata": {},
   "outputs": [
    {
     "data": {
      "text/plain": [
       "9"
      ]
     },
     "execution_count": 41,
     "metadata": {},
     "output_type": "execute_result"
    }
   ],
   "source": [
    "# How many features did each estimator use?\n",
    "math.floor(0.3 * len(features))"
   ]
  },
  {
   "cell_type": "code",
   "execution_count": 45,
   "metadata": {},
   "outputs": [
    {
     "data": {
      "text/html": [
       "<div>\n",
       "<style scoped>\n",
       "    .dataframe tbody tr th:only-of-type {\n",
       "        vertical-align: middle;\n",
       "    }\n",
       "\n",
       "    .dataframe tbody tr th {\n",
       "        vertical-align: top;\n",
       "    }\n",
       "\n",
       "    .dataframe thead th {\n",
       "        text-align: right;\n",
       "    }\n",
       "</style>\n",
       "<table border=\"1\" class=\"dataframe\">\n",
       "  <thead>\n",
       "    <tr style=\"text-align: right;\">\n",
       "      <th></th>\n",
       "      <th>model_num</th>\n",
       "      <th>f_name</th>\n",
       "      <th>f_impt</th>\n",
       "    </tr>\n",
       "  </thead>\n",
       "  <tbody>\n",
       "    <tr>\n",
       "      <th>0</th>\n",
       "      <td>0</td>\n",
       "      <td>l7_2011_7</td>\n",
       "      <td>0.112993</td>\n",
       "    </tr>\n",
       "    <tr>\n",
       "      <th>1</th>\n",
       "      <td>0</td>\n",
       "      <td>ratio_1_4</td>\n",
       "      <td>0.025539</td>\n",
       "    </tr>\n",
       "    <tr>\n",
       "      <th>2</th>\n",
       "      <td>0</td>\n",
       "      <td>l7_2011_5</td>\n",
       "      <td>0.417844</td>\n",
       "    </tr>\n",
       "    <tr>\n",
       "      <th>3</th>\n",
       "      <td>0</td>\n",
       "      <td>ratio_3_5</td>\n",
       "      <td>0.165718</td>\n",
       "    </tr>\n",
       "    <tr>\n",
       "      <th>4</th>\n",
       "      <td>0</td>\n",
       "      <td>l7_2011_1</td>\n",
       "      <td>0.023277</td>\n",
       "    </tr>\n",
       "  </tbody>\n",
       "</table>\n",
       "</div>"
      ],
      "text/plain": [
       "   model_num     f_name    f_impt\n",
       "0  0          l7_2011_7  0.112993\n",
       "1  0          ratio_1_4  0.025539\n",
       "2  0          l7_2011_5  0.417844\n",
       "3  0          ratio_3_5  0.165718\n",
       "4  0          l7_2011_1  0.023277"
      ]
     },
     "execution_count": 45,
     "metadata": {},
     "output_type": "execute_result"
    }
   ],
   "source": [
    "# Get feature importances for each estimator, make a dataframe, then append all dataframes together\n",
    "num_estimators = 10000\n",
    "fi_list = []\n",
    "for i in range(num_estimators):\n",
    "    names = [features[x] for x in bg.estimators_features_[i]]\n",
    "    importances = bg.estimators_[i].feature_importances_\n",
    "    df = pd.DataFrame({\n",
    "        'model_num': i,\n",
    "        'f_name': names,\n",
    "        'f_impt': importances\n",
    "    })\n",
    "    fi_list.append(df)\n",
    "    \n",
    "importances_df = pd.concat(fi_list, ignore_index=True)\n",
    "importances_df.head()"
   ]
  },
  {
   "cell_type": "code",
   "execution_count": 46,
   "metadata": {},
   "outputs": [
    {
     "data": {
      "text/plain": [
       "(90000, 3)"
      ]
     },
     "execution_count": 46,
     "metadata": {},
     "output_type": "execute_result"
    }
   ],
   "source": [
    "# Gut check: There should be 10000 estimators * 9 variables = 90000 rows\n",
    "importances_df.shape"
   ]
  },
  {
   "cell_type": "code",
   "execution_count": 57,
   "metadata": {},
   "outputs": [
    {
     "data": {
      "text/html": [
       "<div>\n",
       "<style scoped>\n",
       "    .dataframe tbody tr th:only-of-type {\n",
       "        vertical-align: middle;\n",
       "    }\n",
       "\n",
       "    .dataframe tbody tr th {\n",
       "        vertical-align: top;\n",
       "    }\n",
       "\n",
       "    .dataframe thead th {\n",
       "        text-align: right;\n",
       "    }\n",
       "</style>\n",
       "<table border=\"1\" class=\"dataframe\">\n",
       "  <thead>\n",
       "    <tr style=\"text-align: right;\">\n",
       "      <th></th>\n",
       "      <th>model_num</th>\n",
       "      <th>f_name</th>\n",
       "      <th>f_impt</th>\n",
       "    </tr>\n",
       "  </thead>\n",
       "  <tbody>\n",
       "    <tr>\n",
       "      <th>0</th>\n",
       "      <td>0</td>\n",
       "      <td>dmspols_2011</td>\n",
       "      <td>0.000000</td>\n",
       "    </tr>\n",
       "    <tr>\n",
       "      <th>1</th>\n",
       "      <td>0</td>\n",
       "      <td>dmspols_2011_imputed</td>\n",
       "      <td>0.000000</td>\n",
       "    </tr>\n",
       "    <tr>\n",
       "      <th>2</th>\n",
       "      <td>0</td>\n",
       "      <td>l7_2011_1</td>\n",
       "      <td>0.023277</td>\n",
       "    </tr>\n",
       "    <tr>\n",
       "      <th>3</th>\n",
       "      <td>0</td>\n",
       "      <td>l7_2011_2</td>\n",
       "      <td>0.029289</td>\n",
       "    </tr>\n",
       "    <tr>\n",
       "      <th>4</th>\n",
       "      <td>0</td>\n",
       "      <td>l7_2011_3</td>\n",
       "      <td>0.000000</td>\n",
       "    </tr>\n",
       "  </tbody>\n",
       "</table>\n",
       "</div>"
      ],
      "text/plain": [
       "   model_num                f_name    f_impt\n",
       "0  0          dmspols_2011          0.000000\n",
       "1  0          dmspols_2011_imputed  0.000000\n",
       "2  0          l7_2011_1             0.023277\n",
       "3  0          l7_2011_2             0.029289\n",
       "4  0          l7_2011_3             0.000000"
      ]
     },
     "execution_count": 57,
     "metadata": {},
     "output_type": "execute_result"
    }
   ],
   "source": [
    "# \"Expand\" importances_df such that features not in each estimator have an importance of 0\n",
    "all_importances = importances_df.set_index(['model_num', 'f_name']).T.stack().unstack().T \\\n",
    "    .reset_index() \\\n",
    "    .fillna(0)\n",
    "\n",
    "all_importances.head()"
   ]
  },
  {
   "cell_type": "code",
   "execution_count": 58,
   "metadata": {},
   "outputs": [
    {
     "data": {
      "text/plain": [
       "(320000, 3)"
      ]
     },
     "execution_count": 58,
     "metadata": {},
     "output_type": "execute_result"
    }
   ],
   "source": [
    "# Gut check: There should be 10000 estimators * 32 variables = 320000 rows\n",
    "all_importances.shape"
   ]
  },
  {
   "cell_type": "code",
   "execution_count": 108,
   "metadata": {},
   "outputs": [
    {
     "data": {
      "text/plain": [
       "f_name\n",
       "ratio_1_3    0.069604\n",
       "ratio_2_3    0.068389\n",
       "ratio_6_7    0.056186\n",
       "ratio_3_7    0.051830\n",
       "ratio_1_7    0.043753\n",
       "Name: f_impt, dtype: float64"
      ]
     },
     "execution_count": 108,
     "metadata": {},
     "output_type": "execute_result"
    }
   ],
   "source": [
    "# Get mean importance for all features\n",
    "summary = all_importances.groupby('f_name').mean()['f_impt'] \\\n",
    "    .sort_values(ascending=False)\n",
    "summary.head()"
   ]
  },
  {
   "cell_type": "markdown",
   "metadata": {},
   "source": [
    "Looks like the ratio of Band 1 to Band 3 (Blue:Red) as well as the ratio of Band 2 to Band 3 (Green:Red) had the highest feature importances. In other words, splitting on those features in the BaggingRegressor model led to the largest decreases in MSE on average."
   ]
  },
  {
   "cell_type": "code",
   "execution_count": 109,
   "metadata": {},
   "outputs": [
    {
     "data": {
      "text/plain": [
       "f_name\n",
       "ratio_1_3    0.249299\n",
       "ratio_2_3    0.245211\n",
       "ratio_6_7    0.197211\n",
       "ratio_3_7    0.186170\n",
       "ratio_1_7    0.153682\n",
       "Name: f_impt, dtype: float64"
      ]
     },
     "execution_count": 109,
     "metadata": {},
     "output_type": "execute_result"
    }
   ],
   "source": [
    "# Gut check: how does this compare to the non-expanded importances_df?\n",
    "importances_df.groupby('f_name').mean()['f_impt'].sort_values(ascending=False).head()"
   ]
  },
  {
   "cell_type": "code",
   "execution_count": 112,
   "metadata": {},
   "outputs": [
    {
     "data": {
      "text/plain": [
       "l7_2011_4               2924\n",
       "ratio_1_5               2896\n",
       "ratio_3_5               2874\n",
       "dmspols_2011_imputed    2874\n",
       "ratio_2_5               2862\n",
       "dtype: int64"
      ]
     },
     "execution_count": 112,
     "metadata": {},
     "output_type": "execute_result"
    }
   ],
   "source": [
    "# Gut check: which features appeared in the most estimators?\n",
    "feature_list = [features[x] for i in range(num_estimators) for x in bg.estimators_features_[i]]\n",
    "feature_count = pd.Series(feature_list).value_counts().sort_values(ascending=False)\n",
    "feature_count.head()"
   ]
  },
  {
   "cell_type": "code",
   "execution_count": 123,
   "metadata": {},
   "outputs": [
    {
     "data": {
      "text/plain": [
       "Text(0.5, 0, 'Number of estimators that the feature appeared in')"
      ]
     },
     "execution_count": 123,
     "metadata": {},
     "output_type": "execute_result"
    },
    {
     "data": {
      "image/png": "[encoded data removed]",
      "text/plain": [
       "<Figure size 864x576 with 1 Axes>"
      ]
     },
     "metadata": {
      "needs_background": "light"
     },
     "output_type": "display_data"
    }
   ],
   "source": [
    "# Plot the feature appearance counts to get a sense of proportions and scale\n",
    "ax = feature_count.plot.barh(figsize=(12,8),\n",
    "                        title='Frequency of appearance of each feature across 10,000 estimators')\n",
    "ax.set_ylabel('Feature name')\n",
    "ax.set_xlabel('Number of estimators that the feature appeared in')"
   ]
  }
 ],
 "metadata": {
  "kernelspec": {
   "display_name": "Python 3",
   "language": "python",
   "name": "python3"
  },
  "language_info": {
   "codemirror_mode": {
    "name": "ipython",
    "version": 3
   },
   "file_extension": ".py",
   "mimetype": "text/x-python",
   "name": "python",
   "nbconvert_exporter": "python",
   "pygments_lexer": "ipython3",
   "version": "3.7.2"
  }
 },
 "nbformat": 4,
 "nbformat_minor": 2
}
