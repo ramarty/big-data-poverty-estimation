{
 "cells": [
  {
   "cell_type": "markdown",
   "metadata": {},
   "source": [
    "# Transfer Learning: Train CNN to predict NTL from DTL Images\n",
    "\n",
    "Goal: Use CNN to extract features from daytime lights (Landsat) data and predict levels of nighhtime light radiance (VIIRS).\n",
    "***\n",
    "General Steps:\n",
    "1. Import the data\n",
    "2. Feature Creation\n",
    "3. Build the Neural Net\n",
    "4. Fit and Evaluate the Neural Net\n",
    "5. Run the CNN"
   ]
  },
  {
   "cell_type": "code",
   "execution_count": 1,
   "metadata": {},
   "outputs": [],
   "source": [
    "import os\n",
    "import numpy as np\n",
    "import pandas as pd\n",
    "import geopandas as gpd\n",
    "import tensorflow as tf\n",
    "import itertools\n",
    "import getpass\n",
    "\n",
    "import rasterio\n",
    "from rasterio.mask import mask\n",
    "\n",
    "from scipy import stats\n",
    "\n",
    "from sklearn.preprocessing import power_transform, KBinsDiscretizer\n",
    "from sklearn.model_selection import train_test_split, KFold\n",
    "from sklearn.metrics import classification_report, confusion_matrix\n",
    "\n",
    "from keras.utils import to_categorical\n",
    "from keras.models import Sequential, Model\n",
    "from keras.layers import Conv2D\n",
    "from keras.layers import MaxPooling2D, AveragePooling2D\n",
    "from keras.layers import Dense\n",
    "from keras.layers import Flatten\n",
    "from keras.layers import Dropout\n",
    "from keras.callbacks import EarlyStopping\n",
    "from keras.callbacks import ModelCheckpoint\n",
    "\n",
    "import seaborn as sns\n",
    "import matplotlib.pyplot as plt\n",
    "%matplotlib inline\n",
    "\n",
    "# Turn off big pink warnings\n",
    "import warnings\n",
    "warnings.filterwarnings('ignore')\n",
    "\n",
    "# Display options \n",
    "pd.options.display.max_columns = 100000\n",
    "pd.options.display.max_colwidth = -1\n",
    "\n",
    "# Set directory\n",
    "os.chdir(\"/Users/nguyenluong/wb_internship/Data/satellite_raw\")"
   ]
  },
  {
   "cell_type": "code",
   "execution_count": 4,
   "metadata": {},
   "outputs": [],
   "source": [
    "# Rob's code\n",
    "if getpass.getuser() == 'robmarty':\n",
    "    project_file_path = '/Users/robmarty/Dropbox/World Bank/IEs/Pakistan Poverty Estimation from Satellites'\n",
    "filepath_night = project_file_path + \"/Data/VIIRS/RawData/VIIRS Annual/pak_viirs_median_2012.tif\"\n",
    "data_night = rasterio.open(filepath_night)\n",
    "array_night = data_night.read()\n",
    "np.nanmean(array_night)\n",
    "\n",
    "array_night_flat = array_night.flatten()\n",
    "array_night_flat_nona = array_night_flat[ ~np.isnan(array_night_flat) ]\n",
    "plt.hist(array_night_flat_nona)"
   ]
  },
  {
   "cell_type": "markdown",
   "metadata": {},
   "source": [
    "# 1. Import and Prep Data"
   ]
  },
  {
   "cell_type": "markdown",
   "metadata": {},
   "source": [
    "## 1a. Load and Prep Nighttime Lights Data "
   ]
  },
  {
   "cell_type": "markdown",
   "metadata": {},
   "source": [
    "### Load VIIRS Geojson"
   ]
  },
  {
   "cell_type": "code",
   "execution_count": 2,
   "metadata": {},
   "outputs": [
    {
     "data": {
      "text/html": [
       "<div>\n",
       "<style scoped>\n",
       "    .dataframe tbody tr th:only-of-type {\n",
       "        vertical-align: middle;\n",
       "    }\n",
       "\n",
       "    .dataframe tbody tr th {\n",
       "        vertical-align: top;\n",
       "    }\n",
       "\n",
       "    .dataframe thead th {\n",
       "        text-align: right;\n",
       "    }\n",
       "</style>\n",
       "<table border=\"1\" class=\"dataframe\">\n",
       "  <thead>\n",
       "    <tr style=\"text-align: right;\">\n",
       "      <th></th>\n",
       "      <th>median_rad_2012</th>\n",
       "      <th>median_rad_2013</th>\n",
       "      <th>median_rad_2014</th>\n",
       "      <th>median_rad_2015</th>\n",
       "      <th>median_rad_2016</th>\n",
       "      <th>median_rad_2017</th>\n",
       "      <th>median_rad_2018</th>\n",
       "      <th>id</th>\n",
       "      <th>tile_id</th>\n",
       "      <th>geometry</th>\n",
       "    </tr>\n",
       "  </thead>\n",
       "  <tbody>\n",
       "    <tr>\n",
       "      <th>0</th>\n",
       "      <td>0.121902</td>\n",
       "      <td>0.217595</td>\n",
       "      <td>0.179258</td>\n",
       "      <td>0.213304</td>\n",
       "      <td>0.148595</td>\n",
       "      <td>0.352908</td>\n",
       "      <td>0.34</td>\n",
       "      <td>1</td>\n",
       "      <td>42.0</td>\n",
       "      <td>POLYGON ((74.66347 37.06224, 74.67021 37.06224, 74.67021 37.05551, 74.66347 37.05551, 74.66347 37.06224))</td>\n",
       "    </tr>\n",
       "    <tr>\n",
       "      <th>1</th>\n",
       "      <td>0.204110</td>\n",
       "      <td>0.223363</td>\n",
       "      <td>0.207353</td>\n",
       "      <td>0.283295</td>\n",
       "      <td>0.156230</td>\n",
       "      <td>0.375000</td>\n",
       "      <td>0.36</td>\n",
       "      <td>2</td>\n",
       "      <td>42.0</td>\n",
       "      <td>POLYGON ((74.67021 37.06224, 74.67695 37.06224, 74.67695 37.05551, 74.67021 37.05551, 74.67021 37.06224))</td>\n",
       "    </tr>\n",
       "  </tbody>\n",
       "</table>\n",
       "</div>"
      ],
      "text/plain": [
       "   median_rad_2012  median_rad_2013  median_rad_2014  median_rad_2015  \\\n",
       "0  0.121902         0.217595         0.179258         0.213304          \n",
       "1  0.204110         0.223363         0.207353         0.283295          \n",
       "\n",
       "   median_rad_2016  median_rad_2017  median_rad_2018  id  tile_id  \\\n",
       "0  0.148595         0.352908         0.34             1   42.0      \n",
       "1  0.156230         0.375000         0.36             2   42.0      \n",
       "\n",
       "                                                                                                    geometry  \n",
       "0  POLYGON ((74.66347 37.06224, 74.67021 37.06224, 74.67021 37.05551, 74.66347 37.05551, 74.66347 37.06224))  \n",
       "1  POLYGON ((74.67021 37.06224, 74.67695 37.06224, 74.67695 37.05551, 74.67021 37.05551, 74.67021 37.06224))  "
      ]
     },
     "execution_count": 2,
     "metadata": {},
     "output_type": "execute_result"
    }
   ],
   "source": [
    "# Load nighttime VIIRS data (geojson)\n",
    "viirs_gdf = gpd.read_file('VIIRS/viirs_annual_polygon.geojson')\n",
    "viirs_gdf.head(2)"
   ]
  },
  {
   "cell_type": "code",
   "execution_count": 4,
   "metadata": {},
   "outputs": [
    {
     "name": "stdout",
     "output_type": "stream",
     "text": [
      "Total number of obs: 1814237\n",
      "Number of obs with NaN for tile_id: 1350\n"
     ]
    }
   ],
   "source": [
    "# Inspecting VIIRS geojson\n",
    "print('Total number of obs: {}'.format(len(viirs_gdf)))\n",
    "\n",
    "nan_tile = viirs_gdf[np.isnan(viirs_gdf['tile_id'])]\n",
    "print('Number of obs with NaN for tile_id: {}'.format(len(nan_tile)))"
   ]
  },
  {
   "cell_type": "markdown",
   "metadata": {},
   "source": [
    "### Transform nighttime lights"
   ]
  },
  {
   "cell_type": "markdown",
   "metadata": {},
   "source": [
    "Transform to lessen heavily skewed distribution. For now, **limit to only 2014 data**.   \n",
    "***\n",
    "Options tried here:\n",
    "- natural log\n",
    "- square root\n",
    "- box-cox"
   ]
  },
  {
   "cell_type": "code",
   "execution_count": 5,
   "metadata": {},
   "outputs": [],
   "source": [
    "# Do log(x + 1) to have fully defined domain since data has x = 0\n",
    "viirs_gdf['log_median_rad_2014'] = np.log(viirs_gdf['median_rad_2014'] + 1)\n",
    "log_rad = np.log(viirs_gdf['median_rad_2014'] + 1).to_numpy()\n",
    "\n",
    "sqrt_rad = np.sqrt(viirs_gdf['median_rad_2014']).to_numpy()\n",
    "\n",
    "# Do box-cox with (x + 1) because needs strictly positive values \n",
    "bc_rad = power_transform((viirs_gdf['median_rad_2014'] + 1).to_numpy().reshape(-1, 1), method='box-cox')"
   ]
  },
  {
   "cell_type": "markdown",
   "metadata": {},
   "source": [
    "Explore the distributions of variable transformations to decide which to go forward with."
   ]
  },
  {
   "cell_type": "code",
   "execution_count": 6,
   "metadata": {},
   "outputs": [
    {
     "name": "stdout",
     "output_type": "stream",
     "text": [
      "Summary of log\n",
      "DescribeResult(nobs=1814237, minmax=(0.0, 7.003241113635235), mean=0.20576721970884848, variance=0.062333206493509284, skewness=6.602233458742071, kurtosis=63.58599491384153)\n",
      "\n",
      "Summary of square-root\n",
      "DescribeResult(nobs=1814237, minmax=(0.0, 33.154083267445166), mean=0.45985096480354326, variance=0.10546258282824325, skewness=10.262868875497135, kurtosis=252.55956265564947)\n",
      "\n",
      "Summary of box-cox\n",
      "DescribeResult(nobs=1814237, minmax=(-3.0815043715438386, 2.3062005044008833), mean=8.316728796961411e-16, variance=1.0000005511962058, skewness=0.5906939197104081, kurtosis=-0.34560818439899155)\n",
      "\n"
     ]
    },
    {
     "data": {
      "image/png": "[encoded data removed]",
      "text/plain": [
       "<Figure size 1440x360 with 3 Axes>"
      ]
     },
     "metadata": {
      "needs_background": "light"
     },
     "output_type": "display_data"
    }
   ],
   "source": [
    "def explore_distrib(vars_dict):\n",
    "    '''\n",
    "    Generates descriptive statististics and plots distribution of variables.\n",
    "    \n",
    "    Inputs:\n",
    "        vars_dict (dict) keys are variable names, values are np.ndarrays representing variables\n",
    "    Returns:\n",
    "        None\n",
    "    '''\n",
    "    fig, ax = plt.subplots(figsize=(20,5), ncols=len(vars_dict.values()))\n",
    "    i = 0\n",
    "    for var_name, array in vars_dict.items():\n",
    "        if len(array.shape) > 1:\n",
    "            array = array.flatten()\n",
    "        print('Summary of ' + var_name)\n",
    "        print(stats.describe(array))\n",
    "        print()\n",
    "        ax[i].hist(array);\n",
    "        ax[i].set_title('Distribution of ' + var_name);\n",
    "        i += 1\n",
    "    plt.tight_layout()\n",
    "    plt.show()\n",
    "\n",
    "vars_dict = {'log': log_rad, 'square-root': sqrt_rad, 'box-cox': bc_rad}\n",
    "explore_distrib(vars_dict)"
   ]
  },
  {
   "cell_type": "markdown",
   "metadata": {},
   "source": [
    "### Choose Transformation and Bin NLT"
   ]
  },
  {
   "cell_type": "markdown",
   "metadata": {},
   "source": [
    "I feel like it makes sense to feel values positive for interpretation of radiance. Log has lowered skewness and smaller range of values. So, I will discretize log median radiance for 2014 with k-means clustering."
   ]
  },
  {
   "cell_type": "code",
   "execution_count": 7,
   "metadata": {},
   "outputs": [
    {
     "data": {
      "image/png": "[encoded data removed]",
      "text/plain": [
       "<Figure size 432x288 with 1 Axes>"
      ]
     },
     "metadata": {
      "needs_background": "light"
     },
     "output_type": "display_data"
    }
   ],
   "source": [
    "# Reshape array to be a column rather than a row\n",
    "log_rad = viirs_gdf['log_median_rad_2014'].to_numpy().reshape(-1,1)\n",
    "discretizer = KBinsDiscretizer(n_bins=5, encode='ordinal', strategy='kmeans')\n",
    "viirs_gdf['log_binned'] = discretizer.fit_transform(log_rad)\n",
    "plt.hist(viirs_gdf['log_binned']);"
   ]
  },
  {
   "cell_type": "code",
   "execution_count": 8,
   "metadata": {},
   "outputs": [
    {
     "name": "stdout",
     "output_type": "stream",
     "text": [
      "Bins\n",
      "0.0    1422278\n",
      "1.0    294299 \n",
      "2.0    72758  \n",
      "3.0    18364  \n",
      "4.0    6538   \n",
      "Name: log_binned, dtype: int64\n",
      "Bin edges: [0.         0.2270032  0.51066626 1.08064124 2.13831268 7.00324111]\n"
     ]
    }
   ],
   "source": [
    "# Nighttime lights is bucketed into 5 categories\n",
    "print('Bins')\n",
    "print(viirs_gdf['log_binned'].value_counts())\n",
    "print('Bin edges: {}'.format(discretizer.bin_edges_[0]))"
   ]
  },
  {
   "cell_type": "markdown",
   "metadata": {},
   "source": [
    "## 1b. Create Random Sample\n",
    "***\n",
    "For now, sample for 15 observations for each NTL bin."
   ]
  },
  {
   "cell_type": "code",
   "execution_count": 9,
   "metadata": {},
   "outputs": [
    {
     "name": "stdout",
     "output_type": "stream",
     "text": [
      "4.0    6538\n",
      "3.0    6538\n",
      "2.0    6538\n",
      "1.0    6538\n",
      "0.0    6538\n",
      "Name: log_binned, dtype: int64\n"
     ]
    },
    {
     "data": {
      "text/html": [
       "<div>\n",
       "<style scoped>\n",
       "    .dataframe tbody tr th:only-of-type {\n",
       "        vertical-align: middle;\n",
       "    }\n",
       "\n",
       "    .dataframe tbody tr th {\n",
       "        vertical-align: top;\n",
       "    }\n",
       "\n",
       "    .dataframe thead th {\n",
       "        text-align: right;\n",
       "    }\n",
       "</style>\n",
       "<table border=\"1\" class=\"dataframe\">\n",
       "  <thead>\n",
       "    <tr style=\"text-align: right;\">\n",
       "      <th></th>\n",
       "      <th>tile_id</th>\n",
       "      <th>median_rad_2014</th>\n",
       "      <th>log_median_rad_2014</th>\n",
       "      <th>log_binned</th>\n",
       "      <th>geometry</th>\n",
       "    </tr>\n",
       "  </thead>\n",
       "  <tbody>\n",
       "    <tr>\n",
       "      <th>1673685</th>\n",
       "      <td>7.0</td>\n",
       "      <td>0.091575</td>\n",
       "      <td>0.087621</td>\n",
       "      <td>0.0</td>\n",
       "      <td>POLYGON ((64.69891 25.48745, 64.70565 25.48745, 64.70565 25.48071, 64.69891 25.48071, 64.69891 25.48745))</td>\n",
       "    </tr>\n",
       "    <tr>\n",
       "      <th>859908</th>\n",
       "      <td>21.0</td>\n",
       "      <td>0.122107</td>\n",
       "      <td>0.115208</td>\n",
       "      <td>0.0</td>\n",
       "      <td>POLYGON ((67.71725 29.73199, 67.72399 29.73199, 67.72399 29.72525, 67.71725 29.72525, 67.71725 29.73199))</td>\n",
       "    </tr>\n",
       "    <tr>\n",
       "      <th>618665</th>\n",
       "      <td>25.0</td>\n",
       "      <td>0.127695</td>\n",
       "      <td>0.120176</td>\n",
       "      <td>0.0</td>\n",
       "      <td>POLYGON ((66.80771 31.15357, 66.81445 31.15357, 66.81445 31.14684, 66.80771 31.14684, 66.80771 31.15357))</td>\n",
       "    </tr>\n",
       "    <tr>\n",
       "      <th>1002658</th>\n",
       "      <td>22.0</td>\n",
       "      <td>0.196145</td>\n",
       "      <td>0.179104</td>\n",
       "      <td>0.0</td>\n",
       "      <td>POLYGON ((70.47957 29.11889, 70.48631 29.11889, 70.48631 29.11215, 70.47957 29.11215, 70.47957 29.11889))</td>\n",
       "    </tr>\n",
       "    <tr>\n",
       "      <th>1467539</th>\n",
       "      <td>8.0</td>\n",
       "      <td>0.079857</td>\n",
       "      <td>0.076829</td>\n",
       "      <td>0.0</td>\n",
       "      <td>POLYGON ((66.90203 26.61259, 66.90877 26.61259, 66.90877 26.60585, 66.90203 26.60585, 66.90203 26.61259))</td>\n",
       "    </tr>\n",
       "  </tbody>\n",
       "</table>\n",
       "</div>"
      ],
      "text/plain": [
       "         tile_id  median_rad_2014  log_median_rad_2014  log_binned  \\\n",
       "1673685  7.0      0.091575         0.087621             0.0          \n",
       "859908   21.0     0.122107         0.115208             0.0          \n",
       "618665   25.0     0.127695         0.120176             0.0          \n",
       "1002658  22.0     0.196145         0.179104             0.0          \n",
       "1467539  8.0      0.079857         0.076829             0.0          \n",
       "\n",
       "                                                                                                          geometry  \n",
       "1673685  POLYGON ((64.69891 25.48745, 64.70565 25.48745, 64.70565 25.48071, 64.69891 25.48071, 64.69891 25.48745))  \n",
       "859908   POLYGON ((67.71725 29.73199, 67.72399 29.73199, 67.72399 29.72525, 67.71725 29.72525, 67.71725 29.73199))  \n",
       "618665   POLYGON ((66.80771 31.15357, 66.81445 31.15357, 66.81445 31.14684, 66.80771 31.14684, 66.80771 31.15357))  \n",
       "1002658  POLYGON ((70.47957 29.11889, 70.48631 29.11889, 70.48631 29.11215, 70.47957 29.11215, 70.47957 29.11889))  \n",
       "1467539  POLYGON ((66.90203 26.61259, 66.90877 26.61259, 66.90877 26.60585, 66.90203 26.60585, 66.90203 26.61259))  "
      ]
     },
     "execution_count": 9,
     "metadata": {},
     "output_type": "execute_result"
    }
   ],
   "source": [
    "def sample_by_NTL(df, NTL_col, n):\n",
    "    '''\n",
    "    Create a sample dataframe that contains n observations from each NTL bin.\n",
    "    \n",
    "    Inputs:\n",
    "        df (pandas.DataFrame) NTL dataframe\n",
    "        NTL_col (str) column name for target variable\n",
    "        n (int) number of observations per target bin\n",
    "    Returns:\n",
    "        rv (pandas.DataFrame)\n",
    "    '''\n",
    "    rv = pd.DataFrame()\n",
    "    for x in df[NTL_col].unique():\n",
    "        bin_df = df[df[NTL_col] == x]\n",
    "        sample_df = bin_df.sample(n=n, random_state=1)\n",
    "        rv = rv.append(sample_df)\n",
    "    return rv\n",
    "        \n",
    "df_2014 = viirs_gdf[['tile_id', 'median_rad_2014', 'log_median_rad_2014', 'log_binned', 'geometry']]\n",
    "NTL_df = sample_by_NTL(df_2014, 'log_binned', 6538)\n",
    "print(NTL_df['log_binned'].value_counts())\n",
    "NTL_df.head()"
   ]
  },
  {
   "cell_type": "code",
   "execution_count": 10,
   "metadata": {},
   "outputs": [
    {
     "data": {
      "text/plain": [
       "32671"
      ]
     },
     "execution_count": 10,
     "metadata": {},
     "output_type": "execute_result"
    }
   ],
   "source": [
    "# Remove observations with NaN as tile_id\n",
    "NTL_df = NTL_df[ ~ np.isnan(NTL_df['tile_id'])]\n",
    "len(NTL_df)"
   ]
  },
  {
   "cell_type": "markdown",
   "metadata": {},
   "source": [
    "## 1c. Get DLT corresponding sampled NTL"
   ]
  },
  {
   "cell_type": "code",
   "execution_count": 42,
   "metadata": {},
   "outputs": [],
   "source": [
    "def format_coords(Polygon):\n",
    "    '''\n",
    "    Format coordinates of a Polygon to what rasterio likes for masking/cropping.\n",
    "    \n",
    "    Inputs:\n",
    "        Polygon (shapely.Polygon object)\n",
    "    Returns:\n",
    "        (list of dictionary)\n",
    "    '''\n",
    "    coords = list(Polygon.exterior.coords)\n",
    "    dictionary = {'type': 'Polygon'}\n",
    "    dictionary['coordinates'] = [[list(tup) for tup in coords]]\n",
    "    return [dictionary]\n",
    "\n",
    "\n",
    "def crop(raw_DTL, polygon):\n",
    "    '''\n",
    "    Crops DLT according to VIIRS polygon.\n",
    "    \n",
    "    Inputs:\n",
    "        raw_DTL (numpy.ndarray)\n",
    "        polygon (shapely.Polygon object)\n",
    "    Returns:\n",
    "        out_img (numpy.ndarray) croppped DTL array\n",
    "    '''\n",
    "    shapes = format_coords(polygon)\n",
    "    out_img, out_transform = mask(raw_DTL, shapes=shapes, crop=True)\n",
    "    return out_img\n",
    "\n",
    "    \n",
    "def get_DTL(row, directory):\n",
    "    '''\n",
    "    For a given VIIRS observation, grab and crop corresponding DLT data.\n",
    "    \n",
    "    Inputs:\n",
    "        row (pandas.Series)\n",
    "        directory (str) \n",
    "    Returns: \n",
    "        all_bands: (list) list of 7 arrays, each array is 3D\n",
    "    '''\n",
    "    all_bands = []\n",
    "    bands = [*range(1,8)]\n",
    "    for b in bands:\n",
    "        tile = row['tile_id']\n",
    "        polygon = row['geometry']\n",
    "        filename = ''.join(['l8_2014_tile', str(int(tile)), '_b', str(b), '.tif'])\n",
    "        filepath = os.path.join(directory, filename)\n",
    "        raw_DTL = rasterio.open(filepath)\n",
    "        cropped_DTL = crop(raw_DTL, polygon)\n",
    "        if cropped_DTL.shape == (1, 25, 26):\n",
    "            all_bands.append(cropped_DTL)\n",
    "    return all_bands\n",
    "\n",
    "\n",
    "def map_DTL_NTL(NTL_df, source='Landsat', year='New_2014'):\n",
    "    '''\n",
    "    Gets DTL images, crops them, create arrays representing DLT and NLT to become features and targets respectively.\n",
    "    \n",
    "    Inputs:\n",
    "        NTL_df (pandas.DataFrame)\n",
    "        source, year (str)\n",
    "    Returns: \n",
    "        (5D numpy.ndarray) DTL features\n",
    "        (5D numpy.ndarray) NTL targets with all obs corresponding to irregular DLT cropped images dropped\n",
    "    '''\n",
    "    rv = []\n",
    "    df = NTL_df.copy()\n",
    "    directory = os.path.join(source, year)\n",
    "    for index, row in df.iterrows():\n",
    "        DTL = get_DTL(row, directory)\n",
    "        if DTL:\n",
    "            # if DTL not an empty list ie if images for this tile are shape (1, 25, 26)\n",
    "            rv.append(DTL)\n",
    "        else:\n",
    "            # remove corresponding obs from NTL data (targets)\n",
    "            df = df.drop([index])\n",
    "    return np.stack(rv), df['log_binned'].to_numpy()"
   ]
  },
  {
   "cell_type": "code",
   "execution_count": 14,
   "metadata": {},
   "outputs": [
    {
     "name": "stdout",
     "output_type": "stream",
     "text": [
      "DLT shape: (32352, 7, 1, 25, 26)\n",
      "NLT shape: (32352,)\n"
     ]
    }
   ],
   "source": [
    "# Creating DTL array and defining NTL array\n",
    "DTL, NTL = map_DTL_NTL(NTL_df)\n",
    "\n",
    "print('DLT shape: {}'.format(DTL.shape))\n",
    "print('NLT shape: {}'.format(NTL.shape))"
   ]
  },
  {
   "cell_type": "code",
   "execution_count": 15,
   "metadata": {},
   "outputs": [],
   "source": [
    "# If large sample, save numpy arrays after to save time\n",
    "np.save('balanced_DTL.npy', DTL)\n",
    "np.save('balanced_NTL.npy', NTL)"
   ]
  },
  {
   "cell_type": "code",
   "execution_count": 16,
   "metadata": {},
   "outputs": [
    {
     "data": {
      "image/png": "[encoded data removed]",
      "text/plain": [
       "<Figure size 504x216 with 21 Axes>"
      ]
     },
     "metadata": {
      "needs_background": "light"
     },
     "output_type": "display_data"
    }
   ],
   "source": [
    "# Plotting bands for a few DTL images as a visual check\n",
    "to_plot = DTL[0:3]\n",
    "num_images = to_plot.shape[0]\n",
    "num_bands = to_plot.shape[1]\n",
    "\n",
    "f, ax = plt.subplots(figsize=(num_bands, num_images), nrows=num_images, ncols=num_bands)\n",
    "for i in range(0, num_images):\n",
    "    for j in range(0, num_bands):\n",
    "        ax[i, j].imshow(to_plot[i][j][0], origin='upper', interpolation='nearest')"
   ]
  },
  {
   "cell_type": "markdown",
   "metadata": {},
   "source": [
    "# 2. Reshaping and Normalizing Features and Targets\n",
    "Reshape the data into an array of 3D tensors and normalize each element."
   ]
  },
  {
   "cell_type": "code",
   "execution_count": 17,
   "metadata": {},
   "outputs": [],
   "source": [
    "def prep_dataset(X, Y, height, width, channels):\n",
    "    '''\n",
    "    Preps a given dataset for CNN by reshaping features and one-hot encoding targets.\n",
    "    \n",
    "    Input:\n",
    "        X (numpy.ndarray) 5D array of DTL features\n",
    "        Y (numpy.ndarray) 1D array fo NTL targets\n",
    "        height, width, channels (int)\n",
    "    Returns:\n",
    "        X (numpy.ndarray) 4D array of DTL features\n",
    "        Y (numpy.ndarray) 2D array of NTL targets\n",
    "    '''\n",
    "    # Reshape data to be 4D rather than 5D\n",
    "    X = X.reshape((X.shape[0], height, width, channels))\n",
    "    # One-hot encode targets\n",
    "    Y = to_categorical(Y)\n",
    "    return X, Y\n",
    "\n",
    "def normalize(X):\n",
    "    '''\n",
    "    Normalizes features.\n",
    "    \n",
    "    Inputs:\n",
    "        X (numpy.ndarray) 4D array of DTL features\n",
    "    Returns:\n",
    "        X (numpy.ndarray) 4D array of DTL features\n",
    "    '''\n",
    "    # Convert from ints to floats and normalize to 0-1\n",
    "    return X.astype('float32') / 255.0"
   ]
  },
  {
   "cell_type": "markdown",
   "metadata": {},
   "source": [
    "# 3. Build the CNN"
   ]
  },
  {
   "cell_type": "code",
   "execution_count": 43,
   "metadata": {},
   "outputs": [],
   "source": [
    "def define_model(height, width, channels, num_classes):\n",
    "    '''\n",
    "    Defines and compiles CNN model.\n",
    "    \n",
    "    Inputs:\n",
    "        height, width, channels, num_classes (int)\n",
    "    Returns:\n",
    "        model (keras.Model object)\n",
    "    '''\n",
    "    model = Sequential()\n",
    "    model.add(Conv2D(filters=64, \n",
    "                     kernel_size=(5, 5), \n",
    "                     activation='relu', \n",
    "                     input_shape=(height, width, channels),\n",
    "                     name='conv1'))\n",
    "    model.add(MaxPooling2D(pool_size=(2, 2), name='maxpool1'))\n",
    "    model.add(Flatten(name='flatten1'))\n",
    "    model.add(Dense(100, activation='relu', name='dense1'))\n",
    "    model.add(Dense(num_classes, activation='softmax', name='dense2'))\n",
    "    \n",
    "    # Compile model\n",
    "    model.compile(optimizer='rmsprop', loss='categorical_crossentropy', metrics=['accuracy'])\n",
    "    model.summary()\n",
    "    \n",
    "    return model"
   ]
  },
  {
   "cell_type": "markdown",
   "metadata": {},
   "source": [
    "# 4. Fit and Evaluate the CNN"
   ]
  },
  {
   "cell_type": "code",
   "execution_count": 44,
   "metadata": {},
   "outputs": [],
   "source": [
    "def plot_confusion_matrix(cm, classes, normalize=False):\n",
    "    '''\n",
    "    Plots the confusion matrix, with option to normalize.\n",
    "    \n",
    "    Inputs:\n",
    "        cm (numpy.ndarray) confusion matrix from sklearn\n",
    "        classes (list) classes/labels for target (NTL)\n",
    "    Returns:\n",
    "        None\n",
    "    '''\n",
    "    title = 'Confusion Matrix'\n",
    "    if normalize:\n",
    "        cm = cm.astype('float') / cm.sum(axis=1)[:, np.newaxis]\n",
    "        title = \"Normalized Confusion Matrix\"\n",
    "\n",
    "    # Generate plot\n",
    "    plt.imshow(cm, interpolation='nearest', cmap='Greens')\n",
    "    plt.title(title)\n",
    "    plt.colorbar()\n",
    "    tick_marks = np.arange(len(classes))\n",
    "    plt.xticks(tick_marks, classes, rotation=90)\n",
    "    plt.yticks(tick_marks, classes)\n",
    "\n",
    "    # Format text\n",
    "    fmt = '.2f'\n",
    "    thresh = cm.max() / 2.\n",
    "    for i, j in itertools.product(range(cm.shape[0]), range(cm.shape[1])):\n",
    "        plt.text(j, i, format(cm[i, j], fmt), horizontalalignment=\"center\",\n",
    "                 color=\"white\" if cm[i, j] > thresh else \"black\")\n",
    "\n",
    "    plt.tight_layout()\n",
    "    plt.ylabel('True label')\n",
    "    plt.xlabel('Predicted label')"
   ]
  },
  {
   "cell_type": "code",
   "execution_count": 52,
   "metadata": {},
   "outputs": [],
   "source": [
    "def evaluate_model(model, trainX, trainY, testX, testY, current_kfold=None, display_metrics=False):\n",
    "    '''\n",
    "    Fits and evaluates model.\n",
    "    \n",
    "    Inputs:\n",
    "        model (CNN model) keras.Model object\n",
    "        trainX, trainY (numpy.ndarray) 4D array of DTL features and 2D array of targets for training\n",
    "        testX, testY (numpy.ndarray) 4D array of DTL features and 2D array of targets for testing\n",
    "        current_kfold (int) iteration in kfold cross-val, default=None for no cross-val\n",
    "        display_metrics (bool) Default=False\n",
    "    Returns:\n",
    "        None\n",
    "    '''\n",
    "    print('---Current K-fold: {}---'.format(current_kfold))\n",
    "    \n",
    "    # Use early stopping to help with overfitting\n",
    "    es = EarlyStopping(monitor='val_loss', mode='min', patience=5, verbose=False)\n",
    "    mc = ModelCheckpoint('best_CNN.h5', monitor='val_accuracy', mode='max', verbose=False, save_best_only=True)\n",
    "    \n",
    "    # Fit model\n",
    "    history = model.fit(trainX, trainY, \n",
    "                        epochs=20, batch_size=1000, \n",
    "                        validation_data=(testX, testY), callbacks=[es, mc], verbose=False)\n",
    "    \n",
    "    # Evaluate model\n",
    "    loss, accuracy = model.evaluate(testX, testY, verbose=False)\n",
    "    print('Accuracy: {:.4f}'.format(accuracy))\n",
    "    print()\n",
    "    \n",
    "    if display_metrics:\n",
    "        # Get predictions\n",
    "        predY = model.predict(testX)\n",
    "        predY = np.argmax(predY, axis = 1)\n",
    "        testY_bins = np.argmax(testY, axis = 1)\n",
    "    \n",
    "        # Generate classification report\n",
    "        classes = ['Radiance Level 1', 'Radiance Level 2', 'Radiance Level 3', \n",
    "                   'Radiance Level 4', 'Radiance Level 5'] \n",
    "        print(classification_report(testY_bins, predY, target_names=classes))\n",
    "        print()\n",
    "    \n",
    "        # Plot confusion matrix\n",
    "        fig = plt.figure()\n",
    "        fig.set_size_inches(7, 6, forward=True)\n",
    "        cm = confusion_matrix(testY_bins, predY)\n",
    "        plot_confusion_matrix(cm, classes=classes, normalize=True)\n",
    "        \n",
    "        # Plot training history\n",
    "        fig1 = plt.figure()\n",
    "        fig1.set_size_inches(7, 6, forward=True)\n",
    "        plt.plot(history.history['loss'], label='train')\n",
    "        plt.plot(history.history['val_loss'], label='test')\n",
    "        plt.legend()\n",
    "        \n",
    "\n",
    "def evaluate_with_crossval(model, dataX, dataY, k=5):\n",
    "    '''\n",
    "    Performs evaulation with K-fold cross validation.\n",
    "    \n",
    "    Inputs:\n",
    "        model (keras.Model object)\n",
    "        dataX, dataY (numpy.ndarray) 4D array of DTL features and 2D array of targets for training\n",
    "        k (int)\n",
    "    Returns:\n",
    "        None\n",
    "    '''\n",
    "    # Define k-fold cross-val\n",
    "    kfold = KFold(k, shuffle=True, random_state=1)\n",
    "    print('Entering cross validation.')\n",
    "    \n",
    "    # Loop through folds\n",
    "    counter = 0\n",
    "    for train_idx, test_idx in kfold.split(dataX):\n",
    "        counter += 1\n",
    "        # Select subsets for training and testing\n",
    "        trainX, trainY, testX, testY = dataX[train_idx], dataY[train_idx], dataX[test_idx], dataY[test_idx]\n",
    "        # Pass to evaluate_model\n",
    "        if counter == k:\n",
    "            # If last k-fold, then display full evaluation metrics \n",
    "            evaluate_model(model, trainX, trainY, testX, testY, current_kfold=counter, display_metrics=True)\n",
    "        else:\n",
    "            evaluate_model(model, trainX, trainY, testX, testY, current_kfold=counter)"
   ]
  },
  {
   "cell_type": "markdown",
   "metadata": {},
   "source": [
    "# 5. Run the CNN and Extract Features"
   ]
  },
  {
   "cell_type": "code",
   "execution_count": 53,
   "metadata": {},
   "outputs": [],
   "source": [
    "def go(DLT, NTL): \n",
    "    '''\n",
    "    Runs CNN.\n",
    "    \n",
    "    Inputs:\n",
    "        DTL, NTL (numpy.ndarray) 5D array of DTL features and 1D array of NTL targets\n",
    "    Returns:\n",
    "        None\n",
    "    '''\n",
    "    # Split into training and testing data\n",
    "    raw_trainX, raw_testX, raw_trainY, raw_testY = train_test_split(DTL, NTL, test_size=0.2, random_state=1)\n",
    "    \n",
    "    # Define image characteristics\n",
    "    height, width, channels = 25, 26, 7\n",
    "    num_classes = 5\n",
    "    \n",
    "    # Prep both training and testing data\n",
    "    trainX, trainY = prep_dataset(raw_trainX, raw_trainY, height, width, channels)\n",
    "    testX, testY = prep_dataset(raw_testX, raw_testY, height, width, channels)\n",
    "    \n",
    "    # Prep pixel data\n",
    "    trainX, testX = normalize(trainX), normalize(testX)\n",
    "\n",
    "    # Define and evaluate model\n",
    "    model = define_model(height, width, channels, num_classes)\n",
    "    evaluate_with_crossval(model, trainX, trainY)"
   ]
  },
  {
   "cell_type": "code",
   "execution_count": 54,
   "metadata": {},
   "outputs": [
    {
     "name": "stdout",
     "output_type": "stream",
     "text": [
      "Model: \"sequential_3\"\n",
      "_________________________________________________________________\n",
      "Layer (type)                 Output Shape              Param #   \n",
      "=================================================================\n",
      "conv1 (Conv2D)               (None, 21, 22, 64)        11264     \n",
      "_________________________________________________________________\n",
      "maxpool1 (MaxPooling2D)      (None, 10, 11, 64)        0         \n",
      "_________________________________________________________________\n",
      "flatten1 (Flatten)           (None, 7040)              0         \n",
      "_________________________________________________________________\n",
      "dense1 (Dense)               (None, 100)               704100    \n",
      "_________________________________________________________________\n",
      "dense2 (Dense)               (None, 5)                 505       \n",
      "=================================================================\n",
      "Total params: 715,869\n",
      "Trainable params: 715,869\n",
      "Non-trainable params: 0\n",
      "_________________________________________________________________\n",
      "Entering cross validation.\n",
      "---Current K-fold: 1---\n",
      "Accuracy: 0.3543\n",
      "\n",
      "---Current K-fold: 2---\n",
      "Accuracy: 0.4364\n",
      "\n",
      "---Current K-fold: 3---\n",
      "Accuracy: 0.4782\n",
      "\n",
      "---Current K-fold: 4---\n",
      "Accuracy: 0.5155\n",
      "\n",
      "---Current K-fold: 5---\n",
      "Accuracy: 0.5267\n",
      "\n",
      "                  precision    recall  f1-score   support\n",
      "\n",
      "Radiance Level 1       0.64      0.80      0.71      1071\n",
      "Radiance Level 2       0.46      0.55      0.50       985\n",
      "Radiance Level 3       0.45      0.36      0.40      1038\n",
      "Radiance Level 4       0.42      0.34      0.38      1037\n",
      "Radiance Level 5       0.61      0.57      0.59      1045\n",
      "\n",
      "        accuracy                           0.53      5176\n",
      "       macro avg       0.52      0.53      0.52      5176\n",
      "    weighted avg       0.52      0.53      0.52      5176\n",
      "\n",
      "\n"
     ]
    },
    {
     "data": {
      "image/png": "[encoded data removed]",
      "text/plain": [
       "<Figure size 504x432 with 2 Axes>"
      ]
     },
     "metadata": {
      "needs_background": "light"
     },
     "output_type": "display_data"
    },
    {
     "data": {
      "image/png": "[encoded data removed]",
      "text/plain": [
       "<Figure size 504x432 with 1 Axes>"
      ]
     },
     "metadata": {
      "needs_background": "light"
     },
     "output_type": "display_data"
    }
   ],
   "source": [
    "go(DTL, NTL)"
   ]
  },
  {
   "cell_type": "markdown",
   "metadata": {},
   "source": [
    "### Results with K-Fold Cross-Val:\n",
    "***  \n",
    "The accuracy of our CNN in the final K-fold iteration is 0.52. From the final correlation matrix, we see that the CNN does a decent job of correctly labeling bins. Moreover, even when it makes incorrect predictions, the predicted bins are those neighboring the correct bin. Since nighttime light radiance levels are our proxy for poverty in order in this transfer learning approach, these results help validate the use of features extracted from this CNN in the ultimate poverty prediction model."
   ]
  }
 ],
 "metadata": {
  "kernelspec": {
   "display_name": "Python 3",
   "language": "python",
   "name": "python3"
  },
  "language_info": {
   "codemirror_mode": {
    "name": "ipython",
    "version": 3
   },
   "file_extension": ".py",
   "mimetype": "text/x-python",
   "name": "python",
   "nbconvert_exporter": "python",
   "pygments_lexer": "ipython3",
   "version": "3.7.6"
  }
 },
 "nbformat": 4,
 "nbformat_minor": 4
}
