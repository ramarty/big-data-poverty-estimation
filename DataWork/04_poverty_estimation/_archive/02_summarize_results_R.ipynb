{
 "cells": [
  {
   "cell_type": "markdown",
   "id": "exact-tattoo",
   "metadata": {},
   "source": [
    "# Summary Results\n",
    "\n",
    "Summarize poverty estimation results. __This code uses R__"
   ]
  },
  {
   "cell_type": "markdown",
   "id": "adequate-denmark",
   "metadata": {},
   "source": [
    "## Setup"
   ]
  },
  {
   "cell_type": "code",
   "execution_count": 3,
   "id": "fatty-updating",
   "metadata": {},
   "outputs": [],
   "source": [
    "# Load packages\n",
    "library(tidyverse)\n",
    "\n",
    "# Set up sagemaker\n",
    "library(reticulate)\n",
    "sagemaker <- import('sagemaker')\n",
    "session <- sagemaker$Session()\n",
    "\n",
    "# s3 bucket name\n",
    "bucket = \"worldbank-pakistan-data\"\n",
    "local_dir = '/home/ec2-user/SageMaker/'"
   ]
  },
  {
   "cell_type": "markdown",
   "id": "transparent-monaco",
   "metadata": {},
   "source": [
    "## Download Data\n",
    "\n",
    "First download results data locally, then we can load from there"
   ]
  },
  {
   "cell_type": "code",
   "execution_count": 10,
   "id": "unauthorized-rental",
   "metadata": {},
   "outputs": [],
   "source": [
    "session$download_data(path = local_dir,\n",
    "              bucket = bucket,\n",
    "              key_prefix = 'Poverty Estimation Results')"
   ]
  },
  {
   "cell_type": "markdown",
   "id": "southwest-southwest",
   "metadata": {},
   "source": [
    "## Load/Analyze Results"
   ]
  },
  {
   "cell_type": "code",
   "execution_count": 16,
   "id": "cognitive-animation",
   "metadata": {},
   "outputs": [],
   "source": [
    "results_df <- file.path(local_dir, 'binary_classification', 'individual_files') %>%\n",
    "  list.files(full.names = T) %>%\n",
    "  lapply(read.csv) %>%\n",
    "  bind_rows() %>%\n",
    "  mutate(f1 = 2*(precision_score * recall_score) / (precision_score + recall_score)) %>%\n",
    "  arrange(desc(f1)) %>%\n",
    "  dplyr::select(-X)"
   ]
  },
  {
   "cell_type": "code",
   "execution_count": 17,
   "id": "integral-antigua",
   "metadata": {},
   "outputs": [
    {
     "data": {
      "text/html": [
       "<table class=\"dataframe\">\n",
       "<caption>A data.frame: 6 × 10</caption>\n",
       "<thead>\n",
       "\t<tr><th></th><th scope=col>accuracy_score</th><th scope=col>model_number</th><th scope=col>params</th><th scope=col>precision_score</th><th scope=col>recall_score</th><th scope=col>regressor</th><th scope=col>y_truth_0</th><th scope=col>y_truth_1</th><th scope=col>target</th><th scope=col>f1</th></tr>\n",
       "\t<tr><th></th><th scope=col>&lt;dbl&gt;</th><th scope=col>&lt;dbl&gt;</th><th scope=col>&lt;chr&gt;</th><th scope=col>&lt;dbl&gt;</th><th scope=col>&lt;dbl&gt;</th><th scope=col>&lt;chr&gt;</th><th scope=col>&lt;dbl&gt;</th><th scope=col>&lt;dbl&gt;</th><th scope=col>&lt;chr&gt;</th><th scope=col>&lt;dbl&gt;</th></tr>\n",
       "</thead>\n",
       "<tbody>\n",
       "\t<tr><th scope=row>1</th><td>0.6918519</td><td>6</td><td>{'n_estimators': 100, 'max_features': 10, 'random_state': 0, 'n_jobs': -1}                                                                </td><td>0.6666667</td><td>0.019047619</td><td>BaggingClassifier         </td><td>465</td><td>210</td><td>pscores_poor</td><td>0.037037037</td></tr>\n",
       "\t<tr><th scope=row>2</th><td>0.6903704</td><td>4</td><td>{'n_estimators': 100, 'max_features': 1, 'random_state': 0, 'n_jobs': -1}                                                                 </td><td>1.0000000</td><td>0.004761905</td><td>BaggingClassifier         </td><td>465</td><td>210</td><td>pscores_poor</td><td>0.009478673</td></tr>\n",
       "\t<tr><th scope=row>3</th><td>0.6903704</td><td>5</td><td>{'n_estimators': 100, 'max_features': 5, 'random_state': 0, 'n_jobs': -1}                                                                 </td><td>1.0000000</td><td>0.004761905</td><td>BaggingClassifier         </td><td>465</td><td>210</td><td>pscores_poor</td><td>0.009478673</td></tr>\n",
       "\t<tr><th scope=row>4</th><td>0.6888889</td><td>3</td><td>{'criterion': 'gini', 'splitter': 'best', 'max_depth': 1, 'max_features': 'sqrt', 'random_state': 0}                                      </td><td>0.0000000</td><td>0.000000000</td><td>DecisionTreeClassifier    </td><td>465</td><td>210</td><td>pscores_poor</td><td>        NaN</td></tr>\n",
       "\t<tr><th scope=row>5</th><td>0.6888889</td><td>7</td><td>{'loss': 'deviance', 'learning_rate': 0.0001, 'n_estimators': 100, 'criterion': 'friedman_mse', 'max_features': 'sqrt', 'random_state': 0}</td><td>0.0000000</td><td>0.000000000</td><td>GradientBoostingClassifier</td><td>465</td><td>210</td><td>pscores_poor</td><td>        NaN</td></tr>\n",
       "\t<tr><th scope=row>6</th><td>0.6888889</td><td>8</td><td>{'n_estimators': 100, 'criterion': 'gini', 'max_depth': 1, 'max_features': 'sqrt', 'n_jobs': -1, 'random_state': 0}                       </td><td>0.0000000</td><td>0.000000000</td><td>RandomForestClassifier    </td><td>465</td><td>210</td><td>pscores_poor</td><td>        NaN</td></tr>\n",
       "</tbody>\n",
       "</table>\n"
      ],
      "text/latex": [
       "A data.frame: 6 × 10\n",
       "\\begin{tabular}{r|llllllllll}\n",
       "  & accuracy\\_score & model\\_number & params & precision\\_score & recall\\_score & regressor & y\\_truth\\_0 & y\\_truth\\_1 & target & f1\\\\\n",
       "  & <dbl> & <dbl> & <chr> & <dbl> & <dbl> & <chr> & <dbl> & <dbl> & <chr> & <dbl>\\\\\n",
       "\\hline\n",
       "\t1 & 0.6918519 & 6 & \\{'n\\_estimators': 100, 'max\\_features': 10, 'random\\_state': 0, 'n\\_jobs': -1\\}                                                                 & 0.6666667 & 0.019047619 & BaggingClassifier          & 465 & 210 & pscores\\_poor & 0.037037037\\\\\n",
       "\t2 & 0.6903704 & 4 & \\{'n\\_estimators': 100, 'max\\_features': 1, 'random\\_state': 0, 'n\\_jobs': -1\\}                                                                  & 1.0000000 & 0.004761905 & BaggingClassifier          & 465 & 210 & pscores\\_poor & 0.009478673\\\\\n",
       "\t3 & 0.6903704 & 5 & \\{'n\\_estimators': 100, 'max\\_features': 5, 'random\\_state': 0, 'n\\_jobs': -1\\}                                                                  & 1.0000000 & 0.004761905 & BaggingClassifier          & 465 & 210 & pscores\\_poor & 0.009478673\\\\\n",
       "\t4 & 0.6888889 & 3 & \\{'criterion': 'gini', 'splitter': 'best', 'max\\_depth': 1, 'max\\_features': 'sqrt', 'random\\_state': 0\\}                                       & 0.0000000 & 0.000000000 & DecisionTreeClassifier     & 465 & 210 & pscores\\_poor &         NaN\\\\\n",
       "\t5 & 0.6888889 & 7 & \\{'loss': 'deviance', 'learning\\_rate': 0.0001, 'n\\_estimators': 100, 'criterion': 'friedman\\_mse', 'max\\_features': 'sqrt', 'random\\_state': 0\\} & 0.0000000 & 0.000000000 & GradientBoostingClassifier & 465 & 210 & pscores\\_poor &         NaN\\\\\n",
       "\t6 & 0.6888889 & 8 & \\{'n\\_estimators': 100, 'criterion': 'gini', 'max\\_depth': 1, 'max\\_features': 'sqrt', 'n\\_jobs': -1, 'random\\_state': 0\\}                        & 0.0000000 & 0.000000000 & RandomForestClassifier     & 465 & 210 & pscores\\_poor &         NaN\\\\\n",
       "\\end{tabular}\n"
      ],
      "text/markdown": [
       "\n",
       "A data.frame: 6 × 10\n",
       "\n",
       "| <!--/--> | accuracy_score &lt;dbl&gt; | model_number &lt;dbl&gt; | params &lt;chr&gt; | precision_score &lt;dbl&gt; | recall_score &lt;dbl&gt; | regressor &lt;chr&gt; | y_truth_0 &lt;dbl&gt; | y_truth_1 &lt;dbl&gt; | target &lt;chr&gt; | f1 &lt;dbl&gt; |\n",
       "|---|---|---|---|---|---|---|---|---|---|---|\n",
       "| 1 | 0.6918519 | 6 | {'n_estimators': 100, 'max_features': 10, 'random_state': 0, 'n_jobs': -1}                                                                 | 0.6666667 | 0.019047619 | BaggingClassifier          | 465 | 210 | pscores_poor | 0.037037037 |\n",
       "| 2 | 0.6903704 | 4 | {'n_estimators': 100, 'max_features': 1, 'random_state': 0, 'n_jobs': -1}                                                                  | 1.0000000 | 0.004761905 | BaggingClassifier          | 465 | 210 | pscores_poor | 0.009478673 |\n",
       "| 3 | 0.6903704 | 5 | {'n_estimators': 100, 'max_features': 5, 'random_state': 0, 'n_jobs': -1}                                                                  | 1.0000000 | 0.004761905 | BaggingClassifier          | 465 | 210 | pscores_poor | 0.009478673 |\n",
       "| 4 | 0.6888889 | 3 | {'criterion': 'gini', 'splitter': 'best', 'max_depth': 1, 'max_features': 'sqrt', 'random_state': 0}                                       | 0.0000000 | 0.000000000 | DecisionTreeClassifier     | 465 | 210 | pscores_poor |         NaN |\n",
       "| 5 | 0.6888889 | 7 | {'loss': 'deviance', 'learning_rate': 0.0001, 'n_estimators': 100, 'criterion': 'friedman_mse', 'max_features': 'sqrt', 'random_state': 0} | 0.0000000 | 0.000000000 | GradientBoostingClassifier | 465 | 210 | pscores_poor |         NaN |\n",
       "| 6 | 0.6888889 | 8 | {'n_estimators': 100, 'criterion': 'gini', 'max_depth': 1, 'max_features': 'sqrt', 'n_jobs': -1, 'random_state': 0}                        | 0.0000000 | 0.000000000 | RandomForestClassifier     | 465 | 210 | pscores_poor |         NaN |\n",
       "\n"
      ],
      "text/plain": [
       "  accuracy_score model_number\n",
       "1 0.6918519      6           \n",
       "2 0.6903704      4           \n",
       "3 0.6903704      5           \n",
       "4 0.6888889      3           \n",
       "5 0.6888889      7           \n",
       "6 0.6888889      8           \n",
       "  params                                                                                                                                    \n",
       "1 {'n_estimators': 100, 'max_features': 10, 'random_state': 0, 'n_jobs': -1}                                                                \n",
       "2 {'n_estimators': 100, 'max_features': 1, 'random_state': 0, 'n_jobs': -1}                                                                 \n",
       "3 {'n_estimators': 100, 'max_features': 5, 'random_state': 0, 'n_jobs': -1}                                                                 \n",
       "4 {'criterion': 'gini', 'splitter': 'best', 'max_depth': 1, 'max_features': 'sqrt', 'random_state': 0}                                      \n",
       "5 {'loss': 'deviance', 'learning_rate': 0.0001, 'n_estimators': 100, 'criterion': 'friedman_mse', 'max_features': 'sqrt', 'random_state': 0}\n",
       "6 {'n_estimators': 100, 'criterion': 'gini', 'max_depth': 1, 'max_features': 'sqrt', 'n_jobs': -1, 'random_state': 0}                       \n",
       "  precision_score recall_score regressor                  y_truth_0 y_truth_1\n",
       "1 0.6666667       0.019047619  BaggingClassifier          465       210      \n",
       "2 1.0000000       0.004761905  BaggingClassifier          465       210      \n",
       "3 1.0000000       0.004761905  BaggingClassifier          465       210      \n",
       "4 0.0000000       0.000000000  DecisionTreeClassifier     465       210      \n",
       "5 0.0000000       0.000000000  GradientBoostingClassifier 465       210      \n",
       "6 0.0000000       0.000000000  RandomForestClassifier     465       210      \n",
       "  target       f1         \n",
       "1 pscores_poor 0.037037037\n",
       "2 pscores_poor 0.009478673\n",
       "3 pscores_poor 0.009478673\n",
       "4 pscores_poor         NaN\n",
       "5 pscores_poor         NaN\n",
       "6 pscores_poor         NaN"
      ]
     },
     "metadata": {},
     "output_type": "display_data"
    }
   ],
   "source": [
    "results_df %>%\n",
    "    arrange(-accuracy_score) %>%\n",
    "    head()"
   ]
  },
  {
   "cell_type": "code",
   "execution_count": null,
   "id": "fatal-macedonia",
   "metadata": {},
   "outputs": [],
   "source": []
  },
  {
   "cell_type": "code",
   "execution_count": null,
   "id": "christian-wonder",
   "metadata": {},
   "outputs": [],
   "source": []
  }
 ],
 "metadata": {
  "kernelspec": {
   "display_name": "R",
   "language": "R",
   "name": "ir"
  },
  "language_info": {
   "codemirror_mode": "r",
   "file_extension": ".r",
   "mimetype": "text/x-r-source",
   "name": "R",
   "pygments_lexer": "r",
   "version": "4.0.3"
  }
 },
 "nbformat": 4,
 "nbformat_minor": 5
}
