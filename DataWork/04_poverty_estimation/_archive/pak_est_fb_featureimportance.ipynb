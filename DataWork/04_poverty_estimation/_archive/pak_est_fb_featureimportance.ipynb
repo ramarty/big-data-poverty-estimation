{
 "cells": [
  {
   "cell_type": "markdown",
   "metadata": {},
   "source": [
    "## Facebook Poverty Estimation: Feature Importance"
   ]
  },
  {
   "cell_type": "code",
   "execution_count": 77,
   "metadata": {},
   "outputs": [],
   "source": [
    "import os, datetime\n",
    "import numpy as np\n",
    "import pandas as pd\n",
    "#import geopandas as gpd\n",
    "import json\n",
    "#import rasterio\n",
    "#from rasterio.plot import show\n",
    "import matplotlib.pyplot as plt\n",
    "\n",
    "from sklearn.preprocessing import KBinsDiscretizer, StandardScaler, normalize\n",
    "from sklearn.model_selection import train_test_split, KFold\n",
    "from sklearn.metrics import classification_report, confusion_matrix\n",
    "from sklearn.linear_model import Ridge\n",
    "\n",
    "from sklearn.decomposition import PCA\n",
    "from sklearn.model_selection import train_test_split\n",
    "from sklearn.preprocessing import StandardScaler\n",
    "from sklearn.svm import LinearSVC\n",
    "from sklearn.tree import DecisionTreeClassifier, DecisionTreeRegressor\n",
    "from sklearn.ensemble import (BaggingClassifier, AdaBoostClassifier,\n",
    "                              AdaBoostRegressor,\n",
    "                              GradientBoostingClassifier, RandomForestClassifier,\n",
    "                              RandomForestRegressor,\n",
    "                             BaggingRegressor, GradientBoostingRegressor)\n",
    "from sklearn.neighbors import KNeighborsClassifier, KNeighborsRegressor\n",
    "from sklearn.naive_bayes import GaussianNB\n",
    "from sklearn.metrics import (accuracy_score, precision_score, \n",
    "                             recall_score, classification_report,\n",
    "                            r2_score, mean_absolute_error, mean_squared_error)\n",
    "\n",
    "from joblib import dump, load\n",
    "\n",
    "import logging, os \n",
    "\n",
    "import grid_params as grids"
   ]
  },
  {
   "cell_type": "code",
   "execution_count": 78,
   "metadata": {},
   "outputs": [],
   "source": [
    "data_dir = \"/Users/robmarty/Dropbox/World Bank/IEs/Pakistan Poverty Estimation from Satellites/Data\"\n",
    "SURVEY_NAME = \"DHS\"\n",
    "\n",
    "OUT_DIR = os.path.join(data_dir, SURVEY_NAME, 'FinalData', 'results')"
   ]
  },
  {
   "cell_type": "code",
   "execution_count": 79,
   "metadata": {},
   "outputs": [],
   "source": [
    "results_df = pd.read_csv(os.path.join(OUT_DIR, 'results_fbonly.csv'))"
   ]
  },
  {
   "cell_type": "code",
   "execution_count": 80,
   "metadata": {},
   "outputs": [],
   "source": [
    "fb_param_df = pd.read_csv(os.path.join(data_dir, SURVEY_NAME, \"FinalData\", \"Individual Datasets\", \"facebook_marketing_parameters_clean.csv\"))\n",
    "fb_param_df = fb_param_df[['param_id', 'param_name']]\n",
    "fb_param_df = fb_param_df[fb_param_df.param_id != 1]"
   ]
  },
  {
   "cell_type": "code",
   "execution_count": 81,
   "metadata": {},
   "outputs": [
    {
     "data": {
      "text/plain": [
       "['fbonly_model_other_countries_PK_asset_pca_1.joblib',\n",
       " 'fbonly_model_other_countries_MM_asset_pca_1.joblib',\n",
       " 'fbonly_model_other_countries_KY_asset_pca_1.joblib',\n",
       " 'fbonly_model_other_countries_PH_asset_pca_1.joblib']"
      ]
     },
     "execution_count": 81,
     "metadata": {},
     "output_type": "execute_result"
    }
   ],
   "source": [
    "model_names"
   ]
  },
  {
   "cell_type": "code",
   "execution_count": 82,
   "metadata": {},
   "outputs": [
    {
     "name": "stdout",
     "output_type": "stream",
     "text": [
      "fbonly_model_other_countries_PK_asset_pca_1.joblib\n",
      "fbonly_model_other_countries_MM_asset_pca_1.joblib\n",
      "fbonly_model_other_countries_KY_asset_pca_1.joblib\n",
      "fbonly_model_other_countries_PH_asset_pca_1.joblib\n"
     ]
    }
   ],
   "source": [
    "model_names = os.listdir(os.path.join(OUT_DIR, 'models'))\n",
    "\n",
    "#model_names = ['fbonly_model_other_countries_PK_asset_pca_1.joblib',\n",
    "#              'fbonly_model_other_countries_MM_asset_pca_1.joblib',\n",
    "#              'fbonly_model_other_countries_KY_asset_pca_1.joblib',\n",
    "#              'fbonly_model_other_countries_PH_asset_pca_1.joblib']\n",
    "\n",
    "for model_name_i in model_names:\n",
    "    print(model_name_i)\n",
    "    \n",
    "    model_i = load(os.path.join(OUT_DIR, 'models', model_name_i))\n",
    "    \n",
    "    feature_importances = np.mean([\n",
    "        tree.feature_importances_ for tree in model_i.estimators_\n",
    "    ], axis=0)\n",
    "    \n",
    "    fb_param_df[model_name_i] = feature_importances"
   ]
  },
  {
   "cell_type": "code",
   "execution_count": 83,
   "metadata": {},
   "outputs": [],
   "source": [
    "fb_param_df.to_csv(os.path.join(OUT_DIR, 'feature_importance.csv'))"
   ]
  },
  {
   "cell_type": "code",
   "execution_count": null,
   "metadata": {},
   "outputs": [],
   "source": []
  },
  {
   "cell_type": "code",
   "execution_count": null,
   "metadata": {},
   "outputs": [],
   "source": []
  },
  {
   "cell_type": "code",
   "execution_count": null,
   "metadata": {},
   "outputs": [],
   "source": []
  },
  {
   "cell_type": "code",
   "execution_count": null,
   "metadata": {},
   "outputs": [],
   "source": []
  }
 ],
 "metadata": {
  "kernelspec": {
   "display_name": "Python 3",
   "language": "python",
   "name": "python3"
  },
  "language_info": {
   "codemirror_mode": {
    "name": "ipython",
    "version": 3
   },
   "file_extension": ".py",
   "mimetype": "text/x-python",
   "name": "python",
   "nbconvert_exporter": "python",
   "pygments_lexer": "ipython3",
   "version": "3.7.2"
  }
 },
 "nbformat": 4,
 "nbformat_minor": 2
}
